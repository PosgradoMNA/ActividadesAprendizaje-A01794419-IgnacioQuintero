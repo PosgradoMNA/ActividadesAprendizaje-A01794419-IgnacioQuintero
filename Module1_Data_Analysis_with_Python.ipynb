{
  "nbformat": 4,
  "nbformat_minor": 0,
  "metadata": {
    "colab": {
      "provenance": [],
      "authorship_tag": "ABX9TyOMxA+9qTkj4iiR0q79t6n2",
      "include_colab_link": true
    },
    "kernelspec": {
      "name": "python3",
      "display_name": "Python 3"
    },
    "language_info": {
      "name": "python"
    }
  },
  "cells": [
    {
      "cell_type": "markdown",
      "metadata": {
        "id": "view-in-github",
        "colab_type": "text"
      },
      "source": [
        "<a href=\"https://colab.research.google.com/github/PosgradoMNA/ActividadesAprendizaje-A01794419-IgnacioQuintero/blob/main/Module1_Data_Analysis_with_Python.ipynb\" target=\"_parent\"><img src=\"https://colab.research.google.com/assets/colab-badge.svg\" alt=\"Open In Colab\"/></a>"
      ]
    },
    {
      "cell_type": "markdown",
      "source": [
        "# Data Analysis with Python\n",
        "## Module 1 - Introduction\n",
        "\n",
        "* Alumno: Ignacio Antonio Quintero Chávez.\n",
        "* Matrícula: A01794419.\n",
        "* Materia: Ciencia y analítica de datos.\n",
        "* Profesor: Jobish Vallikavungal Devassia.\n",
        "* Fecha: Octubre 2022.\n"
      ],
      "metadata": {
        "id": "xqwF01TbC9AQ"
      }
    },
    {
      "cell_type": "code",
      "source": [],
      "metadata": {
        "id": "u3JliGdPDV0H"
      },
      "execution_count": null,
      "outputs": []
    }
  ]
}