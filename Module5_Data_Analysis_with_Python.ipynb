{
  "nbformat": 4,
  "nbformat_minor": 0,
  "metadata": {
    "colab": {
      "provenance": [],
      "authorship_tag": "ABX9TyMaqABRiM1iHlwFFOzFh+3E",
      "include_colab_link": true
    },
    "kernelspec": {
      "name": "python3",
      "display_name": "Python 3"
    },
    "language_info": {
      "name": "python"
    }
  },
  "cells": [
    {
      "cell_type": "markdown",
      "metadata": {
        "id": "view-in-github",
        "colab_type": "text"
      },
      "source": [
        "<a href=\"https://colab.research.google.com/github/PosgradoMNA/ActividadesAprendizaje-A01794419-IgnacioQuintero/blob/main/Module5_Data_Analysis_with_Python.ipynb\" target=\"_parent\"><img src=\"https://colab.research.google.com/assets/colab-badge.svg\" alt=\"Open In Colab\"/></a>"
      ]
    },
    {
      "cell_type": "markdown",
      "source": [
        "# Data Analysis with Python\n",
        "## Module 5 - Model Evaluation\n",
        "\n",
        "* Alumno: Ignacio Antonio Quintero Chávez.\n",
        "* Matrícula: A01794419.\n",
        "* Materia: Ciencia y analítica de datos.\n",
        "* Profesora: María de la Paz Rico Fernández.\n",
        "* Fecha: 9 Noviembre 2022."
      ],
      "metadata": {
        "id": "Q01IZRo7uGuj"
      }
    },
    {
      "cell_type": "markdown",
      "source": [
        "In-sample evaluation tells us how well our model will fit the data used to train it.\n",
        "\n",
        "Separating data into training and testing sets is an important part of model evaluation.\n",
        "\n",
        "We use the test data to get an idea how our model will perform in the real world.\n",
        "\n",
        "When we split a data set, usually the larger portion of data is used for training and a smaller part is used for testing.\n",
        "\n",
        "We use a training set to build a model and discover predictive relationships.\n",
        "\n",
        "We then use a testing set to evaluate model performance.\n",
        "\n",
        "When we have completed testing our model, we should use all the data to train the model."
      ],
      "metadata": {
        "id": "FQ7Zdxowz2YY"
      }
    },
    {
      "cell_type": "markdown",
      "source": [
        "**Generalization error** is a measure of how well our data does at predicting previously unseen data. The error we obtain using our testing data is an approximation of this error"
      ],
      "metadata": {
        "id": "5B3hIag42Rk4"
      }
    },
    {
      "cell_type": "markdown",
      "source": [
        "**Cross validation**\n",
        "It is the most common out-of-sample evaluation metrics. The dataset is split into k-equal groups, each group is referred to as a fold.\n",
        "Some of the fold can be used as a training set, which we use to train the model, and the remaining parts are used as a test set, which we use to test the model."
      ],
      "metadata": {
        "id": "BtmHJCgk8SYO"
      }
    },
    {
      "cell_type": "markdown",
      "source": [
        "**Under-fitting:** The model is too simple to fit the data.\n",
        "\n",
        "**Over-fitting:** The model is too flexible and fits the noise rather than the function."
      ],
      "metadata": {
        "id": "r04bz_mc-uZK"
      }
    }
  ]
}