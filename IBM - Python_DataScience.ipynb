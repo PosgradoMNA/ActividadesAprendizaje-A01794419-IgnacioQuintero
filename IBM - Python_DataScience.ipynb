{
  "nbformat": 4,
  "nbformat_minor": 0,
  "metadata": {
    "colab": {
      "name": "assignment01.ipynb",
      "provenance": [],
      "include_colab_link": true
    },
    "kernelspec": {
      "name": "python3",
      "display_name": "Python 3"
    },
    "language_info": {
      "name": "python"
    }
  },
  "cells": [
    {
      "cell_type": "markdown",
      "metadata": {
        "id": "view-in-github",
        "colab_type": "text"
      },
      "source": [
        "<a href=\"https://colab.research.google.com/github/PosgradoMNA/ActividadesAprendizaje-A01794419-IgnacioQuintero/blob/main/IBM%20-%20Python_DataScience.ipynb\" target=\"_parent\"><img src=\"https://colab.research.google.com/assets/colab-badge.svg\" alt=\"Open In Colab\"/></a>"
      ]
    },
    {
      "cell_type": "markdown",
      "source": [
        "### Python for Data Science - IBM Course"
      ],
      "metadata": {
        "id": "I0JfdlIAFh8B"
      }
    },
    {
      "cell_type": "code",
      "source": [
        "#An statement or expression is an instruction the computer will run or execute.\n",
        "#Argument = the value in the parentheses.\n",
        "print(\"Hello World!\")"
      ],
      "metadata": {
        "id": "mxM_WppZPMFx",
        "outputId": "17b346a8-ace8-4109-f20d-cca801a4f726",
        "colab": {
          "base_uri": "https://localhost:8080/"
        }
      },
      "execution_count": null,
      "outputs": [
        {
          "output_type": "stream",
          "name": "stdout",
          "text": [
            "Hello World!\n"
          ]
        }
      ]
    },
    {
      "cell_type": "code",
      "source": [
        "# Integer\n",
        "print(11)\n",
        "# Float\n",
        "print(15.30)\n",
        "# String\n",
        "print(\"Hello Python\")"
      ],
      "metadata": {
        "id": "rittD00hM56M",
        "outputId": "a6c9cd96-2cf6-4a0e-86c4-4af7bfa3f276",
        "colab": {
          "base_uri": "https://localhost:8080/"
        }
      },
      "execution_count": 4,
      "outputs": [
        {
          "output_type": "stream",
          "name": "stdout",
          "text": [
            "11\n",
            "15.3\n",
            "Hello Python\n"
          ]
        }
      ]
    },
    {
      "cell_type": "code",
      "source": [
        "type(\"This is a string\")"
      ],
      "metadata": {
        "id": "H19teYAKQyxS",
        "outputId": "2aa7b25f-d891-4351-c640-f584f1ff87e2",
        "colab": {
          "base_uri": "https://localhost:8080/"
        }
      },
      "execution_count": 5,
      "outputs": [
        {
          "output_type": "execute_result",
          "data": {
            "text/plain": [
              "str"
            ]
          },
          "metadata": {},
          "execution_count": 5
        }
      ]
    },
    {
      "cell_type": "code",
      "source": [
        "name = \"Ignacio\"\n",
        "age = 25"
      ],
      "metadata": {
        "id": "uyJDreuwQ9Yu"
      },
      "execution_count": 6,
      "outputs": []
    },
    {
      "cell_type": "code",
      "source": [
        "print(name)\n",
        "print(age)"
      ],
      "metadata": {
        "id": "OLY4HrvzTsHu",
        "outputId": "a4434233-65d1-4471-e640-a7244d0e2db1",
        "colab": {
          "base_uri": "https://localhost:8080/"
        }
      },
      "execution_count": 7,
      "outputs": [
        {
          "output_type": "stream",
          "name": "stdout",
          "text": [
            "Ignacio\n",
            "25\n"
          ]
        }
      ]
    },
    {
      "cell_type": "code",
      "source": [],
      "metadata": {
        "id": "XlyjQ_K6TuhT"
      },
      "execution_count": null,
      "outputs": []
    }
  ]
}