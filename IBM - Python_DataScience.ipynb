{
  "nbformat": 4,
  "nbformat_minor": 0,
  "metadata": {
    "colab": {
      "name": "assignment01.ipynb",
      "provenance": [],
      "include_colab_link": true
    },
    "kernelspec": {
      "name": "python3",
      "display_name": "Python 3"
    },
    "language_info": {
      "name": "python"
    }
  },
  "cells": [
    {
      "cell_type": "markdown",
      "metadata": {
        "id": "view-in-github",
        "colab_type": "text"
      },
      "source": [
        "<a href=\"https://colab.research.google.com/github/PosgradoMNA/ActividadesAprendizaje-A01794419-IgnacioQuintero/blob/main/IBM%20-%20Python_DataScience.ipynb\" target=\"_parent\"><img src=\"https://colab.research.google.com/assets/colab-badge.svg\" alt=\"Open In Colab\"/></a>"
      ]
    },
    {
      "cell_type": "markdown",
      "source": [
        "### Python for Data Science - IBM Course"
      ],
      "metadata": {
        "id": "I0JfdlIAFh8B"
      }
    },
    {
      "cell_type": "code",
      "source": [
        "#An statement or expression is an instruction the computer will run or execute.\n",
        "#Argument = the value in the parentheses.\n",
        "print(\"Hello World!\")"
      ],
      "metadata": {
        "id": "mxM_WppZPMFx",
        "outputId": "17b346a8-ace8-4109-f20d-cca801a4f726",
        "colab": {
          "base_uri": "https://localhost:8080/"
        }
      },
      "execution_count": 2,
      "outputs": [
        {
          "output_type": "stream",
          "name": "stdout",
          "text": [
            "Hello World!\n"
          ]
        }
      ]
    },
    {
      "cell_type": "code",
      "source": [],
      "metadata": {
        "id": "rittD00hM56M"
      },
      "execution_count": null,
      "outputs": []
    }
  ]
}