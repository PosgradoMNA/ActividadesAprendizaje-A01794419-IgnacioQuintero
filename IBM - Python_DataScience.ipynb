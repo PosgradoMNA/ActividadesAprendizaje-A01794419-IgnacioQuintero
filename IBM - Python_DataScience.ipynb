{
  "nbformat": 4,
  "nbformat_minor": 0,
  "metadata": {
    "colab": {
      "name": "assignment01.ipynb",
      "provenance": [],
      "include_colab_link": true
    },
    "kernelspec": {
      "name": "python3",
      "display_name": "Python 3"
    },
    "language_info": {
      "name": "python"
    }
  },
  "cells": [
    {
      "cell_type": "markdown",
      "metadata": {
        "id": "view-in-github",
        "colab_type": "text"
      },
      "source": [
        "<a href=\"https://colab.research.google.com/github/PosgradoMNA/ActividadesAprendizaje-A01794419-IgnacioQuintero/blob/main/IBM%20-%20Python_DataScience.ipynb\" target=\"_parent\"><img src=\"https://colab.research.google.com/assets/colab-badge.svg\" alt=\"Open In Colab\"/></a>"
      ]
    },
    {
      "cell_type": "markdown",
      "source": [
        "### Python for Data Science - IBM Course"
      ],
      "metadata": {
        "id": "I0JfdlIAFh8B"
      }
    },
    {
      "cell_type": "code",
      "source": [
        "#An statement or expression is an instruction the computer will run or execute.\n",
        "#Argument = the value in the parentheses.\n",
        "print(\"Hello World!\")"
      ],
      "metadata": {
        "id": "mxM_WppZPMFx",
        "outputId": "17b346a8-ace8-4109-f20d-cca801a4f726",
        "colab": {
          "base_uri": "https://localhost:8080/"
        }
      },
      "execution_count": null,
      "outputs": [
        {
          "output_type": "stream",
          "name": "stdout",
          "text": [
            "Hello World!\n"
          ]
        }
      ]
    },
    {
      "cell_type": "code",
      "source": [
        "# Integer\n",
        "print(11)\n",
        "# Float\n",
        "print(15.30)\n",
        "# String\n",
        "print(\"Hello Python\")"
      ],
      "metadata": {
        "id": "rittD00hM56M",
        "outputId": "a6c9cd96-2cf6-4a0e-86c4-4af7bfa3f276",
        "colab": {
          "base_uri": "https://localhost:8080/"
        }
      },
      "execution_count": null,
      "outputs": [
        {
          "output_type": "stream",
          "name": "stdout",
          "text": [
            "11\n",
            "15.3\n",
            "Hello Python\n"
          ]
        }
      ]
    },
    {
      "cell_type": "code",
      "source": [
        "type(\"This is a string\")"
      ],
      "metadata": {
        "id": "H19teYAKQyxS",
        "outputId": "2aa7b25f-d891-4351-c640-f584f1ff87e2",
        "colab": {
          "base_uri": "https://localhost:8080/"
        }
      },
      "execution_count": null,
      "outputs": [
        {
          "output_type": "execute_result",
          "data": {
            "text/plain": [
              "str"
            ]
          },
          "metadata": {},
          "execution_count": 5
        }
      ]
    },
    {
      "cell_type": "code",
      "source": [
        "name = \"Ignacio\"\n",
        "age = 25"
      ],
      "metadata": {
        "id": "uyJDreuwQ9Yu"
      },
      "execution_count": null,
      "outputs": []
    },
    {
      "cell_type": "code",
      "source": [
        "print(name)\n",
        "print(age)"
      ],
      "metadata": {
        "id": "OLY4HrvzTsHu",
        "outputId": "a4434233-65d1-4471-e640-a7244d0e2db1",
        "colab": {
          "base_uri": "https://localhost:8080/"
        }
      },
      "execution_count": null,
      "outputs": [
        {
          "output_type": "stream",
          "name": "stdout",
          "text": [
            "Ignacio\n",
            "25\n"
          ]
        }
      ]
    },
    {
      "cell_type": "markdown",
      "source": [
        "Mathematical Operations"
      ],
      "metadata": {
        "id": "VBrAVGeQSWRo"
      }
    },
    {
      "cell_type": "code",
      "source": [
        "40 + 60"
      ],
      "metadata": {
        "id": "XlyjQ_K6TuhT",
        "outputId": "f9a0c3ff-e5ce-463a-c526-1da62fec6a22",
        "colab": {
          "base_uri": "https://localhost:8080/"
        }
      },
      "execution_count": null,
      "outputs": [
        {
          "output_type": "execute_result",
          "data": {
            "text/plain": [
              "100"
            ]
          },
          "metadata": {},
          "execution_count": 1
        }
      ]
    },
    {
      "cell_type": "code",
      "source": [
        "500 - 40"
      ],
      "metadata": {
        "id": "Dn9LZXg8SY4F",
        "outputId": "873f39be-bbc6-460a-ee37-7ad5d341af8b",
        "colab": {
          "base_uri": "https://localhost:8080/"
        }
      },
      "execution_count": null,
      "outputs": [
        {
          "output_type": "execute_result",
          "data": {
            "text/plain": [
              "460"
            ]
          },
          "metadata": {},
          "execution_count": 2
        }
      ]
    },
    {
      "cell_type": "code",
      "source": [
        "300 / 7"
      ],
      "metadata": {
        "id": "Yw2kSLr8SdTi",
        "outputId": "ee24ee14-cbc0-4fb1-fdbd-c63eae933404",
        "colab": {
          "base_uri": "https://localhost:8080/"
        }
      },
      "execution_count": null,
      "outputs": [
        {
          "output_type": "execute_result",
          "data": {
            "text/plain": [
              "42.857142857142854"
            ]
          },
          "metadata": {},
          "execution_count": 3
        }
      ]
    },
    {
      "cell_type": "code",
      "source": [
        "300 // 7"
      ],
      "metadata": {
        "id": "YCJnRGCuSemp",
        "outputId": "7335b34d-08e9-4012-a357-4f41b4fcdba0",
        "colab": {
          "base_uri": "https://localhost:8080/"
        }
      },
      "execution_count": null,
      "outputs": [
        {
          "output_type": "execute_result",
          "data": {
            "text/plain": [
              "42"
            ]
          },
          "metadata": {},
          "execution_count": 4
        }
      ]
    },
    {
      "cell_type": "code",
      "source": [
        "(30+2) * 60"
      ],
      "metadata": {
        "id": "xzBH95xjSXG6",
        "outputId": "a6d1f502-ccae-4ae7-aff3-565f4b17b72a",
        "colab": {
          "base_uri": "https://localhost:8080/"
        }
      },
      "execution_count": null,
      "outputs": [
        {
          "output_type": "execute_result",
          "data": {
            "text/plain": [
              "1920"
            ]
          },
          "metadata": {},
          "execution_count": 5
        }
      ]
    },
    {
      "cell_type": "code",
      "source": [
        "x = 43 + 60 + 16 +41"
      ],
      "metadata": {
        "id": "DU6TEsxoStB7"
      },
      "execution_count": null,
      "outputs": []
    },
    {
      "cell_type": "code",
      "source": [
        "print(x)"
      ],
      "metadata": {
        "id": "o8FfZB_PS3jK",
        "outputId": "7656fd28-d1c0-4787-ba32-b78b39294013",
        "colab": {
          "base_uri": "https://localhost:8080/"
        }
      },
      "execution_count": null,
      "outputs": [
        {
          "output_type": "stream",
          "name": "stdout",
          "text": [
            "160\n"
          ]
        }
      ]
    },
    {
      "cell_type": "code",
      "source": [
        "x + 100"
      ],
      "metadata": {
        "id": "JsMDTh3NS5aq",
        "outputId": "57956eb9-76f0-44c6-eb90-c3a193573cb2",
        "colab": {
          "base_uri": "https://localhost:8080/"
        }
      },
      "execution_count": null,
      "outputs": [
        {
          "output_type": "execute_result",
          "data": {
            "text/plain": [
              "260"
            ]
          },
          "metadata": {},
          "execution_count": 8
        }
      ]
    },
    {
      "cell_type": "markdown",
      "source": [
        "Strings"
      ],
      "metadata": {
        "id": "_MumpgDwU_zk"
      }
    },
    {
      "cell_type": "code",
      "source": [
        "\"Ignacio Quintero\""
      ],
      "metadata": {
        "id": "VkFGIQRQVAlC",
        "outputId": "84217936-08bb-427f-d61f-8dc9df6a0999",
        "colab": {
          "base_uri": "https://localhost:8080/",
          "height": 35
        }
      },
      "execution_count": null,
      "outputs": [
        {
          "output_type": "execute_result",
          "data": {
            "text/plain": [
              "'Ignacio Quintero'"
            ],
            "application/vnd.google.colaboratory.intrinsic+json": {
              "type": "string"
            }
          },
          "metadata": {},
          "execution_count": 9
        }
      ]
    },
    {
      "cell_type": "code",
      "source": [
        "name = \"Ignacio\""
      ],
      "metadata": {
        "id": "Dk-6k9yLVC4j"
      },
      "execution_count": null,
      "outputs": []
    },
    {
      "cell_type": "code",
      "source": [
        "name[0]"
      ],
      "metadata": {
        "id": "Xb6vPbw_VEnq",
        "outputId": "5949a7be-ed07-4459-dbdf-721f658472cf",
        "colab": {
          "base_uri": "https://localhost:8080/",
          "height": 35
        }
      },
      "execution_count": null,
      "outputs": [
        {
          "output_type": "execute_result",
          "data": {
            "text/plain": [
              "'I'"
            ],
            "application/vnd.google.colaboratory.intrinsic+json": {
              "type": "string"
            }
          },
          "metadata": {},
          "execution_count": 11
        }
      ]
    },
    {
      "cell_type": "code",
      "source": [
        "name[::-1]"
      ],
      "metadata": {
        "id": "UuvVGqd_VdTR",
        "outputId": "724e8c37-17df-448b-ce8f-456861b5a222",
        "colab": {
          "base_uri": "https://localhost:8080/",
          "height": 35
        }
      },
      "execution_count": null,
      "outputs": [
        {
          "output_type": "execute_result",
          "data": {
            "text/plain": [
              "'oicangI'"
            ],
            "application/vnd.google.colaboratory.intrinsic+json": {
              "type": "string"
            }
          },
          "metadata": {},
          "execution_count": 12
        }
      ]
    },
    {
      "cell_type": "code",
      "source": [
        "len(\"Ignacio Quintero\")"
      ],
      "metadata": {
        "id": "rWR6lC-zVgd5",
        "outputId": "378e3bca-f528-4513-fcb0-a29a629ea8a1",
        "colab": {
          "base_uri": "https://localhost:8080/"
        }
      },
      "execution_count": null,
      "outputs": [
        {
          "output_type": "execute_result",
          "data": {
            "text/plain": [
              "16"
            ]
          },
          "metadata": {},
          "execution_count": 13
        }
      ]
    },
    {
      "cell_type": "code",
      "source": [
        "2 * \"Ignacio Quintero\""
      ],
      "metadata": {
        "id": "tLfPK0r7V0NZ",
        "outputId": "4f1e8e67-926c-4f47-ead5-2dba9f8353d2",
        "colab": {
          "base_uri": "https://localhost:8080/",
          "height": 35
        }
      },
      "execution_count": null,
      "outputs": [
        {
          "output_type": "execute_result",
          "data": {
            "text/plain": [
              "'Ignacio QuinteroIgnacio Quintero'"
            ],
            "application/vnd.google.colaboratory.intrinsic+json": {
              "type": "string"
            }
          },
          "metadata": {},
          "execution_count": 15
        }
      ]
    },
    {
      "cell_type": "code",
      "source": [
        "print(\"Ignacio Quintero \\n is my name\")"
      ],
      "metadata": {
        "id": "IwhreoN5WcLT",
        "outputId": "9cd9f7ee-c6c1-4d0e-f352-ff2b1fc4cc7b",
        "colab": {
          "base_uri": "https://localhost:8080/"
        }
      },
      "execution_count": null,
      "outputs": [
        {
          "output_type": "stream",
          "name": "stdout",
          "text": [
            "Ignacio Quintero \n",
            " is my name\n"
          ]
        }
      ]
    },
    {
      "cell_type": "code",
      "source": [
        "print(\"Ignacio Quintero \\t is my name\")"
      ],
      "metadata": {
        "id": "DO4BHNRrWwTJ",
        "outputId": "9ed675ee-7a06-4a06-fdb5-d769dd7e9f7d",
        "colab": {
          "base_uri": "https://localhost:8080/"
        }
      },
      "execution_count": null,
      "outputs": [
        {
          "output_type": "stream",
          "name": "stdout",
          "text": [
            "Ignacio Quintero \t is my name\n"
          ]
        }
      ]
    },
    {
      "cell_type": "code",
      "source": [
        "name.upper()"
      ],
      "metadata": {
        "id": "bmMGv-g9W3mg",
        "outputId": "7877936f-dd7e-4111-e417-982061e8fbf0",
        "colab": {
          "base_uri": "https://localhost:8080/",
          "height": 35
        }
      },
      "execution_count": null,
      "outputs": [
        {
          "output_type": "execute_result",
          "data": {
            "text/plain": [
              "'IGNACIO'"
            ],
            "application/vnd.google.colaboratory.intrinsic+json": {
              "type": "string"
            }
          },
          "metadata": {},
          "execution_count": 19
        }
      ]
    },
    {
      "cell_type": "code",
      "source": [
        "name.lower()"
      ],
      "metadata": {
        "id": "5wnixqVnXRRK",
        "outputId": "ed99bd74-655d-4480-f186-c552b7ffba04",
        "colab": {
          "base_uri": "https://localhost:8080/",
          "height": 35
        }
      },
      "execution_count": null,
      "outputs": [
        {
          "output_type": "execute_result",
          "data": {
            "text/plain": [
              "'ignacio'"
            ],
            "application/vnd.google.colaboratory.intrinsic+json": {
              "type": "string"
            }
          },
          "metadata": {},
          "execution_count": 20
        }
      ]
    },
    {
      "cell_type": "code",
      "source": [
        "name = \"My name is Ignacio Quintero\"\n",
        "name.split()"
      ],
      "metadata": {
        "id": "AEJr0yFiXTBh",
        "outputId": "29232d01-363e-4cc2-da8c-84dbe0791e04",
        "colab": {
          "base_uri": "https://localhost:8080/"
        }
      },
      "execution_count": null,
      "outputs": [
        {
          "output_type": "execute_result",
          "data": {
            "text/plain": [
              "['My', 'name', 'is', 'Ignacio', 'Quintero']"
            ]
          },
          "metadata": {},
          "execution_count": 22
        }
      ]
    },
    {
      "cell_type": "code",
      "source": [
        "Numbers = \"0123456\"\n",
        "Numbers[::2]"
      ],
      "metadata": {
        "id": "UlNCV6juXcl5",
        "outputId": "a39d7aa5-1f96-46a2-ce26-0a406a1bf552",
        "colab": {
          "base_uri": "https://localhost:8080/",
          "height": 35
        }
      },
      "execution_count": null,
      "outputs": [
        {
          "output_type": "execute_result",
          "data": {
            "text/plain": [
              "'0246'"
            ],
            "application/vnd.google.colaboratory.intrinsic+json": {
              "type": "string"
            }
          },
          "metadata": {},
          "execution_count": 24
        }
      ]
    },
    {
      "cell_type": "markdown",
      "source": [
        "Lists and Tuples"
      ],
      "metadata": {
        "id": "BCue08xhhhuD"
      }
    },
    {
      "cell_type": "code",
      "source": [
        "myTuple = (\"disco\", 10, 1.2)\n",
        "print(myTuple)"
      ],
      "metadata": {
        "id": "AUmy5RjghjoZ",
        "outputId": "a326715e-19ef-4e4d-98f7-8e36951a5768",
        "colab": {
          "base_uri": "https://localhost:8080/"
        }
      },
      "execution_count": 26,
      "outputs": [
        {
          "output_type": "stream",
          "name": "stdout",
          "text": [
            "('disco', 10, 1.2)\n"
          ]
        }
      ]
    },
    {
      "cell_type": "code",
      "source": [
        "myTuple[-1]"
      ],
      "metadata": {
        "id": "vLO2B1jKnHgI",
        "outputId": "a1e9159d-4824-4a51-a397-adeae86edfe6",
        "colab": {
          "base_uri": "https://localhost:8080/"
        }
      },
      "execution_count": 28,
      "outputs": [
        {
          "output_type": "execute_result",
          "data": {
            "text/plain": [
              "1.2"
            ]
          },
          "metadata": {},
          "execution_count": 28
        }
      ]
    },
    {
      "cell_type": "code",
      "source": [
        "mySndTuple = myTuple + (20, 30, 40)\n",
        "mySndTuple"
      ],
      "metadata": {
        "id": "5LgXNxHknjYf",
        "outputId": "0047947c-c160-4b9f-eb4a-2d55cf0fff85",
        "colab": {
          "base_uri": "https://localhost:8080/"
        }
      },
      "execution_count": 29,
      "outputs": [
        {
          "output_type": "execute_result",
          "data": {
            "text/plain": [
              "('disco', 10, 1.2, 20, 30, 40)"
            ]
          },
          "metadata": {},
          "execution_count": 29
        }
      ]
    },
    {
      "cell_type": "code",
      "source": [
        "len(mySndTuple)"
      ],
      "metadata": {
        "id": "kVahmC1Xn1Yv",
        "outputId": "04986914-90a2-4e64-d7b7-46ac11147d9d",
        "colab": {
          "base_uri": "https://localhost:8080/"
        }
      },
      "execution_count": 30,
      "outputs": [
        {
          "output_type": "execute_result",
          "data": {
            "text/plain": [
              "6"
            ]
          },
          "metadata": {},
          "execution_count": 30
        }
      ]
    },
    {
      "cell_type": "code",
      "source": [
        "# Nesting\n",
        "NT = (1 , 2, (\"pop\", \"rock\"), (3,4), (\"disco\"),(1,2))\n",
        "NT"
      ],
      "metadata": {
        "id": "lMqHpPRzn8eW",
        "outputId": "a3bdaf72-a102-4501-b265-503e30703513",
        "colab": {
          "base_uri": "https://localhost:8080/"
        }
      },
      "execution_count": 33,
      "outputs": [
        {
          "output_type": "execute_result",
          "data": {
            "text/plain": [
              "(1, 2, ('pop', 'rock'), (3, 4), 'disco', (1, 2))"
            ]
          },
          "metadata": {},
          "execution_count": 33
        }
      ]
    },
    {
      "cell_type": "code",
      "source": [
        "NT[2][1]"
      ],
      "metadata": {
        "id": "RROi1xEfow53",
        "outputId": "529c8db4-af63-4d29-807e-4a7b260abff1",
        "colab": {
          "base_uri": "https://localhost:8080/",
          "height": 35
        }
      },
      "execution_count": 32,
      "outputs": [
        {
          "output_type": "execute_result",
          "data": {
            "text/plain": [
              "'rock'"
            ],
            "application/vnd.google.colaboratory.intrinsic+json": {
              "type": "string"
            }
          },
          "metadata": {},
          "execution_count": 32
        }
      ]
    },
    {
      "cell_type": "code",
      "source": [
        "myList = [\"Ignacio Quintero\", 25, 1997]\n",
        "myList"
      ],
      "metadata": {
        "id": "0HueydDyo14_",
        "outputId": "2b0f2435-cb2d-4867-cdb3-8fb1443c1ecf",
        "colab": {
          "base_uri": "https://localhost:8080/"
        }
      },
      "execution_count": 34,
      "outputs": [
        {
          "output_type": "execute_result",
          "data": {
            "text/plain": [
              "['Ignacio Quintero', 25, 1997]"
            ]
          },
          "metadata": {},
          "execution_count": 34
        }
      ]
    },
    {
      "cell_type": "code",
      "source": [
        "myList[1]"
      ],
      "metadata": {
        "id": "q2EK9-Drpa6m",
        "outputId": "73c015c6-b473-4afb-cd26-9bb747577e4b",
        "colab": {
          "base_uri": "https://localhost:8080/"
        }
      },
      "execution_count": 35,
      "outputs": [
        {
          "output_type": "execute_result",
          "data": {
            "text/plain": [
              "25"
            ]
          },
          "metadata": {},
          "execution_count": 35
        }
      ]
    },
    {
      "cell_type": "code",
      "source": [
        "myList[::-1]"
      ],
      "metadata": {
        "id": "uLaFVWwup72m",
        "outputId": "8f41af5a-167a-49f4-ed6c-b62720587341",
        "colab": {
          "base_uri": "https://localhost:8080/"
        }
      },
      "execution_count": 36,
      "outputs": [
        {
          "output_type": "execute_result",
          "data": {
            "text/plain": [
              "[1997, 25, 'Ignacio Quintero']"
            ]
          },
          "metadata": {},
          "execution_count": 36
        }
      ]
    },
    {
      "cell_type": "code",
      "source": [
        "myList + [\"Artificial Intelligence\"]"
      ],
      "metadata": {
        "id": "6ORyGNVNp-1X",
        "outputId": "579de8cf-579b-4514-bc9c-c963ca3a0549",
        "colab": {
          "base_uri": "https://localhost:8080/"
        }
      },
      "execution_count": 37,
      "outputs": [
        {
          "output_type": "execute_result",
          "data": {
            "text/plain": [
              "['Ignacio Quintero', 25, 1997, 'Artificial Intelligence']"
            ]
          },
          "metadata": {},
          "execution_count": 37
        }
      ]
    },
    {
      "cell_type": "code",
      "source": [
        "myList.append(\"New item\")"
      ],
      "metadata": {
        "id": "1-HN4KhnqGAx"
      },
      "execution_count": 38,
      "outputs": []
    },
    {
      "cell_type": "code",
      "source": [
        "myList"
      ],
      "metadata": {
        "id": "Oy1QjqXDsvEZ",
        "outputId": "a49b8003-281d-4a0e-de8b-65b7f2200a0e",
        "colab": {
          "base_uri": "https://localhost:8080/"
        }
      },
      "execution_count": 39,
      "outputs": [
        {
          "output_type": "execute_result",
          "data": {
            "text/plain": [
              "['Ignacio Quintero', 25, 1997, 'New item']"
            ]
          },
          "metadata": {},
          "execution_count": 39
        }
      ]
    },
    {
      "cell_type": "code",
      "source": [
        "del(myList[1])"
      ],
      "metadata": {
        "id": "y6cq6gkcswLV"
      },
      "execution_count": 42,
      "outputs": []
    },
    {
      "cell_type": "code",
      "source": [
        "myList"
      ],
      "metadata": {
        "id": "6D1ZnixAtJqm",
        "outputId": "d4ed2952-5743-4080-fcdd-ad37d1b0a1ff",
        "colab": {
          "base_uri": "https://localhost:8080/"
        }
      },
      "execution_count": 43,
      "outputs": [
        {
          "output_type": "execute_result",
          "data": {
            "text/plain": [
              "['Ignacio Quintero', 1997]"
            ]
          },
          "metadata": {},
          "execution_count": 43
        }
      ]
    },
    {
      "cell_type": "markdown",
      "source": [
        "Sets"
      ],
      "metadata": {
        "id": "iXcHzK76v1y2"
      }
    },
    {
      "cell_type": "code",
      "source": [
        "mySet = {\"pop\", \"rock\", \"jazz\", \"pop\", \"rock\", \"rock\", \"R&B\", \"jazz\"}\n",
        "mySet"
      ],
      "metadata": {
        "id": "Ga_gt_aqv2ee",
        "outputId": "528e1244-7b81-4ed7-ab2d-3e9c57fd57ef",
        "colab": {
          "base_uri": "https://localhost:8080/"
        }
      },
      "execution_count": 44,
      "outputs": [
        {
          "output_type": "execute_result",
          "data": {
            "text/plain": [
              "{'R&B', 'jazz', 'pop', 'rock'}"
            ]
          },
          "metadata": {},
          "execution_count": 44
        }
      ]
    },
    {
      "cell_type": "code",
      "source": [
        "#Converting a list into a set\n",
        "album_list = [\"Michael Jackson\", \"Thriller\", \"Thriller\", 1982]"
      ],
      "metadata": {
        "id": "gwW3duP0wlj9"
      },
      "execution_count": 45,
      "outputs": []
    },
    {
      "cell_type": "code",
      "source": [
        "album_set = set(album_list)"
      ],
      "metadata": {
        "id": "HFyblqw5w0Z9"
      },
      "execution_count": 46,
      "outputs": []
    },
    {
      "cell_type": "code",
      "source": [
        "album_set"
      ],
      "metadata": {
        "id": "_DiZmjiNw5R1",
        "outputId": "54c1672e-5ef6-4ed8-a73f-281fc303bb9c",
        "colab": {
          "base_uri": "https://localhost:8080/"
        }
      },
      "execution_count": 47,
      "outputs": [
        {
          "output_type": "execute_result",
          "data": {
            "text/plain": [
              "{1982, 'Michael Jackson', 'Thriller'}"
            ]
          },
          "metadata": {},
          "execution_count": 47
        }
      ]
    },
    {
      "cell_type": "code",
      "source": [
        "album_set.add(\"Epic Records\")"
      ],
      "metadata": {
        "id": "PK77iWIqw9SV"
      },
      "execution_count": 49,
      "outputs": []
    },
    {
      "cell_type": "code",
      "source": [
        "album_set"
      ],
      "metadata": {
        "id": "F60Qs3ddxQ4E",
        "outputId": "3e2d72ea-4985-4c52-8cc8-e664cb2a8e3a",
        "colab": {
          "base_uri": "https://localhost:8080/"
        }
      },
      "execution_count": 50,
      "outputs": [
        {
          "output_type": "execute_result",
          "data": {
            "text/plain": [
              "{1982, 'Epic Records', 'Michael Jackson', 'Thriller'}"
            ]
          },
          "metadata": {},
          "execution_count": 50
        }
      ]
    },
    {
      "cell_type": "code",
      "source": [
        "album_set_1 = {\"AC/DC\", \"Black in Black\", \"Thriller\"}"
      ],
      "metadata": {
        "id": "O8Ow0iP5xcFO"
      },
      "execution_count": 53,
      "outputs": []
    },
    {
      "cell_type": "code",
      "source": [
        "album_set_2 = {\"AC/DC\", \"Black in Black\", \"Thriller\", \"The Dark Side of the Moon\"}"
      ],
      "metadata": {
        "id": "ea54kPO4x6IW"
      },
      "execution_count": 54,
      "outputs": []
    },
    {
      "cell_type": "code",
      "source": [
        "album_set_3 = album_set_1 & album_set_2"
      ],
      "metadata": {
        "id": "-6snKmC-yEWG"
      },
      "execution_count": 55,
      "outputs": []
    },
    {
      "cell_type": "code",
      "source": [
        "album_set_3"
      ],
      "metadata": {
        "id": "kUPX2SQtyIfW",
        "outputId": "51ec149d-b8ef-4024-dbe9-e4d94a1d757d",
        "colab": {
          "base_uri": "https://localhost:8080/"
        }
      },
      "execution_count": 56,
      "outputs": [
        {
          "output_type": "execute_result",
          "data": {
            "text/plain": [
              "{'AC/DC', 'Black in Black', 'Thriller'}"
            ]
          },
          "metadata": {},
          "execution_count": 56
        }
      ]
    },
    {
      "cell_type": "markdown",
      "source": [
        "Dictionaries"
      ],
      "metadata": {
        "id": "nnlqaRS4251S"
      }
    },
    {
      "cell_type": "code",
      "source": [
        "mydic = {\"key1\": 1, \"key2\": 2, \"key3\": 3}\n",
        "mydic"
      ],
      "metadata": {
        "id": "O7vQbw-6yJ72",
        "outputId": "cd90ce88-9505-480f-d115-4099f48aca52",
        "colab": {
          "base_uri": "https://localhost:8080/"
        }
      },
      "execution_count": 57,
      "outputs": [
        {
          "output_type": "execute_result",
          "data": {
            "text/plain": [
              "{'key1': 1, 'key2': 2, 'key3': 3}"
            ]
          },
          "metadata": {},
          "execution_count": 57
        }
      ]
    },
    {
      "cell_type": "code",
      "source": [],
      "metadata": {
        "id": "bjRDpTeO6BGc"
      },
      "execution_count": null,
      "outputs": []
    }
  ]
}