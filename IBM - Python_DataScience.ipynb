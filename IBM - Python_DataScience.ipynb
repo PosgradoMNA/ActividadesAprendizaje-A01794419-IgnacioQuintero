{
  "nbformat": 4,
  "nbformat_minor": 0,
  "metadata": {
    "colab": {
      "name": "assignment01.ipynb",
      "provenance": [],
      "include_colab_link": true
    },
    "kernelspec": {
      "name": "python3",
      "display_name": "Python 3"
    },
    "language_info": {
      "name": "python"
    }
  },
  "cells": [
    {
      "cell_type": "markdown",
      "metadata": {
        "id": "view-in-github",
        "colab_type": "text"
      },
      "source": [
        "<a href=\"https://colab.research.google.com/github/PosgradoMNA/ActividadesAprendizaje-A01794419-IgnacioQuintero/blob/main/IBM%20-%20Python_DataScience.ipynb\" target=\"_parent\"><img src=\"https://colab.research.google.com/assets/colab-badge.svg\" alt=\"Open In Colab\"/></a>"
      ]
    },
    {
      "cell_type": "markdown",
      "source": [
        "### Python for Data Science - IBM Course"
      ],
      "metadata": {
        "id": "I0JfdlIAFh8B"
      }
    },
    {
      "cell_type": "code",
      "source": [
        "#An statement or expression is an instruction the computer will run or execute.\n",
        "#Argument = the value in the parentheses.\n",
        "print(\"Hello World!\")"
      ],
      "metadata": {
        "id": "mxM_WppZPMFx",
        "outputId": "17b346a8-ace8-4109-f20d-cca801a4f726",
        "colab": {
          "base_uri": "https://localhost:8080/"
        }
      },
      "execution_count": null,
      "outputs": [
        {
          "output_type": "stream",
          "name": "stdout",
          "text": [
            "Hello World!\n"
          ]
        }
      ]
    },
    {
      "cell_type": "code",
      "source": [
        "# Integer\n",
        "print(11)\n",
        "# Float\n",
        "print(15.30)\n",
        "# String\n",
        "print(\"Hello Python\")"
      ],
      "metadata": {
        "id": "rittD00hM56M",
        "outputId": "a6c9cd96-2cf6-4a0e-86c4-4af7bfa3f276",
        "colab": {
          "base_uri": "https://localhost:8080/"
        }
      },
      "execution_count": null,
      "outputs": [
        {
          "output_type": "stream",
          "name": "stdout",
          "text": [
            "11\n",
            "15.3\n",
            "Hello Python\n"
          ]
        }
      ]
    },
    {
      "cell_type": "code",
      "source": [
        "type(\"This is a string\")"
      ],
      "metadata": {
        "id": "H19teYAKQyxS",
        "outputId": "2aa7b25f-d891-4351-c640-f584f1ff87e2",
        "colab": {
          "base_uri": "https://localhost:8080/"
        }
      },
      "execution_count": null,
      "outputs": [
        {
          "output_type": "execute_result",
          "data": {
            "text/plain": [
              "str"
            ]
          },
          "metadata": {},
          "execution_count": 5
        }
      ]
    },
    {
      "cell_type": "code",
      "source": [
        "name = \"Ignacio\"\n",
        "age = 25"
      ],
      "metadata": {
        "id": "uyJDreuwQ9Yu"
      },
      "execution_count": null,
      "outputs": []
    },
    {
      "cell_type": "code",
      "source": [
        "print(name)\n",
        "print(age)"
      ],
      "metadata": {
        "id": "OLY4HrvzTsHu",
        "outputId": "a4434233-65d1-4471-e640-a7244d0e2db1",
        "colab": {
          "base_uri": "https://localhost:8080/"
        }
      },
      "execution_count": null,
      "outputs": [
        {
          "output_type": "stream",
          "name": "stdout",
          "text": [
            "Ignacio\n",
            "25\n"
          ]
        }
      ]
    },
    {
      "cell_type": "markdown",
      "source": [
        "Mathematical Operations"
      ],
      "metadata": {
        "id": "VBrAVGeQSWRo"
      }
    },
    {
      "cell_type": "code",
      "source": [
        "40 + 60"
      ],
      "metadata": {
        "id": "XlyjQ_K6TuhT",
        "outputId": "f9a0c3ff-e5ce-463a-c526-1da62fec6a22",
        "colab": {
          "base_uri": "https://localhost:8080/"
        }
      },
      "execution_count": 1,
      "outputs": [
        {
          "output_type": "execute_result",
          "data": {
            "text/plain": [
              "100"
            ]
          },
          "metadata": {},
          "execution_count": 1
        }
      ]
    },
    {
      "cell_type": "code",
      "source": [
        "500 - 40"
      ],
      "metadata": {
        "id": "Dn9LZXg8SY4F",
        "outputId": "873f39be-bbc6-460a-ee37-7ad5d341af8b",
        "colab": {
          "base_uri": "https://localhost:8080/"
        }
      },
      "execution_count": 2,
      "outputs": [
        {
          "output_type": "execute_result",
          "data": {
            "text/plain": [
              "460"
            ]
          },
          "metadata": {},
          "execution_count": 2
        }
      ]
    },
    {
      "cell_type": "code",
      "source": [
        "300 / 7"
      ],
      "metadata": {
        "id": "Yw2kSLr8SdTi",
        "outputId": "ee24ee14-cbc0-4fb1-fdbd-c63eae933404",
        "colab": {
          "base_uri": "https://localhost:8080/"
        }
      },
      "execution_count": 3,
      "outputs": [
        {
          "output_type": "execute_result",
          "data": {
            "text/plain": [
              "42.857142857142854"
            ]
          },
          "metadata": {},
          "execution_count": 3
        }
      ]
    },
    {
      "cell_type": "code",
      "source": [
        "300 // 7"
      ],
      "metadata": {
        "id": "YCJnRGCuSemp",
        "outputId": "7335b34d-08e9-4012-a357-4f41b4fcdba0",
        "colab": {
          "base_uri": "https://localhost:8080/"
        }
      },
      "execution_count": 4,
      "outputs": [
        {
          "output_type": "execute_result",
          "data": {
            "text/plain": [
              "42"
            ]
          },
          "metadata": {},
          "execution_count": 4
        }
      ]
    },
    {
      "cell_type": "code",
      "source": [
        "(30+2) * 60"
      ],
      "metadata": {
        "id": "xzBH95xjSXG6",
        "outputId": "a6d1f502-ccae-4ae7-aff3-565f4b17b72a",
        "colab": {
          "base_uri": "https://localhost:8080/"
        }
      },
      "execution_count": 5,
      "outputs": [
        {
          "output_type": "execute_result",
          "data": {
            "text/plain": [
              "1920"
            ]
          },
          "metadata": {},
          "execution_count": 5
        }
      ]
    },
    {
      "cell_type": "code",
      "source": [
        "x = 43 + 60 + 16 +41"
      ],
      "metadata": {
        "id": "DU6TEsxoStB7"
      },
      "execution_count": 6,
      "outputs": []
    },
    {
      "cell_type": "code",
      "source": [
        "print(x)"
      ],
      "metadata": {
        "id": "o8FfZB_PS3jK",
        "outputId": "7656fd28-d1c0-4787-ba32-b78b39294013",
        "colab": {
          "base_uri": "https://localhost:8080/"
        }
      },
      "execution_count": 7,
      "outputs": [
        {
          "output_type": "stream",
          "name": "stdout",
          "text": [
            "160\n"
          ]
        }
      ]
    },
    {
      "cell_type": "code",
      "source": [
        "x + 100"
      ],
      "metadata": {
        "id": "JsMDTh3NS5aq",
        "outputId": "57956eb9-76f0-44c6-eb90-c3a193573cb2",
        "colab": {
          "base_uri": "https://localhost:8080/"
        }
      },
      "execution_count": 8,
      "outputs": [
        {
          "output_type": "execute_result",
          "data": {
            "text/plain": [
              "260"
            ]
          },
          "metadata": {},
          "execution_count": 8
        }
      ]
    },
    {
      "cell_type": "markdown",
      "source": [
        "Strings"
      ],
      "metadata": {
        "id": "_MumpgDwU_zk"
      }
    },
    {
      "cell_type": "code",
      "source": [
        "\"Ignacio Quintero\""
      ],
      "metadata": {
        "id": "VkFGIQRQVAlC",
        "outputId": "84217936-08bb-427f-d61f-8dc9df6a0999",
        "colab": {
          "base_uri": "https://localhost:8080/",
          "height": 35
        }
      },
      "execution_count": 9,
      "outputs": [
        {
          "output_type": "execute_result",
          "data": {
            "text/plain": [
              "'Ignacio Quintero'"
            ],
            "application/vnd.google.colaboratory.intrinsic+json": {
              "type": "string"
            }
          },
          "metadata": {},
          "execution_count": 9
        }
      ]
    },
    {
      "cell_type": "code",
      "source": [
        "name = \"Ignacio\""
      ],
      "metadata": {
        "id": "Dk-6k9yLVC4j"
      },
      "execution_count": 10,
      "outputs": []
    },
    {
      "cell_type": "code",
      "source": [
        "name[0]"
      ],
      "metadata": {
        "id": "Xb6vPbw_VEnq",
        "outputId": "5949a7be-ed07-4459-dbdf-721f658472cf",
        "colab": {
          "base_uri": "https://localhost:8080/",
          "height": 35
        }
      },
      "execution_count": 11,
      "outputs": [
        {
          "output_type": "execute_result",
          "data": {
            "text/plain": [
              "'I'"
            ],
            "application/vnd.google.colaboratory.intrinsic+json": {
              "type": "string"
            }
          },
          "metadata": {},
          "execution_count": 11
        }
      ]
    },
    {
      "cell_type": "code",
      "source": [
        "name[::-1]"
      ],
      "metadata": {
        "id": "UuvVGqd_VdTR",
        "outputId": "724e8c37-17df-448b-ce8f-456861b5a222",
        "colab": {
          "base_uri": "https://localhost:8080/",
          "height": 35
        }
      },
      "execution_count": 12,
      "outputs": [
        {
          "output_type": "execute_result",
          "data": {
            "text/plain": [
              "'oicangI'"
            ],
            "application/vnd.google.colaboratory.intrinsic+json": {
              "type": "string"
            }
          },
          "metadata": {},
          "execution_count": 12
        }
      ]
    },
    {
      "cell_type": "code",
      "source": [
        "len(\"Ignacio Quintero\")"
      ],
      "metadata": {
        "id": "rWR6lC-zVgd5",
        "outputId": "378e3bca-f528-4513-fcb0-a29a629ea8a1",
        "colab": {
          "base_uri": "https://localhost:8080/"
        }
      },
      "execution_count": 13,
      "outputs": [
        {
          "output_type": "execute_result",
          "data": {
            "text/plain": [
              "16"
            ]
          },
          "metadata": {},
          "execution_count": 13
        }
      ]
    },
    {
      "cell_type": "code",
      "source": [
        "2 * \"Ignacio Quintero\""
      ],
      "metadata": {
        "id": "tLfPK0r7V0NZ",
        "outputId": "4f1e8e67-926c-4f47-ead5-2dba9f8353d2",
        "colab": {
          "base_uri": "https://localhost:8080/",
          "height": 35
        }
      },
      "execution_count": 15,
      "outputs": [
        {
          "output_type": "execute_result",
          "data": {
            "text/plain": [
              "'Ignacio QuinteroIgnacio Quintero'"
            ],
            "application/vnd.google.colaboratory.intrinsic+json": {
              "type": "string"
            }
          },
          "metadata": {},
          "execution_count": 15
        }
      ]
    },
    {
      "cell_type": "code",
      "source": [
        "print(\"Ignacio Quintero \\n is my name\")"
      ],
      "metadata": {
        "id": "IwhreoN5WcLT",
        "outputId": "9cd9f7ee-c6c1-4d0e-f352-ff2b1fc4cc7b",
        "colab": {
          "base_uri": "https://localhost:8080/"
        }
      },
      "execution_count": 17,
      "outputs": [
        {
          "output_type": "stream",
          "name": "stdout",
          "text": [
            "Ignacio Quintero \n",
            " is my name\n"
          ]
        }
      ]
    },
    {
      "cell_type": "code",
      "source": [
        "print(\"Ignacio Quintero \\t is my name\")"
      ],
      "metadata": {
        "id": "DO4BHNRrWwTJ",
        "outputId": "9ed675ee-7a06-4a06-fdb5-d769dd7e9f7d",
        "colab": {
          "base_uri": "https://localhost:8080/"
        }
      },
      "execution_count": 18,
      "outputs": [
        {
          "output_type": "stream",
          "name": "stdout",
          "text": [
            "Ignacio Quintero \t is my name\n"
          ]
        }
      ]
    },
    {
      "cell_type": "code",
      "source": [
        "name.upper()"
      ],
      "metadata": {
        "id": "bmMGv-g9W3mg",
        "outputId": "7877936f-dd7e-4111-e417-982061e8fbf0",
        "colab": {
          "base_uri": "https://localhost:8080/",
          "height": 35
        }
      },
      "execution_count": 19,
      "outputs": [
        {
          "output_type": "execute_result",
          "data": {
            "text/plain": [
              "'IGNACIO'"
            ],
            "application/vnd.google.colaboratory.intrinsic+json": {
              "type": "string"
            }
          },
          "metadata": {},
          "execution_count": 19
        }
      ]
    },
    {
      "cell_type": "code",
      "source": [
        "name.lower()"
      ],
      "metadata": {
        "id": "5wnixqVnXRRK",
        "outputId": "ed99bd74-655d-4480-f186-c552b7ffba04",
        "colab": {
          "base_uri": "https://localhost:8080/",
          "height": 35
        }
      },
      "execution_count": 20,
      "outputs": [
        {
          "output_type": "execute_result",
          "data": {
            "text/plain": [
              "'ignacio'"
            ],
            "application/vnd.google.colaboratory.intrinsic+json": {
              "type": "string"
            }
          },
          "metadata": {},
          "execution_count": 20
        }
      ]
    },
    {
      "cell_type": "code",
      "source": [
        "name = \"My name is Ignacio Quintero\"\n",
        "name.split()"
      ],
      "metadata": {
        "id": "AEJr0yFiXTBh",
        "outputId": "29232d01-363e-4cc2-da8c-84dbe0791e04",
        "colab": {
          "base_uri": "https://localhost:8080/"
        }
      },
      "execution_count": 22,
      "outputs": [
        {
          "output_type": "execute_result",
          "data": {
            "text/plain": [
              "['My', 'name', 'is', 'Ignacio', 'Quintero']"
            ]
          },
          "metadata": {},
          "execution_count": 22
        }
      ]
    },
    {
      "cell_type": "code",
      "source": [
        "Numbers = \"0123456\"\n",
        "Numbers[::2]"
      ],
      "metadata": {
        "id": "UlNCV6juXcl5",
        "outputId": "a39d7aa5-1f96-46a2-ce26-0a406a1bf552",
        "colab": {
          "base_uri": "https://localhost:8080/",
          "height": 35
        }
      },
      "execution_count": 24,
      "outputs": [
        {
          "output_type": "execute_result",
          "data": {
            "text/plain": [
              "'0246'"
            ],
            "application/vnd.google.colaboratory.intrinsic+json": {
              "type": "string"
            }
          },
          "metadata": {},
          "execution_count": 24
        }
      ]
    },
    {
      "cell_type": "code",
      "source": [],
      "metadata": {
        "id": "PKa8If_AY446"
      },
      "execution_count": null,
      "outputs": []
    }
  ]
}