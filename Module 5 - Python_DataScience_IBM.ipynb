{
  "nbformat": 4,
  "nbformat_minor": 0,
  "metadata": {
    "colab": {
      "provenance": [],
      "authorship_tag": "ABX9TyNaMTBzzt5OLCGgjzIiDYNl",
      "include_colab_link": true
    },
    "kernelspec": {
      "name": "python3",
      "display_name": "Python 3"
    },
    "language_info": {
      "name": "python"
    }
  },
  "cells": [
    {
      "cell_type": "markdown",
      "metadata": {
        "id": "view-in-github",
        "colab_type": "text"
      },
      "source": [
        "<a href=\"https://colab.research.google.com/github/PosgradoMNA/ActividadesAprendizaje-A01794419-IgnacioQuintero/blob/main/Module%205%20-%20Python_DataScience_IBM.ipynb\" target=\"_parent\"><img src=\"https://colab.research.google.com/assets/colab-badge.svg\" alt=\"Open In Colab\"/></a>"
      ]
    },
    {
      "cell_type": "markdown",
      "source": [
        "# Python for Data Science - IBM Course\n",
        "\n",
        "### Ignacio Antonio Quintero Chávez - A01794419 / Module 5"
      ],
      "metadata": {
        "id": "hNwvM29GejYk"
      }
    },
    {
      "cell_type": "markdown",
      "source": [
        "### Numpy 1D Arrays"
      ],
      "metadata": {
        "id": "Dw9QGWJQeqrA"
      }
    },
    {
      "cell_type": "code",
      "source": [
        "import numpy as np"
      ],
      "metadata": {
        "id": "JGrBQbIvevJT"
      },
      "execution_count": 1,
      "outputs": []
    },
    {
      "cell_type": "code",
      "source": [
        "x = np.array([0, 1, 2, 3, 4])"
      ],
      "metadata": {
        "id": "9KR72lAlfOMm"
      },
      "execution_count": 2,
      "outputs": []
    },
    {
      "cell_type": "code",
      "source": [
        "# Checking the type\n",
        "type(x)"
      ],
      "metadata": {
        "colab": {
          "base_uri": "https://localhost:8080/"
        },
        "id": "o6lm4-L1faz1",
        "outputId": "ae4fec6d-a926-4411-e83c-8b9d3f816299"
      },
      "execution_count": 3,
      "outputs": [
        {
          "output_type": "execute_result",
          "data": {
            "text/plain": [
              "numpy.ndarray"
            ]
          },
          "metadata": {},
          "execution_count": 3
        }
      ]
    },
    {
      "cell_type": "code",
      "source": [
        "# Checking the number of elements in the array\n",
        "print(x.size)"
      ],
      "metadata": {
        "colab": {
          "base_uri": "https://localhost:8080/"
        },
        "id": "ep60_I_yfeH9",
        "outputId": "200300ad-6e3e-46d4-c309-30f3269ec773"
      },
      "execution_count": 7,
      "outputs": [
        {
          "output_type": "stream",
          "name": "stdout",
          "text": [
            "5\n"
          ]
        }
      ]
    },
    {
      "cell_type": "code",
      "source": [
        "# Checking the type of values stored in the array\n",
        "x.dtype"
      ],
      "metadata": {
        "colab": {
          "base_uri": "https://localhost:8080/"
        },
        "id": "IuIvOUBCkDJD",
        "outputId": "3306b5c2-b7ea-403e-b3e1-a0c8431d8c74"
      },
      "execution_count": 18,
      "outputs": [
        {
          "output_type": "execute_result",
          "data": {
            "text/plain": [
              "dtype('int64')"
            ]
          },
          "metadata": {},
          "execution_count": 18
        }
      ]
    },
    {
      "cell_type": "code",
      "source": [
        "# Accesing each element via a square bracket\n",
        "print(\"x[0]:\", x[0])\n",
        "print(\"x[1]:\", x[1])\n",
        "print(\"x[2]:\", x[2])\n",
        "print(\"x[3]:\", x[3])\n",
        "print(\"x[4]:\", x[4])"
      ],
      "metadata": {
        "colab": {
          "base_uri": "https://localhost:8080/"
        },
        "id": "Z-WbTH1Kfz8d",
        "outputId": "1a358f76-d1bc-451e-bfb3-3b382191c8ad"
      },
      "execution_count": 14,
      "outputs": [
        {
          "output_type": "stream",
          "name": "stdout",
          "text": [
            "x[0]: 0\n",
            "x[1]: 1\n",
            "x[2]: 2\n",
            "x[3]: 3\n",
            "x[4]: 4\n"
          ]
        }
      ]
    },
    {
      "cell_type": "markdown",
      "source": [
        "### Indexing and Slicing"
      ],
      "metadata": {
        "id": "3zryH79ujYcy"
      }
    },
    {
      "cell_type": "code",
      "source": [
        "my_array = ([1, 2, 3, 4, 5, 6, 7])\n",
        "my_array"
      ],
      "metadata": {
        "colab": {
          "base_uri": "https://localhost:8080/"
        },
        "id": "ZgB8b17LhKR8",
        "outputId": "5e4952d3-7cbe-46ef-e36a-f5610468828e"
      },
      "execution_count": 15,
      "outputs": [
        {
          "output_type": "execute_result",
          "data": {
            "text/plain": [
              "[1, 2, 3, 4, 5, 6, 7]"
            ]
          },
          "metadata": {},
          "execution_count": 15
        }
      ]
    },
    {
      "cell_type": "code",
      "source": [
        "# Assign a new value\n",
        "my_array[0] = 10\n",
        "my_array"
      ],
      "metadata": {
        "colab": {
          "base_uri": "https://localhost:8080/"
        },
        "id": "6P-DLg5Yh_kk",
        "outputId": "43477722-0f65-431e-f570-530d691a67c7"
      },
      "execution_count": 16,
      "outputs": [
        {
          "output_type": "execute_result",
          "data": {
            "text/plain": [
              "[10, 2, 3, 4, 5, 6, 7]"
            ]
          },
          "metadata": {},
          "execution_count": 16
        }
      ]
    },
    {
      "cell_type": "code",
      "source": [
        "my_array[0]"
      ],
      "metadata": {
        "colab": {
          "base_uri": "https://localhost:8080/"
        },
        "id": "2mFow4U6gfTT",
        "outputId": "89b686e5-23c2-4ea3-b47d-69b45df4dbaf"
      },
      "execution_count": 17,
      "outputs": [
        {
          "output_type": "execute_result",
          "data": {
            "text/plain": [
              "10"
            ]
          },
          "metadata": {},
          "execution_count": 17
        }
      ]
    },
    {
      "cell_type": "code",
      "source": [
        "# Selecting elements from the array\n",
        "my_array[0:5]"
      ],
      "metadata": {
        "colab": {
          "base_uri": "https://localhost:8080/"
        },
        "id": "C_prfJl1j9jw",
        "outputId": "74115c07-6f9f-4a0c-bd0d-4c9da0e907fe"
      },
      "execution_count": 20,
      "outputs": [
        {
          "output_type": "execute_result",
          "data": {
            "text/plain": [
              "[10, 2, 3, 4, 5]"
            ]
          },
          "metadata": {},
          "execution_count": 20
        }
      ]
    },
    {
      "cell_type": "code",
      "source": [
        "# Assigning the selected elements to a new numpy array\n",
        "new_array = my_array[0:5]\n",
        "new_array"
      ],
      "metadata": {
        "colab": {
          "base_uri": "https://localhost:8080/"
        },
        "id": "nSCVs9uLkZpc",
        "outputId": "973f2b05-0a32-4002-ca22-c1742c24cc14"
      },
      "execution_count": 21,
      "outputs": [
        {
          "output_type": "execute_result",
          "data": {
            "text/plain": [
              "[10, 2, 3, 4, 5]"
            ]
          },
          "metadata": {},
          "execution_count": 21
        }
      ]
    },
    {
      "cell_type": "code",
      "source": [
        "# We can also define the steps in slicing : [start:end:step]\n",
        "print(my_array[0:7:2])"
      ],
      "metadata": {
        "id": "-rlIw20rlcAZ",
        "outputId": "10c984aa-ee01-4872-f147-9d745d55b18e",
        "colab": {
          "base_uri": "https://localhost:8080/"
        }
      },
      "execution_count": 23,
      "outputs": [
        {
          "output_type": "stream",
          "name": "stdout",
          "text": [
            "[10, 3, 5, 7]\n"
          ]
        }
      ]
    },
    {
      "cell_type": "code",
      "source": [
        "# Printing the array in reverse order is also possible\n",
        "print(my_array[::-1])"
      ],
      "metadata": {
        "id": "gyF2Q4limeYl",
        "outputId": "b8c80f08-608f-4ea9-ce46-559621020a6e",
        "colab": {
          "base_uri": "https://localhost:8080/"
        }
      },
      "execution_count": 25,
      "outputs": [
        {
          "output_type": "stream",
          "name": "stdout",
          "text": [
            "[7, 6, 5, 4, 3, 2, 10]\n"
          ]
        }
      ]
    },
    {
      "cell_type": "code",
      "source": [
        "# Printing the even numbers\n",
        "array_example = ([1, 2, 3, 4, 5, 6, 7, 8])\n",
        "print(array_example[1::2])"
      ],
      "metadata": {
        "id": "iyD8KcJOmuwE",
        "outputId": "eb638380-6e0d-43a7-9619-259175c4f3b8",
        "colab": {
          "base_uri": "https://localhost:8080/"
        }
      },
      "execution_count": 27,
      "outputs": [
        {
          "output_type": "stream",
          "name": "stdout",
          "text": [
            "[2, 4, 6, 8]\n"
          ]
        }
      ]
    },
    {
      "cell_type": "markdown",
      "source": [
        "### Numpy Statistical Functions"
      ],
      "metadata": {
        "id": "jt2epvNvtx3u"
      }
    },
    {
      "cell_type": "code",
      "source": [
        "x = np.array([1, -1, 1, -1])"
      ],
      "metadata": {
        "id": "NJL8ax4kt1AQ"
      },
      "execution_count": 28,
      "outputs": []
    },
    {
      "cell_type": "code",
      "source": [
        "# Obtain the mean of the array\n",
        "mean = x.mean()\n",
        "mean"
      ],
      "metadata": {
        "id": "hsrBhxRwuAn0",
        "outputId": "14c066fe-9361-4252-d896-f2478741954b",
        "colab": {
          "base_uri": "https://localhost:8080/"
        }
      },
      "execution_count": 29,
      "outputs": [
        {
          "output_type": "execute_result",
          "data": {
            "text/plain": [
              "0.0"
            ]
          },
          "metadata": {},
          "execution_count": 29
        }
      ]
    },
    {
      "cell_type": "code",
      "source": [
        "# Obtain the standard deviation of the array\n",
        "std_deviation = x.std()\n",
        "std_deviation"
      ],
      "metadata": {
        "id": "fxfuVhfYuFX6",
        "outputId": "fa7d6d7e-a878-4003-cc4d-836995da9356",
        "colab": {
          "base_uri": "https://localhost:8080/"
        }
      },
      "execution_count": 30,
      "outputs": [
        {
          "output_type": "execute_result",
          "data": {
            "text/plain": [
              "1.0"
            ]
          },
          "metadata": {},
          "execution_count": 30
        }
      ]
    },
    {
      "cell_type": "code",
      "source": [
        "y = np.array([1, 2, 3, 4, 5, 6, 7, 8, 9, 10])"
      ],
      "metadata": {
        "id": "uWo0PUgLuOgb"
      },
      "execution_count": 31,
      "outputs": []
    },
    {
      "cell_type": "code",
      "source": [
        "# Obtain the biggest value in the array\n",
        "max_value = y.max()\n",
        "max_value"
      ],
      "metadata": {
        "id": "kY22AdXluWFI",
        "outputId": "d0511625-7366-4e60-ef93-c89c4d85ebd2",
        "colab": {
          "base_uri": "https://localhost:8080/"
        }
      },
      "execution_count": 34,
      "outputs": [
        {
          "output_type": "execute_result",
          "data": {
            "text/plain": [
              "10"
            ]
          },
          "metadata": {},
          "execution_count": 34
        }
      ]
    },
    {
      "cell_type": "code",
      "source": [
        "# Obtain the smallest value in the array\n",
        "min_value = y.min()\n",
        "min_value"
      ],
      "metadata": {
        "id": "-rVxjwARudQY",
        "outputId": "76ab1d5f-e0e6-45aa-ac74-c7bf1ef23edb",
        "colab": {
          "base_uri": "https://localhost:8080/"
        }
      },
      "execution_count": 35,
      "outputs": [
        {
          "output_type": "execute_result",
          "data": {
            "text/plain": [
              "1"
            ]
          },
          "metadata": {},
          "execution_count": 35
        }
      ]
    },
    {
      "cell_type": "code",
      "source": [
        "# Get the sum of maximum and minimun value of the array 'z'\n",
        "z = np.array([10, 20, 30, 40, 50, 60, 70, 80, 90, 100])\n",
        "\n",
        "# Max value\n",
        "value_max = z.max()\n",
        "\n",
        "# Min value\n",
        "value_min = z.min()\n",
        "\n",
        "# Sum\n",
        "total_sum = value_max + value_min\n",
        "print(total_sum)"
      ],
      "metadata": {
        "id": "aukIH8Rnuiwg",
        "outputId": "57986dcf-416e-4a56-be8f-a8049832ba61",
        "colab": {
          "base_uri": "https://localhost:8080/"
        }
      },
      "execution_count": 36,
      "outputs": [
        {
          "output_type": "stream",
          "name": "stdout",
          "text": [
            "110\n"
          ]
        }
      ]
    },
    {
      "cell_type": "code",
      "source": [],
      "metadata": {
        "id": "qT95ROUDvb3z"
      },
      "execution_count": null,
      "outputs": []
    }
  ]
}