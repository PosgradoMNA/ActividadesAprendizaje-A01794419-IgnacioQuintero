{
  "nbformat": 4,
  "nbformat_minor": 0,
  "metadata": {
    "colab": {
      "provenance": [],
      "authorship_tag": "ABX9TyMs495SPjsO2p29k110iuAu",
      "include_colab_link": true
    },
    "kernelspec": {
      "name": "python3",
      "display_name": "Python 3"
    },
    "language_info": {
      "name": "python"
    }
  },
  "cells": [
    {
      "cell_type": "markdown",
      "metadata": {
        "id": "view-in-github",
        "colab_type": "text"
      },
      "source": [
        "<a href=\"https://colab.research.google.com/github/PosgradoMNA/ActividadesAprendizaje-A01794419-IgnacioQuintero/blob/main/Module%205%20-%20Python_DataScience_IBM.ipynb\" target=\"_parent\"><img src=\"https://colab.research.google.com/assets/colab-badge.svg\" alt=\"Open In Colab\"/></a>"
      ]
    },
    {
      "cell_type": "markdown",
      "source": [
        "# Python for Data Science - IBM Course\n",
        "\n",
        "### Ignacio Antonio Quintero Chávez - A01794419 / Module 5"
      ],
      "metadata": {
        "id": "hNwvM29GejYk"
      }
    },
    {
      "cell_type": "markdown",
      "source": [
        "### Numpy 1D Arrays"
      ],
      "metadata": {
        "id": "Dw9QGWJQeqrA"
      }
    },
    {
      "cell_type": "code",
      "source": [
        "import numpy as np"
      ],
      "metadata": {
        "id": "JGrBQbIvevJT"
      },
      "execution_count": 1,
      "outputs": []
    },
    {
      "cell_type": "code",
      "source": [
        "x = np.array([0, 1, 2, 3, 4])"
      ],
      "metadata": {
        "id": "9KR72lAlfOMm"
      },
      "execution_count": 2,
      "outputs": []
    },
    {
      "cell_type": "code",
      "source": [
        "# Checking the type\n",
        "type(x)"
      ],
      "metadata": {
        "id": "o6lm4-L1faz1",
        "outputId": "ae4fec6d-a926-4411-e83c-8b9d3f816299",
        "colab": {
          "base_uri": "https://localhost:8080/"
        }
      },
      "execution_count": 3,
      "outputs": [
        {
          "output_type": "execute_result",
          "data": {
            "text/plain": [
              "numpy.ndarray"
            ]
          },
          "metadata": {},
          "execution_count": 3
        }
      ]
    },
    {
      "cell_type": "code",
      "source": [
        "# Checking the number of elements in the array\n",
        "print(x.size)"
      ],
      "metadata": {
        "id": "ep60_I_yfeH9",
        "outputId": "200300ad-6e3e-46d4-c309-30f3269ec773",
        "colab": {
          "base_uri": "https://localhost:8080/"
        }
      },
      "execution_count": 7,
      "outputs": [
        {
          "output_type": "stream",
          "name": "stdout",
          "text": [
            "5\n"
          ]
        }
      ]
    },
    {
      "cell_type": "code",
      "source": [
        "# Checking the type of values stored in the array\n",
        "x.dtype"
      ],
      "metadata": {
        "id": "IuIvOUBCkDJD",
        "outputId": "3306b5c2-b7ea-403e-b3e1-a0c8431d8c74",
        "colab": {
          "base_uri": "https://localhost:8080/"
        }
      },
      "execution_count": 18,
      "outputs": [
        {
          "output_type": "execute_result",
          "data": {
            "text/plain": [
              "dtype('int64')"
            ]
          },
          "metadata": {},
          "execution_count": 18
        }
      ]
    },
    {
      "cell_type": "code",
      "source": [
        "# Accesing each element via a square bracket\n",
        "print(\"x[0]:\", x[0])\n",
        "print(\"x[1]:\", x[1])\n",
        "print(\"x[2]:\", x[2])\n",
        "print(\"x[3]:\", x[3])\n",
        "print(\"x[4]:\", x[4])"
      ],
      "metadata": {
        "id": "Z-WbTH1Kfz8d",
        "outputId": "1a358f76-d1bc-451e-bfb3-3b382191c8ad",
        "colab": {
          "base_uri": "https://localhost:8080/"
        }
      },
      "execution_count": 14,
      "outputs": [
        {
          "output_type": "stream",
          "name": "stdout",
          "text": [
            "x[0]: 0\n",
            "x[1]: 1\n",
            "x[2]: 2\n",
            "x[3]: 3\n",
            "x[4]: 4\n"
          ]
        }
      ]
    },
    {
      "cell_type": "markdown",
      "source": [
        "### Indexing and Slicing"
      ],
      "metadata": {
        "id": "3zryH79ujYcy"
      }
    },
    {
      "cell_type": "code",
      "source": [
        "my_array = ([1, 2, 3, 4, 5, 6, 7])\n",
        "my_array"
      ],
      "metadata": {
        "id": "ZgB8b17LhKR8",
        "outputId": "5e4952d3-7cbe-46ef-e36a-f5610468828e",
        "colab": {
          "base_uri": "https://localhost:8080/"
        }
      },
      "execution_count": 15,
      "outputs": [
        {
          "output_type": "execute_result",
          "data": {
            "text/plain": [
              "[1, 2, 3, 4, 5, 6, 7]"
            ]
          },
          "metadata": {},
          "execution_count": 15
        }
      ]
    },
    {
      "cell_type": "code",
      "source": [
        "# Assign a new value\n",
        "my_array[0] = 10\n",
        "my_array"
      ],
      "metadata": {
        "id": "6P-DLg5Yh_kk",
        "outputId": "43477722-0f65-431e-f570-530d691a67c7",
        "colab": {
          "base_uri": "https://localhost:8080/"
        }
      },
      "execution_count": 16,
      "outputs": [
        {
          "output_type": "execute_result",
          "data": {
            "text/plain": [
              "[10, 2, 3, 4, 5, 6, 7]"
            ]
          },
          "metadata": {},
          "execution_count": 16
        }
      ]
    },
    {
      "cell_type": "code",
      "source": [
        "my_array[0]"
      ],
      "metadata": {
        "id": "2mFow4U6gfTT",
        "outputId": "89b686e5-23c2-4ea3-b47d-69b45df4dbaf",
        "colab": {
          "base_uri": "https://localhost:8080/"
        }
      },
      "execution_count": 17,
      "outputs": [
        {
          "output_type": "execute_result",
          "data": {
            "text/plain": [
              "10"
            ]
          },
          "metadata": {},
          "execution_count": 17
        }
      ]
    },
    {
      "cell_type": "code",
      "source": [
        "# Selecting elements from the array\n",
        "my_array[0:5]"
      ],
      "metadata": {
        "id": "C_prfJl1j9jw",
        "outputId": "74115c07-6f9f-4a0c-bd0d-4c9da0e907fe",
        "colab": {
          "base_uri": "https://localhost:8080/"
        }
      },
      "execution_count": 20,
      "outputs": [
        {
          "output_type": "execute_result",
          "data": {
            "text/plain": [
              "[10, 2, 3, 4, 5]"
            ]
          },
          "metadata": {},
          "execution_count": 20
        }
      ]
    },
    {
      "cell_type": "code",
      "source": [
        "# Assigning the selected elements to a new numpy array\n",
        "new_array = my_array[0:5]\n",
        "new_array"
      ],
      "metadata": {
        "id": "nSCVs9uLkZpc",
        "outputId": "973f2b05-0a32-4002-ca22-c1742c24cc14",
        "colab": {
          "base_uri": "https://localhost:8080/"
        }
      },
      "execution_count": 21,
      "outputs": [
        {
          "output_type": "execute_result",
          "data": {
            "text/plain": [
              "[10, 2, 3, 4, 5]"
            ]
          },
          "metadata": {},
          "execution_count": 21
        }
      ]
    }
  ]
}