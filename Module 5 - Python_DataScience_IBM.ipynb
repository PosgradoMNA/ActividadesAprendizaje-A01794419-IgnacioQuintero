{
  "nbformat": 4,
  "nbformat_minor": 0,
  "metadata": {
    "colab": {
      "provenance": [],
      "authorship_tag": "ABX9TyNr5+fbWQoFnFmvgjbSasBq",
      "include_colab_link": true
    },
    "kernelspec": {
      "name": "python3",
      "display_name": "Python 3"
    },
    "language_info": {
      "name": "python"
    }
  },
  "cells": [
    {
      "cell_type": "markdown",
      "metadata": {
        "id": "view-in-github",
        "colab_type": "text"
      },
      "source": [
        "<a href=\"https://colab.research.google.com/github/PosgradoMNA/ActividadesAprendizaje-A01794419-IgnacioQuintero/blob/main/Module%205%20-%20Python_DataScience_IBM.ipynb\" target=\"_parent\"><img src=\"https://colab.research.google.com/assets/colab-badge.svg\" alt=\"Open In Colab\"/></a>"
      ]
    },
    {
      "cell_type": "markdown",
      "source": [
        "# Python for Data Science - IBM Course\n",
        "\n",
        "### Ignacio Antonio Quintero Chávez - A01794419 / Module 5"
      ],
      "metadata": {
        "id": "hNwvM29GejYk"
      }
    },
    {
      "cell_type": "markdown",
      "source": [
        "### Numpy 1D Arrays"
      ],
      "metadata": {
        "id": "Dw9QGWJQeqrA"
      }
    },
    {
      "cell_type": "code",
      "source": [
        "import numpy as np"
      ],
      "metadata": {
        "id": "JGrBQbIvevJT"
      },
      "execution_count": 2,
      "outputs": []
    },
    {
      "cell_type": "code",
      "source": [
        "x = np.array([0, 1, 2, 3, 4])"
      ],
      "metadata": {
        "id": "9KR72lAlfOMm"
      },
      "execution_count": null,
      "outputs": []
    },
    {
      "cell_type": "code",
      "source": [
        "# Checking the type\n",
        "type(x)"
      ],
      "metadata": {
        "colab": {
          "base_uri": "https://localhost:8080/"
        },
        "id": "o6lm4-L1faz1",
        "outputId": "ae4fec6d-a926-4411-e83c-8b9d3f816299"
      },
      "execution_count": null,
      "outputs": [
        {
          "output_type": "execute_result",
          "data": {
            "text/plain": [
              "numpy.ndarray"
            ]
          },
          "metadata": {},
          "execution_count": 3
        }
      ]
    },
    {
      "cell_type": "code",
      "source": [
        "# Checking the number of elements in the array\n",
        "print(x.size)"
      ],
      "metadata": {
        "colab": {
          "base_uri": "https://localhost:8080/"
        },
        "id": "ep60_I_yfeH9",
        "outputId": "200300ad-6e3e-46d4-c309-30f3269ec773"
      },
      "execution_count": null,
      "outputs": [
        {
          "output_type": "stream",
          "name": "stdout",
          "text": [
            "5\n"
          ]
        }
      ]
    },
    {
      "cell_type": "code",
      "source": [
        "# Checking the type of values stored in the array\n",
        "x.dtype"
      ],
      "metadata": {
        "colab": {
          "base_uri": "https://localhost:8080/"
        },
        "id": "IuIvOUBCkDJD",
        "outputId": "3306b5c2-b7ea-403e-b3e1-a0c8431d8c74"
      },
      "execution_count": null,
      "outputs": [
        {
          "output_type": "execute_result",
          "data": {
            "text/plain": [
              "dtype('int64')"
            ]
          },
          "metadata": {},
          "execution_count": 18
        }
      ]
    },
    {
      "cell_type": "code",
      "source": [
        "# Accesing each element via a square bracket\n",
        "print(\"x[0]:\", x[0])\n",
        "print(\"x[1]:\", x[1])\n",
        "print(\"x[2]:\", x[2])\n",
        "print(\"x[3]:\", x[3])\n",
        "print(\"x[4]:\", x[4])"
      ],
      "metadata": {
        "colab": {
          "base_uri": "https://localhost:8080/"
        },
        "id": "Z-WbTH1Kfz8d",
        "outputId": "1a358f76-d1bc-451e-bfb3-3b382191c8ad"
      },
      "execution_count": null,
      "outputs": [
        {
          "output_type": "stream",
          "name": "stdout",
          "text": [
            "x[0]: 0\n",
            "x[1]: 1\n",
            "x[2]: 2\n",
            "x[3]: 3\n",
            "x[4]: 4\n"
          ]
        }
      ]
    },
    {
      "cell_type": "markdown",
      "source": [
        "### Indexing and Slicing"
      ],
      "metadata": {
        "id": "3zryH79ujYcy"
      }
    },
    {
      "cell_type": "code",
      "source": [
        "my_array = ([1, 2, 3, 4, 5, 6, 7])\n",
        "my_array"
      ],
      "metadata": {
        "colab": {
          "base_uri": "https://localhost:8080/"
        },
        "id": "ZgB8b17LhKR8",
        "outputId": "5e4952d3-7cbe-46ef-e36a-f5610468828e"
      },
      "execution_count": null,
      "outputs": [
        {
          "output_type": "execute_result",
          "data": {
            "text/plain": [
              "[1, 2, 3, 4, 5, 6, 7]"
            ]
          },
          "metadata": {},
          "execution_count": 15
        }
      ]
    },
    {
      "cell_type": "code",
      "source": [
        "# Assign a new value\n",
        "my_array[0] = 10\n",
        "my_array"
      ],
      "metadata": {
        "colab": {
          "base_uri": "https://localhost:8080/"
        },
        "id": "6P-DLg5Yh_kk",
        "outputId": "43477722-0f65-431e-f570-530d691a67c7"
      },
      "execution_count": null,
      "outputs": [
        {
          "output_type": "execute_result",
          "data": {
            "text/plain": [
              "[10, 2, 3, 4, 5, 6, 7]"
            ]
          },
          "metadata": {},
          "execution_count": 16
        }
      ]
    },
    {
      "cell_type": "code",
      "source": [
        "my_array[0]"
      ],
      "metadata": {
        "colab": {
          "base_uri": "https://localhost:8080/"
        },
        "id": "2mFow4U6gfTT",
        "outputId": "89b686e5-23c2-4ea3-b47d-69b45df4dbaf"
      },
      "execution_count": null,
      "outputs": [
        {
          "output_type": "execute_result",
          "data": {
            "text/plain": [
              "10"
            ]
          },
          "metadata": {},
          "execution_count": 17
        }
      ]
    },
    {
      "cell_type": "code",
      "source": [
        "# Selecting elements from the array\n",
        "my_array[0:5]"
      ],
      "metadata": {
        "colab": {
          "base_uri": "https://localhost:8080/"
        },
        "id": "C_prfJl1j9jw",
        "outputId": "74115c07-6f9f-4a0c-bd0d-4c9da0e907fe"
      },
      "execution_count": null,
      "outputs": [
        {
          "output_type": "execute_result",
          "data": {
            "text/plain": [
              "[10, 2, 3, 4, 5]"
            ]
          },
          "metadata": {},
          "execution_count": 20
        }
      ]
    },
    {
      "cell_type": "code",
      "source": [
        "# Assigning the selected elements to a new numpy array\n",
        "new_array = my_array[0:5]\n",
        "new_array"
      ],
      "metadata": {
        "colab": {
          "base_uri": "https://localhost:8080/"
        },
        "id": "nSCVs9uLkZpc",
        "outputId": "973f2b05-0a32-4002-ca22-c1742c24cc14"
      },
      "execution_count": null,
      "outputs": [
        {
          "output_type": "execute_result",
          "data": {
            "text/plain": [
              "[10, 2, 3, 4, 5]"
            ]
          },
          "metadata": {},
          "execution_count": 21
        }
      ]
    },
    {
      "cell_type": "code",
      "source": [
        "# We can also define the steps in slicing : [start:end:step]\n",
        "print(my_array[0:7:2])"
      ],
      "metadata": {
        "colab": {
          "base_uri": "https://localhost:8080/"
        },
        "id": "-rlIw20rlcAZ",
        "outputId": "10c984aa-ee01-4872-f147-9d745d55b18e"
      },
      "execution_count": null,
      "outputs": [
        {
          "output_type": "stream",
          "name": "stdout",
          "text": [
            "[10, 3, 5, 7]\n"
          ]
        }
      ]
    },
    {
      "cell_type": "code",
      "source": [
        "# Printing the array in reverse order is also possible\n",
        "print(my_array[::-1])"
      ],
      "metadata": {
        "colab": {
          "base_uri": "https://localhost:8080/"
        },
        "id": "gyF2Q4limeYl",
        "outputId": "b8c80f08-608f-4ea9-ce46-559621020a6e"
      },
      "execution_count": null,
      "outputs": [
        {
          "output_type": "stream",
          "name": "stdout",
          "text": [
            "[7, 6, 5, 4, 3, 2, 10]\n"
          ]
        }
      ]
    },
    {
      "cell_type": "code",
      "source": [
        "# Printing the even numbers\n",
        "array_example = ([1, 2, 3, 4, 5, 6, 7, 8])\n",
        "print(array_example[1::2])"
      ],
      "metadata": {
        "colab": {
          "base_uri": "https://localhost:8080/"
        },
        "id": "iyD8KcJOmuwE",
        "outputId": "eb638380-6e0d-43a7-9619-259175c4f3b8"
      },
      "execution_count": null,
      "outputs": [
        {
          "output_type": "stream",
          "name": "stdout",
          "text": [
            "[2, 4, 6, 8]\n"
          ]
        }
      ]
    },
    {
      "cell_type": "markdown",
      "source": [
        "### Numpy Statistical Functions"
      ],
      "metadata": {
        "id": "jt2epvNvtx3u"
      }
    },
    {
      "cell_type": "code",
      "source": [
        "x = np.array([1, -1, 1, -1])"
      ],
      "metadata": {
        "id": "NJL8ax4kt1AQ"
      },
      "execution_count": null,
      "outputs": []
    },
    {
      "cell_type": "code",
      "source": [
        "# Obtain the mean of the array\n",
        "mean = x.mean()\n",
        "mean"
      ],
      "metadata": {
        "colab": {
          "base_uri": "https://localhost:8080/"
        },
        "id": "hsrBhxRwuAn0",
        "outputId": "14c066fe-9361-4252-d896-f2478741954b"
      },
      "execution_count": null,
      "outputs": [
        {
          "output_type": "execute_result",
          "data": {
            "text/plain": [
              "0.0"
            ]
          },
          "metadata": {},
          "execution_count": 29
        }
      ]
    },
    {
      "cell_type": "code",
      "source": [
        "# Obtain the standard deviation of the array\n",
        "std_deviation = x.std()\n",
        "std_deviation"
      ],
      "metadata": {
        "colab": {
          "base_uri": "https://localhost:8080/"
        },
        "id": "fxfuVhfYuFX6",
        "outputId": "fa7d6d7e-a878-4003-cc4d-836995da9356"
      },
      "execution_count": null,
      "outputs": [
        {
          "output_type": "execute_result",
          "data": {
            "text/plain": [
              "1.0"
            ]
          },
          "metadata": {},
          "execution_count": 30
        }
      ]
    },
    {
      "cell_type": "code",
      "source": [
        "y = np.array([1, 2, 3, 4, 5, 6, 7, 8, 9, 10])"
      ],
      "metadata": {
        "id": "uWo0PUgLuOgb"
      },
      "execution_count": null,
      "outputs": []
    },
    {
      "cell_type": "code",
      "source": [
        "# Obtain the biggest value in the array\n",
        "max_value = y.max()\n",
        "max_value"
      ],
      "metadata": {
        "colab": {
          "base_uri": "https://localhost:8080/"
        },
        "id": "kY22AdXluWFI",
        "outputId": "d0511625-7366-4e60-ef93-c89c4d85ebd2"
      },
      "execution_count": null,
      "outputs": [
        {
          "output_type": "execute_result",
          "data": {
            "text/plain": [
              "10"
            ]
          },
          "metadata": {},
          "execution_count": 34
        }
      ]
    },
    {
      "cell_type": "code",
      "source": [
        "# Obtain the smallest value in the array\n",
        "min_value = y.min()\n",
        "min_value"
      ],
      "metadata": {
        "colab": {
          "base_uri": "https://localhost:8080/"
        },
        "id": "-rVxjwARudQY",
        "outputId": "76ab1d5f-e0e6-45aa-ac74-c7bf1ef23edb"
      },
      "execution_count": null,
      "outputs": [
        {
          "output_type": "execute_result",
          "data": {
            "text/plain": [
              "1"
            ]
          },
          "metadata": {},
          "execution_count": 35
        }
      ]
    },
    {
      "cell_type": "code",
      "source": [
        "# Get the sum of maximum and minimun value of the array 'z'\n",
        "z = np.array([10, 20, 30, 40, 50, 60, 70, 80, 90, 100])\n",
        "\n",
        "# Max value\n",
        "value_max = z.max()\n",
        "\n",
        "# Min value\n",
        "value_min = z.min()\n",
        "\n",
        "# Sum\n",
        "total_sum = value_max + value_min\n",
        "print(total_sum)"
      ],
      "metadata": {
        "colab": {
          "base_uri": "https://localhost:8080/"
        },
        "id": "aukIH8Rnuiwg",
        "outputId": "57986dcf-416e-4a56-be8f-a8049832ba61"
      },
      "execution_count": null,
      "outputs": [
        {
          "output_type": "stream",
          "name": "stdout",
          "text": [
            "110\n"
          ]
        }
      ]
    },
    {
      "cell_type": "markdown",
      "source": [
        "### Numpy Array Operations"
      ],
      "metadata": {
        "id": "tpXrqLaWxGPT"
      }
    },
    {
      "cell_type": "code",
      "source": [
        "myFirstArray = np.array([1, 2])\n",
        "myFirstArray"
      ],
      "metadata": {
        "id": "YNgUwJolxKBQ",
        "outputId": "9e982e4a-cca8-4fc2-9130-0b602817fd91",
        "colab": {
          "base_uri": "https://localhost:8080/"
        }
      },
      "execution_count": null,
      "outputs": [
        {
          "output_type": "execute_result",
          "data": {
            "text/plain": [
              "array([1, 2])"
            ]
          },
          "metadata": {},
          "execution_count": 42
        }
      ]
    },
    {
      "cell_type": "code",
      "source": [
        "mySecondArray = np.array([1, 2])\n",
        "mySecondArray"
      ],
      "metadata": {
        "id": "5meSS3W-xrBC",
        "outputId": "ed41dde5-5d70-4a77-dbf4-70242214ea1c",
        "colab": {
          "base_uri": "https://localhost:8080/"
        }
      },
      "execution_count": null,
      "outputs": [
        {
          "output_type": "execute_result",
          "data": {
            "text/plain": [
              "array([1, 2])"
            ]
          },
          "metadata": {},
          "execution_count": 43
        }
      ]
    },
    {
      "cell_type": "code",
      "source": [
        "# Addition\n",
        "result = np.add(myFirstArray, mySecondArray)\n",
        "result"
      ],
      "metadata": {
        "id": "L5mpYeSyxreC",
        "outputId": "6dca879e-a6a3-46f2-a9c1-d15fa01d3128",
        "colab": {
          "base_uri": "https://localhost:8080/"
        }
      },
      "execution_count": null,
      "outputs": [
        {
          "output_type": "execute_result",
          "data": {
            "text/plain": [
              "array([2, 4])"
            ]
          },
          "metadata": {},
          "execution_count": 44
        }
      ]
    },
    {
      "cell_type": "code",
      "source": [
        "x = np.array([10, 20, 30])\n",
        "x"
      ],
      "metadata": {
        "id": "BVQE0vwxxjLE",
        "outputId": "abb20805-1a57-43a5-d67a-66528554afd3",
        "colab": {
          "base_uri": "https://localhost:8080/"
        }
      },
      "execution_count": null,
      "outputs": [
        {
          "output_type": "execute_result",
          "data": {
            "text/plain": [
              "array([10, 20, 30])"
            ]
          },
          "metadata": {},
          "execution_count": 45
        }
      ]
    },
    {
      "cell_type": "code",
      "source": [
        "y = np.array([5, 10, 15])\n",
        "y"
      ],
      "metadata": {
        "id": "oFhAgITXyOXL",
        "outputId": "aa5b14ea-6a33-4bc9-89d6-e5ea249c0555",
        "colab": {
          "base_uri": "https://localhost:8080/"
        }
      },
      "execution_count": null,
      "outputs": [
        {
          "output_type": "execute_result",
          "data": {
            "text/plain": [
              "array([ 5, 10, 15])"
            ]
          },
          "metadata": {},
          "execution_count": 46
        }
      ]
    },
    {
      "cell_type": "code",
      "source": [
        "# Subtraction\n",
        "z = np.subtract(x, y)\n",
        "z"
      ],
      "metadata": {
        "id": "nlFbES8XySLD",
        "outputId": "4d48d7c1-9cde-44d0-d05c-deea3c8d2d6b",
        "colab": {
          "base_uri": "https://localhost:8080/"
        }
      },
      "execution_count": null,
      "outputs": [
        {
          "output_type": "execute_result",
          "data": {
            "text/plain": [
              "array([ 5, 10, 15])"
            ]
          },
          "metadata": {},
          "execution_count": 48
        }
      ]
    },
    {
      "cell_type": "code",
      "source": [
        "a = np.array([10, 10])\n",
        "a"
      ],
      "metadata": {
        "id": "q716p3tMyWYK",
        "outputId": "b3402522-dd1b-4cf6-c346-e1d73885d12a",
        "colab": {
          "base_uri": "https://localhost:8080/"
        }
      },
      "execution_count": null,
      "outputs": [
        {
          "output_type": "execute_result",
          "data": {
            "text/plain": [
              "array([10, 10])"
            ]
          },
          "metadata": {},
          "execution_count": 49
        }
      ]
    },
    {
      "cell_type": "code",
      "source": [
        "b = np.array([50, 40])\n",
        "b"
      ],
      "metadata": {
        "id": "qneb0yCMyuY6",
        "outputId": "6169faa2-4b1b-4d4a-8012-35e27c4c43f3",
        "colab": {
          "base_uri": "https://localhost:8080/"
        }
      },
      "execution_count": null,
      "outputs": [
        {
          "output_type": "execute_result",
          "data": {
            "text/plain": [
              "array([50, 40])"
            ]
          },
          "metadata": {},
          "execution_count": 50
        }
      ]
    },
    {
      "cell_type": "code",
      "source": [
        "# Multiplication\n",
        "c = np.multiply(a, b)\n",
        "c"
      ],
      "metadata": {
        "id": "XOaGsqxlyx8c",
        "outputId": "c6403b4f-031f-47af-9868-3651dda0ced4",
        "colab": {
          "base_uri": "https://localhost:8080/"
        }
      },
      "execution_count": null,
      "outputs": [
        {
          "output_type": "execute_result",
          "data": {
            "text/plain": [
              "array([500, 400])"
            ]
          },
          "metadata": {},
          "execution_count": 51
        }
      ]
    },
    {
      "cell_type": "code",
      "source": [
        "first_array = np.array([10, 20, 30])\n",
        "first_array"
      ],
      "metadata": {
        "id": "fs5S2HTgxgp8",
        "outputId": "e9c15361-14e5-4eb1-9f76-7c1a7ad145b8",
        "colab": {
          "base_uri": "https://localhost:8080/"
        }
      },
      "execution_count": null,
      "outputs": [
        {
          "output_type": "execute_result",
          "data": {
            "text/plain": [
              "array([10, 20, 30])"
            ]
          },
          "metadata": {},
          "execution_count": 53
        }
      ]
    },
    {
      "cell_type": "code",
      "source": [
        "second_array = np.array([2, 2, 2])\n",
        "second_array"
      ],
      "metadata": {
        "id": "GOxiMH76zW0l",
        "outputId": "c034ebc3-73c0-427f-d25c-abab92eac44c",
        "colab": {
          "base_uri": "https://localhost:8080/"
        }
      },
      "execution_count": null,
      "outputs": [
        {
          "output_type": "execute_result",
          "data": {
            "text/plain": [
              "array([2, 2, 2])"
            ]
          },
          "metadata": {},
          "execution_count": 55
        }
      ]
    },
    {
      "cell_type": "code",
      "source": [
        "# Division\n",
        "result = (np.divide(first_array, second_array))\n",
        "result"
      ],
      "metadata": {
        "id": "Il0LmqFtzbdC",
        "outputId": "2aaa7efa-0142-4e5b-e67f-963056e3b745",
        "colab": {
          "base_uri": "https://localhost:8080/"
        }
      },
      "execution_count": null,
      "outputs": [
        {
          "output_type": "execute_result",
          "data": {
            "text/plain": [
              "array([ 5., 10., 15.])"
            ]
          },
          "metadata": {},
          "execution_count": 58
        }
      ]
    },
    {
      "cell_type": "code",
      "source": [
        "X = np.array([1, 2])\n",
        "Y = np.array([5, 6])"
      ],
      "metadata": {
        "id": "9CTJh2XazMAy"
      },
      "execution_count": null,
      "outputs": []
    },
    {
      "cell_type": "code",
      "source": [
        "# Dot Product\n",
        "np.dot(X, Y)"
      ],
      "metadata": {
        "id": "kusLDbSb0Hqy",
        "outputId": "69aeb51c-c760-4dc8-a0c4-909854bf6e72",
        "colab": {
          "base_uri": "https://localhost:8080/"
        }
      },
      "execution_count": null,
      "outputs": [
        {
          "output_type": "execute_result",
          "data": {
            "text/plain": [
              "17"
            ]
          },
          "metadata": {},
          "execution_count": 60
        }
      ]
    },
    {
      "cell_type": "code",
      "source": [
        "example_1 = np.array([1,2,3,4])"
      ],
      "metadata": {
        "id": "Yi1Dcvur0K4a"
      },
      "execution_count": null,
      "outputs": []
    },
    {
      "cell_type": "code",
      "source": [
        "# Adding a constant\n",
        "result = example_1 + 2\n",
        "result"
      ],
      "metadata": {
        "id": "B5lrCSAc12S1",
        "outputId": "78bffc95-d909-4e91-dcc5-7e204a251e95",
        "colab": {
          "base_uri": "https://localhost:8080/"
        }
      },
      "execution_count": null,
      "outputs": [
        {
          "output_type": "execute_result",
          "data": {
            "text/plain": [
              "array([3, 4, 5, 6])"
            ]
          },
          "metadata": {},
          "execution_count": 62
        }
      ]
    },
    {
      "cell_type": "markdown",
      "source": [
        "### Mathematical Functions"
      ],
      "metadata": {
        "id": "Q1fvXkTM2Ayk"
      }
    },
    {
      "cell_type": "code",
      "source": [
        "# Accesing the value of pi using Numpy\n",
        "np.pi"
      ],
      "metadata": {
        "id": "pdjWpPYW2DOZ",
        "outputId": "2fe21c29-905c-4bf8-8840-40e2be678b3f",
        "colab": {
          "base_uri": "https://localhost:8080/"
        }
      },
      "execution_count": null,
      "outputs": [
        {
          "output_type": "execute_result",
          "data": {
            "text/plain": [
              "3.141592653589793"
            ]
          },
          "metadata": {},
          "execution_count": 63
        }
      ]
    },
    {
      "cell_type": "code",
      "source": [
        "# Create the numpy array in radians\n",
        "x = np.array([1, np.pi/2, np.pi])\n",
        "x"
      ],
      "metadata": {
        "id": "sKIW20NC2GUY",
        "outputId": "d4c9b585-1178-4cc1-929d-3e71a050a2ab",
        "colab": {
          "base_uri": "https://localhost:8080/"
        }
      },
      "execution_count": null,
      "outputs": [
        {
          "output_type": "execute_result",
          "data": {
            "text/plain": [
              "array([1.        , 1.57079633, 3.14159265])"
            ]
          },
          "metadata": {},
          "execution_count": 65
        }
      ]
    },
    {
      "cell_type": "code",
      "source": [
        "# Applying the function 'sin'\n",
        "z = np.sin(x)\n",
        "z"
      ],
      "metadata": {
        "id": "Sog4wE7U2S4C",
        "outputId": "9b79cef1-75cd-4c95-81ff-d755aabe19b4",
        "colab": {
          "base_uri": "https://localhost:8080/"
        }
      },
      "execution_count": null,
      "outputs": [
        {
          "output_type": "execute_result",
          "data": {
            "text/plain": [
              "array([8.41470985e-01, 1.00000000e+00, 1.22464680e-16])"
            ]
          },
          "metadata": {},
          "execution_count": 66
        }
      ]
    },
    {
      "cell_type": "markdown",
      "source": [
        "### Iterating"
      ],
      "metadata": {
        "id": "YDBV8J3z2szG"
      }
    },
    {
      "cell_type": "code",
      "source": [
        "my_array = np.array([1, 2, 3])\n",
        "my_array"
      ],
      "metadata": {
        "id": "OHaQed5n2u2F",
        "outputId": "fcc7d829-3ec7-4bb4-d6bb-b06815db7aa4",
        "colab": {
          "base_uri": "https://localhost:8080/"
        }
      },
      "execution_count": null,
      "outputs": [
        {
          "output_type": "execute_result",
          "data": {
            "text/plain": [
              "array([1, 2, 3])"
            ]
          },
          "metadata": {},
          "execution_count": 68
        }
      ]
    },
    {
      "cell_type": "code",
      "source": [
        "for x in my_array:\n",
        "  print(x)"
      ],
      "metadata": {
        "id": "cwiRGffm22Uy",
        "outputId": "0c1528e7-8c87-460e-ad09-23586bb4ae5e",
        "colab": {
          "base_uri": "https://localhost:8080/"
        }
      },
      "execution_count": null,
      "outputs": [
        {
          "output_type": "stream",
          "name": "stdout",
          "text": [
            "1\n",
            "2\n",
            "3\n"
          ]
        }
      ]
    },
    {
      "cell_type": "markdown",
      "source": [
        "### Numpy 2D Arrays"
      ],
      "metadata": {
        "id": "9UCzhjXFkrDw"
      }
    },
    {
      "cell_type": "code",
      "source": [
        "import numpy as np\n",
        "import matplotlib.pyplot as plt"
      ],
      "metadata": {
        "id": "4bvgYeBKk2Dz"
      },
      "execution_count": 4,
      "outputs": []
    },
    {
      "cell_type": "code",
      "source": [
        "# Creating a list\n",
        "x = [[1, 2, 3], [20, 30, 40], [100, 200, 300]]\n",
        "x"
      ],
      "metadata": {
        "id": "rjmRaTSZnTfW",
        "outputId": "855589b6-b257-42df-f812-8da93dd70257",
        "colab": {
          "base_uri": "https://localhost:8080/"
        }
      },
      "execution_count": 5,
      "outputs": [
        {
          "output_type": "execute_result",
          "data": {
            "text/plain": [
              "[[1, 2, 3], [20, 30, 40], [100, 200, 300]]"
            ]
          },
          "metadata": {},
          "execution_count": 5
        }
      ]
    },
    {
      "cell_type": "code",
      "source": [
        "# Cast the list to a Numpy Array\n",
        "\n",
        "my_array = np.array(x)\n",
        "my_array"
      ],
      "metadata": {
        "id": "q7GQWTEankBV",
        "outputId": "9a264113-c27d-4807-c065-33e22d336b4a",
        "colab": {
          "base_uri": "https://localhost:8080/"
        }
      },
      "execution_count": 7,
      "outputs": [
        {
          "output_type": "execute_result",
          "data": {
            "text/plain": [
              "array([[  1,   2,   3],\n",
              "       [ 20,  30,  40],\n",
              "       [100, 200, 300]])"
            ]
          },
          "metadata": {},
          "execution_count": 7
        }
      ]
    },
    {
      "cell_type": "code",
      "source": [
        "# Showing the numpy array dimensions\n",
        "my_array.ndim"
      ],
      "metadata": {
        "id": "kPhpfkdJnvUu",
        "outputId": "a4946457-859f-429a-edc6-13c5d2e2d0a6",
        "colab": {
          "base_uri": "https://localhost:8080/"
        }
      },
      "execution_count": 8,
      "outputs": [
        {
          "output_type": "execute_result",
          "data": {
            "text/plain": [
              "2"
            ]
          },
          "metadata": {},
          "execution_count": 8
        }
      ]
    },
    {
      "cell_type": "code",
      "source": [
        "# Showing the numpy array shape\n",
        "my_array.shape"
      ],
      "metadata": {
        "id": "hAiN1rrkoDFS",
        "outputId": "3b5f2f06-27f8-40ca-c78f-863dd7906319",
        "colab": {
          "base_uri": "https://localhost:8080/"
        }
      },
      "execution_count": 9,
      "outputs": [
        {
          "output_type": "execute_result",
          "data": {
            "text/plain": [
              "(3, 3)"
            ]
          },
          "metadata": {},
          "execution_count": 9
        }
      ]
    },
    {
      "cell_type": "code",
      "source": [
        "# Showing the numpy array size\n",
        "my_array.size"
      ],
      "metadata": {
        "id": "43m32QRmoW5f",
        "outputId": "bed2ed17-3b1a-41a4-dea1-0e2c40be4c7d",
        "colab": {
          "base_uri": "https://localhost:8080/"
        }
      },
      "execution_count": 10,
      "outputs": [
        {
          "output_type": "execute_result",
          "data": {
            "text/plain": [
              "9"
            ]
          },
          "metadata": {},
          "execution_count": 10
        }
      ]
    },
    {
      "cell_type": "markdown",
      "source": [
        "### Accessing different elements of a Numpy Array"
      ],
      "metadata": {
        "id": "pTxPEj9co0vT"
      }
    },
    {
      "cell_type": "code",
      "source": [
        "my_array"
      ],
      "metadata": {
        "id": "yR28vhwtqLX5",
        "outputId": "a14d389c-9243-49d1-e2c5-0e8fdb01acc7",
        "colab": {
          "base_uri": "https://localhost:8080/"
        }
      },
      "execution_count": 14,
      "outputs": [
        {
          "output_type": "execute_result",
          "data": {
            "text/plain": [
              "array([[  1,   2,   3],\n",
              "       [ 20,  30,  40],\n",
              "       [100, 200, 300]])"
            ]
          },
          "metadata": {},
          "execution_count": 14
        }
      ]
    },
    {
      "cell_type": "code",
      "source": [
        "# Accessing the elements on the second row and third column\n",
        "my_array[1, 2]"
      ],
      "metadata": {
        "id": "fCghUYHvpsFM",
        "outputId": "1fab1e91-9759-4bed-9180-fef026774937",
        "colab": {
          "base_uri": "https://localhost:8080/"
        }
      },
      "execution_count": 12,
      "outputs": [
        {
          "output_type": "execute_result",
          "data": {
            "text/plain": [
              "40"
            ]
          },
          "metadata": {},
          "execution_count": 12
        }
      ]
    },
    {
      "cell_type": "code",
      "source": [
        "# Accesing the same element above using different notation\n",
        "my_array[1][2]"
      ],
      "metadata": {
        "id": "pst9Y-8xqHB6",
        "outputId": "d8460af7-7c31-49c0-9434-e737008df333",
        "colab": {
          "base_uri": "https://localhost:8080/"
        }
      },
      "execution_count": 15,
      "outputs": [
        {
          "output_type": "execute_result",
          "data": {
            "text/plain": [
              "40"
            ]
          },
          "metadata": {},
          "execution_count": 15
        }
      ]
    },
    {
      "cell_type": "code",
      "source": [
        "# Accesing the element on the first row and first column\n",
        "my_array[0, 0]"
      ],
      "metadata": {
        "id": "9verencoqYHR",
        "outputId": "fb6fb9e5-6b2e-459e-9074-63c10a115b3e",
        "colab": {
          "base_uri": "https://localhost:8080/"
        }
      },
      "execution_count": 16,
      "outputs": [
        {
          "output_type": "execute_result",
          "data": {
            "text/plain": [
              "1"
            ]
          },
          "metadata": {},
          "execution_count": 16
        }
      ]
    },
    {
      "cell_type": "code",
      "source": [
        "# Slicing - Accessing the element on the first row and first and second columns\n",
        "my_array[0][0:2]"
      ],
      "metadata": {
        "id": "1xmcHMYWqf8g",
        "outputId": "2fa148ee-61d7-4811-c553-e23c812849cb",
        "colab": {
          "base_uri": "https://localhost:8080/"
        }
      },
      "execution_count": 17,
      "outputs": [
        {
          "output_type": "execute_result",
          "data": {
            "text/plain": [
              "array([1, 2])"
            ]
          },
          "metadata": {},
          "execution_count": 17
        }
      ]
    },
    {
      "cell_type": "code",
      "source": [
        "# Slicing - Accessing the element on the first and second rows and third colum\n",
        "my_array[:2, 2]"
      ],
      "metadata": {
        "id": "1pNGpJZTq4oo",
        "outputId": "d2640a8e-2c08-4872-c3dd-9124e05ed914",
        "colab": {
          "base_uri": "https://localhost:8080/"
        }
      },
      "execution_count": 18,
      "outputs": [
        {
          "output_type": "execute_result",
          "data": {
            "text/plain": [
              "array([ 3, 40])"
            ]
          },
          "metadata": {},
          "execution_count": 18
        }
      ]
    },
    {
      "cell_type": "markdown",
      "source": [
        "### Basic Operations"
      ],
      "metadata": {
        "id": "c7SJI5jbrUSJ"
      }
    },
    {
      "cell_type": "code",
      "source": [
        "# Creating a Numpy Array xy\n",
        "xy = np.array([[1, 0], [0, 1]])\n",
        "xy"
      ],
      "metadata": {
        "id": "qJ6mMwUIraEI",
        "outputId": "133f8e4c-c575-42ee-e131-8f0936f68ea5",
        "colab": {
          "base_uri": "https://localhost:8080/"
        }
      },
      "execution_count": 19,
      "outputs": [
        {
          "output_type": "execute_result",
          "data": {
            "text/plain": [
              "array([[1, 0],\n",
              "       [0, 1]])"
            ]
          },
          "metadata": {},
          "execution_count": 19
        }
      ]
    },
    {
      "cell_type": "code",
      "source": [
        "# Creating a Numpy Array xz\n",
        "xz = np.array([[10, 20], [30, 40]])\n",
        "xz"
      ],
      "metadata": {
        "id": "z8kozzZssVyT",
        "outputId": "76b9f68b-02ee-4ba0-ec5d-69e81cef7fdb",
        "colab": {
          "base_uri": "https://localhost:8080/"
        }
      },
      "execution_count": 20,
      "outputs": [
        {
          "output_type": "execute_result",
          "data": {
            "text/plain": [
              "array([[10, 20],\n",
              "       [30, 40]])"
            ]
          },
          "metadata": {},
          "execution_count": 20
        }
      ]
    },
    {
      "cell_type": "code",
      "source": [
        "# Add xy and xz\n",
        "yz = xy + xz\n",
        "yz"
      ],
      "metadata": {
        "id": "iZ1BxssSsfXy",
        "outputId": "10679c68-540b-40bc-a34f-6d6634584a77",
        "colab": {
          "base_uri": "https://localhost:8080/"
        }
      },
      "execution_count": 21,
      "outputs": [
        {
          "output_type": "execute_result",
          "data": {
            "text/plain": [
              "array([[11, 20],\n",
              "       [30, 41]])"
            ]
          },
          "metadata": {},
          "execution_count": 21
        }
      ]
    },
    {
      "cell_type": "code",
      "source": [
        "# Multiply xy with 2\n",
        "result = 2 * xy\n",
        "result"
      ],
      "metadata": {
        "id": "Y-KhnFd2smKJ",
        "outputId": "5ce05db9-c4cd-419a-b77f-b331e3557d88",
        "colab": {
          "base_uri": "https://localhost:8080/"
        }
      },
      "execution_count": 22,
      "outputs": [
        {
          "output_type": "execute_result",
          "data": {
            "text/plain": [
              "array([[2, 0],\n",
              "       [0, 2]])"
            ]
          },
          "metadata": {},
          "execution_count": 22
        }
      ]
    },
    {
      "cell_type": "code",
      "source": [
        "# Multiply xy and xz\n",
        "total = xy * xz\n",
        "total"
      ],
      "metadata": {
        "id": "UYtkODFds46g",
        "outputId": "d901a186-fd42-4bda-b5ad-7092550f1f59",
        "colab": {
          "base_uri": "https://localhost:8080/"
        }
      },
      "execution_count": 24,
      "outputs": [
        {
          "output_type": "execute_result",
          "data": {
            "text/plain": [
              "array([[10,  0],\n",
              "       [ 0, 40]])"
            ]
          },
          "metadata": {},
          "execution_count": 24
        }
      ]
    },
    {
      "cell_type": "code",
      "source": [
        "# Creating matrix X\n",
        "X = np.array([[0, 2, 4], [10, 20, 30]])\n",
        "X"
      ],
      "metadata": {
        "id": "WTnLXSePs9OH",
        "outputId": "a0979039-fda6-4161-cde2-9f8a68c5cfc0",
        "colab": {
          "base_uri": "https://localhost:8080/"
        }
      },
      "execution_count": 27,
      "outputs": [
        {
          "output_type": "execute_result",
          "data": {
            "text/plain": [
              "array([[ 0,  2,  4],\n",
              "       [10, 20, 30]])"
            ]
          },
          "metadata": {},
          "execution_count": 27
        }
      ]
    },
    {
      "cell_type": "code",
      "source": [
        "# Creating matrix Y\n",
        "Y = np.array([[10, 50], [30, 40], [2, 4]])\n",
        "Y"
      ],
      "metadata": {
        "id": "9j0DHmiTtpy-",
        "outputId": "f16be90e-6635-422e-9fe0-6983abdaaa3c",
        "colab": {
          "base_uri": "https://localhost:8080/"
        }
      },
      "execution_count": 31,
      "outputs": [
        {
          "output_type": "execute_result",
          "data": {
            "text/plain": [
              "array([[10, 50],\n",
              "       [30, 40],\n",
              "       [ 2,  4]])"
            ]
          },
          "metadata": {},
          "execution_count": 31
        }
      ]
    },
    {
      "cell_type": "code",
      "source": [
        "# Calculating the dot product\n",
        "Z = np.dot(X, Y)\n",
        "Z"
      ],
      "metadata": {
        "id": "RrxAQyTKtidh",
        "outputId": "7e7586aa-d542-4b8f-e217-50dfffb923a6",
        "colab": {
          "base_uri": "https://localhost:8080/"
        }
      },
      "execution_count": 32,
      "outputs": [
        {
          "output_type": "execute_result",
          "data": {
            "text/plain": [
              "array([[  68,   96],\n",
              "       [ 760, 1420]])"
            ]
          },
          "metadata": {},
          "execution_count": 32
        }
      ]
    },
    {
      "cell_type": "code",
      "source": [
        "# Calculating the sine of Z\n",
        "np.sin(Z)"
      ],
      "metadata": {
        "id": "KQPJ6Ye4usXQ",
        "outputId": "d864800e-2df1-4807-9ff9-c5cc9fe5d7b5",
        "colab": {
          "base_uri": "https://localhost:8080/"
        }
      },
      "execution_count": 33,
      "outputs": [
        {
          "output_type": "execute_result",
          "data": {
            "text/plain": [
              "array([[-8.97927681e-01,  9.83587745e-01],\n",
              "       [-2.62316677e-01,  1.20577413e-04]])"
            ]
          },
          "metadata": {},
          "execution_count": 33
        }
      ]
    }
  ]
}