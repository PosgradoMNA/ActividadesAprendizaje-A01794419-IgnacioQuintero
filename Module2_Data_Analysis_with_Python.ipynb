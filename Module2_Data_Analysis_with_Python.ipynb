{
  "nbformat": 4,
  "nbformat_minor": 0,
  "metadata": {
    "colab": {
      "provenance": [],
      "authorship_tag": "ABX9TyNunXKhLLLB8doEHe9hFgeV",
      "include_colab_link": true
    },
    "kernelspec": {
      "name": "python3",
      "display_name": "Python 3"
    },
    "language_info": {
      "name": "python"
    }
  },
  "cells": [
    {
      "cell_type": "markdown",
      "metadata": {
        "id": "view-in-github",
        "colab_type": "text"
      },
      "source": [
        "<a href=\"https://colab.research.google.com/github/PosgradoMNA/ActividadesAprendizaje-A01794419-IgnacioQuintero/blob/main/Module2_Data_Analysis_with_Python.ipynb\" target=\"_parent\"><img src=\"https://colab.research.google.com/assets/colab-badge.svg\" alt=\"Open In Colab\"/></a>"
      ]
    },
    {
      "cell_type": "markdown",
      "source": [
        "# Data Analysis with Python\n",
        "## Module 2 - Data Wrangling\n",
        "\n",
        "* Alumno: Ignacio Antonio Quintero Chávez.\n",
        "* Matrícula: A01794419.\n",
        "* Materia: Ciencia y analítica de datos.\n",
        "* Profesor: Jobish Vallikavungal Devassia.\n",
        "* Fecha: 18 Octubre 2022."
      ],
      "metadata": {
        "id": "pM4wjZY7lF_U"
      }
    },
    {
      "cell_type": "markdown",
      "source": [
        "**Data Pre-processing (Data Cleaning or Data Wrangling)**\n",
        "\n",
        "The process of converting or mapping data from the initial \"raw\" form into another format, in order to prepare the data for further analysis."
      ],
      "metadata": {
        "id": "HoD_LyF8mVtE"
      }
    },
    {
      "cell_type": "markdown",
      "source": [
        "### Import data"
      ],
      "metadata": {
        "id": "fEgDnaQT9ck6"
      }
    },
    {
      "cell_type": "code",
      "source": [
        "# Importing the libraries\n",
        "import pandas as pd\n",
        "import matplotlib.pylab as plt"
      ],
      "metadata": {
        "id": "NCYiWP4O9gVI"
      },
      "execution_count": 1,
      "outputs": []
    },
    {
      "cell_type": "code",
      "source": [
        "# Importing the dataset\n",
        "dataset = \"https://cf-courses-data.s3.us.cloud-object-storage.appdomain.cloud/IBMDeveloperSkillsNetwork-DA0101EN-SkillsNetwork/labs/Data%20files/auto.csv\""
      ],
      "metadata": {
        "id": "PTUFy-Xx9oXQ"
      },
      "execution_count": 2,
      "outputs": []
    },
    {
      "cell_type": "code",
      "source": [
        "# Creating a python list headers containing name of headers\n",
        "headers = [\"symboling\",\"normalized-losses\",\"make\",\"fuel-type\",\"aspiration\", \"num-of-doors\",\"body-style\",\n",
        "         \"drive-wheels\",\"engine-location\",\"wheel-base\", \"length\",\"width\",\"height\",\"curb-weight\",\"engine-type\",\n",
        "         \"num-of-cylinders\", \"engine-size\",\"fuel-system\",\"bore\",\"stroke\",\"compression-ratio\",\"horsepower\",\n",
        "         \"peak-rpm\",\"city-mpg\",\"highway-mpg\",\"price\"]"
      ],
      "metadata": {
        "id": "bYR9PGDW91Gq"
      },
      "execution_count": 3,
      "outputs": []
    },
    {
      "cell_type": "code",
      "source": [
        "dataframe = pd.read_csv(dataset, names = headers)"
      ],
      "metadata": {
        "id": "ygAS2b9H97W7"
      },
      "execution_count": 5,
      "outputs": []
    },
    {
      "cell_type": "code",
      "source": [
        "# Display the first five rows of the dataframe\n",
        "dataframe.head()"
      ],
      "metadata": {
        "colab": {
          "base_uri": "https://localhost:8080/",
          "height": 386
        },
        "id": "f1sY1_CO-Gtm",
        "outputId": "5ebfc65e-3b27-4830-faa3-ed2631b4803b"
      },
      "execution_count": 6,
      "outputs": [
        {
          "output_type": "execute_result",
          "data": {
            "text/plain": [
              "   symboling normalized-losses         make fuel-type aspiration num-of-doors  \\\n",
              "0          3                 ?  alfa-romero       gas        std          two   \n",
              "1          3                 ?  alfa-romero       gas        std          two   \n",
              "2          1                 ?  alfa-romero       gas        std          two   \n",
              "3          2               164         audi       gas        std         four   \n",
              "4          2               164         audi       gas        std         four   \n",
              "\n",
              "    body-style drive-wheels engine-location  wheel-base  ...  engine-size  \\\n",
              "0  convertible          rwd           front        88.6  ...          130   \n",
              "1  convertible          rwd           front        88.6  ...          130   \n",
              "2    hatchback          rwd           front        94.5  ...          152   \n",
              "3        sedan          fwd           front        99.8  ...          109   \n",
              "4        sedan          4wd           front        99.4  ...          136   \n",
              "\n",
              "   fuel-system  bore  stroke compression-ratio horsepower  peak-rpm city-mpg  \\\n",
              "0         mpfi  3.47    2.68               9.0        111      5000       21   \n",
              "1         mpfi  3.47    2.68               9.0        111      5000       21   \n",
              "2         mpfi  2.68    3.47               9.0        154      5000       19   \n",
              "3         mpfi  3.19    3.40              10.0        102      5500       24   \n",
              "4         mpfi  3.19    3.40               8.0        115      5500       18   \n",
              "\n",
              "  highway-mpg  price  \n",
              "0          27  13495  \n",
              "1          27  16500  \n",
              "2          26  16500  \n",
              "3          30  13950  \n",
              "4          22  17450  \n",
              "\n",
              "[5 rows x 26 columns]"
            ],
            "text/html": [
              "\n",
              "  <div id=\"df-6f0adfe0-d653-4cc7-80d2-8b8ed6201db6\">\n",
              "    <div class=\"colab-df-container\">\n",
              "      <div>\n",
              "<style scoped>\n",
              "    .dataframe tbody tr th:only-of-type {\n",
              "        vertical-align: middle;\n",
              "    }\n",
              "\n",
              "    .dataframe tbody tr th {\n",
              "        vertical-align: top;\n",
              "    }\n",
              "\n",
              "    .dataframe thead th {\n",
              "        text-align: right;\n",
              "    }\n",
              "</style>\n",
              "<table border=\"1\" class=\"dataframe\">\n",
              "  <thead>\n",
              "    <tr style=\"text-align: right;\">\n",
              "      <th></th>\n",
              "      <th>symboling</th>\n",
              "      <th>normalized-losses</th>\n",
              "      <th>make</th>\n",
              "      <th>fuel-type</th>\n",
              "      <th>aspiration</th>\n",
              "      <th>num-of-doors</th>\n",
              "      <th>body-style</th>\n",
              "      <th>drive-wheels</th>\n",
              "      <th>engine-location</th>\n",
              "      <th>wheel-base</th>\n",
              "      <th>...</th>\n",
              "      <th>engine-size</th>\n",
              "      <th>fuel-system</th>\n",
              "      <th>bore</th>\n",
              "      <th>stroke</th>\n",
              "      <th>compression-ratio</th>\n",
              "      <th>horsepower</th>\n",
              "      <th>peak-rpm</th>\n",
              "      <th>city-mpg</th>\n",
              "      <th>highway-mpg</th>\n",
              "      <th>price</th>\n",
              "    </tr>\n",
              "  </thead>\n",
              "  <tbody>\n",
              "    <tr>\n",
              "      <th>0</th>\n",
              "      <td>3</td>\n",
              "      <td>?</td>\n",
              "      <td>alfa-romero</td>\n",
              "      <td>gas</td>\n",
              "      <td>std</td>\n",
              "      <td>two</td>\n",
              "      <td>convertible</td>\n",
              "      <td>rwd</td>\n",
              "      <td>front</td>\n",
              "      <td>88.6</td>\n",
              "      <td>...</td>\n",
              "      <td>130</td>\n",
              "      <td>mpfi</td>\n",
              "      <td>3.47</td>\n",
              "      <td>2.68</td>\n",
              "      <td>9.0</td>\n",
              "      <td>111</td>\n",
              "      <td>5000</td>\n",
              "      <td>21</td>\n",
              "      <td>27</td>\n",
              "      <td>13495</td>\n",
              "    </tr>\n",
              "    <tr>\n",
              "      <th>1</th>\n",
              "      <td>3</td>\n",
              "      <td>?</td>\n",
              "      <td>alfa-romero</td>\n",
              "      <td>gas</td>\n",
              "      <td>std</td>\n",
              "      <td>two</td>\n",
              "      <td>convertible</td>\n",
              "      <td>rwd</td>\n",
              "      <td>front</td>\n",
              "      <td>88.6</td>\n",
              "      <td>...</td>\n",
              "      <td>130</td>\n",
              "      <td>mpfi</td>\n",
              "      <td>3.47</td>\n",
              "      <td>2.68</td>\n",
              "      <td>9.0</td>\n",
              "      <td>111</td>\n",
              "      <td>5000</td>\n",
              "      <td>21</td>\n",
              "      <td>27</td>\n",
              "      <td>16500</td>\n",
              "    </tr>\n",
              "    <tr>\n",
              "      <th>2</th>\n",
              "      <td>1</td>\n",
              "      <td>?</td>\n",
              "      <td>alfa-romero</td>\n",
              "      <td>gas</td>\n",
              "      <td>std</td>\n",
              "      <td>two</td>\n",
              "      <td>hatchback</td>\n",
              "      <td>rwd</td>\n",
              "      <td>front</td>\n",
              "      <td>94.5</td>\n",
              "      <td>...</td>\n",
              "      <td>152</td>\n",
              "      <td>mpfi</td>\n",
              "      <td>2.68</td>\n",
              "      <td>3.47</td>\n",
              "      <td>9.0</td>\n",
              "      <td>154</td>\n",
              "      <td>5000</td>\n",
              "      <td>19</td>\n",
              "      <td>26</td>\n",
              "      <td>16500</td>\n",
              "    </tr>\n",
              "    <tr>\n",
              "      <th>3</th>\n",
              "      <td>2</td>\n",
              "      <td>164</td>\n",
              "      <td>audi</td>\n",
              "      <td>gas</td>\n",
              "      <td>std</td>\n",
              "      <td>four</td>\n",
              "      <td>sedan</td>\n",
              "      <td>fwd</td>\n",
              "      <td>front</td>\n",
              "      <td>99.8</td>\n",
              "      <td>...</td>\n",
              "      <td>109</td>\n",
              "      <td>mpfi</td>\n",
              "      <td>3.19</td>\n",
              "      <td>3.40</td>\n",
              "      <td>10.0</td>\n",
              "      <td>102</td>\n",
              "      <td>5500</td>\n",
              "      <td>24</td>\n",
              "      <td>30</td>\n",
              "      <td>13950</td>\n",
              "    </tr>\n",
              "    <tr>\n",
              "      <th>4</th>\n",
              "      <td>2</td>\n",
              "      <td>164</td>\n",
              "      <td>audi</td>\n",
              "      <td>gas</td>\n",
              "      <td>std</td>\n",
              "      <td>four</td>\n",
              "      <td>sedan</td>\n",
              "      <td>4wd</td>\n",
              "      <td>front</td>\n",
              "      <td>99.4</td>\n",
              "      <td>...</td>\n",
              "      <td>136</td>\n",
              "      <td>mpfi</td>\n",
              "      <td>3.19</td>\n",
              "      <td>3.40</td>\n",
              "      <td>8.0</td>\n",
              "      <td>115</td>\n",
              "      <td>5500</td>\n",
              "      <td>18</td>\n",
              "      <td>22</td>\n",
              "      <td>17450</td>\n",
              "    </tr>\n",
              "  </tbody>\n",
              "</table>\n",
              "<p>5 rows × 26 columns</p>\n",
              "</div>\n",
              "      <button class=\"colab-df-convert\" onclick=\"convertToInteractive('df-6f0adfe0-d653-4cc7-80d2-8b8ed6201db6')\"\n",
              "              title=\"Convert this dataframe to an interactive table.\"\n",
              "              style=\"display:none;\">\n",
              "        \n",
              "  <svg xmlns=\"http://www.w3.org/2000/svg\" height=\"24px\"viewBox=\"0 0 24 24\"\n",
              "       width=\"24px\">\n",
              "    <path d=\"M0 0h24v24H0V0z\" fill=\"none\"/>\n",
              "    <path d=\"M18.56 5.44l.94 2.06.94-2.06 2.06-.94-2.06-.94-.94-2.06-.94 2.06-2.06.94zm-11 1L8.5 8.5l.94-2.06 2.06-.94-2.06-.94L8.5 2.5l-.94 2.06-2.06.94zm10 10l.94 2.06.94-2.06 2.06-.94-2.06-.94-.94-2.06-.94 2.06-2.06.94z\"/><path d=\"M17.41 7.96l-1.37-1.37c-.4-.4-.92-.59-1.43-.59-.52 0-1.04.2-1.43.59L10.3 9.45l-7.72 7.72c-.78.78-.78 2.05 0 2.83L4 21.41c.39.39.9.59 1.41.59.51 0 1.02-.2 1.41-.59l7.78-7.78 2.81-2.81c.8-.78.8-2.07 0-2.86zM5.41 20L4 18.59l7.72-7.72 1.47 1.35L5.41 20z\"/>\n",
              "  </svg>\n",
              "      </button>\n",
              "      \n",
              "  <style>\n",
              "    .colab-df-container {\n",
              "      display:flex;\n",
              "      flex-wrap:wrap;\n",
              "      gap: 12px;\n",
              "    }\n",
              "\n",
              "    .colab-df-convert {\n",
              "      background-color: #E8F0FE;\n",
              "      border: none;\n",
              "      border-radius: 50%;\n",
              "      cursor: pointer;\n",
              "      display: none;\n",
              "      fill: #1967D2;\n",
              "      height: 32px;\n",
              "      padding: 0 0 0 0;\n",
              "      width: 32px;\n",
              "    }\n",
              "\n",
              "    .colab-df-convert:hover {\n",
              "      background-color: #E2EBFA;\n",
              "      box-shadow: 0px 1px 2px rgba(60, 64, 67, 0.3), 0px 1px 3px 1px rgba(60, 64, 67, 0.15);\n",
              "      fill: #174EA6;\n",
              "    }\n",
              "\n",
              "    [theme=dark] .colab-df-convert {\n",
              "      background-color: #3B4455;\n",
              "      fill: #D2E3FC;\n",
              "    }\n",
              "\n",
              "    [theme=dark] .colab-df-convert:hover {\n",
              "      background-color: #434B5C;\n",
              "      box-shadow: 0px 1px 3px 1px rgba(0, 0, 0, 0.15);\n",
              "      filter: drop-shadow(0px 1px 2px rgba(0, 0, 0, 0.3));\n",
              "      fill: #FFFFFF;\n",
              "    }\n",
              "  </style>\n",
              "\n",
              "      <script>\n",
              "        const buttonEl =\n",
              "          document.querySelector('#df-6f0adfe0-d653-4cc7-80d2-8b8ed6201db6 button.colab-df-convert');\n",
              "        buttonEl.style.display =\n",
              "          google.colab.kernel.accessAllowed ? 'block' : 'none';\n",
              "\n",
              "        async function convertToInteractive(key) {\n",
              "          const element = document.querySelector('#df-6f0adfe0-d653-4cc7-80d2-8b8ed6201db6');\n",
              "          const dataTable =\n",
              "            await google.colab.kernel.invokeFunction('convertToInteractive',\n",
              "                                                     [key], {});\n",
              "          if (!dataTable) return;\n",
              "\n",
              "          const docLinkHtml = 'Like what you see? Visit the ' +\n",
              "            '<a target=\"_blank\" href=https://colab.research.google.com/notebooks/data_table.ipynb>data table notebook</a>'\n",
              "            + ' to learn more about interactive tables.';\n",
              "          element.innerHTML = '';\n",
              "          dataTable['output_type'] = 'display_data';\n",
              "          await google.colab.output.renderOutput(dataTable, element);\n",
              "          const docLink = document.createElement('div');\n",
              "          docLink.innerHTML = docLinkHtml;\n",
              "          element.appendChild(docLink);\n",
              "        }\n",
              "      </script>\n",
              "    </div>\n",
              "  </div>\n",
              "  "
            ]
          },
          "metadata": {},
          "execution_count": 6
        }
      ]
    },
    {
      "cell_type": "markdown",
      "source": [
        "Steps for working with missing data:\n",
        "\n",
        "* Identify missing data.\n",
        "* Deal with missing data.\n",
        "* Correct data format.\n",
        "\n"
      ],
      "metadata": {
        "id": "WVAIAhee-QGn"
      }
    },
    {
      "cell_type": "markdown",
      "source": [
        "### Identify and handle missing values"
      ],
      "metadata": {
        "id": "3O-P0gJU-d78"
      }
    },
    {
      "cell_type": "markdown",
      "source": [
        "**Convert \"?\" to NaN**"
      ],
      "metadata": {
        "id": "ib9jGqZT-kGG"
      }
    },
    {
      "cell_type": "markdown",
      "source": [
        "Using the function \n",
        "\n",
        ".replace(A, B, inplace = True)"
      ],
      "metadata": {
        "id": "XQkAZqmf_cw3"
      }
    },
    {
      "cell_type": "code",
      "source": [
        "import numpy as np\n",
        "\n",
        "# Replace \"?\" to NaN\n",
        "dataframe.replace(\"?\", np.nan, inplace = True)\n",
        "dataframe.head()"
      ],
      "metadata": {
        "colab": {
          "base_uri": "https://localhost:8080/",
          "height": 386
        },
        "id": "tJcmHA-Z-mM3",
        "outputId": "0b21a6a0-a9b1-482c-917f-5ffa8f0b8805"
      },
      "execution_count": 8,
      "outputs": [
        {
          "output_type": "execute_result",
          "data": {
            "text/plain": [
              "   symboling normalized-losses         make fuel-type aspiration num-of-doors  \\\n",
              "0          3               NaN  alfa-romero       gas        std          two   \n",
              "1          3               NaN  alfa-romero       gas        std          two   \n",
              "2          1               NaN  alfa-romero       gas        std          two   \n",
              "3          2               164         audi       gas        std         four   \n",
              "4          2               164         audi       gas        std         four   \n",
              "\n",
              "    body-style drive-wheels engine-location  wheel-base  ...  engine-size  \\\n",
              "0  convertible          rwd           front        88.6  ...          130   \n",
              "1  convertible          rwd           front        88.6  ...          130   \n",
              "2    hatchback          rwd           front        94.5  ...          152   \n",
              "3        sedan          fwd           front        99.8  ...          109   \n",
              "4        sedan          4wd           front        99.4  ...          136   \n",
              "\n",
              "   fuel-system  bore  stroke compression-ratio horsepower  peak-rpm city-mpg  \\\n",
              "0         mpfi  3.47    2.68               9.0        111      5000       21   \n",
              "1         mpfi  3.47    2.68               9.0        111      5000       21   \n",
              "2         mpfi  2.68    3.47               9.0        154      5000       19   \n",
              "3         mpfi  3.19    3.40              10.0        102      5500       24   \n",
              "4         mpfi  3.19    3.40               8.0        115      5500       18   \n",
              "\n",
              "  highway-mpg  price  \n",
              "0          27  13495  \n",
              "1          27  16500  \n",
              "2          26  16500  \n",
              "3          30  13950  \n",
              "4          22  17450  \n",
              "\n",
              "[5 rows x 26 columns]"
            ],
            "text/html": [
              "\n",
              "  <div id=\"df-39271153-ef50-4798-84f0-cd9366945341\">\n",
              "    <div class=\"colab-df-container\">\n",
              "      <div>\n",
              "<style scoped>\n",
              "    .dataframe tbody tr th:only-of-type {\n",
              "        vertical-align: middle;\n",
              "    }\n",
              "\n",
              "    .dataframe tbody tr th {\n",
              "        vertical-align: top;\n",
              "    }\n",
              "\n",
              "    .dataframe thead th {\n",
              "        text-align: right;\n",
              "    }\n",
              "</style>\n",
              "<table border=\"1\" class=\"dataframe\">\n",
              "  <thead>\n",
              "    <tr style=\"text-align: right;\">\n",
              "      <th></th>\n",
              "      <th>symboling</th>\n",
              "      <th>normalized-losses</th>\n",
              "      <th>make</th>\n",
              "      <th>fuel-type</th>\n",
              "      <th>aspiration</th>\n",
              "      <th>num-of-doors</th>\n",
              "      <th>body-style</th>\n",
              "      <th>drive-wheels</th>\n",
              "      <th>engine-location</th>\n",
              "      <th>wheel-base</th>\n",
              "      <th>...</th>\n",
              "      <th>engine-size</th>\n",
              "      <th>fuel-system</th>\n",
              "      <th>bore</th>\n",
              "      <th>stroke</th>\n",
              "      <th>compression-ratio</th>\n",
              "      <th>horsepower</th>\n",
              "      <th>peak-rpm</th>\n",
              "      <th>city-mpg</th>\n",
              "      <th>highway-mpg</th>\n",
              "      <th>price</th>\n",
              "    </tr>\n",
              "  </thead>\n",
              "  <tbody>\n",
              "    <tr>\n",
              "      <th>0</th>\n",
              "      <td>3</td>\n",
              "      <td>NaN</td>\n",
              "      <td>alfa-romero</td>\n",
              "      <td>gas</td>\n",
              "      <td>std</td>\n",
              "      <td>two</td>\n",
              "      <td>convertible</td>\n",
              "      <td>rwd</td>\n",
              "      <td>front</td>\n",
              "      <td>88.6</td>\n",
              "      <td>...</td>\n",
              "      <td>130</td>\n",
              "      <td>mpfi</td>\n",
              "      <td>3.47</td>\n",
              "      <td>2.68</td>\n",
              "      <td>9.0</td>\n",
              "      <td>111</td>\n",
              "      <td>5000</td>\n",
              "      <td>21</td>\n",
              "      <td>27</td>\n",
              "      <td>13495</td>\n",
              "    </tr>\n",
              "    <tr>\n",
              "      <th>1</th>\n",
              "      <td>3</td>\n",
              "      <td>NaN</td>\n",
              "      <td>alfa-romero</td>\n",
              "      <td>gas</td>\n",
              "      <td>std</td>\n",
              "      <td>two</td>\n",
              "      <td>convertible</td>\n",
              "      <td>rwd</td>\n",
              "      <td>front</td>\n",
              "      <td>88.6</td>\n",
              "      <td>...</td>\n",
              "      <td>130</td>\n",
              "      <td>mpfi</td>\n",
              "      <td>3.47</td>\n",
              "      <td>2.68</td>\n",
              "      <td>9.0</td>\n",
              "      <td>111</td>\n",
              "      <td>5000</td>\n",
              "      <td>21</td>\n",
              "      <td>27</td>\n",
              "      <td>16500</td>\n",
              "    </tr>\n",
              "    <tr>\n",
              "      <th>2</th>\n",
              "      <td>1</td>\n",
              "      <td>NaN</td>\n",
              "      <td>alfa-romero</td>\n",
              "      <td>gas</td>\n",
              "      <td>std</td>\n",
              "      <td>two</td>\n",
              "      <td>hatchback</td>\n",
              "      <td>rwd</td>\n",
              "      <td>front</td>\n",
              "      <td>94.5</td>\n",
              "      <td>...</td>\n",
              "      <td>152</td>\n",
              "      <td>mpfi</td>\n",
              "      <td>2.68</td>\n",
              "      <td>3.47</td>\n",
              "      <td>9.0</td>\n",
              "      <td>154</td>\n",
              "      <td>5000</td>\n",
              "      <td>19</td>\n",
              "      <td>26</td>\n",
              "      <td>16500</td>\n",
              "    </tr>\n",
              "    <tr>\n",
              "      <th>3</th>\n",
              "      <td>2</td>\n",
              "      <td>164</td>\n",
              "      <td>audi</td>\n",
              "      <td>gas</td>\n",
              "      <td>std</td>\n",
              "      <td>four</td>\n",
              "      <td>sedan</td>\n",
              "      <td>fwd</td>\n",
              "      <td>front</td>\n",
              "      <td>99.8</td>\n",
              "      <td>...</td>\n",
              "      <td>109</td>\n",
              "      <td>mpfi</td>\n",
              "      <td>3.19</td>\n",
              "      <td>3.40</td>\n",
              "      <td>10.0</td>\n",
              "      <td>102</td>\n",
              "      <td>5500</td>\n",
              "      <td>24</td>\n",
              "      <td>30</td>\n",
              "      <td>13950</td>\n",
              "    </tr>\n",
              "    <tr>\n",
              "      <th>4</th>\n",
              "      <td>2</td>\n",
              "      <td>164</td>\n",
              "      <td>audi</td>\n",
              "      <td>gas</td>\n",
              "      <td>std</td>\n",
              "      <td>four</td>\n",
              "      <td>sedan</td>\n",
              "      <td>4wd</td>\n",
              "      <td>front</td>\n",
              "      <td>99.4</td>\n",
              "      <td>...</td>\n",
              "      <td>136</td>\n",
              "      <td>mpfi</td>\n",
              "      <td>3.19</td>\n",
              "      <td>3.40</td>\n",
              "      <td>8.0</td>\n",
              "      <td>115</td>\n",
              "      <td>5500</td>\n",
              "      <td>18</td>\n",
              "      <td>22</td>\n",
              "      <td>17450</td>\n",
              "    </tr>\n",
              "  </tbody>\n",
              "</table>\n",
              "<p>5 rows × 26 columns</p>\n",
              "</div>\n",
              "      <button class=\"colab-df-convert\" onclick=\"convertToInteractive('df-39271153-ef50-4798-84f0-cd9366945341')\"\n",
              "              title=\"Convert this dataframe to an interactive table.\"\n",
              "              style=\"display:none;\">\n",
              "        \n",
              "  <svg xmlns=\"http://www.w3.org/2000/svg\" height=\"24px\"viewBox=\"0 0 24 24\"\n",
              "       width=\"24px\">\n",
              "    <path d=\"M0 0h24v24H0V0z\" fill=\"none\"/>\n",
              "    <path d=\"M18.56 5.44l.94 2.06.94-2.06 2.06-.94-2.06-.94-.94-2.06-.94 2.06-2.06.94zm-11 1L8.5 8.5l.94-2.06 2.06-.94-2.06-.94L8.5 2.5l-.94 2.06-2.06.94zm10 10l.94 2.06.94-2.06 2.06-.94-2.06-.94-.94-2.06-.94 2.06-2.06.94z\"/><path d=\"M17.41 7.96l-1.37-1.37c-.4-.4-.92-.59-1.43-.59-.52 0-1.04.2-1.43.59L10.3 9.45l-7.72 7.72c-.78.78-.78 2.05 0 2.83L4 21.41c.39.39.9.59 1.41.59.51 0 1.02-.2 1.41-.59l7.78-7.78 2.81-2.81c.8-.78.8-2.07 0-2.86zM5.41 20L4 18.59l7.72-7.72 1.47 1.35L5.41 20z\"/>\n",
              "  </svg>\n",
              "      </button>\n",
              "      \n",
              "  <style>\n",
              "    .colab-df-container {\n",
              "      display:flex;\n",
              "      flex-wrap:wrap;\n",
              "      gap: 12px;\n",
              "    }\n",
              "\n",
              "    .colab-df-convert {\n",
              "      background-color: #E8F0FE;\n",
              "      border: none;\n",
              "      border-radius: 50%;\n",
              "      cursor: pointer;\n",
              "      display: none;\n",
              "      fill: #1967D2;\n",
              "      height: 32px;\n",
              "      padding: 0 0 0 0;\n",
              "      width: 32px;\n",
              "    }\n",
              "\n",
              "    .colab-df-convert:hover {\n",
              "      background-color: #E2EBFA;\n",
              "      box-shadow: 0px 1px 2px rgba(60, 64, 67, 0.3), 0px 1px 3px 1px rgba(60, 64, 67, 0.15);\n",
              "      fill: #174EA6;\n",
              "    }\n",
              "\n",
              "    [theme=dark] .colab-df-convert {\n",
              "      background-color: #3B4455;\n",
              "      fill: #D2E3FC;\n",
              "    }\n",
              "\n",
              "    [theme=dark] .colab-df-convert:hover {\n",
              "      background-color: #434B5C;\n",
              "      box-shadow: 0px 1px 3px 1px rgba(0, 0, 0, 0.15);\n",
              "      filter: drop-shadow(0px 1px 2px rgba(0, 0, 0, 0.3));\n",
              "      fill: #FFFFFF;\n",
              "    }\n",
              "  </style>\n",
              "\n",
              "      <script>\n",
              "        const buttonEl =\n",
              "          document.querySelector('#df-39271153-ef50-4798-84f0-cd9366945341 button.colab-df-convert');\n",
              "        buttonEl.style.display =\n",
              "          google.colab.kernel.accessAllowed ? 'block' : 'none';\n",
              "\n",
              "        async function convertToInteractive(key) {\n",
              "          const element = document.querySelector('#df-39271153-ef50-4798-84f0-cd9366945341');\n",
              "          const dataTable =\n",
              "            await google.colab.kernel.invokeFunction('convertToInteractive',\n",
              "                                                     [key], {});\n",
              "          if (!dataTable) return;\n",
              "\n",
              "          const docLinkHtml = 'Like what you see? Visit the ' +\n",
              "            '<a target=\"_blank\" href=https://colab.research.google.com/notebooks/data_table.ipynb>data table notebook</a>'\n",
              "            + ' to learn more about interactive tables.';\n",
              "          element.innerHTML = '';\n",
              "          dataTable['output_type'] = 'display_data';\n",
              "          await google.colab.output.renderOutput(dataTable, element);\n",
              "          const docLink = document.createElement('div');\n",
              "          docLink.innerHTML = docLinkHtml;\n",
              "          element.appendChild(docLink);\n",
              "        }\n",
              "      </script>\n",
              "    </div>\n",
              "  </div>\n",
              "  "
            ]
          },
          "metadata": {},
          "execution_count": 8
        }
      ]
    },
    {
      "cell_type": "markdown",
      "source": [
        "All the values '?' were replaced with NaN (Not a Number)."
      ],
      "metadata": {
        "id": "3BwhyioZ-9gM"
      }
    },
    {
      "cell_type": "markdown",
      "source": [
        "**Evaluating for missing data**"
      ],
      "metadata": {
        "id": "Gs_Kmfic_Jyv"
      }
    },
    {
      "cell_type": "markdown",
      "source": [
        "The missing values are converted by default. There are two methods to detect missing data:\n",
        "\n",
        "* isnull()\n",
        "* notnull()"
      ],
      "metadata": {
        "id": "Mr2jqNui_SFd"
      }
    },
    {
      "cell_type": "code",
      "source": [
        "missing_data = dataframe.isnull()\n",
        "missing_data.head()"
      ],
      "metadata": {
        "colab": {
          "base_uri": "https://localhost:8080/",
          "height": 334
        },
        "id": "19ZSPGS4_a1B",
        "outputId": "c599a862-ed15-4603-96ff-4d7d42520b07"
      },
      "execution_count": 9,
      "outputs": [
        {
          "output_type": "execute_result",
          "data": {
            "text/plain": [
              "   symboling  normalized-losses   make  fuel-type  aspiration  num-of-doors  \\\n",
              "0      False               True  False      False       False         False   \n",
              "1      False               True  False      False       False         False   \n",
              "2      False               True  False      False       False         False   \n",
              "3      False              False  False      False       False         False   \n",
              "4      False              False  False      False       False         False   \n",
              "\n",
              "   body-style  drive-wheels  engine-location  wheel-base  ...  engine-size  \\\n",
              "0       False         False            False       False  ...        False   \n",
              "1       False         False            False       False  ...        False   \n",
              "2       False         False            False       False  ...        False   \n",
              "3       False         False            False       False  ...        False   \n",
              "4       False         False            False       False  ...        False   \n",
              "\n",
              "   fuel-system   bore  stroke  compression-ratio  horsepower  peak-rpm  \\\n",
              "0        False  False   False              False       False     False   \n",
              "1        False  False   False              False       False     False   \n",
              "2        False  False   False              False       False     False   \n",
              "3        False  False   False              False       False     False   \n",
              "4        False  False   False              False       False     False   \n",
              "\n",
              "   city-mpg  highway-mpg  price  \n",
              "0     False        False  False  \n",
              "1     False        False  False  \n",
              "2     False        False  False  \n",
              "3     False        False  False  \n",
              "4     False        False  False  \n",
              "\n",
              "[5 rows x 26 columns]"
            ],
            "text/html": [
              "\n",
              "  <div id=\"df-a8b1c435-3734-4a0d-9d7d-feca2420df3f\">\n",
              "    <div class=\"colab-df-container\">\n",
              "      <div>\n",
              "<style scoped>\n",
              "    .dataframe tbody tr th:only-of-type {\n",
              "        vertical-align: middle;\n",
              "    }\n",
              "\n",
              "    .dataframe tbody tr th {\n",
              "        vertical-align: top;\n",
              "    }\n",
              "\n",
              "    .dataframe thead th {\n",
              "        text-align: right;\n",
              "    }\n",
              "</style>\n",
              "<table border=\"1\" class=\"dataframe\">\n",
              "  <thead>\n",
              "    <tr style=\"text-align: right;\">\n",
              "      <th></th>\n",
              "      <th>symboling</th>\n",
              "      <th>normalized-losses</th>\n",
              "      <th>make</th>\n",
              "      <th>fuel-type</th>\n",
              "      <th>aspiration</th>\n",
              "      <th>num-of-doors</th>\n",
              "      <th>body-style</th>\n",
              "      <th>drive-wheels</th>\n",
              "      <th>engine-location</th>\n",
              "      <th>wheel-base</th>\n",
              "      <th>...</th>\n",
              "      <th>engine-size</th>\n",
              "      <th>fuel-system</th>\n",
              "      <th>bore</th>\n",
              "      <th>stroke</th>\n",
              "      <th>compression-ratio</th>\n",
              "      <th>horsepower</th>\n",
              "      <th>peak-rpm</th>\n",
              "      <th>city-mpg</th>\n",
              "      <th>highway-mpg</th>\n",
              "      <th>price</th>\n",
              "    </tr>\n",
              "  </thead>\n",
              "  <tbody>\n",
              "    <tr>\n",
              "      <th>0</th>\n",
              "      <td>False</td>\n",
              "      <td>True</td>\n",
              "      <td>False</td>\n",
              "      <td>False</td>\n",
              "      <td>False</td>\n",
              "      <td>False</td>\n",
              "      <td>False</td>\n",
              "      <td>False</td>\n",
              "      <td>False</td>\n",
              "      <td>False</td>\n",
              "      <td>...</td>\n",
              "      <td>False</td>\n",
              "      <td>False</td>\n",
              "      <td>False</td>\n",
              "      <td>False</td>\n",
              "      <td>False</td>\n",
              "      <td>False</td>\n",
              "      <td>False</td>\n",
              "      <td>False</td>\n",
              "      <td>False</td>\n",
              "      <td>False</td>\n",
              "    </tr>\n",
              "    <tr>\n",
              "      <th>1</th>\n",
              "      <td>False</td>\n",
              "      <td>True</td>\n",
              "      <td>False</td>\n",
              "      <td>False</td>\n",
              "      <td>False</td>\n",
              "      <td>False</td>\n",
              "      <td>False</td>\n",
              "      <td>False</td>\n",
              "      <td>False</td>\n",
              "      <td>False</td>\n",
              "      <td>...</td>\n",
              "      <td>False</td>\n",
              "      <td>False</td>\n",
              "      <td>False</td>\n",
              "      <td>False</td>\n",
              "      <td>False</td>\n",
              "      <td>False</td>\n",
              "      <td>False</td>\n",
              "      <td>False</td>\n",
              "      <td>False</td>\n",
              "      <td>False</td>\n",
              "    </tr>\n",
              "    <tr>\n",
              "      <th>2</th>\n",
              "      <td>False</td>\n",
              "      <td>True</td>\n",
              "      <td>False</td>\n",
              "      <td>False</td>\n",
              "      <td>False</td>\n",
              "      <td>False</td>\n",
              "      <td>False</td>\n",
              "      <td>False</td>\n",
              "      <td>False</td>\n",
              "      <td>False</td>\n",
              "      <td>...</td>\n",
              "      <td>False</td>\n",
              "      <td>False</td>\n",
              "      <td>False</td>\n",
              "      <td>False</td>\n",
              "      <td>False</td>\n",
              "      <td>False</td>\n",
              "      <td>False</td>\n",
              "      <td>False</td>\n",
              "      <td>False</td>\n",
              "      <td>False</td>\n",
              "    </tr>\n",
              "    <tr>\n",
              "      <th>3</th>\n",
              "      <td>False</td>\n",
              "      <td>False</td>\n",
              "      <td>False</td>\n",
              "      <td>False</td>\n",
              "      <td>False</td>\n",
              "      <td>False</td>\n",
              "      <td>False</td>\n",
              "      <td>False</td>\n",
              "      <td>False</td>\n",
              "      <td>False</td>\n",
              "      <td>...</td>\n",
              "      <td>False</td>\n",
              "      <td>False</td>\n",
              "      <td>False</td>\n",
              "      <td>False</td>\n",
              "      <td>False</td>\n",
              "      <td>False</td>\n",
              "      <td>False</td>\n",
              "      <td>False</td>\n",
              "      <td>False</td>\n",
              "      <td>False</td>\n",
              "    </tr>\n",
              "    <tr>\n",
              "      <th>4</th>\n",
              "      <td>False</td>\n",
              "      <td>False</td>\n",
              "      <td>False</td>\n",
              "      <td>False</td>\n",
              "      <td>False</td>\n",
              "      <td>False</td>\n",
              "      <td>False</td>\n",
              "      <td>False</td>\n",
              "      <td>False</td>\n",
              "      <td>False</td>\n",
              "      <td>...</td>\n",
              "      <td>False</td>\n",
              "      <td>False</td>\n",
              "      <td>False</td>\n",
              "      <td>False</td>\n",
              "      <td>False</td>\n",
              "      <td>False</td>\n",
              "      <td>False</td>\n",
              "      <td>False</td>\n",
              "      <td>False</td>\n",
              "      <td>False</td>\n",
              "    </tr>\n",
              "  </tbody>\n",
              "</table>\n",
              "<p>5 rows × 26 columns</p>\n",
              "</div>\n",
              "      <button class=\"colab-df-convert\" onclick=\"convertToInteractive('df-a8b1c435-3734-4a0d-9d7d-feca2420df3f')\"\n",
              "              title=\"Convert this dataframe to an interactive table.\"\n",
              "              style=\"display:none;\">\n",
              "        \n",
              "  <svg xmlns=\"http://www.w3.org/2000/svg\" height=\"24px\"viewBox=\"0 0 24 24\"\n",
              "       width=\"24px\">\n",
              "    <path d=\"M0 0h24v24H0V0z\" fill=\"none\"/>\n",
              "    <path d=\"M18.56 5.44l.94 2.06.94-2.06 2.06-.94-2.06-.94-.94-2.06-.94 2.06-2.06.94zm-11 1L8.5 8.5l.94-2.06 2.06-.94-2.06-.94L8.5 2.5l-.94 2.06-2.06.94zm10 10l.94 2.06.94-2.06 2.06-.94-2.06-.94-.94-2.06-.94 2.06-2.06.94z\"/><path d=\"M17.41 7.96l-1.37-1.37c-.4-.4-.92-.59-1.43-.59-.52 0-1.04.2-1.43.59L10.3 9.45l-7.72 7.72c-.78.78-.78 2.05 0 2.83L4 21.41c.39.39.9.59 1.41.59.51 0 1.02-.2 1.41-.59l7.78-7.78 2.81-2.81c.8-.78.8-2.07 0-2.86zM5.41 20L4 18.59l7.72-7.72 1.47 1.35L5.41 20z\"/>\n",
              "  </svg>\n",
              "      </button>\n",
              "      \n",
              "  <style>\n",
              "    .colab-df-container {\n",
              "      display:flex;\n",
              "      flex-wrap:wrap;\n",
              "      gap: 12px;\n",
              "    }\n",
              "\n",
              "    .colab-df-convert {\n",
              "      background-color: #E8F0FE;\n",
              "      border: none;\n",
              "      border-radius: 50%;\n",
              "      cursor: pointer;\n",
              "      display: none;\n",
              "      fill: #1967D2;\n",
              "      height: 32px;\n",
              "      padding: 0 0 0 0;\n",
              "      width: 32px;\n",
              "    }\n",
              "\n",
              "    .colab-df-convert:hover {\n",
              "      background-color: #E2EBFA;\n",
              "      box-shadow: 0px 1px 2px rgba(60, 64, 67, 0.3), 0px 1px 3px 1px rgba(60, 64, 67, 0.15);\n",
              "      fill: #174EA6;\n",
              "    }\n",
              "\n",
              "    [theme=dark] .colab-df-convert {\n",
              "      background-color: #3B4455;\n",
              "      fill: #D2E3FC;\n",
              "    }\n",
              "\n",
              "    [theme=dark] .colab-df-convert:hover {\n",
              "      background-color: #434B5C;\n",
              "      box-shadow: 0px 1px 3px 1px rgba(0, 0, 0, 0.15);\n",
              "      filter: drop-shadow(0px 1px 2px rgba(0, 0, 0, 0.3));\n",
              "      fill: #FFFFFF;\n",
              "    }\n",
              "  </style>\n",
              "\n",
              "      <script>\n",
              "        const buttonEl =\n",
              "          document.querySelector('#df-a8b1c435-3734-4a0d-9d7d-feca2420df3f button.colab-df-convert');\n",
              "        buttonEl.style.display =\n",
              "          google.colab.kernel.accessAllowed ? 'block' : 'none';\n",
              "\n",
              "        async function convertToInteractive(key) {\n",
              "          const element = document.querySelector('#df-a8b1c435-3734-4a0d-9d7d-feca2420df3f');\n",
              "          const dataTable =\n",
              "            await google.colab.kernel.invokeFunction('convertToInteractive',\n",
              "                                                     [key], {});\n",
              "          if (!dataTable) return;\n",
              "\n",
              "          const docLinkHtml = 'Like what you see? Visit the ' +\n",
              "            '<a target=\"_blank\" href=https://colab.research.google.com/notebooks/data_table.ipynb>data table notebook</a>'\n",
              "            + ' to learn more about interactive tables.';\n",
              "          element.innerHTML = '';\n",
              "          dataTable['output_type'] = 'display_data';\n",
              "          await google.colab.output.renderOutput(dataTable, element);\n",
              "          const docLink = document.createElement('div');\n",
              "          docLink.innerHTML = docLinkHtml;\n",
              "          element.appendChild(docLink);\n",
              "        }\n",
              "      </script>\n",
              "    </div>\n",
              "  </div>\n",
              "  "
            ]
          },
          "metadata": {},
          "execution_count": 9
        }
      ]
    },
    {
      "cell_type": "markdown",
      "source": [
        "**True** means the value is a missing value while **False** means the value is not a missing value."
      ],
      "metadata": {
        "id": "dV_kPhvQ_y_b"
      }
    },
    {
      "cell_type": "markdown",
      "source": [
        "**Count missing values in each column**"
      ],
      "metadata": {
        "id": "-NiD2xvgAJuC"
      }
    },
    {
      "cell_type": "markdown",
      "source": [
        "Using a for loop in Python allow us to figure out the number of missing values in each column. **True** represents a missing value and **False** means the value is present in the dataset.\n",
        "\n",
        "The method value_counts() counts the number of True values."
      ],
      "metadata": {
        "id": "aU81qqiMAN7L"
      }
    },
    {
      "cell_type": "code",
      "source": [
        "for column in missing_data.columns.values.tolist():\n",
        "  print(column)\n",
        "  print(missing_data[column].value_counts())\n",
        "  print(\"\")"
      ],
      "metadata": {
        "colab": {
          "base_uri": "https://localhost:8080/"
        },
        "id": "awanlO3EAq7W",
        "outputId": "fa77f1e8-f929-487c-fa50-e0438a915d62"
      },
      "execution_count": 10,
      "outputs": [
        {
          "output_type": "stream",
          "name": "stdout",
          "text": [
            "symboling\n",
            "False    205\n",
            "Name: symboling, dtype: int64\n",
            "\n",
            "normalized-losses\n",
            "False    164\n",
            "True      41\n",
            "Name: normalized-losses, dtype: int64\n",
            "\n",
            "make\n",
            "False    205\n",
            "Name: make, dtype: int64\n",
            "\n",
            "fuel-type\n",
            "False    205\n",
            "Name: fuel-type, dtype: int64\n",
            "\n",
            "aspiration\n",
            "False    205\n",
            "Name: aspiration, dtype: int64\n",
            "\n",
            "num-of-doors\n",
            "False    203\n",
            "True       2\n",
            "Name: num-of-doors, dtype: int64\n",
            "\n",
            "body-style\n",
            "False    205\n",
            "Name: body-style, dtype: int64\n",
            "\n",
            "drive-wheels\n",
            "False    205\n",
            "Name: drive-wheels, dtype: int64\n",
            "\n",
            "engine-location\n",
            "False    205\n",
            "Name: engine-location, dtype: int64\n",
            "\n",
            "wheel-base\n",
            "False    205\n",
            "Name: wheel-base, dtype: int64\n",
            "\n",
            "length\n",
            "False    205\n",
            "Name: length, dtype: int64\n",
            "\n",
            "width\n",
            "False    205\n",
            "Name: width, dtype: int64\n",
            "\n",
            "height\n",
            "False    205\n",
            "Name: height, dtype: int64\n",
            "\n",
            "curb-weight\n",
            "False    205\n",
            "Name: curb-weight, dtype: int64\n",
            "\n",
            "engine-type\n",
            "False    205\n",
            "Name: engine-type, dtype: int64\n",
            "\n",
            "num-of-cylinders\n",
            "False    205\n",
            "Name: num-of-cylinders, dtype: int64\n",
            "\n",
            "engine-size\n",
            "False    205\n",
            "Name: engine-size, dtype: int64\n",
            "\n",
            "fuel-system\n",
            "False    205\n",
            "Name: fuel-system, dtype: int64\n",
            "\n",
            "bore\n",
            "False    201\n",
            "True       4\n",
            "Name: bore, dtype: int64\n",
            "\n",
            "stroke\n",
            "False    201\n",
            "True       4\n",
            "Name: stroke, dtype: int64\n",
            "\n",
            "compression-ratio\n",
            "False    205\n",
            "Name: compression-ratio, dtype: int64\n",
            "\n",
            "horsepower\n",
            "False    203\n",
            "True       2\n",
            "Name: horsepower, dtype: int64\n",
            "\n",
            "peak-rpm\n",
            "False    203\n",
            "True       2\n",
            "Name: peak-rpm, dtype: int64\n",
            "\n",
            "city-mpg\n",
            "False    205\n",
            "Name: city-mpg, dtype: int64\n",
            "\n",
            "highway-mpg\n",
            "False    205\n",
            "Name: highway-mpg, dtype: int64\n",
            "\n",
            "price\n",
            "False    201\n",
            "True       4\n",
            "Name: price, dtype: int64\n",
            "\n"
          ]
        }
      ]
    },
    {
      "cell_type": "markdown",
      "source": [
        "Based on the summary above, each column has 205 rows of data and seven of the columns containing missing data:\n",
        "\n",
        "\n",
        "* normalized-losses: 41 missing data.\n",
        "* num-of-doors: 2 missing data.\n",
        "* bore: 4 missing data.\n",
        "* stroke: 4 missing data.\n",
        "* horsepower: 2 missing data.\n",
        "* peak-rpm: 2 missing data.\n",
        "* price: 4 missing data.\n"
      ],
      "metadata": {
        "id": "B7P4irl5BCgr"
      }
    },
    {
      "cell_type": "markdown",
      "source": [
        "**Deal with missing data**"
      ],
      "metadata": {
        "id": "zE9ZFHVzBY5Y"
      }
    },
    {
      "cell_type": "markdown",
      "source": [
        "1. Drop data.\n",
        "\n",
        "* Drop the whole row.\n",
        "* Drop the whole column.\n",
        "\n",
        "2. Replace data.\n",
        "* Replace it by mean.\n",
        "* Replace it by frequency.\n",
        "* Replace it based on other functions."
      ],
      "metadata": {
        "id": "qlVO5_uSBkSZ"
      }
    },
    {
      "cell_type": "markdown",
      "source": [
        "**Calculate the mean value for the \"normalized-losses\" column.**"
      ],
      "metadata": {
        "id": "t-6nzVYUCHfE"
      }
    },
    {
      "cell_type": "code",
      "source": [
        "avg_norm_loss = dataframe[\"normalized-losses\"].astype(\"float\").mean(axis=0)\n",
        "print(\"The average of normalized-losses is:\", avg_norm_loss)"
      ],
      "metadata": {
        "colab": {
          "base_uri": "https://localhost:8080/"
        },
        "id": "wmxsm0wUCPWb",
        "outputId": "442628e4-71bc-4a37-c348-fa93f336ba9b"
      },
      "execution_count": 11,
      "outputs": [
        {
          "output_type": "stream",
          "name": "stdout",
          "text": [
            "The average of normalized-losses is: 122.0\n"
          ]
        }
      ]
    },
    {
      "cell_type": "markdown",
      "source": [
        "**Replace \"NaN\" with mean value in \"normalized-losses\" column.**"
      ],
      "metadata": {
        "id": "S0frBcdeCrxV"
      }
    },
    {
      "cell_type": "code",
      "source": [
        "dataframe[\"normalized-losses\"].replace(np.nan, avg_norm_loss, inplace = True)"
      ],
      "metadata": {
        "id": "iZ-fAsmTCxrK"
      },
      "execution_count": 12,
      "outputs": []
    },
    {
      "cell_type": "markdown",
      "source": [
        "**Calculate the mean value for the \"bore\" column.**"
      ],
      "metadata": {
        "id": "8EkfisMxC6Mv"
      }
    },
    {
      "cell_type": "code",
      "source": [
        "avg_bore = dataframe[\"bore\"].astype(\"float\").mean(axis=0)\n",
        "print(\"The average of bore is:\", avg_bore)"
      ],
      "metadata": {
        "colab": {
          "base_uri": "https://localhost:8080/"
        },
        "id": "s1JW4Hz2C-Y9",
        "outputId": "8aa264bd-49e4-415a-dac8-583f52943d3a"
      },
      "execution_count": 13,
      "outputs": [
        {
          "output_type": "stream",
          "name": "stdout",
          "text": [
            "The average of bore is: 3.3297512437810943\n"
          ]
        }
      ]
    },
    {
      "cell_type": "markdown",
      "source": [
        "**Replace \"NaN\" with the mean value in the \"bore\" column.**"
      ],
      "metadata": {
        "id": "AZapznOMDVM4"
      }
    },
    {
      "cell_type": "code",
      "source": [
        "dataframe[\"bore\"].replace(np.nan, avg_bore, inplace = True)"
      ],
      "metadata": {
        "id": "S2L_TFSuDZ3i"
      },
      "execution_count": 14,
      "outputs": []
    },
    {
      "cell_type": "markdown",
      "source": [
        "**Calculate the mean value for stroke column.**"
      ],
      "metadata": {
        "id": "LcDXtmXPDrlY"
      }
    },
    {
      "cell_type": "code",
      "source": [
        "avg_stroke = dataframe[\"stroke\"].astype(\"float\").mean(axis = 0)\n",
        "print(\"The average of stroke is:\", avg_stroke)\n",
        "\n",
        "# replace NaN by mean value in \"stroke\" column\n",
        "dataframe[\"stroke\"].replace(np.nan, avg_stroke, inplace = True)"
      ],
      "metadata": {
        "colab": {
          "base_uri": "https://localhost:8080/"
        },
        "id": "k7lPTVIWCOYa",
        "outputId": "13d30cdb-f476-4182-d6fa-414a17f2e043"
      },
      "execution_count": 15,
      "outputs": [
        {
          "output_type": "stream",
          "name": "stdout",
          "text": [
            "The average of stroke is: 3.255422885572139\n"
          ]
        }
      ]
    },
    {
      "cell_type": "markdown",
      "source": [
        "**Calculate the mean value for the horsepower column.**"
      ],
      "metadata": {
        "id": "o5oBAE7GD6Ii"
      }
    },
    {
      "cell_type": "code",
      "source": [
        "avg_horsepower = dataframe['horsepower'].astype('float').mean(axis=0)\n",
        "print(\"The average horsepower is:\", avg_horsepower)"
      ],
      "metadata": {
        "colab": {
          "base_uri": "https://localhost:8080/"
        },
        "id": "_WzArLVxD9Kb",
        "outputId": "9c986cfa-7846-406b-838f-09942532a163"
      },
      "execution_count": 16,
      "outputs": [
        {
          "output_type": "stream",
          "name": "stdout",
          "text": [
            "The average horsepower is: 104.25615763546799\n"
          ]
        }
      ]
    },
    {
      "cell_type": "markdown",
      "source": [
        "**Replace NaN with the mean value in the horsepower column.**"
      ],
      "metadata": {
        "id": "eleZLo6CD9mw"
      }
    },
    {
      "cell_type": "code",
      "source": [
        "dataframe['horsepower'].replace(np.nan, avg_horsepower, inplace=True)"
      ],
      "metadata": {
        "id": "gJ6AB-n0ECuf"
      },
      "execution_count": 17,
      "outputs": []
    },
    {
      "cell_type": "markdown",
      "source": [
        "**Calculate the mean value for peak-rpm column.**"
      ],
      "metadata": {
        "id": "kwfV4VOiEH38"
      }
    },
    {
      "cell_type": "code",
      "source": [
        "avg_peakrpm=dataframe['peak-rpm'].astype('float').mean(axis=0)\n",
        "print(\"The average peak rpm is:\", avg_peakrpm)"
      ],
      "metadata": {
        "colab": {
          "base_uri": "https://localhost:8080/"
        },
        "id": "Xizuoe5rELQg",
        "outputId": "30bbe594-1944-47e2-8714-76e9cb700aca"
      },
      "execution_count": 18,
      "outputs": [
        {
          "output_type": "stream",
          "name": "stdout",
          "text": [
            "The average peak rpm is: 5125.369458128079\n"
          ]
        }
      ]
    },
    {
      "cell_type": "markdown",
      "source": [
        "**Replace NaN with the mean value in the peak-rpm column.**"
      ],
      "metadata": {
        "id": "ynVuLIYxELo8"
      }
    },
    {
      "cell_type": "code",
      "source": [
        "dataframe['peak-rpm'].replace(np.nan, avg_peakrpm, inplace=True)"
      ],
      "metadata": {
        "id": "Exavcw6nEREA"
      },
      "execution_count": 19,
      "outputs": []
    },
    {
      "cell_type": "code",
      "source": [
        "# Show which values are present in a particular column\n",
        "dataframe['num-of-doors'].value_counts()"
      ],
      "metadata": {
        "colab": {
          "base_uri": "https://localhost:8080/"
        },
        "id": "XHxy8A-0EhwD",
        "outputId": "bd8faf53-fa8e-4ad8-b4f4-2fdfe777277d"
      },
      "execution_count": 20,
      "outputs": [
        {
          "output_type": "execute_result",
          "data": {
            "text/plain": [
              "four    114\n",
              "two      89\n",
              "Name: num-of-doors, dtype: int64"
            ]
          },
          "metadata": {},
          "execution_count": 20
        }
      ]
    },
    {
      "cell_type": "code",
      "source": [
        "# Calculating the most common type automatically\n",
        "dataframe['num-of-doors'].value_counts().idxmax()"
      ],
      "metadata": {
        "colab": {
          "base_uri": "https://localhost:8080/",
          "height": 35
        },
        "id": "qMWSym49Eo0B",
        "outputId": "2e6c8f36-9782-44bf-cd0e-b3bbe9aea158"
      },
      "execution_count": 21,
      "outputs": [
        {
          "output_type": "execute_result",
          "data": {
            "text/plain": [
              "'four'"
            ],
            "application/vnd.google.colaboratory.intrinsic+json": {
              "type": "string"
            }
          },
          "metadata": {},
          "execution_count": 21
        }
      ]
    },
    {
      "cell_type": "code",
      "source": [
        "# Drop all the rows that don't have price data\n",
        "\n",
        "# simply drop whole row with NaN in \"price\" column\n",
        "dataframe.dropna(subset=[\"price\"], axis=0, inplace=True)\n",
        "\n",
        "# reset index, because we droped two rows\n",
        "dataframe.reset_index(drop=True, inplace=True)"
      ],
      "metadata": {
        "id": "L6yFhaG0Evu3"
      },
      "execution_count": 22,
      "outputs": []
    },
    {
      "cell_type": "code",
      "source": [
        "dataframe.head()"
      ],
      "metadata": {
        "colab": {
          "base_uri": "https://localhost:8080/",
          "height": 386
        },
        "id": "E3Re4VJBE3yj",
        "outputId": "838ce1a9-a831-4973-e2ac-6fffcc445a20"
      },
      "execution_count": 24,
      "outputs": [
        {
          "output_type": "execute_result",
          "data": {
            "text/plain": [
              "   symboling normalized-losses         make fuel-type aspiration num-of-doors  \\\n",
              "0          3             122.0  alfa-romero       gas        std          two   \n",
              "1          3             122.0  alfa-romero       gas        std          two   \n",
              "2          1             122.0  alfa-romero       gas        std          two   \n",
              "3          2               164         audi       gas        std         four   \n",
              "4          2               164         audi       gas        std         four   \n",
              "\n",
              "    body-style drive-wheels engine-location  wheel-base  ...  engine-size  \\\n",
              "0  convertible          rwd           front        88.6  ...          130   \n",
              "1  convertible          rwd           front        88.6  ...          130   \n",
              "2    hatchback          rwd           front        94.5  ...          152   \n",
              "3        sedan          fwd           front        99.8  ...          109   \n",
              "4        sedan          4wd           front        99.4  ...          136   \n",
              "\n",
              "   fuel-system  bore  stroke compression-ratio horsepower  peak-rpm city-mpg  \\\n",
              "0         mpfi  3.47    2.68               9.0        111      5000       21   \n",
              "1         mpfi  3.47    2.68               9.0        111      5000       21   \n",
              "2         mpfi  2.68    3.47               9.0        154      5000       19   \n",
              "3         mpfi  3.19    3.40              10.0        102      5500       24   \n",
              "4         mpfi  3.19    3.40               8.0        115      5500       18   \n",
              "\n",
              "  highway-mpg  price  \n",
              "0          27  13495  \n",
              "1          27  16500  \n",
              "2          26  16500  \n",
              "3          30  13950  \n",
              "4          22  17450  \n",
              "\n",
              "[5 rows x 26 columns]"
            ],
            "text/html": [
              "\n",
              "  <div id=\"df-86141fb6-23c8-402d-85df-2fd0a2dda375\">\n",
              "    <div class=\"colab-df-container\">\n",
              "      <div>\n",
              "<style scoped>\n",
              "    .dataframe tbody tr th:only-of-type {\n",
              "        vertical-align: middle;\n",
              "    }\n",
              "\n",
              "    .dataframe tbody tr th {\n",
              "        vertical-align: top;\n",
              "    }\n",
              "\n",
              "    .dataframe thead th {\n",
              "        text-align: right;\n",
              "    }\n",
              "</style>\n",
              "<table border=\"1\" class=\"dataframe\">\n",
              "  <thead>\n",
              "    <tr style=\"text-align: right;\">\n",
              "      <th></th>\n",
              "      <th>symboling</th>\n",
              "      <th>normalized-losses</th>\n",
              "      <th>make</th>\n",
              "      <th>fuel-type</th>\n",
              "      <th>aspiration</th>\n",
              "      <th>num-of-doors</th>\n",
              "      <th>body-style</th>\n",
              "      <th>drive-wheels</th>\n",
              "      <th>engine-location</th>\n",
              "      <th>wheel-base</th>\n",
              "      <th>...</th>\n",
              "      <th>engine-size</th>\n",
              "      <th>fuel-system</th>\n",
              "      <th>bore</th>\n",
              "      <th>stroke</th>\n",
              "      <th>compression-ratio</th>\n",
              "      <th>horsepower</th>\n",
              "      <th>peak-rpm</th>\n",
              "      <th>city-mpg</th>\n",
              "      <th>highway-mpg</th>\n",
              "      <th>price</th>\n",
              "    </tr>\n",
              "  </thead>\n",
              "  <tbody>\n",
              "    <tr>\n",
              "      <th>0</th>\n",
              "      <td>3</td>\n",
              "      <td>122.0</td>\n",
              "      <td>alfa-romero</td>\n",
              "      <td>gas</td>\n",
              "      <td>std</td>\n",
              "      <td>two</td>\n",
              "      <td>convertible</td>\n",
              "      <td>rwd</td>\n",
              "      <td>front</td>\n",
              "      <td>88.6</td>\n",
              "      <td>...</td>\n",
              "      <td>130</td>\n",
              "      <td>mpfi</td>\n",
              "      <td>3.47</td>\n",
              "      <td>2.68</td>\n",
              "      <td>9.0</td>\n",
              "      <td>111</td>\n",
              "      <td>5000</td>\n",
              "      <td>21</td>\n",
              "      <td>27</td>\n",
              "      <td>13495</td>\n",
              "    </tr>\n",
              "    <tr>\n",
              "      <th>1</th>\n",
              "      <td>3</td>\n",
              "      <td>122.0</td>\n",
              "      <td>alfa-romero</td>\n",
              "      <td>gas</td>\n",
              "      <td>std</td>\n",
              "      <td>two</td>\n",
              "      <td>convertible</td>\n",
              "      <td>rwd</td>\n",
              "      <td>front</td>\n",
              "      <td>88.6</td>\n",
              "      <td>...</td>\n",
              "      <td>130</td>\n",
              "      <td>mpfi</td>\n",
              "      <td>3.47</td>\n",
              "      <td>2.68</td>\n",
              "      <td>9.0</td>\n",
              "      <td>111</td>\n",
              "      <td>5000</td>\n",
              "      <td>21</td>\n",
              "      <td>27</td>\n",
              "      <td>16500</td>\n",
              "    </tr>\n",
              "    <tr>\n",
              "      <th>2</th>\n",
              "      <td>1</td>\n",
              "      <td>122.0</td>\n",
              "      <td>alfa-romero</td>\n",
              "      <td>gas</td>\n",
              "      <td>std</td>\n",
              "      <td>two</td>\n",
              "      <td>hatchback</td>\n",
              "      <td>rwd</td>\n",
              "      <td>front</td>\n",
              "      <td>94.5</td>\n",
              "      <td>...</td>\n",
              "      <td>152</td>\n",
              "      <td>mpfi</td>\n",
              "      <td>2.68</td>\n",
              "      <td>3.47</td>\n",
              "      <td>9.0</td>\n",
              "      <td>154</td>\n",
              "      <td>5000</td>\n",
              "      <td>19</td>\n",
              "      <td>26</td>\n",
              "      <td>16500</td>\n",
              "    </tr>\n",
              "    <tr>\n",
              "      <th>3</th>\n",
              "      <td>2</td>\n",
              "      <td>164</td>\n",
              "      <td>audi</td>\n",
              "      <td>gas</td>\n",
              "      <td>std</td>\n",
              "      <td>four</td>\n",
              "      <td>sedan</td>\n",
              "      <td>fwd</td>\n",
              "      <td>front</td>\n",
              "      <td>99.8</td>\n",
              "      <td>...</td>\n",
              "      <td>109</td>\n",
              "      <td>mpfi</td>\n",
              "      <td>3.19</td>\n",
              "      <td>3.40</td>\n",
              "      <td>10.0</td>\n",
              "      <td>102</td>\n",
              "      <td>5500</td>\n",
              "      <td>24</td>\n",
              "      <td>30</td>\n",
              "      <td>13950</td>\n",
              "    </tr>\n",
              "    <tr>\n",
              "      <th>4</th>\n",
              "      <td>2</td>\n",
              "      <td>164</td>\n",
              "      <td>audi</td>\n",
              "      <td>gas</td>\n",
              "      <td>std</td>\n",
              "      <td>four</td>\n",
              "      <td>sedan</td>\n",
              "      <td>4wd</td>\n",
              "      <td>front</td>\n",
              "      <td>99.4</td>\n",
              "      <td>...</td>\n",
              "      <td>136</td>\n",
              "      <td>mpfi</td>\n",
              "      <td>3.19</td>\n",
              "      <td>3.40</td>\n",
              "      <td>8.0</td>\n",
              "      <td>115</td>\n",
              "      <td>5500</td>\n",
              "      <td>18</td>\n",
              "      <td>22</td>\n",
              "      <td>17450</td>\n",
              "    </tr>\n",
              "  </tbody>\n",
              "</table>\n",
              "<p>5 rows × 26 columns</p>\n",
              "</div>\n",
              "      <button class=\"colab-df-convert\" onclick=\"convertToInteractive('df-86141fb6-23c8-402d-85df-2fd0a2dda375')\"\n",
              "              title=\"Convert this dataframe to an interactive table.\"\n",
              "              style=\"display:none;\">\n",
              "        \n",
              "  <svg xmlns=\"http://www.w3.org/2000/svg\" height=\"24px\"viewBox=\"0 0 24 24\"\n",
              "       width=\"24px\">\n",
              "    <path d=\"M0 0h24v24H0V0z\" fill=\"none\"/>\n",
              "    <path d=\"M18.56 5.44l.94 2.06.94-2.06 2.06-.94-2.06-.94-.94-2.06-.94 2.06-2.06.94zm-11 1L8.5 8.5l.94-2.06 2.06-.94-2.06-.94L8.5 2.5l-.94 2.06-2.06.94zm10 10l.94 2.06.94-2.06 2.06-.94-2.06-.94-.94-2.06-.94 2.06-2.06.94z\"/><path d=\"M17.41 7.96l-1.37-1.37c-.4-.4-.92-.59-1.43-.59-.52 0-1.04.2-1.43.59L10.3 9.45l-7.72 7.72c-.78.78-.78 2.05 0 2.83L4 21.41c.39.39.9.59 1.41.59.51 0 1.02-.2 1.41-.59l7.78-7.78 2.81-2.81c.8-.78.8-2.07 0-2.86zM5.41 20L4 18.59l7.72-7.72 1.47 1.35L5.41 20z\"/>\n",
              "  </svg>\n",
              "      </button>\n",
              "      \n",
              "  <style>\n",
              "    .colab-df-container {\n",
              "      display:flex;\n",
              "      flex-wrap:wrap;\n",
              "      gap: 12px;\n",
              "    }\n",
              "\n",
              "    .colab-df-convert {\n",
              "      background-color: #E8F0FE;\n",
              "      border: none;\n",
              "      border-radius: 50%;\n",
              "      cursor: pointer;\n",
              "      display: none;\n",
              "      fill: #1967D2;\n",
              "      height: 32px;\n",
              "      padding: 0 0 0 0;\n",
              "      width: 32px;\n",
              "    }\n",
              "\n",
              "    .colab-df-convert:hover {\n",
              "      background-color: #E2EBFA;\n",
              "      box-shadow: 0px 1px 2px rgba(60, 64, 67, 0.3), 0px 1px 3px 1px rgba(60, 64, 67, 0.15);\n",
              "      fill: #174EA6;\n",
              "    }\n",
              "\n",
              "    [theme=dark] .colab-df-convert {\n",
              "      background-color: #3B4455;\n",
              "      fill: #D2E3FC;\n",
              "    }\n",
              "\n",
              "    [theme=dark] .colab-df-convert:hover {\n",
              "      background-color: #434B5C;\n",
              "      box-shadow: 0px 1px 3px 1px rgba(0, 0, 0, 0.15);\n",
              "      filter: drop-shadow(0px 1px 2px rgba(0, 0, 0, 0.3));\n",
              "      fill: #FFFFFF;\n",
              "    }\n",
              "  </style>\n",
              "\n",
              "      <script>\n",
              "        const buttonEl =\n",
              "          document.querySelector('#df-86141fb6-23c8-402d-85df-2fd0a2dda375 button.colab-df-convert');\n",
              "        buttonEl.style.display =\n",
              "          google.colab.kernel.accessAllowed ? 'block' : 'none';\n",
              "\n",
              "        async function convertToInteractive(key) {\n",
              "          const element = document.querySelector('#df-86141fb6-23c8-402d-85df-2fd0a2dda375');\n",
              "          const dataTable =\n",
              "            await google.colab.kernel.invokeFunction('convertToInteractive',\n",
              "                                                     [key], {});\n",
              "          if (!dataTable) return;\n",
              "\n",
              "          const docLinkHtml = 'Like what you see? Visit the ' +\n",
              "            '<a target=\"_blank\" href=https://colab.research.google.com/notebooks/data_table.ipynb>data table notebook</a>'\n",
              "            + ' to learn more about interactive tables.';\n",
              "          element.innerHTML = '';\n",
              "          dataTable['output_type'] = 'display_data';\n",
              "          await google.colab.output.renderOutput(dataTable, element);\n",
              "          const docLink = document.createElement('div');\n",
              "          docLink.innerHTML = docLinkHtml;\n",
              "          element.appendChild(docLink);\n",
              "        }\n",
              "      </script>\n",
              "    </div>\n",
              "  </div>\n",
              "  "
            ]
          },
          "metadata": {},
          "execution_count": 24
        }
      ]
    },
    {
      "cell_type": "markdown",
      "source": [
        "### Correct data format"
      ],
      "metadata": {
        "id": "gGRIngNoFMpT"
      }
    },
    {
      "cell_type": "markdown",
      "source": [
        "* .dtype(): Check the data type.\n",
        "* .astype(): Change the data type."
      ],
      "metadata": {
        "id": "xfZ3ULJXFXeO"
      }
    },
    {
      "cell_type": "code",
      "source": [
        "# Checking the data types for each column\n",
        "dataframe.dtypes"
      ],
      "metadata": {
        "colab": {
          "base_uri": "https://localhost:8080/"
        },
        "id": "UDElyYAeFkhO",
        "outputId": "b8c814a9-0603-497e-92ea-17143a0242fd"
      },
      "execution_count": 26,
      "outputs": [
        {
          "output_type": "execute_result",
          "data": {
            "text/plain": [
              "symboling              int64\n",
              "normalized-losses     object\n",
              "make                  object\n",
              "fuel-type             object\n",
              "aspiration            object\n",
              "num-of-doors          object\n",
              "body-style            object\n",
              "drive-wheels          object\n",
              "engine-location       object\n",
              "wheel-base           float64\n",
              "length               float64\n",
              "width                float64\n",
              "height               float64\n",
              "curb-weight            int64\n",
              "engine-type           object\n",
              "num-of-cylinders      object\n",
              "engine-size            int64\n",
              "fuel-system           object\n",
              "bore                  object\n",
              "stroke                object\n",
              "compression-ratio    float64\n",
              "horsepower            object\n",
              "peak-rpm              object\n",
              "city-mpg               int64\n",
              "highway-mpg            int64\n",
              "price                 object\n",
              "dtype: object"
            ]
          },
          "metadata": {},
          "execution_count": 26
        }
      ]
    },
    {
      "cell_type": "markdown",
      "source": [
        "**Convert data types to proper format.**"
      ],
      "metadata": {
        "id": "u-J4D7n2FuPh"
      }
    },
    {
      "cell_type": "code",
      "source": [
        "dataframe[[\"bore\", \"stroke\"]] = dataframe[[\"bore\", \"stroke\"]].astype(\"float\")\n",
        "dataframe[[\"normalized-losses\"]] = dataframe[[\"normalized-losses\"]].astype(\"int\")\n",
        "dataframe[[\"price\"]] = dataframe[[\"price\"]].astype(\"float\")\n",
        "dataframe[[\"peak-rpm\"]] = dataframe[[\"peak-rpm\"]].astype(\"float\")"
      ],
      "metadata": {
        "id": "uodO2PbiFxAc"
      },
      "execution_count": 27,
      "outputs": []
    },
    {
      "cell_type": "code",
      "source": [
        "# Checking the columns again\n",
        "dataframe.dtypes"
      ],
      "metadata": {
        "colab": {
          "base_uri": "https://localhost:8080/"
        },
        "id": "9hccgYbuF30I",
        "outputId": "b0e20f14-e824-4e42-a737-ba44c28032e3"
      },
      "execution_count": 28,
      "outputs": [
        {
          "output_type": "execute_result",
          "data": {
            "text/plain": [
              "symboling              int64\n",
              "normalized-losses      int64\n",
              "make                  object\n",
              "fuel-type             object\n",
              "aspiration            object\n",
              "num-of-doors          object\n",
              "body-style            object\n",
              "drive-wheels          object\n",
              "engine-location       object\n",
              "wheel-base           float64\n",
              "length               float64\n",
              "width                float64\n",
              "height               float64\n",
              "curb-weight            int64\n",
              "engine-type           object\n",
              "num-of-cylinders      object\n",
              "engine-size            int64\n",
              "fuel-system           object\n",
              "bore                 float64\n",
              "stroke               float64\n",
              "compression-ratio    float64\n",
              "horsepower            object\n",
              "peak-rpm             float64\n",
              "city-mpg               int64\n",
              "highway-mpg            int64\n",
              "price                float64\n",
              "dtype: object"
            ]
          },
          "metadata": {},
          "execution_count": 28
        }
      ]
    },
    {
      "cell_type": "markdown",
      "source": [
        "### Data Standardization"
      ],
      "metadata": {
        "id": "m2heUkE_F_e3"
      }
    },
    {
      "cell_type": "markdown",
      "source": [
        "**Standardization:** It is the process of transforming data into a common format, allowing the researcher to make the meaningful comparison."
      ],
      "metadata": {
        "id": "9ZrTvBwZGIHN"
      }
    },
    {
      "cell_type": "code",
      "source": [
        "# Transforming mpg to L/100km in the column of highway-mpg\n",
        "dataframe[\"highway-mpg\"] = 235/dataframe[\"highway-mpg\"]"
      ],
      "metadata": {
        "id": "-M7D0M3EGPqX"
      },
      "execution_count": 29,
      "outputs": []
    },
    {
      "cell_type": "code",
      "source": [
        "# Renaming the column name to \"highway-L/100km\"\n",
        "dataframe.rename(columns={\"highway-mpg\":\"highway-L/100km\"}, inplace = True)"
      ],
      "metadata": {
        "id": "ntZEeBIyHFOG"
      },
      "execution_count": 30,
      "outputs": []
    },
    {
      "cell_type": "code",
      "source": [
        "dataframe.head()"
      ],
      "metadata": {
        "colab": {
          "base_uri": "https://localhost:8080/",
          "height": 386
        },
        "id": "a3exnwbIFgja",
        "outputId": "28b1954f-08e7-4ef5-8612-a37b6c9ba6e2"
      },
      "execution_count": 31,
      "outputs": [
        {
          "output_type": "execute_result",
          "data": {
            "text/plain": [
              "   symboling  normalized-losses         make fuel-type aspiration  \\\n",
              "0          3                122  alfa-romero       gas        std   \n",
              "1          3                122  alfa-romero       gas        std   \n",
              "2          1                122  alfa-romero       gas        std   \n",
              "3          2                164         audi       gas        std   \n",
              "4          2                164         audi       gas        std   \n",
              "\n",
              "  num-of-doors   body-style drive-wheels engine-location  wheel-base  ...  \\\n",
              "0          two  convertible          rwd           front        88.6  ...   \n",
              "1          two  convertible          rwd           front        88.6  ...   \n",
              "2          two    hatchback          rwd           front        94.5  ...   \n",
              "3         four        sedan          fwd           front        99.8  ...   \n",
              "4         four        sedan          4wd           front        99.4  ...   \n",
              "\n",
              "   engine-size  fuel-system  bore  stroke compression-ratio horsepower  \\\n",
              "0          130         mpfi  3.47    2.68               9.0        111   \n",
              "1          130         mpfi  3.47    2.68               9.0        111   \n",
              "2          152         mpfi  2.68    3.47               9.0        154   \n",
              "3          109         mpfi  3.19    3.40              10.0        102   \n",
              "4          136         mpfi  3.19    3.40               8.0        115   \n",
              "\n",
              "   peak-rpm city-mpg  highway-L/100km    price  \n",
              "0    5000.0       21         8.703704  13495.0  \n",
              "1    5000.0       21         8.703704  16500.0  \n",
              "2    5000.0       19         9.038462  16500.0  \n",
              "3    5500.0       24         7.833333  13950.0  \n",
              "4    5500.0       18        10.681818  17450.0  \n",
              "\n",
              "[5 rows x 26 columns]"
            ],
            "text/html": [
              "\n",
              "  <div id=\"df-9cf8fcaa-10a1-45f3-9cfa-002de9f64743\">\n",
              "    <div class=\"colab-df-container\">\n",
              "      <div>\n",
              "<style scoped>\n",
              "    .dataframe tbody tr th:only-of-type {\n",
              "        vertical-align: middle;\n",
              "    }\n",
              "\n",
              "    .dataframe tbody tr th {\n",
              "        vertical-align: top;\n",
              "    }\n",
              "\n",
              "    .dataframe thead th {\n",
              "        text-align: right;\n",
              "    }\n",
              "</style>\n",
              "<table border=\"1\" class=\"dataframe\">\n",
              "  <thead>\n",
              "    <tr style=\"text-align: right;\">\n",
              "      <th></th>\n",
              "      <th>symboling</th>\n",
              "      <th>normalized-losses</th>\n",
              "      <th>make</th>\n",
              "      <th>fuel-type</th>\n",
              "      <th>aspiration</th>\n",
              "      <th>num-of-doors</th>\n",
              "      <th>body-style</th>\n",
              "      <th>drive-wheels</th>\n",
              "      <th>engine-location</th>\n",
              "      <th>wheel-base</th>\n",
              "      <th>...</th>\n",
              "      <th>engine-size</th>\n",
              "      <th>fuel-system</th>\n",
              "      <th>bore</th>\n",
              "      <th>stroke</th>\n",
              "      <th>compression-ratio</th>\n",
              "      <th>horsepower</th>\n",
              "      <th>peak-rpm</th>\n",
              "      <th>city-mpg</th>\n",
              "      <th>highway-L/100km</th>\n",
              "      <th>price</th>\n",
              "    </tr>\n",
              "  </thead>\n",
              "  <tbody>\n",
              "    <tr>\n",
              "      <th>0</th>\n",
              "      <td>3</td>\n",
              "      <td>122</td>\n",
              "      <td>alfa-romero</td>\n",
              "      <td>gas</td>\n",
              "      <td>std</td>\n",
              "      <td>two</td>\n",
              "      <td>convertible</td>\n",
              "      <td>rwd</td>\n",
              "      <td>front</td>\n",
              "      <td>88.6</td>\n",
              "      <td>...</td>\n",
              "      <td>130</td>\n",
              "      <td>mpfi</td>\n",
              "      <td>3.47</td>\n",
              "      <td>2.68</td>\n",
              "      <td>9.0</td>\n",
              "      <td>111</td>\n",
              "      <td>5000.0</td>\n",
              "      <td>21</td>\n",
              "      <td>8.703704</td>\n",
              "      <td>13495.0</td>\n",
              "    </tr>\n",
              "    <tr>\n",
              "      <th>1</th>\n",
              "      <td>3</td>\n",
              "      <td>122</td>\n",
              "      <td>alfa-romero</td>\n",
              "      <td>gas</td>\n",
              "      <td>std</td>\n",
              "      <td>two</td>\n",
              "      <td>convertible</td>\n",
              "      <td>rwd</td>\n",
              "      <td>front</td>\n",
              "      <td>88.6</td>\n",
              "      <td>...</td>\n",
              "      <td>130</td>\n",
              "      <td>mpfi</td>\n",
              "      <td>3.47</td>\n",
              "      <td>2.68</td>\n",
              "      <td>9.0</td>\n",
              "      <td>111</td>\n",
              "      <td>5000.0</td>\n",
              "      <td>21</td>\n",
              "      <td>8.703704</td>\n",
              "      <td>16500.0</td>\n",
              "    </tr>\n",
              "    <tr>\n",
              "      <th>2</th>\n",
              "      <td>1</td>\n",
              "      <td>122</td>\n",
              "      <td>alfa-romero</td>\n",
              "      <td>gas</td>\n",
              "      <td>std</td>\n",
              "      <td>two</td>\n",
              "      <td>hatchback</td>\n",
              "      <td>rwd</td>\n",
              "      <td>front</td>\n",
              "      <td>94.5</td>\n",
              "      <td>...</td>\n",
              "      <td>152</td>\n",
              "      <td>mpfi</td>\n",
              "      <td>2.68</td>\n",
              "      <td>3.47</td>\n",
              "      <td>9.0</td>\n",
              "      <td>154</td>\n",
              "      <td>5000.0</td>\n",
              "      <td>19</td>\n",
              "      <td>9.038462</td>\n",
              "      <td>16500.0</td>\n",
              "    </tr>\n",
              "    <tr>\n",
              "      <th>3</th>\n",
              "      <td>2</td>\n",
              "      <td>164</td>\n",
              "      <td>audi</td>\n",
              "      <td>gas</td>\n",
              "      <td>std</td>\n",
              "      <td>four</td>\n",
              "      <td>sedan</td>\n",
              "      <td>fwd</td>\n",
              "      <td>front</td>\n",
              "      <td>99.8</td>\n",
              "      <td>...</td>\n",
              "      <td>109</td>\n",
              "      <td>mpfi</td>\n",
              "      <td>3.19</td>\n",
              "      <td>3.40</td>\n",
              "      <td>10.0</td>\n",
              "      <td>102</td>\n",
              "      <td>5500.0</td>\n",
              "      <td>24</td>\n",
              "      <td>7.833333</td>\n",
              "      <td>13950.0</td>\n",
              "    </tr>\n",
              "    <tr>\n",
              "      <th>4</th>\n",
              "      <td>2</td>\n",
              "      <td>164</td>\n",
              "      <td>audi</td>\n",
              "      <td>gas</td>\n",
              "      <td>std</td>\n",
              "      <td>four</td>\n",
              "      <td>sedan</td>\n",
              "      <td>4wd</td>\n",
              "      <td>front</td>\n",
              "      <td>99.4</td>\n",
              "      <td>...</td>\n",
              "      <td>136</td>\n",
              "      <td>mpfi</td>\n",
              "      <td>3.19</td>\n",
              "      <td>3.40</td>\n",
              "      <td>8.0</td>\n",
              "      <td>115</td>\n",
              "      <td>5500.0</td>\n",
              "      <td>18</td>\n",
              "      <td>10.681818</td>\n",
              "      <td>17450.0</td>\n",
              "    </tr>\n",
              "  </tbody>\n",
              "</table>\n",
              "<p>5 rows × 26 columns</p>\n",
              "</div>\n",
              "      <button class=\"colab-df-convert\" onclick=\"convertToInteractive('df-9cf8fcaa-10a1-45f3-9cfa-002de9f64743')\"\n",
              "              title=\"Convert this dataframe to an interactive table.\"\n",
              "              style=\"display:none;\">\n",
              "        \n",
              "  <svg xmlns=\"http://www.w3.org/2000/svg\" height=\"24px\"viewBox=\"0 0 24 24\"\n",
              "       width=\"24px\">\n",
              "    <path d=\"M0 0h24v24H0V0z\" fill=\"none\"/>\n",
              "    <path d=\"M18.56 5.44l.94 2.06.94-2.06 2.06-.94-2.06-.94-.94-2.06-.94 2.06-2.06.94zm-11 1L8.5 8.5l.94-2.06 2.06-.94-2.06-.94L8.5 2.5l-.94 2.06-2.06.94zm10 10l.94 2.06.94-2.06 2.06-.94-2.06-.94-.94-2.06-.94 2.06-2.06.94z\"/><path d=\"M17.41 7.96l-1.37-1.37c-.4-.4-.92-.59-1.43-.59-.52 0-1.04.2-1.43.59L10.3 9.45l-7.72 7.72c-.78.78-.78 2.05 0 2.83L4 21.41c.39.39.9.59 1.41.59.51 0 1.02-.2 1.41-.59l7.78-7.78 2.81-2.81c.8-.78.8-2.07 0-2.86zM5.41 20L4 18.59l7.72-7.72 1.47 1.35L5.41 20z\"/>\n",
              "  </svg>\n",
              "      </button>\n",
              "      \n",
              "  <style>\n",
              "    .colab-df-container {\n",
              "      display:flex;\n",
              "      flex-wrap:wrap;\n",
              "      gap: 12px;\n",
              "    }\n",
              "\n",
              "    .colab-df-convert {\n",
              "      background-color: #E8F0FE;\n",
              "      border: none;\n",
              "      border-radius: 50%;\n",
              "      cursor: pointer;\n",
              "      display: none;\n",
              "      fill: #1967D2;\n",
              "      height: 32px;\n",
              "      padding: 0 0 0 0;\n",
              "      width: 32px;\n",
              "    }\n",
              "\n",
              "    .colab-df-convert:hover {\n",
              "      background-color: #E2EBFA;\n",
              "      box-shadow: 0px 1px 2px rgba(60, 64, 67, 0.3), 0px 1px 3px 1px rgba(60, 64, 67, 0.15);\n",
              "      fill: #174EA6;\n",
              "    }\n",
              "\n",
              "    [theme=dark] .colab-df-convert {\n",
              "      background-color: #3B4455;\n",
              "      fill: #D2E3FC;\n",
              "    }\n",
              "\n",
              "    [theme=dark] .colab-df-convert:hover {\n",
              "      background-color: #434B5C;\n",
              "      box-shadow: 0px 1px 3px 1px rgba(0, 0, 0, 0.15);\n",
              "      filter: drop-shadow(0px 1px 2px rgba(0, 0, 0, 0.3));\n",
              "      fill: #FFFFFF;\n",
              "    }\n",
              "  </style>\n",
              "\n",
              "      <script>\n",
              "        const buttonEl =\n",
              "          document.querySelector('#df-9cf8fcaa-10a1-45f3-9cfa-002de9f64743 button.colab-df-convert');\n",
              "        buttonEl.style.display =\n",
              "          google.colab.kernel.accessAllowed ? 'block' : 'none';\n",
              "\n",
              "        async function convertToInteractive(key) {\n",
              "          const element = document.querySelector('#df-9cf8fcaa-10a1-45f3-9cfa-002de9f64743');\n",
              "          const dataTable =\n",
              "            await google.colab.kernel.invokeFunction('convertToInteractive',\n",
              "                                                     [key], {});\n",
              "          if (!dataTable) return;\n",
              "\n",
              "          const docLinkHtml = 'Like what you see? Visit the ' +\n",
              "            '<a target=\"_blank\" href=https://colab.research.google.com/notebooks/data_table.ipynb>data table notebook</a>'\n",
              "            + ' to learn more about interactive tables.';\n",
              "          element.innerHTML = '';\n",
              "          dataTable['output_type'] = 'display_data';\n",
              "          await google.colab.output.renderOutput(dataTable, element);\n",
              "          const docLink = document.createElement('div');\n",
              "          docLink.innerHTML = docLinkHtml;\n",
              "          element.appendChild(docLink);\n",
              "        }\n",
              "      </script>\n",
              "    </div>\n",
              "  </div>\n",
              "  "
            ]
          },
          "metadata": {},
          "execution_count": 31
        }
      ]
    },
    {
      "cell_type": "markdown",
      "source": [
        "### Data Normalization"
      ],
      "metadata": {
        "id": "Xw0ZIYrYHleN"
      }
    },
    {
      "cell_type": "markdown",
      "source": [
        "**Normalization**: It is the process of transforming values of several variables into a similar range. Typical normalization include scaling the variable so the variable average is 0, scaling the variable so the variance is 1, or scaling the variable so the variable values range from 0 to 1."
      ],
      "metadata": {
        "id": "1L9Un67bHrQ9"
      }
    },
    {
      "cell_type": "code",
      "source": [
        "# Normalizing the column \"height\"\n",
        "dataframe[\"height\"] = dataframe[\"height\"]/dataframe[\"height\"].max()"
      ],
      "metadata": {
        "id": "sydQYgKbH8We"
      },
      "execution_count": 32,
      "outputs": []
    },
    {
      "cell_type": "code",
      "source": [
        "# Showing the result\n",
        "dataframe[[\"length\", \"width\", \"height\"]].head()"
      ],
      "metadata": {
        "colab": {
          "base_uri": "https://localhost:8080/",
          "height": 206
        },
        "id": "VJJLH1gRIQ4m",
        "outputId": "92f552b9-ec5b-4fb4-e201-3dae612dd8c4"
      },
      "execution_count": 34,
      "outputs": [
        {
          "output_type": "execute_result",
          "data": {
            "text/plain": [
              "   length  width    height\n",
              "0   168.8   64.1  0.816054\n",
              "1   168.8   64.1  0.816054\n",
              "2   171.2   65.5  0.876254\n",
              "3   176.6   66.2  0.908027\n",
              "4   176.6   66.4  0.908027"
            ],
            "text/html": [
              "\n",
              "  <div id=\"df-a86d8677-8c90-4bc2-af92-5c26d16895c8\">\n",
              "    <div class=\"colab-df-container\">\n",
              "      <div>\n",
              "<style scoped>\n",
              "    .dataframe tbody tr th:only-of-type {\n",
              "        vertical-align: middle;\n",
              "    }\n",
              "\n",
              "    .dataframe tbody tr th {\n",
              "        vertical-align: top;\n",
              "    }\n",
              "\n",
              "    .dataframe thead th {\n",
              "        text-align: right;\n",
              "    }\n",
              "</style>\n",
              "<table border=\"1\" class=\"dataframe\">\n",
              "  <thead>\n",
              "    <tr style=\"text-align: right;\">\n",
              "      <th></th>\n",
              "      <th>length</th>\n",
              "      <th>width</th>\n",
              "      <th>height</th>\n",
              "    </tr>\n",
              "  </thead>\n",
              "  <tbody>\n",
              "    <tr>\n",
              "      <th>0</th>\n",
              "      <td>168.8</td>\n",
              "      <td>64.1</td>\n",
              "      <td>0.816054</td>\n",
              "    </tr>\n",
              "    <tr>\n",
              "      <th>1</th>\n",
              "      <td>168.8</td>\n",
              "      <td>64.1</td>\n",
              "      <td>0.816054</td>\n",
              "    </tr>\n",
              "    <tr>\n",
              "      <th>2</th>\n",
              "      <td>171.2</td>\n",
              "      <td>65.5</td>\n",
              "      <td>0.876254</td>\n",
              "    </tr>\n",
              "    <tr>\n",
              "      <th>3</th>\n",
              "      <td>176.6</td>\n",
              "      <td>66.2</td>\n",
              "      <td>0.908027</td>\n",
              "    </tr>\n",
              "    <tr>\n",
              "      <th>4</th>\n",
              "      <td>176.6</td>\n",
              "      <td>66.4</td>\n",
              "      <td>0.908027</td>\n",
              "    </tr>\n",
              "  </tbody>\n",
              "</table>\n",
              "</div>\n",
              "      <button class=\"colab-df-convert\" onclick=\"convertToInteractive('df-a86d8677-8c90-4bc2-af92-5c26d16895c8')\"\n",
              "              title=\"Convert this dataframe to an interactive table.\"\n",
              "              style=\"display:none;\">\n",
              "        \n",
              "  <svg xmlns=\"http://www.w3.org/2000/svg\" height=\"24px\"viewBox=\"0 0 24 24\"\n",
              "       width=\"24px\">\n",
              "    <path d=\"M0 0h24v24H0V0z\" fill=\"none\"/>\n",
              "    <path d=\"M18.56 5.44l.94 2.06.94-2.06 2.06-.94-2.06-.94-.94-2.06-.94 2.06-2.06.94zm-11 1L8.5 8.5l.94-2.06 2.06-.94-2.06-.94L8.5 2.5l-.94 2.06-2.06.94zm10 10l.94 2.06.94-2.06 2.06-.94-2.06-.94-.94-2.06-.94 2.06-2.06.94z\"/><path d=\"M17.41 7.96l-1.37-1.37c-.4-.4-.92-.59-1.43-.59-.52 0-1.04.2-1.43.59L10.3 9.45l-7.72 7.72c-.78.78-.78 2.05 0 2.83L4 21.41c.39.39.9.59 1.41.59.51 0 1.02-.2 1.41-.59l7.78-7.78 2.81-2.81c.8-.78.8-2.07 0-2.86zM5.41 20L4 18.59l7.72-7.72 1.47 1.35L5.41 20z\"/>\n",
              "  </svg>\n",
              "      </button>\n",
              "      \n",
              "  <style>\n",
              "    .colab-df-container {\n",
              "      display:flex;\n",
              "      flex-wrap:wrap;\n",
              "      gap: 12px;\n",
              "    }\n",
              "\n",
              "    .colab-df-convert {\n",
              "      background-color: #E8F0FE;\n",
              "      border: none;\n",
              "      border-radius: 50%;\n",
              "      cursor: pointer;\n",
              "      display: none;\n",
              "      fill: #1967D2;\n",
              "      height: 32px;\n",
              "      padding: 0 0 0 0;\n",
              "      width: 32px;\n",
              "    }\n",
              "\n",
              "    .colab-df-convert:hover {\n",
              "      background-color: #E2EBFA;\n",
              "      box-shadow: 0px 1px 2px rgba(60, 64, 67, 0.3), 0px 1px 3px 1px rgba(60, 64, 67, 0.15);\n",
              "      fill: #174EA6;\n",
              "    }\n",
              "\n",
              "    [theme=dark] .colab-df-convert {\n",
              "      background-color: #3B4455;\n",
              "      fill: #D2E3FC;\n",
              "    }\n",
              "\n",
              "    [theme=dark] .colab-df-convert:hover {\n",
              "      background-color: #434B5C;\n",
              "      box-shadow: 0px 1px 3px 1px rgba(0, 0, 0, 0.15);\n",
              "      filter: drop-shadow(0px 1px 2px rgba(0, 0, 0, 0.3));\n",
              "      fill: #FFFFFF;\n",
              "    }\n",
              "  </style>\n",
              "\n",
              "      <script>\n",
              "        const buttonEl =\n",
              "          document.querySelector('#df-a86d8677-8c90-4bc2-af92-5c26d16895c8 button.colab-df-convert');\n",
              "        buttonEl.style.display =\n",
              "          google.colab.kernel.accessAllowed ? 'block' : 'none';\n",
              "\n",
              "        async function convertToInteractive(key) {\n",
              "          const element = document.querySelector('#df-a86d8677-8c90-4bc2-af92-5c26d16895c8');\n",
              "          const dataTable =\n",
              "            await google.colab.kernel.invokeFunction('convertToInteractive',\n",
              "                                                     [key], {});\n",
              "          if (!dataTable) return;\n",
              "\n",
              "          const docLinkHtml = 'Like what you see? Visit the ' +\n",
              "            '<a target=\"_blank\" href=https://colab.research.google.com/notebooks/data_table.ipynb>data table notebook</a>'\n",
              "            + ' to learn more about interactive tables.';\n",
              "          element.innerHTML = '';\n",
              "          dataTable['output_type'] = 'display_data';\n",
              "          await google.colab.output.renderOutput(dataTable, element);\n",
              "          const docLink = document.createElement('div');\n",
              "          docLink.innerHTML = docLinkHtml;\n",
              "          element.appendChild(docLink);\n",
              "        }\n",
              "      </script>\n",
              "    </div>\n",
              "  </div>\n",
              "  "
            ]
          },
          "metadata": {},
          "execution_count": 34
        }
      ]
    },
    {
      "cell_type": "markdown",
      "source": [
        "### Binning"
      ],
      "metadata": {
        "id": "HbXtMvvYIiJ8"
      }
    },
    {
      "cell_type": "markdown",
      "source": [
        "**Binning:** It is a process of transforming continuous numerical variables into discrete categorical 'bins' for grouped analysis."
      ],
      "metadata": {
        "id": "9Na_Td69IlVM"
      }
    },
    {
      "cell_type": "markdown",
      "source": [
        "**Example of binning data**"
      ],
      "metadata": {
        "id": "1ydcDvfzIxkZ"
      }
    },
    {
      "cell_type": "code",
      "source": [
        "dataframe[\"horsepower\"] = dataframe[\"horsepower\"].astype(int, copy = True)"
      ],
      "metadata": {
        "id": "O5eyn04DIz5S"
      },
      "execution_count": 35,
      "outputs": []
    },
    {
      "cell_type": "code",
      "source": [
        "%matplotlib inline\n",
        "import matplotlib as plt\n",
        "from matplotlib import pyplot\n",
        "plt.pyplot.hist(dataframe[\"horsepower\"])\n",
        "\n",
        "# set x/y labels and plot title\n",
        "plt.pyplot.xlabel(\"horsepower\")\n",
        "plt.pyplot.ylabel(\"count\")\n",
        "plt.pyplot.title(\"horsepower bins\")"
      ],
      "metadata": {
        "colab": {
          "base_uri": "https://localhost:8080/",
          "height": 313
        },
        "id": "3QB5aNhYI6bw",
        "outputId": "b9f3fa98-1635-4f5f-c354-b7a3489a8377"
      },
      "execution_count": 36,
      "outputs": [
        {
          "output_type": "execute_result",
          "data": {
            "text/plain": [
              "Text(0.5, 1.0, 'horsepower bins')"
            ]
          },
          "metadata": {},
          "execution_count": 36
        },
        {
          "output_type": "display_data",
          "data": {
            "text/plain": [
              "<Figure size 432x288 with 1 Axes>"
            ],
            "image/png": "[encoded data removed]"
          },
          "metadata": {
            "needs_background": "light"
          }
        }
      ]
    },
    {
      "cell_type": "code",
      "source": [
        "# We build a bin array with a minimum value to a maximum value by using the bandwidth calculated above. The values will determine when one bin ends and another begins.\n",
        "bins = np.linspace(min(dataframe[\"horsepower\"]), max(dataframe[\"horsepower\"]), 4)\n",
        "bins"
      ],
      "metadata": {
        "colab": {
          "base_uri": "https://localhost:8080/"
        },
        "id": "XI7VJB-1I_dJ",
        "outputId": "22f0fcfb-f316-43d7-9b26-2d71d5d21b0c"
      },
      "execution_count": 38,
      "outputs": [
        {
          "output_type": "execute_result",
          "data": {
            "text/plain": [
              "array([ 48.        , 119.33333333, 190.66666667, 262.        ])"
            ]
          },
          "metadata": {},
          "execution_count": 38
        }
      ]
    },
    {
      "cell_type": "code",
      "source": [
        "# Set group names\n",
        "group_names = ['Low', 'Medium', 'High']"
      ],
      "metadata": {
        "id": "8SFKjF8ZJL6V"
      },
      "execution_count": 39,
      "outputs": []
    },
    {
      "cell_type": "code",
      "source": [
        "# Applying the function 'cut'\n",
        "dataframe['horsepower-binned'] = pd.cut(dataframe['horsepower'], bins, labels=group_names, include_lowest=True )\n",
        "dataframe[['horsepower','horsepower-binned']].head(20)"
      ],
      "metadata": {
        "colab": {
          "base_uri": "https://localhost:8080/",
          "height": 677
        },
        "id": "cB_Qep2gJQEU",
        "outputId": "b62582b2-74bc-4324-8890-36d4f31a52a3"
      },
      "execution_count": 40,
      "outputs": [
        {
          "output_type": "execute_result",
          "data": {
            "text/plain": [
              "    horsepower horsepower-binned\n",
              "0          111               Low\n",
              "1          111               Low\n",
              "2          154            Medium\n",
              "3          102               Low\n",
              "4          115               Low\n",
              "5          110               Low\n",
              "6          110               Low\n",
              "7          110               Low\n",
              "8          140            Medium\n",
              "9          101               Low\n",
              "10         101               Low\n",
              "11         121            Medium\n",
              "12         121            Medium\n",
              "13         121            Medium\n",
              "14         182            Medium\n",
              "15         182            Medium\n",
              "16         182            Medium\n",
              "17          48               Low\n",
              "18          70               Low\n",
              "19          70               Low"
            ],
            "text/html": [
              "\n",
              "  <div id=\"df-be557f50-cc01-49e2-886f-c70d62fd4168\">\n",
              "    <div class=\"colab-df-container\">\n",
              "      <div>\n",
              "<style scoped>\n",
              "    .dataframe tbody tr th:only-of-type {\n",
              "        vertical-align: middle;\n",
              "    }\n",
              "\n",
              "    .dataframe tbody tr th {\n",
              "        vertical-align: top;\n",
              "    }\n",
              "\n",
              "    .dataframe thead th {\n",
              "        text-align: right;\n",
              "    }\n",
              "</style>\n",
              "<table border=\"1\" class=\"dataframe\">\n",
              "  <thead>\n",
              "    <tr style=\"text-align: right;\">\n",
              "      <th></th>\n",
              "      <th>horsepower</th>\n",
              "      <th>horsepower-binned</th>\n",
              "    </tr>\n",
              "  </thead>\n",
              "  <tbody>\n",
              "    <tr>\n",
              "      <th>0</th>\n",
              "      <td>111</td>\n",
              "      <td>Low</td>\n",
              "    </tr>\n",
              "    <tr>\n",
              "      <th>1</th>\n",
              "      <td>111</td>\n",
              "      <td>Low</td>\n",
              "    </tr>\n",
              "    <tr>\n",
              "      <th>2</th>\n",
              "      <td>154</td>\n",
              "      <td>Medium</td>\n",
              "    </tr>\n",
              "    <tr>\n",
              "      <th>3</th>\n",
              "      <td>102</td>\n",
              "      <td>Low</td>\n",
              "    </tr>\n",
              "    <tr>\n",
              "      <th>4</th>\n",
              "      <td>115</td>\n",
              "      <td>Low</td>\n",
              "    </tr>\n",
              "    <tr>\n",
              "      <th>5</th>\n",
              "      <td>110</td>\n",
              "      <td>Low</td>\n",
              "    </tr>\n",
              "    <tr>\n",
              "      <th>6</th>\n",
              "      <td>110</td>\n",
              "      <td>Low</td>\n",
              "    </tr>\n",
              "    <tr>\n",
              "      <th>7</th>\n",
              "      <td>110</td>\n",
              "      <td>Low</td>\n",
              "    </tr>\n",
              "    <tr>\n",
              "      <th>8</th>\n",
              "      <td>140</td>\n",
              "      <td>Medium</td>\n",
              "    </tr>\n",
              "    <tr>\n",
              "      <th>9</th>\n",
              "      <td>101</td>\n",
              "      <td>Low</td>\n",
              "    </tr>\n",
              "    <tr>\n",
              "      <th>10</th>\n",
              "      <td>101</td>\n",
              "      <td>Low</td>\n",
              "    </tr>\n",
              "    <tr>\n",
              "      <th>11</th>\n",
              "      <td>121</td>\n",
              "      <td>Medium</td>\n",
              "    </tr>\n",
              "    <tr>\n",
              "      <th>12</th>\n",
              "      <td>121</td>\n",
              "      <td>Medium</td>\n",
              "    </tr>\n",
              "    <tr>\n",
              "      <th>13</th>\n",
              "      <td>121</td>\n",
              "      <td>Medium</td>\n",
              "    </tr>\n",
              "    <tr>\n",
              "      <th>14</th>\n",
              "      <td>182</td>\n",
              "      <td>Medium</td>\n",
              "    </tr>\n",
              "    <tr>\n",
              "      <th>15</th>\n",
              "      <td>182</td>\n",
              "      <td>Medium</td>\n",
              "    </tr>\n",
              "    <tr>\n",
              "      <th>16</th>\n",
              "      <td>182</td>\n",
              "      <td>Medium</td>\n",
              "    </tr>\n",
              "    <tr>\n",
              "      <th>17</th>\n",
              "      <td>48</td>\n",
              "      <td>Low</td>\n",
              "    </tr>\n",
              "    <tr>\n",
              "      <th>18</th>\n",
              "      <td>70</td>\n",
              "      <td>Low</td>\n",
              "    </tr>\n",
              "    <tr>\n",
              "      <th>19</th>\n",
              "      <td>70</td>\n",
              "      <td>Low</td>\n",
              "    </tr>\n",
              "  </tbody>\n",
              "</table>\n",
              "</div>\n",
              "      <button class=\"colab-df-convert\" onclick=\"convertToInteractive('df-be557f50-cc01-49e2-886f-c70d62fd4168')\"\n",
              "              title=\"Convert this dataframe to an interactive table.\"\n",
              "              style=\"display:none;\">\n",
              "        \n",
              "  <svg xmlns=\"http://www.w3.org/2000/svg\" height=\"24px\"viewBox=\"0 0 24 24\"\n",
              "       width=\"24px\">\n",
              "    <path d=\"M0 0h24v24H0V0z\" fill=\"none\"/>\n",
              "    <path d=\"M18.56 5.44l.94 2.06.94-2.06 2.06-.94-2.06-.94-.94-2.06-.94 2.06-2.06.94zm-11 1L8.5 8.5l.94-2.06 2.06-.94-2.06-.94L8.5 2.5l-.94 2.06-2.06.94zm10 10l.94 2.06.94-2.06 2.06-.94-2.06-.94-.94-2.06-.94 2.06-2.06.94z\"/><path d=\"M17.41 7.96l-1.37-1.37c-.4-.4-.92-.59-1.43-.59-.52 0-1.04.2-1.43.59L10.3 9.45l-7.72 7.72c-.78.78-.78 2.05 0 2.83L4 21.41c.39.39.9.59 1.41.59.51 0 1.02-.2 1.41-.59l7.78-7.78 2.81-2.81c.8-.78.8-2.07 0-2.86zM5.41 20L4 18.59l7.72-7.72 1.47 1.35L5.41 20z\"/>\n",
              "  </svg>\n",
              "      </button>\n",
              "      \n",
              "  <style>\n",
              "    .colab-df-container {\n",
              "      display:flex;\n",
              "      flex-wrap:wrap;\n",
              "      gap: 12px;\n",
              "    }\n",
              "\n",
              "    .colab-df-convert {\n",
              "      background-color: #E8F0FE;\n",
              "      border: none;\n",
              "      border-radius: 50%;\n",
              "      cursor: pointer;\n",
              "      display: none;\n",
              "      fill: #1967D2;\n",
              "      height: 32px;\n",
              "      padding: 0 0 0 0;\n",
              "      width: 32px;\n",
              "    }\n",
              "\n",
              "    .colab-df-convert:hover {\n",
              "      background-color: #E2EBFA;\n",
              "      box-shadow: 0px 1px 2px rgba(60, 64, 67, 0.3), 0px 1px 3px 1px rgba(60, 64, 67, 0.15);\n",
              "      fill: #174EA6;\n",
              "    }\n",
              "\n",
              "    [theme=dark] .colab-df-convert {\n",
              "      background-color: #3B4455;\n",
              "      fill: #D2E3FC;\n",
              "    }\n",
              "\n",
              "    [theme=dark] .colab-df-convert:hover {\n",
              "      background-color: #434B5C;\n",
              "      box-shadow: 0px 1px 3px 1px rgba(0, 0, 0, 0.15);\n",
              "      filter: drop-shadow(0px 1px 2px rgba(0, 0, 0, 0.3));\n",
              "      fill: #FFFFFF;\n",
              "    }\n",
              "  </style>\n",
              "\n",
              "      <script>\n",
              "        const buttonEl =\n",
              "          document.querySelector('#df-be557f50-cc01-49e2-886f-c70d62fd4168 button.colab-df-convert');\n",
              "        buttonEl.style.display =\n",
              "          google.colab.kernel.accessAllowed ? 'block' : 'none';\n",
              "\n",
              "        async function convertToInteractive(key) {\n",
              "          const element = document.querySelector('#df-be557f50-cc01-49e2-886f-c70d62fd4168');\n",
              "          const dataTable =\n",
              "            await google.colab.kernel.invokeFunction('convertToInteractive',\n",
              "                                                     [key], {});\n",
              "          if (!dataTable) return;\n",
              "\n",
              "          const docLinkHtml = 'Like what you see? Visit the ' +\n",
              "            '<a target=\"_blank\" href=https://colab.research.google.com/notebooks/data_table.ipynb>data table notebook</a>'\n",
              "            + ' to learn more about interactive tables.';\n",
              "          element.innerHTML = '';\n",
              "          dataTable['output_type'] = 'display_data';\n",
              "          await google.colab.output.renderOutput(dataTable, element);\n",
              "          const docLink = document.createElement('div');\n",
              "          docLink.innerHTML = docLinkHtml;\n",
              "          element.appendChild(docLink);\n",
              "        }\n",
              "      </script>\n",
              "    </div>\n",
              "  </div>\n",
              "  "
            ]
          },
          "metadata": {},
          "execution_count": 40
        }
      ]
    },
    {
      "cell_type": "code",
      "source": [
        "# Show the number of vehicles in each bin\n",
        "dataframe[\"horsepower-binned\"].value_counts()"
      ],
      "metadata": {
        "colab": {
          "base_uri": "https://localhost:8080/"
        },
        "id": "xq9JGgjdJb78",
        "outputId": "d613282d-d9e3-4abf-c40a-460e3bef9e50"
      },
      "execution_count": 41,
      "outputs": [
        {
          "output_type": "execute_result",
          "data": {
            "text/plain": [
              "Low       153\n",
              "Medium     43\n",
              "High        5\n",
              "Name: horsepower-binned, dtype: int64"
            ]
          },
          "metadata": {},
          "execution_count": 41
        }
      ]
    },
    {
      "cell_type": "code",
      "source": [
        "%matplotlib inline\n",
        "import matplotlib as plt\n",
        "from matplotlib import pyplot\n",
        "pyplot.bar(group_names, dataframe[\"horsepower-binned\"].value_counts())\n",
        "\n",
        "# set x/y labels and plot title\n",
        "plt.pyplot.xlabel(\"horsepower\")\n",
        "plt.pyplot.ylabel(\"count\")\n",
        "plt.pyplot.title(\"horsepower bins\")"
      ],
      "metadata": {
        "colab": {
          "base_uri": "https://localhost:8080/",
          "height": 313
        },
        "id": "B0a7OQ_wJkoY",
        "outputId": "69b36e09-5f9e-45df-97fc-0390c0759ee1"
      },
      "execution_count": 42,
      "outputs": [
        {
          "output_type": "execute_result",
          "data": {
            "text/plain": [
              "Text(0.5, 1.0, 'horsepower bins')"
            ]
          },
          "metadata": {},
          "execution_count": 42
        },
        {
          "output_type": "display_data",
          "data": {
            "text/plain": [
              "<Figure size 432x288 with 1 Axes>"
            ],
            "image/png": "[encoded data removed]"
          },
          "metadata": {
            "needs_background": "light"
          }
        }
      ]
    },
    {
      "cell_type": "markdown",
      "source": [
        "### Graded Review Questions"
      ],
      "metadata": {
        "id": "hQmhbQQuLxiU"
      }
    },
    {
      "cell_type": "markdown",
      "source": [
        "![review_questions.png](data:image/png;base64,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)"
      ],
      "metadata": {
        "id": "LzNcmmOpL1h5"
      }
    },
    {
      "cell_type": "markdown",
      "source": [
        "### Course Progress"
      ],
      "metadata": {
        "id": "aYNgai9AL_lf"
      }
    },
    {
      "cell_type": "markdown",
      "source": [
        "![course_progress.png](data:image/png;base64,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)"
      ],
      "metadata": {
        "id": "u2CYYIiRMB4U"
      }
    }
  ]
}