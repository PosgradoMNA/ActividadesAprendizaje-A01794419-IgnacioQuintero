{
  "nbformat": 4,
  "nbformat_minor": 0,
  "metadata": {
    "colab": {
      "name": "assignment01.ipynb",
      "provenance": []
    },
    "kernelspec": {
      "name": "python3",
      "display_name": "Python 3"
    },
    "language_info": {
      "name": "python"
    }
  },
  "cells": [
    {
      "cell_type": "markdown",
      "source": [
        "### Python for Data Science - IBM Course"
      ],
      "metadata": {
        "id": "I0JfdlIAFh8B"
      }
    },
    {
      "cell_type": "markdown",
      "source": [
        "### Ignacio Antonio Quintero Chávez / Modules 1 - 3"
      ],
      "metadata": {
        "id": "TnHCXnxdN0_V"
      }
    },
    {
      "cell_type": "code",
      "source": [
        "#An statement or expression is an instruction the computer will run or execute.\n",
        "#Argument = the value in the parentheses.\n",
        "print(\"Hello World!\")"
      ],
      "metadata": {
        "id": "mxM_WppZPMFx",
        "outputId": "17b346a8-ace8-4109-f20d-cca801a4f726",
        "colab": {
          "base_uri": "https://localhost:8080/"
        }
      },
      "execution_count": null,
      "outputs": [
        {
          "output_type": "stream",
          "name": "stdout",
          "text": [
            "Hello World!\n"
          ]
        }
      ]
    },
    {
      "cell_type": "code",
      "source": [
        "# Integer\n",
        "print(11)\n",
        "# Float\n",
        "print(15.30)\n",
        "# String\n",
        "print(\"Hello Python\")"
      ],
      "metadata": {
        "id": "rittD00hM56M",
        "outputId": "a6c9cd96-2cf6-4a0e-86c4-4af7bfa3f276",
        "colab": {
          "base_uri": "https://localhost:8080/"
        }
      },
      "execution_count": null,
      "outputs": [
        {
          "output_type": "stream",
          "name": "stdout",
          "text": [
            "11\n",
            "15.3\n",
            "Hello Python\n"
          ]
        }
      ]
    },
    {
      "cell_type": "code",
      "source": [
        "type(\"This is a string\")"
      ],
      "metadata": {
        "id": "H19teYAKQyxS",
        "outputId": "2aa7b25f-d891-4351-c640-f584f1ff87e2",
        "colab": {
          "base_uri": "https://localhost:8080/"
        }
      },
      "execution_count": null,
      "outputs": [
        {
          "output_type": "execute_result",
          "data": {
            "text/plain": [
              "str"
            ]
          },
          "metadata": {},
          "execution_count": 5
        }
      ]
    },
    {
      "cell_type": "code",
      "source": [
        "name = \"Ignacio\"\n",
        "age = 25"
      ],
      "metadata": {
        "id": "uyJDreuwQ9Yu"
      },
      "execution_count": null,
      "outputs": []
    },
    {
      "cell_type": "code",
      "source": [
        "print(name)\n",
        "print(age)"
      ],
      "metadata": {
        "id": "OLY4HrvzTsHu",
        "outputId": "a4434233-65d1-4471-e640-a7244d0e2db1",
        "colab": {
          "base_uri": "https://localhost:8080/"
        }
      },
      "execution_count": null,
      "outputs": [
        {
          "output_type": "stream",
          "name": "stdout",
          "text": [
            "Ignacio\n",
            "25\n"
          ]
        }
      ]
    },
    {
      "cell_type": "markdown",
      "source": [
        "### Mathematical Operations"
      ],
      "metadata": {
        "id": "VBrAVGeQSWRo"
      }
    },
    {
      "cell_type": "code",
      "source": [
        "40 + 60"
      ],
      "metadata": {
        "id": "XlyjQ_K6TuhT",
        "outputId": "f9a0c3ff-e5ce-463a-c526-1da62fec6a22",
        "colab": {
          "base_uri": "https://localhost:8080/"
        }
      },
      "execution_count": null,
      "outputs": [
        {
          "output_type": "execute_result",
          "data": {
            "text/plain": [
              "100"
            ]
          },
          "metadata": {},
          "execution_count": 1
        }
      ]
    },
    {
      "cell_type": "code",
      "source": [
        "500 - 40"
      ],
      "metadata": {
        "id": "Dn9LZXg8SY4F",
        "outputId": "873f39be-bbc6-460a-ee37-7ad5d341af8b",
        "colab": {
          "base_uri": "https://localhost:8080/"
        }
      },
      "execution_count": null,
      "outputs": [
        {
          "output_type": "execute_result",
          "data": {
            "text/plain": [
              "460"
            ]
          },
          "metadata": {},
          "execution_count": 2
        }
      ]
    },
    {
      "cell_type": "code",
      "source": [
        "300 / 7"
      ],
      "metadata": {
        "id": "Yw2kSLr8SdTi",
        "outputId": "ee24ee14-cbc0-4fb1-fdbd-c63eae933404",
        "colab": {
          "base_uri": "https://localhost:8080/"
        }
      },
      "execution_count": null,
      "outputs": [
        {
          "output_type": "execute_result",
          "data": {
            "text/plain": [
              "42.857142857142854"
            ]
          },
          "metadata": {},
          "execution_count": 3
        }
      ]
    },
    {
      "cell_type": "code",
      "source": [
        "300 // 7"
      ],
      "metadata": {
        "id": "YCJnRGCuSemp",
        "outputId": "7335b34d-08e9-4012-a357-4f41b4fcdba0",
        "colab": {
          "base_uri": "https://localhost:8080/"
        }
      },
      "execution_count": null,
      "outputs": [
        {
          "output_type": "execute_result",
          "data": {
            "text/plain": [
              "42"
            ]
          },
          "metadata": {},
          "execution_count": 4
        }
      ]
    },
    {
      "cell_type": "code",
      "source": [
        "(30+2) * 60"
      ],
      "metadata": {
        "id": "xzBH95xjSXG6",
        "outputId": "a6d1f502-ccae-4ae7-aff3-565f4b17b72a",
        "colab": {
          "base_uri": "https://localhost:8080/"
        }
      },
      "execution_count": null,
      "outputs": [
        {
          "output_type": "execute_result",
          "data": {
            "text/plain": [
              "1920"
            ]
          },
          "metadata": {},
          "execution_count": 5
        }
      ]
    },
    {
      "cell_type": "code",
      "source": [
        "x = 43 + 60 + 16 +41"
      ],
      "metadata": {
        "id": "DU6TEsxoStB7"
      },
      "execution_count": null,
      "outputs": []
    },
    {
      "cell_type": "code",
      "source": [
        "print(x)"
      ],
      "metadata": {
        "id": "o8FfZB_PS3jK",
        "outputId": "7656fd28-d1c0-4787-ba32-b78b39294013",
        "colab": {
          "base_uri": "https://localhost:8080/"
        }
      },
      "execution_count": null,
      "outputs": [
        {
          "output_type": "stream",
          "name": "stdout",
          "text": [
            "160\n"
          ]
        }
      ]
    },
    {
      "cell_type": "code",
      "source": [
        "x + 100"
      ],
      "metadata": {
        "id": "JsMDTh3NS5aq",
        "outputId": "57956eb9-76f0-44c6-eb90-c3a193573cb2",
        "colab": {
          "base_uri": "https://localhost:8080/"
        }
      },
      "execution_count": null,
      "outputs": [
        {
          "output_type": "execute_result",
          "data": {
            "text/plain": [
              "260"
            ]
          },
          "metadata": {},
          "execution_count": 8
        }
      ]
    },
    {
      "cell_type": "markdown",
      "source": [
        "### Strings"
      ],
      "metadata": {
        "id": "_MumpgDwU_zk"
      }
    },
    {
      "cell_type": "code",
      "source": [
        "\"Ignacio Quintero\""
      ],
      "metadata": {
        "id": "VkFGIQRQVAlC",
        "outputId": "84217936-08bb-427f-d61f-8dc9df6a0999",
        "colab": {
          "base_uri": "https://localhost:8080/",
          "height": 35
        }
      },
      "execution_count": null,
      "outputs": [
        {
          "output_type": "execute_result",
          "data": {
            "text/plain": [
              "'Ignacio Quintero'"
            ],
            "application/vnd.google.colaboratory.intrinsic+json": {
              "type": "string"
            }
          },
          "metadata": {},
          "execution_count": 9
        }
      ]
    },
    {
      "cell_type": "code",
      "source": [
        "name = \"Ignacio\""
      ],
      "metadata": {
        "id": "Dk-6k9yLVC4j"
      },
      "execution_count": null,
      "outputs": []
    },
    {
      "cell_type": "code",
      "source": [
        "name[0]"
      ],
      "metadata": {
        "id": "Xb6vPbw_VEnq",
        "outputId": "5949a7be-ed07-4459-dbdf-721f658472cf",
        "colab": {
          "base_uri": "https://localhost:8080/",
          "height": 35
        }
      },
      "execution_count": null,
      "outputs": [
        {
          "output_type": "execute_result",
          "data": {
            "text/plain": [
              "'I'"
            ],
            "application/vnd.google.colaboratory.intrinsic+json": {
              "type": "string"
            }
          },
          "metadata": {},
          "execution_count": 11
        }
      ]
    },
    {
      "cell_type": "code",
      "source": [
        "name[::-1]"
      ],
      "metadata": {
        "id": "UuvVGqd_VdTR",
        "outputId": "724e8c37-17df-448b-ce8f-456861b5a222",
        "colab": {
          "base_uri": "https://localhost:8080/",
          "height": 35
        }
      },
      "execution_count": null,
      "outputs": [
        {
          "output_type": "execute_result",
          "data": {
            "text/plain": [
              "'oicangI'"
            ],
            "application/vnd.google.colaboratory.intrinsic+json": {
              "type": "string"
            }
          },
          "metadata": {},
          "execution_count": 12
        }
      ]
    },
    {
      "cell_type": "code",
      "source": [
        "len(\"Ignacio Quintero\")"
      ],
      "metadata": {
        "id": "rWR6lC-zVgd5",
        "outputId": "378e3bca-f528-4513-fcb0-a29a629ea8a1",
        "colab": {
          "base_uri": "https://localhost:8080/"
        }
      },
      "execution_count": null,
      "outputs": [
        {
          "output_type": "execute_result",
          "data": {
            "text/plain": [
              "16"
            ]
          },
          "metadata": {},
          "execution_count": 13
        }
      ]
    },
    {
      "cell_type": "code",
      "source": [
        "2 * \"Ignacio Quintero\""
      ],
      "metadata": {
        "id": "tLfPK0r7V0NZ",
        "outputId": "4f1e8e67-926c-4f47-ead5-2dba9f8353d2",
        "colab": {
          "base_uri": "https://localhost:8080/",
          "height": 35
        }
      },
      "execution_count": null,
      "outputs": [
        {
          "output_type": "execute_result",
          "data": {
            "text/plain": [
              "'Ignacio QuinteroIgnacio Quintero'"
            ],
            "application/vnd.google.colaboratory.intrinsic+json": {
              "type": "string"
            }
          },
          "metadata": {},
          "execution_count": 15
        }
      ]
    },
    {
      "cell_type": "code",
      "source": [
        "print(\"Ignacio Quintero \\n is my name\")"
      ],
      "metadata": {
        "id": "IwhreoN5WcLT",
        "outputId": "9cd9f7ee-c6c1-4d0e-f352-ff2b1fc4cc7b",
        "colab": {
          "base_uri": "https://localhost:8080/"
        }
      },
      "execution_count": null,
      "outputs": [
        {
          "output_type": "stream",
          "name": "stdout",
          "text": [
            "Ignacio Quintero \n",
            " is my name\n"
          ]
        }
      ]
    },
    {
      "cell_type": "code",
      "source": [
        "print(\"Ignacio Quintero \\t is my name\")"
      ],
      "metadata": {
        "id": "DO4BHNRrWwTJ",
        "outputId": "9ed675ee-7a06-4a06-fdb5-d769dd7e9f7d",
        "colab": {
          "base_uri": "https://localhost:8080/"
        }
      },
      "execution_count": null,
      "outputs": [
        {
          "output_type": "stream",
          "name": "stdout",
          "text": [
            "Ignacio Quintero \t is my name\n"
          ]
        }
      ]
    },
    {
      "cell_type": "code",
      "source": [
        "name.upper()"
      ],
      "metadata": {
        "id": "bmMGv-g9W3mg",
        "outputId": "7877936f-dd7e-4111-e417-982061e8fbf0",
        "colab": {
          "base_uri": "https://localhost:8080/",
          "height": 35
        }
      },
      "execution_count": null,
      "outputs": [
        {
          "output_type": "execute_result",
          "data": {
            "text/plain": [
              "'IGNACIO'"
            ],
            "application/vnd.google.colaboratory.intrinsic+json": {
              "type": "string"
            }
          },
          "metadata": {},
          "execution_count": 19
        }
      ]
    },
    {
      "cell_type": "code",
      "source": [
        "name.lower()"
      ],
      "metadata": {
        "id": "5wnixqVnXRRK",
        "outputId": "ed99bd74-655d-4480-f186-c552b7ffba04",
        "colab": {
          "base_uri": "https://localhost:8080/",
          "height": 35
        }
      },
      "execution_count": null,
      "outputs": [
        {
          "output_type": "execute_result",
          "data": {
            "text/plain": [
              "'ignacio'"
            ],
            "application/vnd.google.colaboratory.intrinsic+json": {
              "type": "string"
            }
          },
          "metadata": {},
          "execution_count": 20
        }
      ]
    },
    {
      "cell_type": "code",
      "source": [
        "name = \"My name is Ignacio Quintero\"\n",
        "name.split()"
      ],
      "metadata": {
        "id": "AEJr0yFiXTBh",
        "outputId": "29232d01-363e-4cc2-da8c-84dbe0791e04",
        "colab": {
          "base_uri": "https://localhost:8080/"
        }
      },
      "execution_count": null,
      "outputs": [
        {
          "output_type": "execute_result",
          "data": {
            "text/plain": [
              "['My', 'name', 'is', 'Ignacio', 'Quintero']"
            ]
          },
          "metadata": {},
          "execution_count": 22
        }
      ]
    },
    {
      "cell_type": "code",
      "source": [
        "Numbers = \"0123456\"\n",
        "Numbers[::2]"
      ],
      "metadata": {
        "id": "UlNCV6juXcl5",
        "outputId": "a39d7aa5-1f96-46a2-ce26-0a406a1bf552",
        "colab": {
          "base_uri": "https://localhost:8080/",
          "height": 35
        }
      },
      "execution_count": null,
      "outputs": [
        {
          "output_type": "execute_result",
          "data": {
            "text/plain": [
              "'0246'"
            ],
            "application/vnd.google.colaboratory.intrinsic+json": {
              "type": "string"
            }
          },
          "metadata": {},
          "execution_count": 24
        }
      ]
    },
    {
      "cell_type": "markdown",
      "source": [
        "### Lists and Tuples"
      ],
      "metadata": {
        "id": "BCue08xhhhuD"
      }
    },
    {
      "cell_type": "code",
      "source": [
        "myTuple = (\"disco\", 10, 1.2)\n",
        "print(myTuple)"
      ],
      "metadata": {
        "id": "AUmy5RjghjoZ",
        "outputId": "a326715e-19ef-4e4d-98f7-8e36951a5768",
        "colab": {
          "base_uri": "https://localhost:8080/"
        }
      },
      "execution_count": null,
      "outputs": [
        {
          "output_type": "stream",
          "name": "stdout",
          "text": [
            "('disco', 10, 1.2)\n"
          ]
        }
      ]
    },
    {
      "cell_type": "code",
      "source": [
        "myTuple[-1]"
      ],
      "metadata": {
        "id": "vLO2B1jKnHgI",
        "outputId": "a1e9159d-4824-4a51-a397-adeae86edfe6",
        "colab": {
          "base_uri": "https://localhost:8080/"
        }
      },
      "execution_count": null,
      "outputs": [
        {
          "output_type": "execute_result",
          "data": {
            "text/plain": [
              "1.2"
            ]
          },
          "metadata": {},
          "execution_count": 28
        }
      ]
    },
    {
      "cell_type": "code",
      "source": [
        "mySndTuple = myTuple + (20, 30, 40)\n",
        "mySndTuple"
      ],
      "metadata": {
        "id": "5LgXNxHknjYf",
        "outputId": "0047947c-c160-4b9f-eb4a-2d55cf0fff85",
        "colab": {
          "base_uri": "https://localhost:8080/"
        }
      },
      "execution_count": null,
      "outputs": [
        {
          "output_type": "execute_result",
          "data": {
            "text/plain": [
              "('disco', 10, 1.2, 20, 30, 40)"
            ]
          },
          "metadata": {},
          "execution_count": 29
        }
      ]
    },
    {
      "cell_type": "code",
      "source": [
        "len(mySndTuple)"
      ],
      "metadata": {
        "id": "kVahmC1Xn1Yv",
        "outputId": "04986914-90a2-4e64-d7b7-46ac11147d9d",
        "colab": {
          "base_uri": "https://localhost:8080/"
        }
      },
      "execution_count": null,
      "outputs": [
        {
          "output_type": "execute_result",
          "data": {
            "text/plain": [
              "6"
            ]
          },
          "metadata": {},
          "execution_count": 30
        }
      ]
    },
    {
      "cell_type": "code",
      "source": [
        "# Nesting\n",
        "NT = (1 , 2, (\"pop\", \"rock\"), (3,4), (\"disco\"),(1,2))\n",
        "NT"
      ],
      "metadata": {
        "id": "lMqHpPRzn8eW",
        "outputId": "a3bdaf72-a102-4501-b265-503e30703513",
        "colab": {
          "base_uri": "https://localhost:8080/"
        }
      },
      "execution_count": null,
      "outputs": [
        {
          "output_type": "execute_result",
          "data": {
            "text/plain": [
              "(1, 2, ('pop', 'rock'), (3, 4), 'disco', (1, 2))"
            ]
          },
          "metadata": {},
          "execution_count": 33
        }
      ]
    },
    {
      "cell_type": "code",
      "source": [
        "NT[2][1]"
      ],
      "metadata": {
        "id": "RROi1xEfow53",
        "outputId": "529c8db4-af63-4d29-807e-4a7b260abff1",
        "colab": {
          "base_uri": "https://localhost:8080/",
          "height": 35
        }
      },
      "execution_count": null,
      "outputs": [
        {
          "output_type": "execute_result",
          "data": {
            "text/plain": [
              "'rock'"
            ],
            "application/vnd.google.colaboratory.intrinsic+json": {
              "type": "string"
            }
          },
          "metadata": {},
          "execution_count": 32
        }
      ]
    },
    {
      "cell_type": "code",
      "source": [
        "myList = [\"Ignacio Quintero\", 25, 1997]\n",
        "myList"
      ],
      "metadata": {
        "id": "0HueydDyo14_",
        "outputId": "2b0f2435-cb2d-4867-cdb3-8fb1443c1ecf",
        "colab": {
          "base_uri": "https://localhost:8080/"
        }
      },
      "execution_count": null,
      "outputs": [
        {
          "output_type": "execute_result",
          "data": {
            "text/plain": [
              "['Ignacio Quintero', 25, 1997]"
            ]
          },
          "metadata": {},
          "execution_count": 34
        }
      ]
    },
    {
      "cell_type": "code",
      "source": [
        "myList[1]"
      ],
      "metadata": {
        "id": "q2EK9-Drpa6m",
        "outputId": "73c015c6-b473-4afb-cd26-9bb747577e4b",
        "colab": {
          "base_uri": "https://localhost:8080/"
        }
      },
      "execution_count": null,
      "outputs": [
        {
          "output_type": "execute_result",
          "data": {
            "text/plain": [
              "25"
            ]
          },
          "metadata": {},
          "execution_count": 35
        }
      ]
    },
    {
      "cell_type": "code",
      "source": [
        "myList[::-1]"
      ],
      "metadata": {
        "id": "uLaFVWwup72m",
        "outputId": "8f41af5a-167a-49f4-ed6c-b62720587341",
        "colab": {
          "base_uri": "https://localhost:8080/"
        }
      },
      "execution_count": null,
      "outputs": [
        {
          "output_type": "execute_result",
          "data": {
            "text/plain": [
              "[1997, 25, 'Ignacio Quintero']"
            ]
          },
          "metadata": {},
          "execution_count": 36
        }
      ]
    },
    {
      "cell_type": "code",
      "source": [
        "myList + [\"Artificial Intelligence\"]"
      ],
      "metadata": {
        "id": "6ORyGNVNp-1X",
        "outputId": "579de8cf-579b-4514-bc9c-c963ca3a0549",
        "colab": {
          "base_uri": "https://localhost:8080/"
        }
      },
      "execution_count": null,
      "outputs": [
        {
          "output_type": "execute_result",
          "data": {
            "text/plain": [
              "['Ignacio Quintero', 25, 1997, 'Artificial Intelligence']"
            ]
          },
          "metadata": {},
          "execution_count": 37
        }
      ]
    },
    {
      "cell_type": "code",
      "source": [
        "myList.append(\"New item\")"
      ],
      "metadata": {
        "id": "1-HN4KhnqGAx"
      },
      "execution_count": null,
      "outputs": []
    },
    {
      "cell_type": "code",
      "source": [
        "myList"
      ],
      "metadata": {
        "id": "Oy1QjqXDsvEZ",
        "outputId": "a49b8003-281d-4a0e-de8b-65b7f2200a0e",
        "colab": {
          "base_uri": "https://localhost:8080/"
        }
      },
      "execution_count": null,
      "outputs": [
        {
          "output_type": "execute_result",
          "data": {
            "text/plain": [
              "['Ignacio Quintero', 25, 1997, 'New item']"
            ]
          },
          "metadata": {},
          "execution_count": 39
        }
      ]
    },
    {
      "cell_type": "code",
      "source": [
        "del(myList[1])"
      ],
      "metadata": {
        "id": "y6cq6gkcswLV"
      },
      "execution_count": null,
      "outputs": []
    },
    {
      "cell_type": "code",
      "source": [
        "myList"
      ],
      "metadata": {
        "id": "6D1ZnixAtJqm",
        "outputId": "d4ed2952-5743-4080-fcdd-ad37d1b0a1ff",
        "colab": {
          "base_uri": "https://localhost:8080/"
        }
      },
      "execution_count": null,
      "outputs": [
        {
          "output_type": "execute_result",
          "data": {
            "text/plain": [
              "['Ignacio Quintero', 1997]"
            ]
          },
          "metadata": {},
          "execution_count": 43
        }
      ]
    },
    {
      "cell_type": "markdown",
      "source": [
        "### Sets"
      ],
      "metadata": {
        "id": "iXcHzK76v1y2"
      }
    },
    {
      "cell_type": "code",
      "source": [
        "mySet = {\"pop\", \"rock\", \"jazz\", \"pop\", \"rock\", \"rock\", \"R&B\", \"jazz\"}\n",
        "mySet"
      ],
      "metadata": {
        "id": "Ga_gt_aqv2ee",
        "outputId": "528e1244-7b81-4ed7-ab2d-3e9c57fd57ef",
        "colab": {
          "base_uri": "https://localhost:8080/"
        }
      },
      "execution_count": null,
      "outputs": [
        {
          "output_type": "execute_result",
          "data": {
            "text/plain": [
              "{'R&B', 'jazz', 'pop', 'rock'}"
            ]
          },
          "metadata": {},
          "execution_count": 44
        }
      ]
    },
    {
      "cell_type": "code",
      "source": [
        "#Converting a list into a set\n",
        "album_list = [\"Michael Jackson\", \"Thriller\", \"Thriller\", 1982]"
      ],
      "metadata": {
        "id": "gwW3duP0wlj9"
      },
      "execution_count": null,
      "outputs": []
    },
    {
      "cell_type": "code",
      "source": [
        "album_set = set(album_list)"
      ],
      "metadata": {
        "id": "HFyblqw5w0Z9"
      },
      "execution_count": null,
      "outputs": []
    },
    {
      "cell_type": "code",
      "source": [
        "album_set"
      ],
      "metadata": {
        "id": "_DiZmjiNw5R1",
        "outputId": "54c1672e-5ef6-4ed8-a73f-281fc303bb9c",
        "colab": {
          "base_uri": "https://localhost:8080/"
        }
      },
      "execution_count": null,
      "outputs": [
        {
          "output_type": "execute_result",
          "data": {
            "text/plain": [
              "{1982, 'Michael Jackson', 'Thriller'}"
            ]
          },
          "metadata": {},
          "execution_count": 47
        }
      ]
    },
    {
      "cell_type": "code",
      "source": [
        "album_set.add(\"Epic Records\")"
      ],
      "metadata": {
        "id": "PK77iWIqw9SV"
      },
      "execution_count": null,
      "outputs": []
    },
    {
      "cell_type": "code",
      "source": [
        "album_set"
      ],
      "metadata": {
        "id": "F60Qs3ddxQ4E",
        "outputId": "3e2d72ea-4985-4c52-8cc8-e664cb2a8e3a",
        "colab": {
          "base_uri": "https://localhost:8080/"
        }
      },
      "execution_count": null,
      "outputs": [
        {
          "output_type": "execute_result",
          "data": {
            "text/plain": [
              "{1982, 'Epic Records', 'Michael Jackson', 'Thriller'}"
            ]
          },
          "metadata": {},
          "execution_count": 50
        }
      ]
    },
    {
      "cell_type": "code",
      "source": [
        "album_set_1 = {\"AC/DC\", \"Black in Black\", \"Thriller\"}"
      ],
      "metadata": {
        "id": "O8Ow0iP5xcFO"
      },
      "execution_count": null,
      "outputs": []
    },
    {
      "cell_type": "code",
      "source": [
        "album_set_2 = {\"AC/DC\", \"Black in Black\", \"Thriller\", \"The Dark Side of the Moon\"}"
      ],
      "metadata": {
        "id": "ea54kPO4x6IW"
      },
      "execution_count": null,
      "outputs": []
    },
    {
      "cell_type": "code",
      "source": [
        "album_set_3 = album_set_1 & album_set_2"
      ],
      "metadata": {
        "id": "-6snKmC-yEWG"
      },
      "execution_count": null,
      "outputs": []
    },
    {
      "cell_type": "code",
      "source": [
        "album_set_3"
      ],
      "metadata": {
        "id": "kUPX2SQtyIfW",
        "outputId": "51ec149d-b8ef-4024-dbe9-e4d94a1d757d",
        "colab": {
          "base_uri": "https://localhost:8080/"
        }
      },
      "execution_count": null,
      "outputs": [
        {
          "output_type": "execute_result",
          "data": {
            "text/plain": [
              "{'AC/DC', 'Black in Black', 'Thriller'}"
            ]
          },
          "metadata": {},
          "execution_count": 56
        }
      ]
    },
    {
      "cell_type": "markdown",
      "source": [
        "### Dictionaries"
      ],
      "metadata": {
        "id": "nnlqaRS4251S"
      }
    },
    {
      "cell_type": "code",
      "source": [
        "mydic = {\"key1\": 1, \"key2\": 2, \"key3\": 3}\n",
        "mydic"
      ],
      "metadata": {
        "id": "O7vQbw-6yJ72",
        "outputId": "cd90ce88-9505-480f-d115-4099f48aca52",
        "colab": {
          "base_uri": "https://localhost:8080/"
        }
      },
      "execution_count": null,
      "outputs": [
        {
          "output_type": "execute_result",
          "data": {
            "text/plain": [
              "{'key1': 1, 'key2': 2, 'key3': 3}"
            ]
          },
          "metadata": {},
          "execution_count": 57
        }
      ]
    },
    {
      "cell_type": "code",
      "source": [
        "my_dict = {'key1':123,'key2':[12,23,33],'key3':['item0','item1','item2']}"
      ],
      "metadata": {
        "id": "bjRDpTeO6BGc"
      },
      "execution_count": null,
      "outputs": []
    },
    {
      "cell_type": "code",
      "source": [
        "my_dict['key3']"
      ],
      "metadata": {
        "id": "p1VFyQKllqqM",
        "outputId": "7a03b749-a743-409e-c767-75569522a6aa",
        "colab": {
          "base_uri": "https://localhost:8080/"
        }
      },
      "execution_count": null,
      "outputs": [
        {
          "output_type": "execute_result",
          "data": {
            "text/plain": [
              "['item0', 'item1', 'item2']"
            ]
          },
          "metadata": {},
          "execution_count": 2
        }
      ]
    },
    {
      "cell_type": "code",
      "source": [
        "my_dict['key3'][0].upper()"
      ],
      "metadata": {
        "id": "4jbFgd9YlshK",
        "outputId": "250cec68-97f6-4bf1-ea5d-98696e0f9a06",
        "colab": {
          "base_uri": "https://localhost:8080/",
          "height": 35
        }
      },
      "execution_count": null,
      "outputs": [
        {
          "output_type": "execute_result",
          "data": {
            "text/plain": [
              "'ITEM0'"
            ],
            "application/vnd.google.colaboratory.intrinsic+json": {
              "type": "string"
            }
          },
          "metadata": {},
          "execution_count": 3
        }
      ]
    },
    {
      "cell_type": "markdown",
      "source": [
        "### Conditions and Branching"
      ],
      "metadata": {
        "id": "rYuGI-0GlyPR"
      }
    },
    {
      "cell_type": "code",
      "source": [
        "\"Ignacio\" == \"Quintero\""
      ],
      "metadata": {
        "id": "qKhd-H83luao",
        "outputId": "2d5344eb-0d1b-409a-8c6f-27e49475c13b",
        "colab": {
          "base_uri": "https://localhost:8080/"
        }
      },
      "execution_count": null,
      "outputs": [
        {
          "output_type": "execute_result",
          "data": {
            "text/plain": [
              "False"
            ]
          },
          "metadata": {},
          "execution_count": 4
        }
      ]
    },
    {
      "cell_type": "code",
      "source": [
        "6 == 6"
      ],
      "metadata": {
        "id": "yeK9ASn2mkeD",
        "outputId": "36598a82-ed88-4c01-d5e7-9874453eec67",
        "colab": {
          "base_uri": "https://localhost:8080/"
        }
      },
      "execution_count": null,
      "outputs": [
        {
          "output_type": "execute_result",
          "data": {
            "text/plain": [
              "True"
            ]
          },
          "metadata": {},
          "execution_count": 5
        }
      ]
    },
    {
      "cell_type": "code",
      "source": [
        "age = 17"
      ],
      "metadata": {
        "id": "nCao4PgOml19"
      },
      "execution_count": null,
      "outputs": []
    },
    {
      "cell_type": "code",
      "source": [
        "if age >18:\n",
        "  print(\"You can enter\")\n",
        "else:\n",
        "  print(\"You're not allowed to enter\")"
      ],
      "metadata": {
        "id": "QJcetba7nM4p",
        "outputId": "ad2fde7b-b146-49c4-fcb4-41439166413f",
        "colab": {
          "base_uri": "https://localhost:8080/"
        }
      },
      "execution_count": null,
      "outputs": [
        {
          "output_type": "stream",
          "name": "stdout",
          "text": [
            "You're not allowed to enter\n"
          ]
        }
      ]
    },
    {
      "cell_type": "code",
      "source": [
        "age = 18"
      ],
      "metadata": {
        "id": "z5kTTCa5nWbB"
      },
      "execution_count": null,
      "outputs": []
    },
    {
      "cell_type": "code",
      "source": [
        "if age > 18:\n",
        "  print(\"You can enter\")\n",
        "elif age == 18:\n",
        "  print(\"You can enter to the Pink Floyd concert\")\n",
        "else:\n",
        "  print(\"You can enter to the Meat Loaf concert\")"
      ],
      "metadata": {
        "id": "btvejY7oophM",
        "outputId": "23324d7d-15e7-478d-924d-14994a4baf95",
        "colab": {
          "base_uri": "https://localhost:8080/"
        }
      },
      "execution_count": null,
      "outputs": [
        {
          "output_type": "stream",
          "name": "stdout",
          "text": [
            "You can enter to the Pink Floyd concert\n"
          ]
        }
      ]
    },
    {
      "cell_type": "code",
      "source": [
        "album_year = 1990"
      ],
      "metadata": {
        "id": "gMYpRY65o240"
      },
      "execution_count": null,
      "outputs": []
    },
    {
      "cell_type": "code",
      "source": [
        "if album_year < 1980 or album_year > 1989:\n",
        "  print(\"The album was made in the 70's or 90's\")\n",
        "else:\n",
        "  print(\"The album was made in the 1980's\")"
      ],
      "metadata": {
        "id": "5QpZcjD-pIj5",
        "outputId": "dc5a4649-e71f-4c3b-bb69-ee1a943e0114",
        "colab": {
          "base_uri": "https://localhost:8080/"
        }
      },
      "execution_count": null,
      "outputs": [
        {
          "output_type": "stream",
          "name": "stdout",
          "text": [
            "The album was made in the 70's or 90's\n"
          ]
        }
      ]
    },
    {
      "cell_type": "markdown",
      "source": [
        "### Loops"
      ],
      "metadata": {
        "id": "hMOkzNq0qj_d"
      }
    },
    {
      "cell_type": "code",
      "source": [
        "list1 = [1,2,3,4,5,6,7,8,9,10]"
      ],
      "metadata": {
        "id": "DxkX5Y-lpo37"
      },
      "execution_count": null,
      "outputs": []
    },
    {
      "cell_type": "code",
      "source": [
        "for num in list1:\n",
        "  print(num)"
      ],
      "metadata": {
        "id": "9KqYXze-tT5E",
        "outputId": "cb9e615d-eb94-4060-ff91-cf3453ff85f0",
        "colab": {
          "base_uri": "https://localhost:8080/"
        }
      },
      "execution_count": null,
      "outputs": [
        {
          "output_type": "stream",
          "name": "stdout",
          "text": [
            "1\n",
            "2\n",
            "3\n",
            "4\n",
            "5\n",
            "6\n",
            "7\n",
            "8\n",
            "9\n",
            "10\n"
          ]
        }
      ]
    },
    {
      "cell_type": "code",
      "source": [
        "for letter in \"This is a string\":\n",
        "  print(letter)"
      ],
      "metadata": {
        "id": "gPKfAVjfrnhk",
        "outputId": "f8ab8a72-878f-48a2-e9af-197f5a51bf9a",
        "colab": {
          "base_uri": "https://localhost:8080/"
        }
      },
      "execution_count": null,
      "outputs": [
        {
          "output_type": "stream",
          "name": "stdout",
          "text": [
            "T\n",
            "h\n",
            "i\n",
            "s\n",
            " \n",
            "i\n",
            "s\n",
            " \n",
            "a\n",
            " \n",
            "s\n",
            "t\n",
            "r\n",
            "i\n",
            "n\n",
            "g\n"
          ]
        }
      ]
    },
    {
      "cell_type": "code",
      "source": [
        "x = 0\n",
        "\n",
        "while x < 10:\n",
        "    print('x is currently: ',x)\n",
        "    print(' x is still less than 10, adding 1 to x')\n",
        "    x+=1"
      ],
      "metadata": {
        "id": "bs77_j-_tdf1",
        "outputId": "13d427ac-2bcf-4f87-b922-6b15b69b2c8a",
        "colab": {
          "base_uri": "https://localhost:8080/"
        }
      },
      "execution_count": null,
      "outputs": [
        {
          "output_type": "stream",
          "name": "stdout",
          "text": [
            "x is currently:  0\n",
            " x is still less than 10, adding 1 to x\n",
            "x is currently:  1\n",
            " x is still less than 10, adding 1 to x\n",
            "x is currently:  2\n",
            " x is still less than 10, adding 1 to x\n",
            "x is currently:  3\n",
            " x is still less than 10, adding 1 to x\n",
            "x is currently:  4\n",
            " x is still less than 10, adding 1 to x\n",
            "x is currently:  5\n",
            " x is still less than 10, adding 1 to x\n",
            "x is currently:  6\n",
            " x is still less than 10, adding 1 to x\n",
            "x is currently:  7\n",
            " x is still less than 10, adding 1 to x\n",
            "x is currently:  8\n",
            " x is still less than 10, adding 1 to x\n",
            "x is currently:  9\n",
            " x is still less than 10, adding 1 to x\n"
          ]
        }
      ]
    },
    {
      "cell_type": "code",
      "source": [
        "for i in range(0, 8):\n",
        "    print(i)"
      ],
      "metadata": {
        "id": "kO2yvnxytlY1",
        "outputId": "c58121da-18c4-43a9-9422-a510ac03e40c",
        "colab": {
          "base_uri": "https://localhost:8080/"
        }
      },
      "execution_count": null,
      "outputs": [
        {
          "output_type": "stream",
          "name": "stdout",
          "text": [
            "0\n",
            "1\n",
            "2\n",
            "3\n",
            "4\n",
            "5\n",
            "6\n",
            "7\n"
          ]
        }
      ]
    },
    {
      "cell_type": "markdown",
      "source": [
        "### Functions"
      ],
      "metadata": {
        "id": "t22-8vHBug5w"
      }
    },
    {
      "cell_type": "code",
      "source": [
        "def add1(a):\n",
        "  b = a+1\n",
        "\n",
        "  return b"
      ],
      "metadata": {
        "id": "_M6i6nN4t5Bs"
      },
      "execution_count": null,
      "outputs": []
    },
    {
      "cell_type": "code",
      "source": [
        "add1(5)"
      ],
      "metadata": {
        "id": "njeyTeLNyOxc",
        "outputId": "423f5a4a-1055-41d0-8503-65b5893459f7",
        "colab": {
          "base_uri": "https://localhost:8080/"
        }
      },
      "execution_count": null,
      "outputs": [
        {
          "output_type": "execute_result",
          "data": {
            "text/plain": [
              "6"
            ]
          },
          "metadata": {},
          "execution_count": 20
        }
      ]
    },
    {
      "cell_type": "code",
      "source": [
        "def Mult(a,b):\n",
        "  c = a*b\n",
        "\n",
        "  return c"
      ],
      "metadata": {
        "id": "fcxQltXzyPyN"
      },
      "execution_count": null,
      "outputs": []
    },
    {
      "cell_type": "code",
      "source": [
        "Mult(2,3)"
      ],
      "metadata": {
        "id": "aAsA2jg1yuf7",
        "outputId": "51579616-943d-46ea-8553-bd17e3d1a3a9",
        "colab": {
          "base_uri": "https://localhost:8080/"
        }
      },
      "execution_count": null,
      "outputs": [
        {
          "output_type": "execute_result",
          "data": {
            "text/plain": [
              "6"
            ]
          },
          "metadata": {},
          "execution_count": 22
        }
      ]
    },
    {
      "cell_type": "code",
      "source": [
        "def NoWork():\n",
        "  pass\n",
        "print(NoWork())"
      ],
      "metadata": {
        "id": "GkHW72OUyxOy",
        "outputId": "8afd94a5-4e00-41c9-b92a-757456406390",
        "colab": {
          "base_uri": "https://localhost:8080/"
        }
      },
      "execution_count": null,
      "outputs": [
        {
          "output_type": "stream",
          "name": "stdout",
          "text": [
            "None\n"
          ]
        }
      ]
    },
    {
      "cell_type": "code",
      "source": [
        "def printStuff(Stuff):\n",
        "  for i,s in enumerate(Stuff):\n",
        "    print(\"Album\", i, \"Rating is \", s)"
      ],
      "metadata": {
        "id": "OTE-GBgqzKKy"
      },
      "execution_count": null,
      "outputs": []
    },
    {
      "cell_type": "code",
      "source": [
        "album_ratings = [10,8.5,9.5]\n",
        "printStuff(album_ratings)"
      ],
      "metadata": {
        "id": "yXrni8LmzcaR",
        "outputId": "cbdbf758-e6ee-4808-ed2b-e7e2b0f88d10",
        "colab": {
          "base_uri": "https://localhost:8080/"
        }
      },
      "execution_count": null,
      "outputs": [
        {
          "output_type": "stream",
          "name": "stdout",
          "text": [
            "Album 0 Rating is  10\n",
            "Album 1 Rating is  8.5\n",
            "Album 2 Rating is  9.5\n"
          ]
        }
      ]
    },
    {
      "cell_type": "markdown",
      "source": [
        "### Objects and Classes"
      ],
      "metadata": {
        "id": "hH5VLT-a1isP"
      }
    },
    {
      "cell_type": "code",
      "source": [
        "#Class is a blueprint that defines the nature of a future object.\n",
        "class Sample:\n",
        "  pass\n",
        "\n",
        "x = Sample()"
      ],
      "metadata": {
        "id": "DqASd7R01lBR"
      },
      "execution_count": null,
      "outputs": []
    },
    {
      "cell_type": "code",
      "source": [
        "#print the type\n",
        "print(type(x))"
      ],
      "metadata": {
        "id": "7dcxapJH47oF",
        "outputId": "85f99796-6b86-4323-b94f-363abed6b1ea",
        "colab": {
          "base_uri": "https://localhost:8080/"
        }
      },
      "execution_count": null,
      "outputs": [
        {
          "output_type": "stream",
          "name": "stdout",
          "text": [
            "<class '__main__.Sample'>\n"
          ]
        }
      ]
    },
    {
      "cell_type": "code",
      "source": [
        "# atribute = it is a characteristic of an object.\n",
        "# method = it is an operation that we can perform with the object."
      ],
      "metadata": {
        "id": "YZLUcqiO4_Kg"
      },
      "execution_count": null,
      "outputs": []
    },
    {
      "cell_type": "code",
      "source": [
        "class Dog:\n",
        "  def __init__(self,breed):\n",
        "    self.breed = breed"
      ],
      "metadata": {
        "id": "Jut_O3Lb5Lbd"
      },
      "execution_count": null,
      "outputs": []
    },
    {
      "cell_type": "code",
      "source": [
        "sam = Dog(breed = \"Lab\")\n",
        "frank = Dog(breed = \"Huskie\")"
      ],
      "metadata": {
        "id": "O7SdC7Gg5T-e"
      },
      "execution_count": null,
      "outputs": []
    },
    {
      "cell_type": "code",
      "source": [
        "sam.breed"
      ],
      "metadata": {
        "id": "l587QU-g5ZtH",
        "outputId": "ce6cb0ee-c65a-4ad9-d5cc-84f15240e249",
        "colab": {
          "base_uri": "https://localhost:8080/",
          "height": 35
        }
      },
      "execution_count": null,
      "outputs": [
        {
          "output_type": "execute_result",
          "data": {
            "text/plain": [
              "'Lab'"
            ],
            "application/vnd.google.colaboratory.intrinsic+json": {
              "type": "string"
            }
          },
          "metadata": {},
          "execution_count": 32
        }
      ]
    },
    {
      "cell_type": "code",
      "source": [
        "frank.breed"
      ],
      "metadata": {
        "id": "dFB91mg05cxO",
        "outputId": "14377049-00b0-4440-db96-2dbbcbc63a9a",
        "colab": {
          "base_uri": "https://localhost:8080/",
          "height": 35
        }
      },
      "execution_count": null,
      "outputs": [
        {
          "output_type": "execute_result",
          "data": {
            "text/plain": [
              "'Huskie'"
            ],
            "application/vnd.google.colaboratory.intrinsic+json": {
              "type": "string"
            }
          },
          "metadata": {},
          "execution_count": 33
        }
      ]
    },
    {
      "cell_type": "code",
      "source": [],
      "metadata": {
        "id": "28nLe1R15fDn"
      },
      "execution_count": null,
      "outputs": []
    }
  ]
}