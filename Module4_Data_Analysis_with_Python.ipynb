{
  "nbformat": 4,
  "nbformat_minor": 0,
  "metadata": {
    "colab": {
      "provenance": [],
      "authorship_tag": "ABX9TyP1A3xw3g4qSD+Ao2aJRWbI",
      "include_colab_link": true
    },
    "kernelspec": {
      "name": "python3",
      "display_name": "Python 3"
    },
    "language_info": {
      "name": "python"
    }
  },
  "cells": [
    {
      "cell_type": "markdown",
      "metadata": {
        "id": "view-in-github",
        "colab_type": "text"
      },
      "source": [
        "<a href=\"https://colab.research.google.com/github/PosgradoMNA/ActividadesAprendizaje-A01794419-IgnacioQuintero/blob/main/Module4_Data_Analysis_with_Python.ipynb\" target=\"_parent\"><img src=\"https://colab.research.google.com/assets/colab-badge.svg\" alt=\"Open In Colab\"/></a>"
      ]
    },
    {
      "cell_type": "markdown",
      "source": [
        "# Data Analysis with Python\n",
        "## Module 4 - Model Development\n",
        "\n",
        "* Alumno: Ignacio Antonio Quintero Chávez.\n",
        "* Matrícula: A01794419.\n",
        "* Materia: Ciencia y analítica de datos.\n",
        "* Profesora: María de la Paz Rico Fernández.\n",
        "* Fecha: 1 Noviembre 2022."
      ],
      "metadata": {
        "id": "BrS8T0tbuk5T"
      }
    },
    {
      "cell_type": "markdown",
      "source": [
        "A model or estimator can be thought of as a mathematical equation used to predict a value given one or more other values.\n",
        "\n",
        "Usually, the more relevant data you have, the more accurate your model is."
      ],
      "metadata": {
        "id": "uHu_meokvScq"
      }
    },
    {
      "cell_type": "markdown",
      "source": [
        "**Linear regression:** It will refer to one independent variable to make a prediction.\n",
        "\n",
        "**Multiple linear regression:** It will refer to multiple independent variables to make a prediction."
      ],
      "metadata": {
        "id": "jHSJDp-cxWIc"
      }
    },
    {
      "cell_type": "code",
      "source": [
        "# Importing the libraries\n",
        "import pandas as pd\n",
        "import numpy as np\n",
        "import matplotlib.pyplot as plt"
      ],
      "metadata": {
        "id": "ZDwbu8pmxoNM"
      },
      "execution_count": 1,
      "outputs": []
    },
    {
      "cell_type": "code",
      "source": [
        "# Importing the dataset and save it to a variable\n",
        "dataset = \"https://cf-courses-data.s3.us.cloud-object-storage.appdomain.cloud/IBMDeveloperSkillsNetwork-DA0101EN-SkillsNetwork/labs/Data%20files/automobileEDA.csv\""
      ],
      "metadata": {
        "id": "RFzh6Ls00_-q"
      },
      "execution_count": 2,
      "outputs": []
    },
    {
      "cell_type": "code",
      "source": [
        "# Storing the dataset into a dataframe\n",
        "dataframe = pd.read_csv(dataset)\n",
        "dataframe"
      ],
      "metadata": {
        "colab": {
          "base_uri": "https://localhost:8080/",
          "height": 537
        },
        "id": "mWUGW0i_1P1g",
        "outputId": "3b49eeef-d3d3-454b-ead0-afadd2f47750"
      },
      "execution_count": 3,
      "outputs": [
        {
          "output_type": "execute_result",
          "data": {
            "text/plain": [
              "     symboling  normalized-losses         make aspiration num-of-doors  \\\n",
              "0            3                122  alfa-romero        std          two   \n",
              "1            3                122  alfa-romero        std          two   \n",
              "2            1                122  alfa-romero        std          two   \n",
              "3            2                164         audi        std         four   \n",
              "4            2                164         audi        std         four   \n",
              "..         ...                ...          ...        ...          ...   \n",
              "196         -1                 95        volvo        std         four   \n",
              "197         -1                 95        volvo      turbo         four   \n",
              "198         -1                 95        volvo        std         four   \n",
              "199         -1                 95        volvo      turbo         four   \n",
              "200         -1                 95        volvo      turbo         four   \n",
              "\n",
              "      body-style drive-wheels engine-location  wheel-base    length  ...  \\\n",
              "0    convertible          rwd           front        88.6  0.811148  ...   \n",
              "1    convertible          rwd           front        88.6  0.811148  ...   \n",
              "2      hatchback          rwd           front        94.5  0.822681  ...   \n",
              "3          sedan          fwd           front        99.8  0.848630  ...   \n",
              "4          sedan          4wd           front        99.4  0.848630  ...   \n",
              "..           ...          ...             ...         ...       ...  ...   \n",
              "196        sedan          rwd           front       109.1  0.907256  ...   \n",
              "197        sedan          rwd           front       109.1  0.907256  ...   \n",
              "198        sedan          rwd           front       109.1  0.907256  ...   \n",
              "199        sedan          rwd           front       109.1  0.907256  ...   \n",
              "200        sedan          rwd           front       109.1  0.907256  ...   \n",
              "\n",
              "     compression-ratio  horsepower  peak-rpm city-mpg highway-mpg    price  \\\n",
              "0                  9.0       111.0    5000.0       21          27  13495.0   \n",
              "1                  9.0       111.0    5000.0       21          27  16500.0   \n",
              "2                  9.0       154.0    5000.0       19          26  16500.0   \n",
              "3                 10.0       102.0    5500.0       24          30  13950.0   \n",
              "4                  8.0       115.0    5500.0       18          22  17450.0   \n",
              "..                 ...         ...       ...      ...         ...      ...   \n",
              "196                9.5       114.0    5400.0       23          28  16845.0   \n",
              "197                8.7       160.0    5300.0       19          25  19045.0   \n",
              "198                8.8       134.0    5500.0       18          23  21485.0   \n",
              "199               23.0       106.0    4800.0       26          27  22470.0   \n",
              "200                9.5       114.0    5400.0       19          25  22625.0   \n",
              "\n",
              "    city-L/100km  horsepower-binned  diesel  gas  \n",
              "0      11.190476             Medium       0    1  \n",
              "1      11.190476             Medium       0    1  \n",
              "2      12.368421             Medium       0    1  \n",
              "3       9.791667             Medium       0    1  \n",
              "4      13.055556             Medium       0    1  \n",
              "..           ...                ...     ...  ...  \n",
              "196    10.217391             Medium       0    1  \n",
              "197    12.368421               High       0    1  \n",
              "198    13.055556             Medium       0    1  \n",
              "199     9.038462             Medium       1    0  \n",
              "200    12.368421             Medium       0    1  \n",
              "\n",
              "[201 rows x 29 columns]"
            ],
            "text/html": [
              "\n",
              "  <div id=\"df-ab02e3cc-f41f-4ca5-899f-de74816d57ab\">\n",
              "    <div class=\"colab-df-container\">\n",
              "      <div>\n",
              "<style scoped>\n",
              "    .dataframe tbody tr th:only-of-type {\n",
              "        vertical-align: middle;\n",
              "    }\n",
              "\n",
              "    .dataframe tbody tr th {\n",
              "        vertical-align: top;\n",
              "    }\n",
              "\n",
              "    .dataframe thead th {\n",
              "        text-align: right;\n",
              "    }\n",
              "</style>\n",
              "<table border=\"1\" class=\"dataframe\">\n",
              "  <thead>\n",
              "    <tr style=\"text-align: right;\">\n",
              "      <th></th>\n",
              "      <th>symboling</th>\n",
              "      <th>normalized-losses</th>\n",
              "      <th>make</th>\n",
              "      <th>aspiration</th>\n",
              "      <th>num-of-doors</th>\n",
              "      <th>body-style</th>\n",
              "      <th>drive-wheels</th>\n",
              "      <th>engine-location</th>\n",
              "      <th>wheel-base</th>\n",
              "      <th>length</th>\n",
              "      <th>...</th>\n",
              "      <th>compression-ratio</th>\n",
              "      <th>horsepower</th>\n",
              "      <th>peak-rpm</th>\n",
              "      <th>city-mpg</th>\n",
              "      <th>highway-mpg</th>\n",
              "      <th>price</th>\n",
              "      <th>city-L/100km</th>\n",
              "      <th>horsepower-binned</th>\n",
              "      <th>diesel</th>\n",
              "      <th>gas</th>\n",
              "    </tr>\n",
              "  </thead>\n",
              "  <tbody>\n",
              "    <tr>\n",
              "      <th>0</th>\n",
              "      <td>3</td>\n",
              "      <td>122</td>\n",
              "      <td>alfa-romero</td>\n",
              "      <td>std</td>\n",
              "      <td>two</td>\n",
              "      <td>convertible</td>\n",
              "      <td>rwd</td>\n",
              "      <td>front</td>\n",
              "      <td>88.6</td>\n",
              "      <td>0.811148</td>\n",
              "      <td>...</td>\n",
              "      <td>9.0</td>\n",
              "      <td>111.0</td>\n",
              "      <td>5000.0</td>\n",
              "      <td>21</td>\n",
              "      <td>27</td>\n",
              "      <td>13495.0</td>\n",
              "      <td>11.190476</td>\n",
              "      <td>Medium</td>\n",
              "      <td>0</td>\n",
              "      <td>1</td>\n",
              "    </tr>\n",
              "    <tr>\n",
              "      <th>1</th>\n",
              "      <td>3</td>\n",
              "      <td>122</td>\n",
              "      <td>alfa-romero</td>\n",
              "      <td>std</td>\n",
              "      <td>two</td>\n",
              "      <td>convertible</td>\n",
              "      <td>rwd</td>\n",
              "      <td>front</td>\n",
              "      <td>88.6</td>\n",
              "      <td>0.811148</td>\n",
              "      <td>...</td>\n",
              "      <td>9.0</td>\n",
              "      <td>111.0</td>\n",
              "      <td>5000.0</td>\n",
              "      <td>21</td>\n",
              "      <td>27</td>\n",
              "      <td>16500.0</td>\n",
              "      <td>11.190476</td>\n",
              "      <td>Medium</td>\n",
              "      <td>0</td>\n",
              "      <td>1</td>\n",
              "    </tr>\n",
              "    <tr>\n",
              "      <th>2</th>\n",
              "      <td>1</td>\n",
              "      <td>122</td>\n",
              "      <td>alfa-romero</td>\n",
              "      <td>std</td>\n",
              "      <td>two</td>\n",
              "      <td>hatchback</td>\n",
              "      <td>rwd</td>\n",
              "      <td>front</td>\n",
              "      <td>94.5</td>\n",
              "      <td>0.822681</td>\n",
              "      <td>...</td>\n",
              "      <td>9.0</td>\n",
              "      <td>154.0</td>\n",
              "      <td>5000.0</td>\n",
              "      <td>19</td>\n",
              "      <td>26</td>\n",
              "      <td>16500.0</td>\n",
              "      <td>12.368421</td>\n",
              "      <td>Medium</td>\n",
              "      <td>0</td>\n",
              "      <td>1</td>\n",
              "    </tr>\n",
              "    <tr>\n",
              "      <th>3</th>\n",
              "      <td>2</td>\n",
              "      <td>164</td>\n",
              "      <td>audi</td>\n",
              "      <td>std</td>\n",
              "      <td>four</td>\n",
              "      <td>sedan</td>\n",
              "      <td>fwd</td>\n",
              "      <td>front</td>\n",
              "      <td>99.8</td>\n",
              "      <td>0.848630</td>\n",
              "      <td>...</td>\n",
              "      <td>10.0</td>\n",
              "      <td>102.0</td>\n",
              "      <td>5500.0</td>\n",
              "      <td>24</td>\n",
              "      <td>30</td>\n",
              "      <td>13950.0</td>\n",
              "      <td>9.791667</td>\n",
              "      <td>Medium</td>\n",
              "      <td>0</td>\n",
              "      <td>1</td>\n",
              "    </tr>\n",
              "    <tr>\n",
              "      <th>4</th>\n",
              "      <td>2</td>\n",
              "      <td>164</td>\n",
              "      <td>audi</td>\n",
              "      <td>std</td>\n",
              "      <td>four</td>\n",
              "      <td>sedan</td>\n",
              "      <td>4wd</td>\n",
              "      <td>front</td>\n",
              "      <td>99.4</td>\n",
              "      <td>0.848630</td>\n",
              "      <td>...</td>\n",
              "      <td>8.0</td>\n",
              "      <td>115.0</td>\n",
              "      <td>5500.0</td>\n",
              "      <td>18</td>\n",
              "      <td>22</td>\n",
              "      <td>17450.0</td>\n",
              "      <td>13.055556</td>\n",
              "      <td>Medium</td>\n",
              "      <td>0</td>\n",
              "      <td>1</td>\n",
              "    </tr>\n",
              "    <tr>\n",
              "      <th>...</th>\n",
              "      <td>...</td>\n",
              "      <td>...</td>\n",
              "      <td>...</td>\n",
              "      <td>...</td>\n",
              "      <td>...</td>\n",
              "      <td>...</td>\n",
              "      <td>...</td>\n",
              "      <td>...</td>\n",
              "      <td>...</td>\n",
              "      <td>...</td>\n",
              "      <td>...</td>\n",
              "      <td>...</td>\n",
              "      <td>...</td>\n",
              "      <td>...</td>\n",
              "      <td>...</td>\n",
              "      <td>...</td>\n",
              "      <td>...</td>\n",
              "      <td>...</td>\n",
              "      <td>...</td>\n",
              "      <td>...</td>\n",
              "      <td>...</td>\n",
              "    </tr>\n",
              "    <tr>\n",
              "      <th>196</th>\n",
              "      <td>-1</td>\n",
              "      <td>95</td>\n",
              "      <td>volvo</td>\n",
              "      <td>std</td>\n",
              "      <td>four</td>\n",
              "      <td>sedan</td>\n",
              "      <td>rwd</td>\n",
              "      <td>front</td>\n",
              "      <td>109.1</td>\n",
              "      <td>0.907256</td>\n",
              "      <td>...</td>\n",
              "      <td>9.5</td>\n",
              "      <td>114.0</td>\n",
              "      <td>5400.0</td>\n",
              "      <td>23</td>\n",
              "      <td>28</td>\n",
              "      <td>16845.0</td>\n",
              "      <td>10.217391</td>\n",
              "      <td>Medium</td>\n",
              "      <td>0</td>\n",
              "      <td>1</td>\n",
              "    </tr>\n",
              "    <tr>\n",
              "      <th>197</th>\n",
              "      <td>-1</td>\n",
              "      <td>95</td>\n",
              "      <td>volvo</td>\n",
              "      <td>turbo</td>\n",
              "      <td>four</td>\n",
              "      <td>sedan</td>\n",
              "      <td>rwd</td>\n",
              "      <td>front</td>\n",
              "      <td>109.1</td>\n",
              "      <td>0.907256</td>\n",
              "      <td>...</td>\n",
              "      <td>8.7</td>\n",
              "      <td>160.0</td>\n",
              "      <td>5300.0</td>\n",
              "      <td>19</td>\n",
              "      <td>25</td>\n",
              "      <td>19045.0</td>\n",
              "      <td>12.368421</td>\n",
              "      <td>High</td>\n",
              "      <td>0</td>\n",
              "      <td>1</td>\n",
              "    </tr>\n",
              "    <tr>\n",
              "      <th>198</th>\n",
              "      <td>-1</td>\n",
              "      <td>95</td>\n",
              "      <td>volvo</td>\n",
              "      <td>std</td>\n",
              "      <td>four</td>\n",
              "      <td>sedan</td>\n",
              "      <td>rwd</td>\n",
              "      <td>front</td>\n",
              "      <td>109.1</td>\n",
              "      <td>0.907256</td>\n",
              "      <td>...</td>\n",
              "      <td>8.8</td>\n",
              "      <td>134.0</td>\n",
              "      <td>5500.0</td>\n",
              "      <td>18</td>\n",
              "      <td>23</td>\n",
              "      <td>21485.0</td>\n",
              "      <td>13.055556</td>\n",
              "      <td>Medium</td>\n",
              "      <td>0</td>\n",
              "      <td>1</td>\n",
              "    </tr>\n",
              "    <tr>\n",
              "      <th>199</th>\n",
              "      <td>-1</td>\n",
              "      <td>95</td>\n",
              "      <td>volvo</td>\n",
              "      <td>turbo</td>\n",
              "      <td>four</td>\n",
              "      <td>sedan</td>\n",
              "      <td>rwd</td>\n",
              "      <td>front</td>\n",
              "      <td>109.1</td>\n",
              "      <td>0.907256</td>\n",
              "      <td>...</td>\n",
              "      <td>23.0</td>\n",
              "      <td>106.0</td>\n",
              "      <td>4800.0</td>\n",
              "      <td>26</td>\n",
              "      <td>27</td>\n",
              "      <td>22470.0</td>\n",
              "      <td>9.038462</td>\n",
              "      <td>Medium</td>\n",
              "      <td>1</td>\n",
              "      <td>0</td>\n",
              "    </tr>\n",
              "    <tr>\n",
              "      <th>200</th>\n",
              "      <td>-1</td>\n",
              "      <td>95</td>\n",
              "      <td>volvo</td>\n",
              "      <td>turbo</td>\n",
              "      <td>four</td>\n",
              "      <td>sedan</td>\n",
              "      <td>rwd</td>\n",
              "      <td>front</td>\n",
              "      <td>109.1</td>\n",
              "      <td>0.907256</td>\n",
              "      <td>...</td>\n",
              "      <td>9.5</td>\n",
              "      <td>114.0</td>\n",
              "      <td>5400.0</td>\n",
              "      <td>19</td>\n",
              "      <td>25</td>\n",
              "      <td>22625.0</td>\n",
              "      <td>12.368421</td>\n",
              "      <td>Medium</td>\n",
              "      <td>0</td>\n",
              "      <td>1</td>\n",
              "    </tr>\n",
              "  </tbody>\n",
              "</table>\n",
              "<p>201 rows × 29 columns</p>\n",
              "</div>\n",
              "      <button class=\"colab-df-convert\" onclick=\"convertToInteractive('df-ab02e3cc-f41f-4ca5-899f-de74816d57ab')\"\n",
              "              title=\"Convert this dataframe to an interactive table.\"\n",
              "              style=\"display:none;\">\n",
              "        \n",
              "  <svg xmlns=\"http://www.w3.org/2000/svg\" height=\"24px\"viewBox=\"0 0 24 24\"\n",
              "       width=\"24px\">\n",
              "    <path d=\"M0 0h24v24H0V0z\" fill=\"none\"/>\n",
              "    <path d=\"M18.56 5.44l.94 2.06.94-2.06 2.06-.94-2.06-.94-.94-2.06-.94 2.06-2.06.94zm-11 1L8.5 8.5l.94-2.06 2.06-.94-2.06-.94L8.5 2.5l-.94 2.06-2.06.94zm10 10l.94 2.06.94-2.06 2.06-.94-2.06-.94-.94-2.06-.94 2.06-2.06.94z\"/><path d=\"M17.41 7.96l-1.37-1.37c-.4-.4-.92-.59-1.43-.59-.52 0-1.04.2-1.43.59L10.3 9.45l-7.72 7.72c-.78.78-.78 2.05 0 2.83L4 21.41c.39.39.9.59 1.41.59.51 0 1.02-.2 1.41-.59l7.78-7.78 2.81-2.81c.8-.78.8-2.07 0-2.86zM5.41 20L4 18.59l7.72-7.72 1.47 1.35L5.41 20z\"/>\n",
              "  </svg>\n",
              "      </button>\n",
              "      \n",
              "  <style>\n",
              "    .colab-df-container {\n",
              "      display:flex;\n",
              "      flex-wrap:wrap;\n",
              "      gap: 12px;\n",
              "    }\n",
              "\n",
              "    .colab-df-convert {\n",
              "      background-color: #E8F0FE;\n",
              "      border: none;\n",
              "      border-radius: 50%;\n",
              "      cursor: pointer;\n",
              "      display: none;\n",
              "      fill: #1967D2;\n",
              "      height: 32px;\n",
              "      padding: 0 0 0 0;\n",
              "      width: 32px;\n",
              "    }\n",
              "\n",
              "    .colab-df-convert:hover {\n",
              "      background-color: #E2EBFA;\n",
              "      box-shadow: 0px 1px 2px rgba(60, 64, 67, 0.3), 0px 1px 3px 1px rgba(60, 64, 67, 0.15);\n",
              "      fill: #174EA6;\n",
              "    }\n",
              "\n",
              "    [theme=dark] .colab-df-convert {\n",
              "      background-color: #3B4455;\n",
              "      fill: #D2E3FC;\n",
              "    }\n",
              "\n",
              "    [theme=dark] .colab-df-convert:hover {\n",
              "      background-color: #434B5C;\n",
              "      box-shadow: 0px 1px 3px 1px rgba(0, 0, 0, 0.15);\n",
              "      filter: drop-shadow(0px 1px 2px rgba(0, 0, 0, 0.3));\n",
              "      fill: #FFFFFF;\n",
              "    }\n",
              "  </style>\n",
              "\n",
              "      <script>\n",
              "        const buttonEl =\n",
              "          document.querySelector('#df-ab02e3cc-f41f-4ca5-899f-de74816d57ab button.colab-df-convert');\n",
              "        buttonEl.style.display =\n",
              "          google.colab.kernel.accessAllowed ? 'block' : 'none';\n",
              "\n",
              "        async function convertToInteractive(key) {\n",
              "          const element = document.querySelector('#df-ab02e3cc-f41f-4ca5-899f-de74816d57ab');\n",
              "          const dataTable =\n",
              "            await google.colab.kernel.invokeFunction('convertToInteractive',\n",
              "                                                     [key], {});\n",
              "          if (!dataTable) return;\n",
              "\n",
              "          const docLinkHtml = 'Like what you see? Visit the ' +\n",
              "            '<a target=\"_blank\" href=https://colab.research.google.com/notebooks/data_table.ipynb>data table notebook</a>'\n",
              "            + ' to learn more about interactive tables.';\n",
              "          element.innerHTML = '';\n",
              "          dataTable['output_type'] = 'display_data';\n",
              "          await google.colab.output.renderOutput(dataTable, element);\n",
              "          const docLink = document.createElement('div');\n",
              "          docLink.innerHTML = docLinkHtml;\n",
              "          element.appendChild(docLink);\n",
              "        }\n",
              "      </script>\n",
              "    </div>\n",
              "  </div>\n",
              "  "
            ]
          },
          "metadata": {},
          "execution_count": 3
        }
      ]
    },
    {
      "cell_type": "markdown",
      "source": [
        "### Linear Regression and Multiple Linear Regression"
      ],
      "metadata": {
        "id": "5OyqD-SR1Y5u"
      }
    },
    {
      "cell_type": "markdown",
      "source": [
        "**Simple Linear Regression**\n",
        "\n",
        "It is a method to help us understand the relationship between two variables.\n",
        "\n",
        "* The predictor/independent variable (X).\n",
        "* The response/dependent variable (that we want to predict) (Y).\n",
        "\n",
        "The result of linear regression is a **linear function** that predicts the response (dependent) variable as a function of the predictor (independent) variable.\n",
        "\n",
        "*Y: Response Variable*\n",
        "\n",
        "*X: Predictor Variables*\n",
        "\n",
        "**Linear Function**\n",
        "\n",
        "*Yhat = a + bX*\n",
        "\n",
        "\n",
        "* a = It refers to the intercept of the regression line, or, the value of Y when X is 0.\n",
        "\n",
        "* b = It refers to the slope of the regression line, or, the value with which Y changes when X increases by 1 unit."
      ],
      "metadata": {
        "id": "fpvQsWiV2Ai-"
      }
    },
    {
      "cell_type": "code",
      "source": [
        "# Importing the module for linear regression\n",
        "from sklearn.linear_model import LinearRegression"
      ],
      "metadata": {
        "id": "Tmp2ynJw3F7k"
      },
      "execution_count": 4,
      "outputs": []
    },
    {
      "cell_type": "code",
      "source": [
        "# Create the linear regression object\n",
        "lm = LinearRegression()\n",
        "lm"
      ],
      "metadata": {
        "colab": {
          "base_uri": "https://localhost:8080/"
        },
        "id": "kFG8zg7T3QS_",
        "outputId": "0669bd29-a3aa-49c5-b28d-59fdba2bf55a"
      },
      "execution_count": 5,
      "outputs": [
        {
          "output_type": "execute_result",
          "data": {
            "text/plain": [
              "LinearRegression()"
            ]
          },
          "metadata": {},
          "execution_count": 5
        }
      ]
    },
    {
      "cell_type": "code",
      "source": [
        "# Create a linear function with 'highway-mpg' as the predictor variable\n",
        "X = dataframe[[\"highway-mpg\"]]\n",
        "\n",
        "# Create a linear function with 'price' as the response variable\n",
        "Y = dataframe[[\"price\"]]"
      ],
      "metadata": {
        "id": "edK6jiO73X5_"
      },
      "execution_count": 6,
      "outputs": []
    },
    {
      "cell_type": "code",
      "source": [
        "# Fit the linear model using highway-mpg\n",
        "lm.fit(X, Y)"
      ],
      "metadata": {
        "colab": {
          "base_uri": "https://localhost:8080/"
        },
        "id": "5Dc0-yPI3tQE",
        "outputId": "4e658ba7-4419-4be5-8b15-f2da910933d0"
      },
      "execution_count": 7,
      "outputs": [
        {
          "output_type": "execute_result",
          "data": {
            "text/plain": [
              "LinearRegression()"
            ]
          },
          "metadata": {},
          "execution_count": 7
        }
      ]
    },
    {
      "cell_type": "code",
      "source": [
        "# We can output a prediction\n",
        "Yhat = lm.predict(X)\n",
        "Yhat[0:5]"
      ],
      "metadata": {
        "colab": {
          "base_uri": "https://localhost:8080/"
        },
        "id": "h8tCo8tf3-Kz",
        "outputId": "a48c5d0b-6f4d-4857-ca87-ee2191238f3e"
      },
      "execution_count": 8,
      "outputs": [
        {
          "output_type": "execute_result",
          "data": {
            "text/plain": [
              "array([[16236.50464347],\n",
              "       [16236.50464347],\n",
              "       [17058.23802179],\n",
              "       [13771.3045085 ],\n",
              "       [20345.17153508]])"
            ]
          },
          "metadata": {},
          "execution_count": 8
        }
      ]
    },
    {
      "cell_type": "markdown",
      "source": [
        "What is the value of the incercept (a)?"
      ],
      "metadata": {
        "id": "kus-_VU34JQj"
      }
    },
    {
      "cell_type": "code",
      "source": [
        "lm.intercept_"
      ],
      "metadata": {
        "colab": {
          "base_uri": "https://localhost:8080/"
        },
        "id": "RRIJHBmc4OCQ",
        "outputId": "0bf8d200-61de-41ba-d262-af4677288c2f"
      },
      "execution_count": 9,
      "outputs": [
        {
          "output_type": "execute_result",
          "data": {
            "text/plain": [
              "array([38423.30585816])"
            ]
          },
          "metadata": {},
          "execution_count": 9
        }
      ]
    },
    {
      "cell_type": "markdown",
      "source": [
        "What is the value of the slope (b)?"
      ],
      "metadata": {
        "id": "zh_w4f9h4VDj"
      }
    },
    {
      "cell_type": "code",
      "source": [
        "lm.coef_"
      ],
      "metadata": {
        "colab": {
          "base_uri": "https://localhost:8080/"
        },
        "id": "v7XoEZCB4QPp",
        "outputId": "63fa12a0-afef-4cda-ae8c-189dc3ea4443"
      },
      "execution_count": 10,
      "outputs": [
        {
          "output_type": "execute_result",
          "data": {
            "text/plain": [
              "array([[-821.73337832]])"
            ]
          },
          "metadata": {},
          "execution_count": 10
        }
      ]
    },
    {
      "cell_type": "markdown",
      "source": [
        "**Multiple Linear Regression**\n",
        "\n",
        "This method is used to explain the relationship between one continuos response (dependent) variable and two more predictor (independent) variables.\n",
        "\n",
        "*Y: Response Variable*\n",
        "* X_1: *Predictor Variable 1*\n",
        "* X_2: *Predictor Variable 2*\n",
        "* X_3: *Predictor Variable 3*\n",
        "* X_4: *Predictor Variable 4*\n",
        "\n",
        "\n",
        "a: *intercept*\n",
        "* b_1: *coefficients of Variable 1*\n",
        "* b_2: *coefficients of Variable 2*\n",
        "* b_3: *coefficients of Variable 3*\n",
        "* b_4: *coefficients of Variable 4*"
      ],
      "metadata": {
        "id": "MEG-yqMZ4sW9"
      }
    },
    {
      "cell_type": "markdown",
      "source": [
        "The equation is given by:\n",
        "\n",
        "*Yhat* = a + b_1X_1 + b_2X_2 + b_3X_3 + b_4_X_4"
      ],
      "metadata": {
        "id": "_KBYA4s45xo8"
      }
    },
    {
      "cell_type": "code",
      "source": [
        "# Developing a model using some variables as the predictor variables\n",
        "Z = dataframe[[\"horsepower\", \"curb-weight\", \"engine-size\", \"highway-mpg\"]]"
      ],
      "metadata": {
        "id": "3oaloNZ86CiN"
      },
      "execution_count": 11,
      "outputs": []
    },
    {
      "cell_type": "code",
      "source": [
        "# Fit the linear model using the four above-mentioned variables\n",
        "lm.fit(Z, dataframe[\"price\"])"
      ],
      "metadata": {
        "colab": {
          "base_uri": "https://localhost:8080/"
        },
        "id": "HOHxHDH36O3P",
        "outputId": "0546ef8f-3b18-470c-dbb0-a71ceb1d9dca"
      },
      "execution_count": 12,
      "outputs": [
        {
          "output_type": "execute_result",
          "data": {
            "text/plain": [
              "LinearRegression()"
            ]
          },
          "metadata": {},
          "execution_count": 12
        }
      ]
    },
    {
      "cell_type": "markdown",
      "source": [
        "What is the value of the intercept(a)?"
      ],
      "metadata": {
        "id": "Qqsh6gf-7sp4"
      }
    },
    {
      "cell_type": "code",
      "source": [
        "lm.intercept_"
      ],
      "metadata": {
        "colab": {
          "base_uri": "https://localhost:8080/"
        },
        "id": "ypainvoo7woa",
        "outputId": "8626ee4b-e3d3-4ca0-8ffe-e33e8d9ba87c"
      },
      "execution_count": 13,
      "outputs": [
        {
          "output_type": "execute_result",
          "data": {
            "text/plain": [
              "-15806.62462632922"
            ]
          },
          "metadata": {},
          "execution_count": 13
        }
      ]
    },
    {
      "cell_type": "markdown",
      "source": [
        "What is the value of the coefficients (b1, b2, b3, b4)?"
      ],
      "metadata": {
        "id": "A4TY9yar7xJr"
      }
    },
    {
      "cell_type": "code",
      "source": [
        "lm.coef_"
      ],
      "metadata": {
        "colab": {
          "base_uri": "https://localhost:8080/"
        },
        "id": "uGeRoz-E72_Z",
        "outputId": "a26efc4f-2675-438e-97c5-915700ae1229"
      },
      "execution_count": 14,
      "outputs": [
        {
          "output_type": "execute_result",
          "data": {
            "text/plain": [
              "array([53.49574423,  4.70770099, 81.53026382, 36.05748882])"
            ]
          },
          "metadata": {},
          "execution_count": 14
        }
      ]
    },
    {
      "cell_type": "markdown",
      "source": [
        "### Model Evaluation Using Visualization"
      ],
      "metadata": {
        "id": "HDziv9UT8Ee7"
      }
    },
    {
      "cell_type": "code",
      "source": [
        "# Importing the visualization package, seaborn\n",
        "import seaborn as sns\n",
        "%matplotlib inline"
      ],
      "metadata": {
        "id": "Vwm8XSHy8IQF"
      },
      "execution_count": 15,
      "outputs": []
    },
    {
      "cell_type": "markdown",
      "source": [
        "**Regression Plot**"
      ],
      "metadata": {
        "id": "JH2k7kM18Stq"
      }
    },
    {
      "cell_type": "code",
      "source": [
        "width = 12\n",
        "height = 10\n",
        "plt.figure(figsize=(width, height))\n",
        "# x and y are the input variables\n",
        "# data equals the dataframe\n",
        "sns.regplot(x=\"highway-mpg\", y=\"price\", data=dataframe)\n",
        "# Control y limits\n",
        "plt.ylim(0, )"
      ],
      "metadata": {
        "colab": {
          "base_uri": "https://localhost:8080/",
          "height": 623
        },
        "id": "GqoQfILh8Wh9",
        "outputId": "345ebea2-6b72-4ae9-d6b4-8790934f4e45"
      },
      "execution_count": 16,
      "outputs": [
        {
          "output_type": "execute_result",
          "data": {
            "text/plain": [
              "(0.0, 48175.48493205674)"
            ]
          },
          "metadata": {},
          "execution_count": 16
        },
        {
          "output_type": "display_data",
          "data": {
            "text/plain": [
              "<Figure size 864x720 with 1 Axes>"
            ],
            "image/png": "[encoded data removed]"
          },
          "metadata": {
            "needs_background": "light"
          }
        }
      ]
    },
    {
      "cell_type": "code",
      "source": [
        "# Plot of 'peak-rpm'\n",
        "plt.figure(figsize=(width, height))\n",
        "sns.regplot(x=\"peak-rpm\", y=\"price\", data=dataframe)\n",
        "plt.ylim(0, )"
      ],
      "metadata": {
        "colab": {
          "base_uri": "https://localhost:8080/",
          "height": 623
        },
        "id": "0ilupktJ9IXZ",
        "outputId": "deafba9f-9e62-4058-a373-81387706e739"
      },
      "execution_count": 17,
      "outputs": [
        {
          "output_type": "execute_result",
          "data": {
            "text/plain": [
              "(0.0, 47414.1)"
            ]
          },
          "metadata": {},
          "execution_count": 17
        },
        {
          "output_type": "display_data",
          "data": {
            "text/plain": [
              "<Figure size 864x720 with 1 Axes>"
            ],
            "image/png": "[encoded data removed]"
          },
          "metadata": {
            "needs_background": "light"
          }
        }
      ]
    },
    {
      "cell_type": "markdown",
      "source": [
        "**Residual Plot**"
      ],
      "metadata": {
        "id": "bNEUFkxcRLY_"
      }
    },
    {
      "cell_type": "markdown",
      "source": [
        "The difference between the observed value (y) and the predicted value (Yhat) is called the residual (e). When we look at a regression plot, the residual is the distance from the data point to the fitted regression line.\n",
        "\n",
        "A residual plot is a graph that shows the residuals on the vertical y-axis and the independent variable on the horizontal x-axis."
      ],
      "metadata": {
        "id": "CC1H2ge3RPEH"
      }
    },
    {
      "cell_type": "code",
      "source": [
        "width = 12\n",
        "height = 10\n",
        "plt.figure(figsize=(width, height))\n",
        "sns.residplot(x=dataframe[\"highway-mpg\"], y=dataframe[\"price\"])\n",
        "plt.show"
      ],
      "metadata": {
        "colab": {
          "base_uri": "https://localhost:8080/",
          "height": 623
        },
        "id": "N078x1LTRj3O",
        "outputId": "8c75991f-2e7f-4d7b-a49a-96875a2e6f51"
      },
      "execution_count": 18,
      "outputs": [
        {
          "output_type": "execute_result",
          "data": {
            "text/plain": [
              "<function matplotlib.pyplot.show(*args, **kw)>"
            ]
          },
          "metadata": {},
          "execution_count": 18
        },
        {
          "output_type": "display_data",
          "data": {
            "text/plain": [
              "<Figure size 864x720 with 1 Axes>"
            ],
            "image/png": "[encoded data removed]"
          },
          "metadata": {
            "needs_background": "light"
          }
        }
      ]
    },
    {
      "cell_type": "markdown",
      "source": [
        "**Multiple Linear Regression**"
      ],
      "metadata": {
        "id": "618SuCGNR3Mt"
      }
    },
    {
      "cell_type": "code",
      "source": [
        "# Making a prediction\n",
        "Y_hat = lm.predict(Z)"
      ],
      "metadata": {
        "id": "U_X9v_WdRcVr"
      },
      "execution_count": 19,
      "outputs": []
    },
    {
      "cell_type": "code",
      "source": [
        "plt.figure(figsize=(width, height))\n",
        "\n",
        "ax1 = sns.distplot(dataframe[\"price\"], hist=False, color=\"r\", label=\"Actual Value\")\n",
        "sns.distplot(Y_hat, hist=False, color=\"b\", label=\"Fitted Values\", ax=ax1)\n",
        "\n",
        "plt.title(\"Actual vs Fitted Values for Price\")\n",
        "plt.xlabel(\"Price (in dollars)\")\n",
        "plt.ylabel(\"Proportion of cars\")\n",
        "\n",
        "plt.show()\n",
        "plt.close()"
      ],
      "metadata": {
        "colab": {
          "base_uri": "https://localhost:8080/",
          "height": 710
        },
        "id": "CTwVcYYNSJx8",
        "outputId": "ed364304-b419-4eb8-b8d4-fb1519fc163c"
      },
      "execution_count": 20,
      "outputs": [
        {
          "output_type": "stream",
          "name": "stderr",
          "text": [
            "/usr/local/lib/python3.7/dist-packages/seaborn/distributions.py:2619: FutureWarning: `distplot` is a deprecated function and will be removed in a future version. Please adapt your code to use either `displot` (a figure-level function with similar flexibility) or `kdeplot` (an axes-level function for kernel density plots).\n",
            "  warnings.warn(msg, FutureWarning)\n",
            "/usr/local/lib/python3.7/dist-packages/seaborn/distributions.py:2619: FutureWarning: `distplot` is a deprecated function and will be removed in a future version. Please adapt your code to use either `displot` (a figure-level function with similar flexibility) or `kdeplot` (an axes-level function for kernel density plots).\n",
            "  warnings.warn(msg, FutureWarning)\n"
          ]
        },
        {
          "output_type": "display_data",
          "data": {
            "text/plain": [
              "<Figure size 864x720 with 1 Axes>"
            ],
            "image/png": "[encoded data removed]"
          },
          "metadata": {
            "needs_background": "light"
          }
        }
      ]
    },
    {
      "cell_type": "markdown",
      "source": [
        "### Polynomial Regression and Pipelines"
      ],
      "metadata": {
        "id": "3xhZHJOwSkwJ"
      }
    },
    {
      "cell_type": "code",
      "source": [
        "def PlotPolly(model, independent_variable, dependent_variabble, Name):\n",
        "    x_new = np.linspace(15, 55, 100)\n",
        "    y_new = model(x_new)\n",
        "\n",
        "    plt.plot(independent_variable, dependent_variabble, '.', x_new, y_new, '-')\n",
        "    plt.title('Polynomial Fit with Matplotlib for Price ~ Length')\n",
        "    ax = plt.gca()\n",
        "    ax.set_facecolor((0.898, 0.898, 0.898))\n",
        "    fig = plt.gcf()\n",
        "    plt.xlabel(Name)\n",
        "    plt.ylabel('Price of Cars')\n",
        "\n",
        "    plt.show()\n",
        "    plt.close()"
      ],
      "metadata": {
        "id": "tMleHJcbS-Gj"
      },
      "execution_count": 21,
      "outputs": []
    },
    {
      "cell_type": "code",
      "source": [
        "# Variables\n",
        "x = dataframe[\"highway-mpg\"]\n",
        "y = dataframe[\"price\"]"
      ],
      "metadata": {
        "id": "HsO7HUpNTBIt"
      },
      "execution_count": 22,
      "outputs": []
    },
    {
      "cell_type": "code",
      "source": [
        "# Fit the polynomial using polyfit\n",
        "f = np.polyfit(x, y, 3)\n",
        "p = np.poly1d(f)\n",
        "print(p)"
      ],
      "metadata": {
        "colab": {
          "base_uri": "https://localhost:8080/"
        },
        "id": "Ve4EXtjTTHdt",
        "outputId": "e51fde88-7017-4365-c7e7-88e7dee7b9a8"
      },
      "execution_count": 23,
      "outputs": [
        {
          "output_type": "stream",
          "name": "stdout",
          "text": [
            "        3         2\n",
            "-1.557 x + 204.8 x - 8965 x + 1.379e+05\n"
          ]
        }
      ]
    },
    {
      "cell_type": "code",
      "source": [
        "# Plotting the function\n",
        "PlotPolly(p, x, y, \"highway-mpg\")"
      ],
      "metadata": {
        "colab": {
          "base_uri": "https://localhost:8080/",
          "height": 295
        },
        "id": "vVu-OADvTUXK",
        "outputId": "8540f184-508b-4d28-b6d8-eb5a51c0d3a0"
      },
      "execution_count": 24,
      "outputs": [
        {
          "output_type": "display_data",
          "data": {
            "text/plain": [
              "<Figure size 432x288 with 1 Axes>"
            ],
            "image/png": "[encoded data removed]"
          },
          "metadata": {
            "needs_background": "light"
          }
        }
      ]
    },
    {
      "cell_type": "code",
      "source": [
        "np.polyfit(x, y, 3)"
      ],
      "metadata": {
        "colab": {
          "base_uri": "https://localhost:8080/"
        },
        "id": "zTSf_WZ0TbCl",
        "outputId": "d99789b1-7f43-44f2-8adb-07f181228b81"
      },
      "execution_count": 25,
      "outputs": [
        {
          "output_type": "execute_result",
          "data": {
            "text/plain": [
              "array([-1.55663829e+00,  2.04754306e+02, -8.96543312e+03,  1.37923594e+05])"
            ]
          },
          "metadata": {},
          "execution_count": 25
        }
      ]
    },
    {
      "cell_type": "markdown",
      "source": [
        "Perform a polynomial transform on multiple features."
      ],
      "metadata": {
        "id": "6lDVQBxrT9S1"
      }
    },
    {
      "cell_type": "code",
      "source": [
        "from sklearn.preprocessing import PolynomialFeatures"
      ],
      "metadata": {
        "id": "FF3pDCpNUBQ5"
      },
      "execution_count": 28,
      "outputs": []
    },
    {
      "cell_type": "code",
      "source": [
        "# Creating a PolynomialFeatures object of degree 2\n",
        "pr = PolynomialFeatures(degree=2)\n",
        "pr"
      ],
      "metadata": {
        "colab": {
          "base_uri": "https://localhost:8080/"
        },
        "id": "dbgU8fZuUFiE",
        "outputId": "f331f47d-4a6c-4cc6-e651-b8ecb3c42ac3"
      },
      "execution_count": 29,
      "outputs": [
        {
          "output_type": "execute_result",
          "data": {
            "text/plain": [
              "PolynomialFeatures()"
            ]
          },
          "metadata": {},
          "execution_count": 29
        }
      ]
    },
    {
      "cell_type": "code",
      "source": [
        "Z_pr = pr.fit_transform(Z)"
      ],
      "metadata": {
        "id": "saICP0GhUNzS"
      },
      "execution_count": 30,
      "outputs": []
    },
    {
      "cell_type": "code",
      "source": [
        "# Original data\n",
        "# 201 samples and 4 features\n",
        "Z.shape"
      ],
      "metadata": {
        "colab": {
          "base_uri": "https://localhost:8080/"
        },
        "id": "pJO7sh4mUROm",
        "outputId": "08133ad8-4d50-4699-88a1-12bf754a8fcf"
      },
      "execution_count": 32,
      "outputs": [
        {
          "output_type": "execute_result",
          "data": {
            "text/plain": [
              "(201, 4)"
            ]
          },
          "metadata": {},
          "execution_count": 32
        }
      ]
    },
    {
      "cell_type": "code",
      "source": [
        "# After the transformation\n",
        "# 201 samples and 15 features\n",
        "Z_pr.shape"
      ],
      "metadata": {
        "colab": {
          "base_uri": "https://localhost:8080/"
        },
        "id": "k5C5IfIxUStd",
        "outputId": "5dff1092-8608-4529-e2ca-554c74f42b1c"
      },
      "execution_count": 33,
      "outputs": [
        {
          "output_type": "execute_result",
          "data": {
            "text/plain": [
              "(201, 15)"
            ]
          },
          "metadata": {},
          "execution_count": 33
        }
      ]
    },
    {
      "cell_type": "markdown",
      "source": [
        "**Pipeline**"
      ],
      "metadata": {
        "id": "YX_zPbr2Tktr"
      }
    },
    {
      "cell_type": "code",
      "source": [
        "# Importing the libraries\n",
        "from sklearn.pipeline import Pipeline\n",
        "from sklearn.preprocessing import StandardScaler"
      ],
      "metadata": {
        "id": "lvXqaauDTpUX"
      },
      "execution_count": 26,
      "outputs": []
    },
    {
      "cell_type": "code",
      "source": [
        "# Create the pipeline\n",
        "Input=[('scale',StandardScaler()), ('polynomial', PolynomialFeatures(include_bias=False)), ('model',LinearRegression())]"
      ],
      "metadata": {
        "id": "DFOVjIatTuhp"
      },
      "execution_count": 34,
      "outputs": []
    },
    {
      "cell_type": "code",
      "source": [
        "# Input the list as an argument to the pipeline constructor\n",
        "pipe = Pipeline(Input)\n",
        "pipe"
      ],
      "metadata": {
        "colab": {
          "base_uri": "https://localhost:8080/"
        },
        "id": "EJqrJli6Uice",
        "outputId": "e0e18fca-461d-4edd-d363-2190a59951ce"
      },
      "execution_count": 35,
      "outputs": [
        {
          "output_type": "execute_result",
          "data": {
            "text/plain": [
              "Pipeline(steps=[('scale', StandardScaler()),\n",
              "                ('polynomial', PolynomialFeatures(include_bias=False)),\n",
              "                ('model', LinearRegression())])"
            ]
          },
          "metadata": {},
          "execution_count": 35
        }
      ]
    },
    {
      "cell_type": "code",
      "source": [
        "# Normalize the data, perform a transform and fit the model simultaneously\n",
        "Z = Z.astype(float)\n",
        "pipe.fit(Z,y)"
      ],
      "metadata": {
        "colab": {
          "base_uri": "https://localhost:8080/"
        },
        "id": "KY6o1WosUoiE",
        "outputId": "4112b2da-4d05-464f-e02c-096556e000cb"
      },
      "execution_count": 36,
      "outputs": [
        {
          "output_type": "execute_result",
          "data": {
            "text/plain": [
              "Pipeline(steps=[('scale', StandardScaler()),\n",
              "                ('polynomial', PolynomialFeatures(include_bias=False)),\n",
              "                ('model', LinearRegression())])"
            ]
          },
          "metadata": {},
          "execution_count": 36
        }
      ]
    },
    {
      "cell_type": "code",
      "source": [
        "# Normalize the data, perform a transform and produce a prediction simultaneously\n",
        "ypipe=pipe.predict(Z)\n",
        "ypipe[0:4]"
      ],
      "metadata": {
        "colab": {
          "base_uri": "https://localhost:8080/"
        },
        "id": "CabDHQgXU06S",
        "outputId": "98979cbb-1373-4776-e639-fa27f003790e"
      },
      "execution_count": 37,
      "outputs": [
        {
          "output_type": "execute_result",
          "data": {
            "text/plain": [
              "array([13102.74784201, 13102.74784201, 18225.54572197, 10390.29636555])"
            ]
          },
          "metadata": {},
          "execution_count": 37
        }
      ]
    },
    {
      "cell_type": "markdown",
      "source": [
        "### Measures for In-Sample Evaluation"
      ],
      "metadata": {
        "id": "XVyD6WmnVAT9"
      }
    },
    {
      "cell_type": "markdown",
      "source": [
        "**R-squared**\n",
        "\n",
        "R squared, also known as the coefficient of determination, is a measure to indicate how close the data is to the fitted regression line.\n",
        "\n",
        "The value of the R-squared is the percentage of variation of the response variable (y) that is explained by a linear model.\n",
        "\n",
        "**Mean Squared Error (MSE)**\n",
        "\n",
        "The Mean Squared Error measures the average of the squares of errors. That is, the difference between actual value (y) and the estimated value (ŷ)."
      ],
      "metadata": {
        "id": "aTAob5CZWJz8"
      }
    },
    {
      "cell_type": "markdown",
      "source": [
        "**Model 1: Simple Linear Regression**"
      ],
      "metadata": {
        "id": "yPE0yazyWVuv"
      }
    },
    {
      "cell_type": "code",
      "source": [
        "# Calculating the R^2\n",
        "\n",
        "# highway_mpg_fit\n",
        "lm.fit(X, Y)\n",
        "# Find the R^2\n",
        "print(\"The R-square is: \", lm.score(X, Y))"
      ],
      "metadata": {
        "colab": {
          "base_uri": "https://localhost:8080/"
        },
        "id": "6ZF8oHzyWaS5",
        "outputId": "b1a7d41a-5547-4eeb-8fd5-386ba14063a9"
      },
      "execution_count": 38,
      "outputs": [
        {
          "output_type": "stream",
          "name": "stdout",
          "text": [
            "The R-square is:  0.4965911884339176\n"
          ]
        }
      ]
    },
    {
      "cell_type": "code",
      "source": [
        "# Calculate the MSE\n",
        "\n",
        "Yhat = lm.predict(X)\n",
        "print(\"The output of the first four predicted value is: \", Yhat[0:4])"
      ],
      "metadata": {
        "colab": {
          "base_uri": "https://localhost:8080/"
        },
        "id": "UMX4ziH7WwiB",
        "outputId": "1205f7ef-ddef-4281-e2b0-0693f9278711"
      },
      "execution_count": 39,
      "outputs": [
        {
          "output_type": "stream",
          "name": "stdout",
          "text": [
            "The output of the first four predicted value is:  [[16236.50464347]\n",
            " [16236.50464347]\n",
            " [17058.23802179]\n",
            " [13771.3045085 ]]\n"
          ]
        }
      ]
    },
    {
      "cell_type": "code",
      "source": [
        "# Importing the function mean_squared_error\n",
        "from sklearn.metrics import mean_squared_error"
      ],
      "metadata": {
        "id": "03WSJWxBXC_y"
      },
      "execution_count": 40,
      "outputs": []
    },
    {
      "cell_type": "code",
      "source": [
        "# Comparing predicted results vs actual results\n",
        "mse = mean_squared_error(dataframe[\"price\"], Yhat)\n",
        "print(\"The mean square error of price and predicted value is: \", mse)"
      ],
      "metadata": {
        "colab": {
          "base_uri": "https://localhost:8080/"
        },
        "id": "9zp8gFNyWPE9",
        "outputId": "4e588101-2cc7-45f2-8673-6cf1d3919686"
      },
      "execution_count": 41,
      "outputs": [
        {
          "output_type": "stream",
          "name": "stdout",
          "text": [
            "The mean square error of price and predicted value is:  31635042.944639888\n"
          ]
        }
      ]
    },
    {
      "cell_type": "markdown",
      "source": [
        "**Model 2: Multiple Linear Regression**"
      ],
      "metadata": {
        "id": "aPBPzCdRXfop"
      }
    },
    {
      "cell_type": "code",
      "source": [
        "# Calculating the R^2\n",
        "\n",
        "# fit the model \n",
        "lm.fit(Z, dataframe['price'])\n",
        "# Find the R^2\n",
        "print('The R-square is: ', lm.score(Z, dataframe['price']))"
      ],
      "metadata": {
        "colab": {
          "base_uri": "https://localhost:8080/"
        },
        "id": "QGdcc_CSXhiV",
        "outputId": "10794a8e-ebb9-4212-8b39-92fa1d73b8eb"
      },
      "execution_count": 43,
      "outputs": [
        {
          "output_type": "stream",
          "name": "stdout",
          "text": [
            "The R-square is:  0.8093562806577457\n"
          ]
        }
      ]
    },
    {
      "cell_type": "code",
      "source": [
        "# Calculate the MSE\n",
        "\n",
        "Y_predict_multifit = lm.predict(Z)"
      ],
      "metadata": {
        "id": "6EB_6p3iXoCH"
      },
      "execution_count": 44,
      "outputs": []
    },
    {
      "cell_type": "code",
      "source": [
        "# Comparing predicted results against actual results\n",
        "print('The mean square error of price and predicted value using multifit is: ', \\\n",
        "      mean_squared_error(dataframe['price'], Y_predict_multifit))"
      ],
      "metadata": {
        "colab": {
          "base_uri": "https://localhost:8080/"
        },
        "id": "fed0YTwAXyNo",
        "outputId": "44156268-7f5d-4cd4-ee02-3264e023f12f"
      },
      "execution_count": 46,
      "outputs": [
        {
          "output_type": "stream",
          "name": "stdout",
          "text": [
            "The mean square error of price and predicted value using multifit is:  11980366.87072649\n"
          ]
        }
      ]
    },
    {
      "cell_type": "markdown",
      "source": [
        "**Model 3: Polynomial Fit**"
      ],
      "metadata": {
        "id": "NDgYI3lJX_e4"
      }
    },
    {
      "cell_type": "code",
      "source": [
        "# Importing the function r2_score\n",
        "from sklearn.metrics import r2_score"
      ],
      "metadata": {
        "id": "jmLnHH-AYC9m"
      },
      "execution_count": 47,
      "outputs": []
    },
    {
      "cell_type": "code",
      "source": [
        "# Apply the function to get the value of R^2\n",
        "r_squared = r2_score(y, p(x))\n",
        "print('The R-square value is: ', r_squared)"
      ],
      "metadata": {
        "colab": {
          "base_uri": "https://localhost:8080/"
        },
        "id": "FgcOQOX6YMEC",
        "outputId": "48156ca5-9627-44a6-cb3f-3e3fa3d5d268"
      },
      "execution_count": 48,
      "outputs": [
        {
          "output_type": "stream",
          "name": "stdout",
          "text": [
            "The R-square value is:  0.674194666390652\n"
          ]
        }
      ]
    },
    {
      "cell_type": "code",
      "source": [
        "mean_squared_error(dataframe['price'], p(x))"
      ],
      "metadata": {
        "colab": {
          "base_uri": "https://localhost:8080/"
        },
        "id": "DxfGMwnXYSlc",
        "outputId": "ec5fb6c4-02a5-434c-e5e7-defec0f11cd1"
      },
      "execution_count": 50,
      "outputs": [
        {
          "output_type": "execute_result",
          "data": {
            "text/plain": [
              "20474146.426361218"
            ]
          },
          "metadata": {},
          "execution_count": 50
        }
      ]
    },
    {
      "cell_type": "markdown",
      "source": [
        "### Prediction and Decision Making"
      ],
      "metadata": {
        "id": "eo-n_nJpYa75"
      }
    },
    {
      "cell_type": "code",
      "source": [
        "import matplotlib.pyplot as plt\n",
        "import numpy as np\n",
        "%matplotlib inline"
      ],
      "metadata": {
        "id": "79wLKLwZYdTE"
      },
      "execution_count": 51,
      "outputs": []
    },
    {
      "cell_type": "code",
      "source": [
        "# Creating a new input\n",
        "new_input = np.arange(1, 100, 1).reshape(-1, 1)"
      ],
      "metadata": {
        "id": "H1YHhlIqXlPO"
      },
      "execution_count": 52,
      "outputs": []
    },
    {
      "cell_type": "code",
      "source": [
        "# Fit the model\n",
        "lm.fit(X, Y)\n",
        "lm"
      ],
      "metadata": {
        "colab": {
          "base_uri": "https://localhost:8080/"
        },
        "id": "9247YjJTYvzv",
        "outputId": "a8370510-3d00-46dd-9070-bc1825e0157d"
      },
      "execution_count": 53,
      "outputs": [
        {
          "output_type": "execute_result",
          "data": {
            "text/plain": [
              "LinearRegression()"
            ]
          },
          "metadata": {},
          "execution_count": 53
        }
      ]
    },
    {
      "cell_type": "code",
      "source": [
        "# Producing a prediction\n",
        "yhat = lm.predict(new_input)\n",
        "yhat[0:5]"
      ],
      "metadata": {
        "colab": {
          "base_uri": "https://localhost:8080/"
        },
        "id": "tVrfmaB5YyyT",
        "outputId": "f10606a1-9f7b-4ae0-f028-144f731f59ea"
      },
      "execution_count": 54,
      "outputs": [
        {
          "output_type": "stream",
          "name": "stderr",
          "text": [
            "/usr/local/lib/python3.7/dist-packages/sklearn/base.py:451: UserWarning: X does not have valid feature names, but LinearRegression was fitted with feature names\n",
            "  \"X does not have valid feature names, but\"\n"
          ]
        },
        {
          "output_type": "execute_result",
          "data": {
            "text/plain": [
              "array([[37601.57247984],\n",
              "       [36779.83910151],\n",
              "       [35958.10572319],\n",
              "       [35136.37234487],\n",
              "       [34314.63896655]])"
            ]
          },
          "metadata": {},
          "execution_count": 54
        }
      ]
    },
    {
      "cell_type": "code",
      "source": [
        "plt.plot(new_input, yhat)\n",
        "plt.show"
      ],
      "metadata": {
        "colab": {
          "base_uri": "https://localhost:8080/",
          "height": 282
        },
        "id": "bpbYMPc0Y4YM",
        "outputId": "2b776b0e-0b23-4057-848d-b4cb91db709b"
      },
      "execution_count": 55,
      "outputs": [
        {
          "output_type": "execute_result",
          "data": {
            "text/plain": [
              "<function matplotlib.pyplot.show(*args, **kw)>"
            ]
          },
          "metadata": {},
          "execution_count": 55
        },
        {
          "output_type": "display_data",
          "data": {
            "text/plain": [
              "<Figure size 432x288 with 1 Axes>"
            ],
            "image/png": "[encoded data removed]"
          },
          "metadata": {
            "needs_background": "light"
          }
        }
      ]
    },
    {
      "cell_type": "markdown",
      "source": [
        "### Graded Review Questions"
      ],
      "metadata": {
        "id": "MtNOyiw8ZYke"
      }
    },
    {
      "cell_type": "markdown",
      "source": [
        "![Screen Shot 2022-10-28 at 8.40.33 p.m..png](data:image/png;base64,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)"
      ],
      "metadata": {
        "id": "GDg0f1QmZp5X"
      }
    },
    {
      "cell_type": "markdown",
      "source": [
        "### Course Progress"
      ],
      "metadata": {
        "id": "Lg5UaR0hZuLA"
      }
    },
    {
      "cell_type": "markdown",
      "source": [
        "![Screen Shot 2022-10-28 at 8.40.57 p.m..png](data:image/png;base64,iVBORw0KGgoAAAANSUhEUgAABCQAAAI9CAYAAADin6lgAAABXmlDQ1BJQ0MgUHJvZmlsZQAAKJF1kD1LQgEUhh/LCERIKKLBQaKhwSJuQTWFGkjQYFb0sV2vpoUfl6sRNgVFu9DcYkNbWy1B0R6EQUFR1NIfCFzKbudqpRYdOJyHl3NeXg60OFVdT9qBVDpnhIN+z+LSsqf9BQduOhmnV9Wyui8UmpYVvmdzlW+wWfN6wPIq3T5vDn+Uyq7LtbOjx8ntv/tN5YjGsprMd2lF040c2IaEQxs53eIt4S5DQgnvWRyv8aHFkRqfVnfmwgHhK2GXllCjwk/C3kiDHm/gVHJd+8pgpXfG0vOzMrul3fiJkWYGD0EWUBhhFEn1z81I9SZABp08BqvESZCTa58oOklx8zAljhqDeIUVcVNQrF///mFdyxzAWBlaC3UtIj842YWeu7rWtw8dO3B8oauG+vNZW9meXRlWauycgLYH03zth/YCVAqm+VY0zUpR/O/hPP8JKURnPRcvBMIAAABiZVhJZk1NACoAAAAIAAIBEgADAAAAAQABAACHaQAEAAAAAQAAACYAAAAAAAOShgAHAAAAEgAAAFCgAgAEAAAAAQAABCSgAwAEAAAAAQAAAj0AAAAAQVNDSUkAAABTY3JlZW5zaG90YTYQ1QAAAj9pVFh0WE1MOmNvbS5hZG9iZS54bXAAAAAAADx4OnhtcG1ldGEgeG1sbnM6eD0iYWRvYmU6bnM6bWV0YS8iIHg6eG1wdGs9IlhNUCBDb3JlIDYuMC4wIj4KICAgPHJkZjpSREYgeG1sbnM6cmRmPSJodHRwOi8vd3d3LnczLm9yZy8xOTk5LzAyLzIyLXJkZi1zeW50YXgtbnMjIj4KICAgICAgPHJkZjpEZXNjcmlwdGlvbiByZGY6YWJvdXQ9IiIKICAgICAgICAgICAgeG1sbnM6ZXhpZj0iaHR0cDovL25zLmFkb2JlLmNvbS9leGlmLzEuMC8iCiAgICAgICAgICAgIHhtbG5zOnRpZmY9Imh0dHA6Ly9ucy5hZG9iZS5jb20vdGlmZi8xLjAvIj4KICAgICAgICAgPGV4aWY6UGl4ZWxZRGltZW5zaW9uPjEwODA8L2V4aWY6UGl4ZWxZRGltZW5zaW9uPgogICAgICAgICA8ZXhpZjpVc2VyQ29tbWVudD5TY3JlZW5zaG90PC9leGlmOlVzZXJDb21tZW50PgogICAgICAgICA8ZXhpZjpQaXhlbFhEaW1lbnNpb24+MTkyMDwvZXhpZjpQaXhlbFhEaW1lbnNpb24+CiAgICAgICAgIDx0aWZmOk9yaWVudGF0aW9uPjE8L3RpZmY6T3JpZW50YXRpb24+CiAgICAgIDwvcmRmOkRlc2NyaXB0aW9uPgogICA8L3JkZjpSREY+CjwveDp4bXBtZXRhPgrCOB4sAABAAElEQVR4AezdB7gkVZnw8cPMEIcMInFJghgAYWVdVJIiBpIoiIldDAQJIqwExf0Ew4qAkhQQRBBQBCUogquuq6CrAi5mQSWMSpQch4EJX/9rfa9naqrD7e7bt6vnf55npvt2Vzj1O9VV57x16tQi8xopmRRQQAEFFFBAAQUUUEABBRRQQIEBCkwZ4LpclQIKKKCAAgoooIACCiiggAIKKFAIGJBwR1BAAQUUUEABBRRQQAEFFFBAgYELGJAYOLkrVEABBRRQQAEFFFBAAQUUUEABAxLuAwoooIACCiiggAIKKKCAAgooMHABAxIDJ3eFCiiggAIKKKCAAgoooIACCihgQMJ9QAEFFFBAAQUUUEABBRRQQAEFBi5gQGLg5K5QAQUUUEABBRRQQAEFFFBAAQUMSLgPKKCAAgoooIACCiiggAIKKKDAwAUMSAyc3BUqoIACCiiggAIKKKCAAgoooIABCfcBBRRQQAEFFFBAAQUUUEABBRQYuIABiYGTu0IFFFBAAQUUUEABBRRQQAEFFDAg4T6ggAIKKKCAAgoooIACCiiggAIDFzAgMXByV6iAAgoooIACCiiggAIKKKCAAtMkUECBhUfge9/7XrrxxhvTLbfcku6666603HLLpWc/+9lpyy23TLvvvnttIebNm5duvvnmdN9996UXv/jFaamllqrttgwq45T/TTfdlDbddNO08sorD2q1Q7OeZ555pvgtLLbYYmmTTTZJU6dOHZq8mREFFFBAAQUUUGBhERh3QOKvf/1r+slPfpJmzJiRHnrooTR79uz0rGc9K62yyipp7bXXTltssUVadNFFFxa/odvOq666KlHRLicq3ZQR/2iALr744uVJ/HvEBc4+++x04YUXzreVjz76aPrLX/6Sll566aEOSBBo+J//+Z+xvO+4447zHWf+8z//Mx133HHF9xtvvHH6zGc+MzatbxYUIBjx1re+NRHIWWKJJdJll12Wpk+fvuCEI/zJCSeckL797W8XW7jXXnuld7/73SO8tYPdtN/97nfpD3/4Q7FSgp7bbbddVxmYM2dO+uY3v1nsp9OmTUuve93r0pQpzTt2Pv744+mSSy4ZWxfnvbe//e1jf3f65v7770/f/e530x133FEEOVdaaaW01lprpR122KGr4N31119fBIBZ/wte8IK0wQYbVGblhhtuSHfeeWfld+0+3H777YvjeHm6p556Kl177bXpj3/8Y3rggQcS27LhhhumjTbaqNim8vSd/s0x5L//+7/HJn/Na14zbhvqKl/72tcS5UzabLPNCp+xhbZ4M3fu3KKMZs6cWUy1zTbbpBVWWKHFHH//6vbbb08//OEP07333puefvrptP766xcmz3/+84vj4d+nHP+7xx57rDinPvzww+mRRx5JyyyzTFFHXnXVVYsLAONfonNMhgDHL45jJH4v7BsmBRSYOIGOAxIcZD/1qU+l73//+y1zQ8Nm6623Tvvvv78H35ZSE/Pl6aefnqiUtUqLLLJI2nbbbdM73/nO9A//8A+tJvW7ERGg0lcORqy44opFRZ/AYrcNhkHxEJA46aSTitWx/+6yyy7zrZqKfKTf/OY36cknn7SXRIBUvP7sZz8ryp6vaLD86le/KnrJVEw6sh/l+wwNRgMS/Svqn//85+mss84qFkgPnG6PLxdffHH63Oc+VyznLW95S8tgBBPRQP7iF79YTB//sX6ClJ2m8847L335y19Os2bNWmAWvnvb296W/vVf/3WB76o+oKF9xhlnpK9+9atjX1M3ahaQIPjygx/8YGza8bzZfPPNFwhIsF8fc8wx6Yknnqhc1Bvf+Mb0nve8Z77gbuWEpQ/Zro985CNFD6v4imDCeHtasY/kAaR99tmno4AEjX22i/0s0nOf+9y2AQkCIB/+8IfnC27H/LwSNOD78TY+CWpceumlxXJ/+9vfJoIl5cR5i/3w1a9+dXrFK17h+akMNGR/E9zit8v5kfcXXHBBEVwasmyaHQVGRqD5pYZsE3/xi18Ujdd2wQhmoTHMSZDAhGk4BbgqSllSqcorA8OZW3PVD4FvfetbY4vht/kf//EfRQXqiiuuKF5f9rKXjX0/jG+WXXbZsWyR//JV0pe//OVj3//jP/6jlb0xjeo33KITtyjgSWNiYUtbbbXV2CYTRB9EohFHIPjrX//6IFY3aeugV0Sk/Lcbn3XyyhV4AgAkGop777138b7Vf/SUKqeqz8rTxN80Os4999zKYATTEKT4whe+kM4///yYpenrgw8+mN73vvfNF4xoOvEEfEFj/UMf+lDTYASrpBFNQIK8jicR3OZ2r14S9co8UNPpslgvwcM8GNHJvPTm/X//7/81DUawjHvuuScddNBB6fLLL+9kkcU0kZ8zzzwz/frXv54vGEGvszjOUu8i8EvPLOpev/zlL9uug94fbCvHjN///vdtp3eC/gnQ85vgI4mLNgQnTAooMHECbXtI0KWVrtB5xJeui1x1iIg0Xb7/9Kc/pR//+MeJLuCvf/3rxw7CE5d1l9xOgC6ZL3nJS4rJOLFxuw1Xj+mOSqJMOYlGWRYf+t9ICnCLVSSupOUBiPFe1YrlDPI1b9Tk7yMPXHHieERPivFcDY35F7ZXKlsEoxh344UvfGHP3ZTr6HfooYcmupnTrf85z3nOhG8C3eW5gk/DhAruKKf8N5oHJ8azzSeeeOJYYIBGIrcWtUrUQ7g6TWL99OqM4Pt73/vetrcp0kX7nHPOGVvF6quvnvbdd9+0zjrrFLdbEIhg7B0S0zFWTbMr6ZxnudIe59qxhbZ5wzLp4t9JYiyguL2D3/Maa6wxNhu/66OOOmrMjzKgEfy85z2vOEb+6Ec/St/5zneK6bmVg9v5jjzyyLH5W72hYVzuhdJq+qrv6LFBUJzyGU/6xje+kU499dTK21LbLedjH/tYUUeN6eglyi04XP0mkEBwhls46P3BLX/UndgHmiV6WxAwozcNdSmC5Nw2wnmIW0DWW2+9oscI3/F7J4BCfZoLdtTFCFbRW2bPPfdstori9mjKhxS3pjSd2C/6LvDmN785XX311enuu+8uXtlfXvSiF/V9PS5QAQVSahmQ4KTBLQB5MGKPPfYoIuoR9c0ROUBzryJXKE2TL0Blich6nigjTqBUrkicfE877TTvuc+RRuw9v2OuDkWq4wk1ekVwLGrWwKFCnlfKY3t9rRag0fZP//RP1V8uBJ/ShbpZg3IiNp971sfbAJuIfAximXlAIn/f6bqvueaa9L//+7/F5PSOyAOozZYR44HwPdMThOXqNcc/GuCvfOUrm81afE6DNMqH4w11nxiTYN111y3qNf/yL/9SNFqZ4aKLLkof/ehHF1gm47F89rOfHTvmEgQgcMDFmnZp5513Tvxrl+hG/qY3vWlsst12222+i0D0YGAaElfpOd/ngWcazmxT3A5DLxKWx2etEj1EaNhTb1hzzTWLMTZaTd/sO4IKNP4Zb4xbB3nfKnFLxKc//emU9/QjYHDddde1mm3su1tvvXW+240JAhxwwAFj33McIKh9yCGHFGXF+ZIgDUGlqsT2E+SKMQYIXHzwgx+sDIYTqGDcDsb44N9Pf/rT4iJfXHXnAt9LX/rSqtUkfgemyRMgWE1Q8thjjy2ODeyDnfSOmrwcu2YF6ivQMiBB90Xu1YvEAZh7DpslTi7tTvrMy4mSaDFRYgb94YTEyY2RzstdsfN1cTLkxBKJQTSbDcTGyZ8BqSIxKA2DYkWiYcNVBBIVJtYfid4enGjIH5Uh7vkrpz//+c/ptttuK642kC9OOFylIDreyRUOrt7QZZETMR4xL1djJjJRRlwp4UpSnMyJwOOR2zPoExF5Ak9sUySu8jEv3y+55JJF5YnXqsQ0XFHiqjXLYUBNrsayrZ0mypH8sRzGBWBf4QReNXAq+eQE0mvZkjcqJJQPFcnYRxlvg6vvNGTaJbrAxlMf+A1RsaVCyFUT9qlWqdd9q7zs8lU6ticqUkzLdlEBr0rdliH7NfsKiatFMYgqZci6Y8A7usrnv72qPPAZ+yZ5ZH+oCkjk62PfaHaPNsvi98Zvl30KG36v7FNVxxLyFo2SfB35NlGxpCsuXczZ/5iH403MxzpbJY4FlDndhfnHleDVVlstcSxodYWuvEwaU9iyLOwx57dGfso9ALi1juki8T15b5W63RfyZXJMYfwKfle40zsrL//4vTEPv5XyVXGuztIYIPF74phSlQi8xpVFvmcd5YYx2xNXHdmnysGsfpY3jeK8wcwxMf8Nkkf22arjGt+xb9G4Jk8cSylXbrNptY/lZcz+FNPih2M01jmmNbtlp9tzdf4bzd+zLZ2k3IoGen5uqpqffT+u+PP9P//zPxdlzjaSWF6rugnncJ5AFOkNb3jDmFd8xr7I4Kf03CAR5OC3H658Rp3p85//PG+LREOT2wT6/QQjAggcx0nkKx9Th22h0RuJQEMejIjPGdSWgTs5FnLOpNcD4zK0SgQw4rjBYKExkHCrecrfEZiL22goW3onsF+3SvT2iAAV0+3duH2HW66iDtNqXr7LG/Yc56kDlRO/KXos/Pu//3vxFbe1EoCqCtJwq0n8ftmGAw88sKgPlZdZ9Tf7JsEuxsvgN/rxj3+8sC+XEb/5vBypl+bH6HbnuW6OGeX8EgiiHsR5iX2d3zJOnC8YHH08qdnxiHN61LWWX375YrBV6vbl3zz7KMds3Dlux3m27Eae8nXxN8ttdi6lrhf1EaalPpuXOfsZn7FOyoBjZ14nZh6TAgr0LvD3FnppWZwgGAgvEhV2ovC9JCo3nNCoHFBBKycOdHSRIuhR1eijssr9jpGOP/74sVsS4rN45UDOgT4S9wTSmI3EgTaWRSOZKxocxIiA5hUTDrx5QIKTJ5HzZvf/EfSghwgnawIs5cR2czKiIkDFoZzICxWY8R7sy8tp9zcV0DiZUy6cvPKGwSc+8YniwMtJgfJiu+hZwf21+dV2Rj0vJxocGEXAJ/+e5XFCpgtuuQGQT0d+uP81D0Dl31e9J38ss9uyZZlUbL/yla8UY2tU3VdLxf79739/0V23Kg8EsbgNhgpQ7pRPy8mM25rKdr3uW/k6eE/XUH7D+eB9fE7FM+9yS1mXr9D0WoZcJcSRxGC4dEXmli5+s1RsInFcyfe7+LzqlcoQlZdyw5Jp8/XxO6+6B5j9nG7CVIip3HSSDj/88LTTTjsVk+brwIzfOccNrtqxz+WJRgIVfv41a2TSoKFizlOLqvYVjoHbNroVc4WmWWUq1sn2csW2WcWe3wUVba7WktjXqORHoiHVbIDbXveFWAfj1XB1iQBMnmjQHXbYYcVgyJQP3d1JnCu47SxP/PbYB0gMckgDoioRBIzjO99zTC03SOMYx/d8xzR56kd5Exhhu/ktRL5ZB4MX8i9PcfzKP6PxRw82fsNx9T6+55jMVd0jjjiich/Ly5jzEQ0gKtRc4c4r4DSWywGJXs/V+W90vAEJgpZxzCL4whN12qUI7jMdLjzti4Ae5yESyyNIx4WDqsR5hrKKVD4eVn3OMYTgfD5+zWtf+9qi6z/HOMzf9a53FQ2r8vEhltfNK+tlsM9I1E/yiyAEu/JtadULiMb0KaecUiyq6nwd6+CVgAC/CRK+/BtvwiUCOvzu8eH41i5RL+QiFg3yD3zgA8VxMQIC7eble+qOkVpdyKIsabxy/OD3xu8kb5yyDI6x1INInAM4JuWJOgB1SNbJsY7fAtvKuY46IXU7judsx9FHH13UOxlTBgsS+ynL57ySnxeom+aJhji9esqpl2NGLIvfPwOOcn6qqqszHU+LoSw7fcR2fjyKHirUQzg28pvPEwGAYxrBMeqKJM6V1OfL03FuZZwHfmv5eZb3HN8jeEYZcO7Jg4exvi996UtjPYb5jHN+XuYsi3zEGHrU7QxIhJ6vCvRPoGlAghN4flIjolyOWI4nGxykqTgR4WyWOJFS+aKxT1c5KhaDSFTSCA7QXS/uEY315hUYKh+cfDhYN0ucQGjoc4AsJ7aP+elK2ixRGadyzj2MVQfPZvON9/M80s68+YkvXxaVH+7NpcFz5ZVX5l8VV2DLV9apKNEgb9bg43MaplxRZoC3qtt7cOZknV8BonJJpY6yiiukkRlOGHxfvprK952WLdOyXE6C3HbULHEvIZUITsTlsQqoxPzbv/3b2Emw2TKIsLMv5KnXfStfVrynLGhMjjf1owzzdVIG2FR1b666upHPm7+PRs54Gzgsg+ASDXDsSRzLqJiyz/B7jCvlxZeN/wgG0IhvdgWe/ZdKZH4FK+bllWME3aQJcnL1rCoRQIjGd9X3VIipBJFnllXVE4l9lkBD/kjUqmVx/G0VAKyah8/6tS9wTGB7qxKNFI73lE+r80PVvIP6rNvyppdePG1ivHmlAcaxplmDgGM2vQLYdzmWtjo/8xukck4Ap1ypL/8G+3Gujt8q25y/78SAAF004DvtaRRX3Fk+5xSugvOPIBvbzXmHiwA0bKtS3puG3z69c6oS9QHOyxFUpQdGHpDAknMIxzuCiZHK56z4vJtXzk8E7Enkldto88S681Qu3/w7joGRaGizT1XVuziO0RuCYxKuNNqqLqjEspq9EpCO/FEXov7QyXK4tYwxXzjnRmNxPKaxTvLVyoPfEIGDmD4PZMQ2nXzyycXxnWAZvYbzxNgi3C7TrP7DtBwLCQyz33DBizon4xTQ64NlUr7lula+jlbv+3HM4PffST2G9kGnwYhynjnvESwsP/krpuOYxnntk5/8ZBEAYr+pMiUP5zXG8cCN3iyR6B3ILTTclsN8BIMpN269yBPnG4LxkRjsOS5AxGe80ksiD0h0EkTL5/e9Agq0F2ja4s9vd2AxndzD2Wx1nMSIbuaVTU4snGToFUFlj6u50bWcAzIRYq7oDCIRxaZCHMEIDrKc9DhZ5lfoqFhGMIJpOIEQKeU9Jy4qNUTG+buqdwQRWxo/JBrRdP/ElfdcfaAbIBUN7DkhcJ9lucFfzNyH//LujxzMW12l5sRBJZFEXqnk0VArV4AZZIuRiClvEg0ort7QFZkTPEEuouRUJKjgUHGjnMsVBPaVCEbgT0UogjPsQ1SGokHPoHT8XVWJIg+dli3TcnLMgxEMYERXWPLHCfSqq64qrtKwDzAAGFeW8lsDGCQwIvIsj66yXHnkFg26PNIo+EHjkW5cjePKVJ563bfyZcV7ehpxSwQNECpBkSgTrm5Eyivf/SrDWDavmMbVNyrQ9DKh0kdDi99/p4kr3uxHza7kt1oOFcUIRvCbonISZUdlhX0xfhPkjX2+KgAQ64jGNQENPKlY8p5jGftJVJ7ooUJPmKhEx/y80jiiFxBlwT3dNA64ekZwisEPIz8cE85rVLryK/6xHAIVeTCCxgL7HAOX8jtjn+O3yzrG2zDs177Abz68yDfHDczoDUZjhH3jv/7rv4reK7Fdw/Ya+R9vedOAJcBMItgeQX4qvvzLE1dmI3H8o/IcwQh6/ey3336FGd8RaOR4RcOdHj8cIwni8vuqSlzppQdIBCNYHvskx2r290j9OldznuA4zvLyY02sp9VrfgwuB32r5uN4nHfJ5z79SPR8iavZBC2aBSTyhic2cYtZLCd/5fgVAQmC9eVUNUZPnBPL03bzd/Q8Y16u3Oblx2flvyOvfFdOsT/wOccszlNVdQHOdTRUSVy44TgVdZniww7+47jIxQgSPUkikNPsYkh5kfltKeXv2v2NSQTnW3mwnDw4ne8XfEeDP7aBHsPrNC6EROIYHeML8DskmEY9kP2Tug+2JI4hkTg3UM+j7stxkN8K+w/HDC5+xHGH6alP5GWTL4fv+3HMYB/gwkFej6H+Q28Y8sb5l3oygXjqXt0mznH84zjBuYq2AGb0hOC8Q+LYRtCKPPH7IcDHLX6cv5kmH0+EXg7sH/kxlKAPFwajTKh7cWyJJyqxXAIdcUzm/MhF06rE74y8Mi31c25zyutNVfP4mQIKjE+gaUAiPyDxQ6WR3W2iskmXykh0V+ekFg1aTk4cfIg6RtCC7qtUWrtpfMR6xvNKpZ1KCEEGDvzlBi4Hr2hUsVwqNvnoyJx8eNY6QZSIrufrJ7oaDQw+JwCSP3aOxggHZq5gcUKk0UoDt6qnRb7cbt7TMIuDPvNTMS1vb77cCEZQTjSKml2hpmt+VLwIINCLgIZaJLaFK3pUVEk0BAlgxD2bfMaJOa8E7LrrrmPBCL4nr0TCWReJiignrVapXdkyLwGOPFJON+aDDz54bLFUQikvtp+TEQ0FGvmRDybMu5DSKMyvjHPyohsw3cypEEWAhfl63bdYRlWKbsdUVPKABFcQ+W1VpX6UYXm58dunAUqgrdsTeSeNk/K6428qkpFwiWAEn3F8Y8RzAoQkGhn8/shvq8R87ON5902CWBwLYr+gbPmtVQUkCEZW3SrBtFyl4RgZdnn+I09c0eQ4GYnfZXnwOr4jD9GwjWk7ee3XvkCeInHMJ/hDACZPHDsJzoznqmc+/yDed1PezMMxjMStelH5JdAan1flnQBaNJw493L7SvTWoVFC44BjUhxLua2OCnmzfTZu5SEAyL4ejcHyuvt5rm62jvI6y3/HuA983slvnnNANCI5h+frzQMS1C0IzPD7LKf895Hf/lCejr8p00gE1geZOB7kPuXeEeSF4wD7Bg1aEvNU9UTku7jqy3sS8+SNXj6jIRfjc3AOjHNHnOuZpl1iuQTkSAQz8nMrx6eJTjRO4zY+ju1cqKgqZ+q9cWGKPIVh5C+CEfyd1/+oq0XgiyAFAe/8HM/tFvGo37wunZ87CFjwu+b4zz/qm3lAgvNFVbAr8taPYwa/f4Lqkfj9EYziolWeOunVkk/f7D0BAM6ZkWgbcHyKPMT5gHMh47pEYh4ChwQiSAR9+G2XB2mmZzdlFmV60kknFQF7yp6LBXmdjboJy6xKBPop1+hJRdl0W4+pWr6fKaBA42JVM4Q88t/u/uVmy4jP6SoZiZM5DbUIRsTn3EJAhTQaxpyk8vliuol8pfsd93xHHvJ1kd/8RMKVx6oTMlHe/EQUy+BAH4moeR6MiM854MXJns/KlYWYrptXKrdc5eekSTe2qMCxrE56orzqVa8qulQ3C0ZQScp71XCyzoMRkWdOJDQ+InF1L79Kkze8MC9fRWS+/CTOduQBjFhu+bVV2TItla5oLHDlgWd/lxOf54Nh0dCksR+Jk1Ykribl2xWf81reP3rdt/Jl9/K+X2VYlQcquVTKJuMkXg5y5Q2WyCuBz/yKU1Rg4vuqVxqA+b4Y03DPe95oyX8XMQ2vlHurgGvcP8u0+fGYv0n0xsor83TvL/c2YjrWU1X55rtmqV/7Ag29fLwdRsYvByPIA0GiCKA1y9Nkf95reXeafyrh+bGfRmcEI/JlcCzlnBEpnyc+y1+5wnfCCSfM12DPv+d9fs6drHN1PnZP1TmknOf8dg3OF/l5mivjefCRwE1VygMSrXpHMG/+/aADEnnvCAbWbRZoiLFiyC8Nr6rjGb3y8vGymLZc96EsIrjKeatd8J9llBPHKMaG4VxN/Yiu9Pm5sjz9RPyde3BeZuyfaOzG+jjGlrev7BG9LNjH4jfJ9kXDmH2DgGv5HJ/Xt/Ked3kPweiBEvkZz2u/jhl5PZXfPxfOysEI8sV25r+D8eQ1pmXfzYMRfM66ymPV8Rsuf8a0eYCCv8vBIz6j/DgvcuwjsT9T9vQ6JIATiV5V22a3WMXn+Wt+bo0Bu/Pvfa+AAr0JNA1I5JWCXm4boDte3jOAKxbl8QtiE6h85BWsPBod00zUK5WWqnvH8vXRXSwSJ3IiuXllO74rv3Ky4JaUSOUBxOJzXvPKE0GPXhLP7KZbHcEEIs8Egs5rdCvMu0hyIM4bPlXro0FTvleyPF35XvrygI359OwDkYi05/sH68oTFZhyiiuH8XnVCTO+47WTso1eIEzPFbS80sBnkfIKMhWRvLGZX70gSPKOd7yj6Iqee8dyyq/d7lvl5fTyd7/KsCoPBMF6rcBULbebz8r7GMugYZGXU7t9innyruH8HYl5uUIZKa5Ox9+dvubj11CJ5ipQnmJQWj6jqyqN/X6lfu0LcYtW5CsPuMZn8fqKxgCNw5wmurxj27lqlw+AmR9XYpp4zY9H7c4XVOqreurEsobhXM12R2CYfDULgEee+W3lQeyqMsrPNzS48t95LCf/rN1vP2+k5vPFsibqdUbjds/8d1nVOyLWTe+baIRx7KDnJV3xGUSQW0fp4UkjuuybB1JZFvfwx77IrZF5l/hYV7tXxqGJK97kudX+3G5Z3X5PozY/PtLdnwsxNE5pmFKX4xHp7E+5SdkjAsMsLxI9JiOYwLZV/cbyixN53SJ/n08Ty+70tR/HDOqpEXBhvfTYzQMmneal0+mqLjYxbzlIzwWEqnogAYK8LRG38ZbXz0UQyjYSZU/PjDifshzKv13Kz8cGJNpp+b0C4xeY1mwWDsQR/Y+DcLNpW31OYCM/aZe7A5bnZeC1iOZ3W5EvL7OTv1uNRB3z06Wb7o/RIOY9DXWuVHCipTIUlYCYh1emj0G6+JurUHmAgs8i5VdqqJhRGSifFGPadq+45/b59ASZOEhXRZ7z6XhPmbXLQ5yQmZ5l5yd1PstTeR/I5+UkyMmH3ic0+LmnsBwooldFJE7o7Qbr66Rs832Nin2z0fvLvWLyExMVX67AcW8kiS6YVAKp9BAQwrqZY7f7Vjj04zUvh17KsCovnZRB1Xz9+IwKB4FOKvQkesOUeygRkMp/K3lgsJip4r886FD+Ou+RwH7cLBGQY38mb+wv/OO4S2WJbsWtUoy5wzR5BbnVPJ1+1699IQ9st8tnK89O8z2R07XKX6fl3Un+8mMR03P8qDqv8F1eTvmxiO/KKb9KXP6Ov4fhXJ1vAw3/dlfSOZfGMZlpq4LrBLq45YXpuJ2SQF55TKy8V0V+rq5yyrurd9NAr1pmJ5/ROyK2lSvwVcGXWA4NY65uM24Ixx/qEvnVb6ajRxhd4RkQNVJ+fuKCRgRAuMBQNot5Wr1ye0RcieYY3ElvzFbL6/Y76hRsJz0gCJKSyBv/8hTBq+g5knsQMIhgWXkw0FgGdcGqFI1l9un8t5zv7700/vtxzKCemvcaKQcGqrarl8+aPf68/Jtq5cJvPn6vrc6zBOAYaykGkc7bNIwHlh+/m21T3kMiP/c2m97PFVBgfAJNAxKc8OjWRKLSQ5ezPJrb6Wqi8R7T51HG+Cx/zRuXVMg5AeQH8Hzafr7v5ODLyYanX9DIzMeT4KTGoGI8f5xxEsqN/LIBrmHbbhviYNtuuqrvuRIcV4MpT2wJBvCPCkaroEG+vPzkm3+ev8+3sV0Zl28Byk/K5BPnCEox0Ce9B6LBRY+UfAAzbv+Ibczzk7/vpGzz/HMbRn4rRr6s8vu8ckojntsSGCiJQQmj8khFn/voud+fwSy5HSS/PYBldrtvlfPTy9+5QS9lWM4DLpTrZCYG5YqABBUTAoJxvymVOR7NGIn9vVnFMqahIlQuw/iuk1eCHxwvePRju8BDs+Xljf34fTSbdryf92tfKP+OWu1Xze7fHW/eJ2L6Xst7PHnKy5X54ljYbhn5sahq2nbHwbzMmb9VWfH9RJyr823vpJGQ365BHaUcvCafpDgW856gcblxzTEqUjvHuLLK9OXGUyyj3680gPKAAgHudvUigq7UVXiCA43w6OnA+ZLeAvRa4+p+JBrLsT3UTwiEkWg45mM+xPTtXqm7McYJryybrvP5Fe128/f7e47X9PjgXMzFJLY9GrGcn7gdk54l+dX0vBEaF+jIV9yuwftYBu/zAAZ/k7jIFGMPlOvQEahgOsbW6DblvxuW0c0xo7yMfp9TytuWG5a/y//uR92BfZ5eEfmTOFgHQb2oB+TrrHqfHw/Lx8qq6f1MAQXGJ9A0IMFJKK70cjLnqnH+xIlOV5Of6JmnXbe0vDJAF29OZN2kqoElWy2n3ck95qUxz9WWGOU87y5KpYHBjDgZMEBOs4YyAxflB7dYdtVrLydwKi1cAek1dVIGeTm3K+NykIXKfp64ksHJg9shaEQS5KFiwHxRqWJ6ukZ2sn2dlm3kgYp2uwZpTFuuRFDp4arU3nvvXXSJzbsIU5ElwEKUnopROSDUj30r8tXNaz/LMF//eP3zefv1niAQt9FwGxgNF7of0+ChvPJKIX+z/7XLc6+3nxC0yu9npyJLcI1gHVeEuGJL8C0f1KyVRX5lq9V0nX7Xr31hPMevdl3lO8070433+N9u2b2Wd7vlt/qexnMnNu3OKe326bzMyU+743i/ztX5tufO7dZPN/X8SicNwzxYkC83f88xoNzzMBriTJcfD/L54n1+dbQfjaVYbqvXSy+9dOzqPL+pVgOi5suhuzv/qMNxLo3byWJfyIMc1Evic85PYUldMB+YNpZfDjYyVkWMY8L5j3Nd9ECg8cnAmDE4ZiyD11gP7+mREb9dbjWtGqOH6bpN1DUiuEKAgf2Hnk9R/gRP8gHd89tr8/N1Xg/hvB2pahwD6ogRtMgDY8wTt4qy3/ezF2E/jhn9PqeEUbyWgzPxefm1WT26PF27v7lIVE7cLsx+nJdteZr4Ox8HJD9Oxfe+KqBAbwJNW/tcUYxua6yCEWy7CUhwsOckx4Ge1G4Awvx7GoZV944VC2r8Vz64x+e80vV5ItOLX/zixD+eWMHVVQ52cdLhqiejnfNUClIeZedvTrTlXhR8XueUX32jwkZltdlBOy9jtrkciafcGZGeKxYRic4rgZzIeBIKA2fSgOxHojIft8vQXb/8vOrxrgMPHsNHF1UqanR/jeUzYCBXnxjcqyqNZ9+qmr/bz/pZht3mYaLmYz/hah2BiLhPlp4J0TuBSg9XSxj3o9yDp995ondGHoxgkEcG9C033mPfb7Z+GkPRaGs3fkCzZTT7vF/7QjlgR2+oZo24TnuNNctz/vlEH//zdfX7ffl8wTGk6r70fq93Is/VneY133bOITQay4GSWFbeOyI+6+SVugjnawL2kfInb9BA5rdXtZ9yjs/306ppYpn9euU3Hk9oYJkcp8a7XupRVfsQ9bpI1PkixdPO+JveBPxrl/IGH7ewEgCJhBkBinaJnhxxSwXn4X4HJPL1s1+Vb2Oi10Q0xDln5E+toT5D4JhgRN6bgIBEfE6dmXNIlA/7C487jcT+zLz0BmM59F4hcVtRJz2CYjnl1/x3w3fdHDPKPdT6fU4p53mQf1NPz5+ixu+B9gO/c56URU+idimvg7YL/rZblt8roMCCAk0DEtyLGT9aZqO7OQ3siKAvuKjqT6joc8COE1w+CGDVHPn35YZqufEZkfSq5VRFqqum6/UzTpg8tpKu+DQwo9HJExgiIEH0lUZ0RFjzbpK9rn9Y5s8bMBzoqYBUVYDIb17G/F0uZyqEnCQ4WXDgZzwHekfgSKWZ/am8L7CcXhKN0Lgy0s/yoaJA/glAHXXUUWNdZPPHrjbLdyf7VrN5u/m8n2XYzfoneh6OYbjT42e//fYrKoAEAWKfqupuOxF5ip5nLJtjLPc1l4MRfJc3fPi7nOhJEcG9/Epxebpu/u7XvlC+T5hGSj4QY563TrYhD3IOw/E/z3+/3pcDYhyPmh1L+7VOltPPc3W3+SpX9OmtUBWQiKBCrIdGOr0SWyUaaXHuISCYByTKDVOualcNssqtmnkPv3ww4lbr7uU7LnBEvYLlEIzvR6LBmQ+Mmwck+rH8Oi6DATgjMQ5Hub5LTw8CCTRwqedw/GYabgXgdl4CDvTGYzBxjlUEnwmwxO1NHK8PO+yw4olCBCqo61CXyR8hGusfz2s/jhn0EskvHo5KQILfKxcjItDEuQ1vnjhEuvbaa4sLBK0GXGa6/NbicgCI700KKNCbQNOABBFeuhBH1JsGPvfHc4VxvF2o6AoYAQm6S1LBqnr8H2MDRIWBzSpXEmg40OUuTs7N7pOj0htXQXvj6XxuTl7csxlXbfLtwGvrrbceuypKt0VOYK0G6+l8zcMxJb1n6A4aB32i0dy6UE7cO58/uoxGYJysY1oqi5wkSO95z3uKHiXx3US9brvttmMDeBGYYKDB8sCHvaybK8VUJBlrhMTJLSoj7Zbbat9qN+94vu9nGY5nvYOYljI9++yzi1Uxfkq/KvXd5D0fgIzKaD6gXiyPym7+9Jn4PH8laBxXLjkmXnbZZQs8Ci2ffjzv+7UvlK+6Uwmn8ViVGMC2XeKqaXSpj/uyy/NwZf3KK68sfzzpfxN04jdPikBSVaYIRBLIiV4e3LbTyVg5Vcsa72f9OlePd70xPQ2iuNrMZxwnq4IxjAMTvZuYjscHVv2O+C4S+915jadMkbjdg2NCBN4IdlPfoPcaicEyqwIScX5nGhqBG2+8MW8nLHG+zHsW8KjEKo/xZoCLIzTIolcnTzzIe8BykSV6tTZbNscxblGNxLk6PGnc8gj1do085uXqdPT0YnrOxaROBhYuJuzTf9Q/o75LnS1/xHesAifqnRyDeHJIBKS44EAdl+MbV9IvvPDCmKW4gHLKKacUT/A46KCDiumiPswxgTpBVZnmwVcWxjGDukBV6scxg0A9g4pHkOqGG24oAi8su86J834EVyhXbgfmd8v5Jm6ZoXywLffoy7fbHhK5hu8V6L/AlFaL5DGR+Ume7mVc5eVkXpU4YNK1MA5oMQ1d2OJ+MU5yH/vYx4ooc3zPK/NyVTwSkejybQ1Eo/OulVw5iANNzMeJjWde51cx4rteXqnk0pDOD0r58vieA3ik8omDHhSRqJRyS0DeMInveCXvP2g8CSCu2OffDet7KtBvfOMbx7JH10X2FxpWkQhWcHLIGxLsG+WrwzESMvMRWMIpAh2xrH6/0m0+v0JORSu6jpbXxTZRGSkHvdj3mwXJWEbe4KLyF708et23yvnr9u9+lmG3eZio+fJ9iv2PoGi/jxGd5j0PtNIwyJ8awzLYv2g4NTvOxnrYZ/PgMLc55WPaxHR0EWZ50RiOz1u99mtfIICcPwKY/HELUzlxj3wnj3nOG0381sr3pHOcwGEYj515l2ga1M3Kg/Ncfr5gf+V41Gx6eopcccUV8z0lpuzb6d/9Old3ur6q6dj3IuWB/fiM1/yWJxq/3ObWLpUDYfkymDe/Ss2+WA5qlT/rpLHdLk/tvqeBnD9JpR+BVHpoMfZSnN/4jZZ7l9Bb4qUvfWnLf+U6Do28mIfGNA3Z+LvVaz5GFQGNmHZQF2wI5hJAOOaYY8bqK7vvvnvlmA7R65VyywdCZhto6DI2ELersD8ywCoXZRhzjCvqBPs4NrGfEdhgUFHG5sjHqcj3h7jtIz7Lb6GOz+K1X8eMeMoIy6Wujkm+/8X6GBskv7DE59T76YX0lre8JXE8H4ZEwD4P6NGmiCAi+zz7Pol9gMfh5vXVPP98nh+LCLSbFFCgvwLTWi2OgyiPxCGAENFyDjr842RBxYFGFVcxaKjHQD/77rvvfM98ZjlEm88888xidRzMGJSJQXzovsuJMQY/ivwQbY8GW3zGKweTqHRTmWddDOBDV08q8FzhoFKa3yKRz9/te65UnHHGGcXJhfsK6eHBrQNUhqjwM5hT3qUrf+Z15JsTUXQJZJsZ+ImT7zqNx2HRsMCQxjfbR2CFk1tcceg234Ocj+1hkKy4v5KBsc4666xE5YbKNFd8o3cL+eKqQN5tNvLKyToaGlyRiqtSnHRJ9MRgn2L/o2skV8c6GfQtll/1SuCNMR/4R6IsGPyKq9AMcMkVND7jygiNW07SnHjzijAVWHoRsV00nNg/CKxRlpRpHpDI949e962q7en2s36VYbfrn6j52AepNGJNd1saXqTYp3jlt8w+xajbVEh7uae31XZssskm833NPkPXXo5t7GPsJ+SRCmmrcSS4QsuAr+eff36xPI7RPE+d3waVXH5z9GyjxxjbTUV5PKlf+wJ5JDhJ/qjYnXbaaUXAlcAMV7kJ7hGQznu/Nctnfk8309AVl6vZ/OYITrMsfm8cD/g3WUGnqvzTgKMsSBwHaVxu27gaTOONvHNFORp58Zi6CEpFoJ/jDbe4EcTkGIQb28w5j8ZS3rgrVjTO//p5rh7nqscm55wYYxsQuCmfI/hN5Bc9MOzk+I8bjWR+WyTOMe9617vGgnoE+DhuxxO0uEDCfsv5mdunojcS8+K044478nZCU97ooy6QnzfarZjfGfsFxzX2F44t1LPyuhb1Ds5zg2r8t8vzRH5PuXPbHj0y+c1RT+E3xG18ebCPYwn7RVViXsqA/Y/jNBfF8ie78F2rMuKYlwekq9YRn1Fu7HtxzKD+xLGUQUrJL9tz6qmnjt1W0o9jBuOb0cuDAZVJ7PecN6JOgxnHHBrn9GBhnZEIrsTvlnofgei4EBnTDPKV80AeZCCIQHshEvs87Yy4EBrB8qrzJNZRv2ffoaeSSQEF+ivQMiDBqjjZc2CkC18EHPichll0neXvdonKFwEEItGcJOkqSMMuv3LJMghCcNCo6i7J99zqwNXNaNxxYC5HjrnSzYGa7nHc09fPRL6pAPKvKnGCJ/hSbnQwLfetU0G+/PLLi1k5YOajXFctr06f0aCgGyiNBMqIROUxggv5tuDDmBv5Fd74nrLnxFZ+wkBEr2lc0Z2Zf1QSGTAyPzHHcsb7SkWYABzd99ivWB9d+qJbX6fLoztmdMmsmodbQWjwllMv+1Z5Wd3+3a8y7Hb9EzUflQ+6BvPoueimzLpin+KVyhb/aARy+wOVqom4EkIlk0oslVlSDG5G4ycSDR4aFPRIK/cCi2l45VjD7yD/jdHwoJHea+rXvkBQjquHHBsiQEBANq7Qkk8CQdxbzXStEhVBjqNcdYxEMId/kTimUM6cF2jQDksiIM2xJHrGMbp7PlhhfkwgsMBxlJ500RCmnGOfmcht6te5uts8UuegRw+JxmJ5YEv2beoQkco9H+LzqlemjYAEjVEaIdG4YL+h+zyNlBiDimNBBIVieXTrpsfKRDfi6XGZBw/YPyKAGnlp9UoPoth3qqajkcnvrZ9Pd6haz7B8Rv2TnqfNEkEtGth7Ny6slHtt5vNwTCZgwbnipJNOKvZPftvjKZt8ea3eM/4UvSziuMk4O+V6Uczfj2MGvwHWR90sficsv12dhvNnHNeYnvoTdb/JDEgwpgfHTBJlw75evsjJeZjzBMcBEud8LkiUH3UftxAzDd+Xl8PnJgUU6E1gSiezc9WGSP173/veImLbbB4q7/R84Ap3OXGw5/nO9DJgefmtIEzLFWgahOecc858Xf/Ly+EeUyppdL2iEpsn1sHVcrrFcbLtNBKdL6PZew5A5L/ZgGwMvMXVOyoqnNCqGtrkjyuYn/rUp4ooN9tSlbiKw4mojhUFfDio77XXXsU9tvlJmu2nXAgU0eivauxxUqMrXX5liIg0vvyrOhFQYcxHUK4y7fQzovrcVkKX6WZXyKmQUnHJu6KzfD7jCibbWU5UcOhpceihhxY9jvKB2vqxb5XX18vfvZZhL+ueiHm5OkgvhA9/+MNjwQjKKPap8rGIPBAk4NaviUj8JhiLh+NJuVsu+aKSRG8yekDQQ6dVohJK45tKJD0s8t9bzMfvjIHWuqkc9mtfiOMyV6Dz3wc92xgfgYBi/puIvFe90pOA4AW91MrHWc4tXPGi6/GwHT8pT85NdN0u55v9gHNgnrjFgwYPg54yT1Wi/LkiSyOpVSOqat5mn1E+/ThXN1t+u885R0SDgOBz+Vae/FYLjsXlXjOtlk+wO7eP3ncxD+XA8Z/eb5x38kT5sR/T0OH9RKe84clFln7cIsI+Re8putazncP2G5lo0/LyqYOxv7FfcMzlYli73xGGnEs4b7N/Uqellwn7Ut4DNF8XnxM0pd5DPYEGeyeJujTHs6qxDegxUz7e9+OYQTCcp4Cxj9DLsyqx37ztbW8b+4p80Fs1EsfhQfxGYn3lV44Z9PSIxDmV8THKiXzngQoCPwSCKdc85bdVcr4yKaBA/wUWaUQ2/36Tf4fLj+6iXImjQsTJkl4U5QpVq8WxWq5C0MuCrpQcSLtJNByI3tJ45ABY1WDtZrmt5olHN3GFi+0g/+WGRav54ztOSlylwZETIwYsp6qBFPPU7ZWrEvSWoFw4gTYLwrBdlCU9YKKbOsEtTt40qPITL/sfPWsI/sS94lRKOYn2M3EVjgAJXfWi62tVw6G8TsqVqyfc28179kuuEucV4fI88Xe/9q1YXj9ex1OG/Vhfv5dBgCvG+6BnDpVHKqH5vkgFhKtPBNOiAUR5UcksN0z6nT+OgXSBpXFOxbOX9fEb4pjCsYnjMstkn81/P73kvx/7ApU+rt5yzsgrrVzN5d72SPSCyMeMiM/zV44FXEWmrDhOjOcclC9n0O85LnBcZL+jjHBoV0Z52dJ7hXLlX7sGVK/b1q9z9XjyQffvL37xi8UsdFGnkTDoFMd/fk/rNHo1sb/WKbG/0L2ecwrBSII8zYLsddqubvNKzzg8OJ9z+xgXtLgFo5PzctU6OV/Q6y7vSUB9mN8z/zBnXRzfy4EKgmrjratSnhwz+L1TnyBw0C7145hB/vnHMYvjDettth/Rs5Xb8Ah6devabpsG/T3ti70bFxlJ2NOrbZTq6MWG+Z8CQyDQVUBiCPJtFkZQ4Nxzz03n/a2rLlf9GEOjVSICHtPQfbZqsLxW8/vd6AvkjVwacVQm8kBEWYB7Zrk6GomrlHmjOT73tf8CeVmx9E4CEv3PhUscBgEaUhGcpmHD1eu6j/Y/DK7mob8CBBS51Y7biLgFrd31PcZdYMwzbrUblQZ7f0WHb2ncrh63bFBu9B4zKaBA/wXajiHR/1W6RAWqBWLcCb5t1kU5nzO/Z3HQjwjL8+H74RXI78GmQdMqGMFW5PsUAYzybWHDu6XmTIHREaB3D7eIcnsmV7a5paffPeBGR8stmSwBekTssssuxT960nD7KL0i+EfPFHrVRI8Jzj8TPe7IZDmM6noZSDSCEfSq5FZkkwIKTIyAAYmJcXWpXQjQfTISA3pxjyIn/KrE1QgGs4xUNYhofOfrwiuQ71M8PpHbo5p1dSUYwRg2kRiTwatYoeGrAoMV4L5+rjxzCxW36DEA9HgGsBxsbl3bwi7AbRT8M42GALdsMbA0iXoAY020u6AxGlvuVigwOQLVrb3JyYtrXcgFuE0jBvIi4MBo5zxajYGVuHeP+xhpNPKEk/zJFwQj3vCGNyzkem5+lQBji9DTgXt4ubeVJzRwRWvDDTcs7oNlrA/2qRmNxzFyX2883pjxXLhCa1JAgckTYPwXxgmhlwSPWmSw0nZjbUxebl2zAgqMigC3ENLDhfEwGKx8YR8AdlTK1e0YXgHHkBjeslkoc3bxxRcXI9F3uvE8so2BpWh0mhSoEiC4FQ2bqu/LnzFmBIPo8RQH0+AEHENicNauSQEFFFBAAQUUGBYBe0gMS0mYj0KA53nT4+GKK65IPGqpPDo1PSXock9vCq5022h0x2knwK0XPBaWW3zoBcFtG/ngYzzmkNHDuQLCPsXVEK/CtlP1ewUUUEABBRRQQAEFehewh0Tvhi5hAgV41BQNyHg8XrPHTU1gFlz0iAlwWwa3ahDsIhDBoyIdK2LyC5lHivL400g8Tnm8j8aLeX1VQAEFFFBAAQUUqIeAAYl6lJO5VEABBRRQQAEFFFBAAQUUUGCkBKaM1Na4MQoooIACCiiggAIKKKCAAgooUAsBAxK1KCYzqYACCiiggAIKKKCAAgoooMBoCRiQGK3ydGsUUEABBRRQQAEFFFBAAQUUqIWAAYlaFJOZVEABBRRQQAEFFFBAAQUUUGC0BAxIjFZ5ujUKKKCAAgoooIACCiiggAIK1ELAgEQtislMKqCAAgoooIACCiiggAIKKDBaAgYkRqs83RoFFFBAAQUUUEABBRRQQAEFaiFgQKIWxWQmFVBAAQUUUEABBRRQQAEFFBgtAQMSo1Webo0CCiiggAIKKKCAAgoooIACtRAwIFGLYjKTCiiggAIKKKCAAgoooIACCoyWgAGJ0SpPt0YBBRRQQAEFFFBAAQUUUECBWggYkKhFMZlJBRRQQAEFFFBAAQUUUEABBUZLwIDEaJWnW6OAAgoooIACCiiggAIKKKBALQQMSNSimMykAgoooIACCiiggAIKKKCAAqMlYEBitMrTrVFAAQUUUEABBRRQQAEFFFCgFgIGJGpRTGZSAQUUUEABBRRQQAEFFFBAgdESMCAxWuXp1iiggAIKKKCAAgoooIACCihQCwEDErUoJjOpgAIKKKCAAgoooIACCiigwGgJGJAYrfJ0axRQQAEFFFBAAQUUUEABBRSohYABiVoUk5lUQAEFFFBAAQUUUEABBRRQYLQEDEiMVnm6NQoooIACCiiggAIKKKCAAgrUQsCARC2KyUwqoIACCiiggAIKKKCAAgooMFoCBiRGqzzdGgUUUEABBRRQQAEFFFBAAQVqIWBAohbFZCYVUEABBRRQQAEFFFBAAQUUGC0BAxIDLM9Zs2alxx57rOUaH3300fSHP/whzZs3r+l0fMc0TFuVZs+enf74xz+m+++/v+rr9PDDDyemMSmggAIKKKCAAgoooIACCigwWQLTJmvFC9t6f/3rX6djjz02Pf300+kb3/jGApv/l7/8JZ1wwgnp1ltvLb5bcskl0x577JH23HPP+aY9//zzi/lnzpxZfL7hhhumo446Kj372c8u/n7kkUfSAQccUAQd+GDvvfcullN82fjvmmuuSccff3w6/fTT09prrx0f+6qAAgoooIACCiiggAIKKKDAQAXsITEA7osvvrgIGkQQoWqVJ554YiIosf/++6fjjjsuveAFL0gEH26++eaxyQlqsCy+YxqmnTFjRmLeSFdeeWXRC+Pkk09OO+ywQzrvvPNSrJdeEWeccUbaeuutDUYEmK8KKKCAAgoooIACCiiggAKTImBAYoLZL7vssiKw8LrXva4IEFSt7rrrrku33HJLetvb3pZ23nnntPHGG6cPfehDiV4SJ5100tgsp556alpsscXS0UcfXUzDtHvttVf63e9+l372s58V0910001p3XXXTRtssEHaaaedis9uu+224vXyyy9PTz75ZNpnn33GlukbBRRQQAEFFFBAAQUUUEABBSZDwIDEBKu/9rWvTR/4wAfSgQce2HRNv//974vvdtxxx7FpFl100bT99tunO+64oxhPgnEj7rrrriKoQVAiEoEOUvSkYIyKVVddtfgsXhlrgs8vuOCCtNtuu6UVV1yx+N7/FFBAAQUUUEABBRRQQAEFFJgsAceQmGB5ejm8/OUvb7mWe++9N02dOrXoEZFPuMoqqxR/Pvjgg2mRRRYp3j/rWc/KJ0lLLLFEMe+dd95ZfL7eeuulP//5z8X7++67r3hdZ511il4aBDJe85rXJG7rmDJlStpmm23S0ksvPd/y8j+4heShhx7KP/K9AgoooIACCiiggAIKKKDAiArQdlx22WUHtnUGJAZG3XxFd999d1pqqaUWmCB6MhCwiIDECiussMB0yy23XGIaErd7MHAlQYwf//jHxS0efH711VcXt2oceuihY0/6uOSSS9IXvvCFIqDBNOX0ve99r7gVZPFG0GMkEk8umTs3zX788TRvzpyR2KS+bEQj2DWl0SNnaiN41tgZul7kvMYYJXMbT5Lhn+nvAthOWXyJtMhii/79w/G+a+y7cxsD2c5tDIo7r7EPm/4m0Nh3p02fnhZpGDcOkl2zFPttw1fbjJDjwuKLp6kV56ZsKt8qoIACCiigwIgIUA964oknip79m2yyycC2yoDEwKibr2jatOpimPO3RjOv9IRoluY2dp6YdvPNNy8mY2wJEj0izjzzzLTyyisnAhfcusHfp19+GQAAQABJREFUzzzzTDr44IPT9ddfn7bccsti2qr/Ntl007TLLrtWfVW7z+Y2tvnpxqNQbz3l5DSzcfuL6f8Epjb2rWWe97y0xu57pCXXWqtrlid41OwPvp/u++EPu17GKM643AtfmJ61/avS8n/7bXazjXMaY7/c2QggPnzjjenph+21FIZTGr2+1nvPAWmZjTZKUxuBiW7TfY3g652XX5pmP9r6sczdLr+O8xGMWHmrrdI//Mu/1jH75lkBBRRQQAEFxinAbf5nnnH6OOfqffLqlnDvy3UJ4xBYY401xsaAyGeL2yXoFUEwgfTAAw/kkxTvCTIwiCWJaen1cGOj4bLSSislxqI44ogj0jHHHJMY8JLbNtb6W6OT20Ruv/32lgGJxRvTL7/88sWy6/4fAYlZjav3RV8Ue0iMFefUhsX0xi08yy2zdFqqh7KmQfjU1GnpcW3HbHkzfZEpadlG75NefkezG7/jRxqBy6fnzU2Ul+n/BLDAdtnG8XFai9vP2nnNagTlHpo7Lz2j7RjVlIbF0o19rpf9dmxhvlFAAQUUUECBWghEr/xBZtZBLQep3WRdq6++etHDgcBCnriVg8StG8sss0xxa0V8FtPRrYbeEfnYEgQlXvnKV6YXvehF6bOf/Wx67nOfm7bYYouiV0Q+ZgTLpIFuUkABBRRQQAEFFFBAAQUUUGDQAgYkBi1esT7GfSDxWM5IMxv3M3/3u99N66+//tj4EgQWGNeB7yLxWFHSVo2uteV07bXXpj/96U/FrRl8x/yMLcETO7jN4+GHH04bNbo6mxRQQAEFFFBAAQUUUEABBRQYtIC3bAxavGJ9BAV4EsfXvva1orfDOo2RTa+44ori/e677z42xyGHHJL222+/dOSRRxaP75wxY0YRxKB3RAQ1YuLZjQEGTz/99CJQse666xYfv7BxLzvp0ksvLXpL8P75z38+LyYFFFBAAQUUUEABBRRQQAEFBipgQGKA3Dxqs1k68MADiydp0EuCWzAY62H//fdPW2+99dgsa665Znr/+9+fLrroonTiiScWnz/nOc9Jxx577NhTOGLiq666qhjAct99942PinuBuZXj3HPPLT7bYYcdxsamGJvINwoooIACCiiggAIKKKCAAgoMQMCAxACQYxU81YJ/VYlnvR511FFFMILbKvIxIfLpt9tuu8Q/ppneGERw8cZI6FVp1113Tfwrp8MOOyy9+93vLgIYjCFhUkABBRRQQAEFFFBAAQUUUGAyBAxITIZ6i3Xy5ItmwYh8Nga67DYR/DApoIACCiiggAIKKKCAAgooMJkCze8hmMxcuW4FFFBAAQUUUEABBRRQQAEFFBhpAQMSI128bpwCCiiggAIKKKCAAgoooIACwylgQGI4y8VcKaCAAgoooIACCiiggAIKKDDSAgYkRrp43TgFFFBAAQUUUEABBRRQQAEFhlPAgMRwlou5UkABBRRQQAEFFFBAAQUUUGCkBQxIjHTxunEKKKCAAgoooIACCiiggAIKDKeAAYnhLBdzpYACCiiggAIKKKCAAgoooMBICxiQGOnideMUUEABBRRQQAEFFFBAAQUUGE4BAxLDWS7mSgEFFFBAAQUUUEABBRRQQIGRFjAgMdLF68YpoIACCiiggAIKKKCAAgooMJwCBiSGs1zMlQIKKKCAAgoooIACCiiggAIjLWBAYqSL141TQAEFFFBAAQUUUEABBRRQYDgFDEgMZ7mYKwUUUEABBRRQQAEFFFBAAQVGWsCAxEgXrxungAIKKKCAAgoooIACCiigwHAKGJAYznIxVwoooIACCiiggAIKKKCAAgqMtIABiZEuXjdOAQUUUEABBRRQQAEFFFBAgeEUMCAxnOVirhRQQAEFFFBAAQUUUEABBRQYaQEDEiNdvG6cAgoooIACCiiggAIKKKCAAsMpYEBiOMvFXCmggAIKKKCAAgoooIACCigw0gIGJEa6eN04BRRQQAEFFFBAAQUUUEABBYZTwIDEcJaLuVJAAQUUUEABBRRQQAEFFFBgpAUMSIx08bpxCiiggAIKKKCAAgoooIACCgyngAGJ4SwXc6WAAgoooIACCiiggAIKKKDASAsYkBjp4nXjFFBAAQUUUEABBRRQQAEFFBhOAQMSw1ku5koBBRRQQAEFFFBAAQUUUECBkRYwIDHSxevGKaCAAgoooIACCiiggAIKKDCcAgYkhrNczJUCCiiggAIKKKCAAgoooIACIy1gQGKki9eNU0ABBRRQQAEFFFBAAQUUUGA4BQxIDGe5mCsFFFBAAQUUUEABBRRQQAEFRlrAgMRIF68bp4ACCiiggAIKKKCAAgoooMBwChiQGM5yMVcKKKCAAgoooIACCiiggAIKjLSAAYmRLl43TgEFFFBAAQUUUEABBRRQQIHhFDAgMZzlYq4UUEABBRRQQAEFFFBAAQUUGGkBAxIjXbxunAIKKKCAAgoooIACCiiggALDKWBAYjjLxVwpoIACCiiggAIKKKCAAgooMNICBiRGunjdOAUUUEABBRRQQAEFFFBAAQWGU8CAxHCWi7lSQAEFFFBAAQUUUEABBRRQYKQFDEiMdPG6cQoooIACCiiggAIKKKCAAgoMp4ABieEsF3OlgAIKKKCAAgoooIACCiigwEgLGJAY6eJ14xRQQAEFFFBAAQUUUEABBRQYTgEDEsNZLuZKAQUUUEABBRRQQAEFFFBAgZEWMCAx0sXrximggAIKKKCAAgoooIACCigwnAIGJIazXMyVAgoooIACCiiggAIKKKCAAiMtYEBipIvXjVNAAQUUUEABBRRQQAEFFFBgOAUMSAxnuZgrBRRQQAEFFFBAAQUUUEABBUZawIDESBevG6eAAgoooIACCiiggAIKKKDAcAoYkBjOcjFXCiiggAIKKKCAAgoooIACCoy0gAGJkS5eN04BBRRQQAEFFFBAAQUUUECB4RQwIDGc5WKuFFBAAQUUUEABBRRQQAEFFBhpAQMSI128bpwCCiiggAIKKKCAAgoooIACwylgQGI4y8VcKaCAAgoooIACCiiggAIKKDDSAgYkRrp43TgFFFBAAQUUUEABBRRQQAEFhlPAgMRwlou5UkABBRRQQAEFFFBAAQUUUGCkBQxIjHTxunEKKKCAAgoooIACCiiggAIKDKeAAYnhLBdzpYACCiiggAIKKKCAAgoooMBICxiQGOnideMUUEABBRRQQAEFFFBAAQUUGE4BAxLDWS7mSgEFFFBAAQUUUEABBRRQQIGRFjAgMdLF68YpoIACCiiggAIKKKCAAgooMJwCBiSGs1zMlQIKKKCAAgoooIACCiiggAIjLWBAYqSL141TQAEFFFBAAQUUUEABBRRQYDgFDEgMZ7mYKwUUUEABBRRQQAEFFFBAAQVGWsCAxEgXrxungAIKKKCAAgoooIACCiigwHAKGJAYznIxVwoooIACCiiggAIKKKCAAgqMtIABiZEuXjdOAQUUUEABBRRQQAEFFFBAgeEUMCAxnOVirhRQQAEFFFBAAQUUUEABBRQYaQEDEiNdvG6cAgoooIACCiiggAIKKKCAAsMpYEBiOMvFXCmggAIKKKCAAgoooIACCigw0gIGJEa6eN04BRRQQAEFFFBAAQUUUEABBYZTwIDEcJaLuVJAAQUUUEABBRRQQAEFFFBgpAUMSIx08bpxCiiggAIKKKCAAgoooIACCgyngAGJ4SwXc6WAAgoooIACCiiggAIKKKDASAsYkBjp4nXjFFBAAQUUUEABBRRQQAEFFBhOAQMSw1ku5koBBRRQQAEFFFBAAQUUUECBkRYwIDHSxevGKaCAAgoooIACCiiggAIKKDCcAgYkhrNczJUCCiiggAIKKKCAAgoooIACIy1gQGKki9eNU0ABBRRQQAEFFFBAAQUUUGA4BQxIDGe5mCsFFFBAAQUUUEABBRRQQAEFRlrAgMRIF68bp4ACCiiggAIKKKCAAgoooMBwCkwbzmyZKwUUUEABBRRQQIFBC8x+9NF051e/muY89dSgVz3U65u65JJpjT3elKYts/RQ59PMKaCAAnUTMCBRtxIzvwoooIACCiigwAQJzJk1Kz10443pmUceSWne3AlaS70Wu8iUqWmxlVdKq+26ayPjBiTqVXrmVgEFhl3AgMSwl5D5U0ABBRRQQAEFBiUwd26aM/PJ9Myjj6R5c+YMaq1DvZ4piy6api27TCNAM2+o82nmFFBAgToKOIZEHUvNPCuggAIKKKCAAgoooIACCihQcwEDEjUvQLOvgAIKKKCAAgoooIACCiigQB0FDEjUsdTMswIKKKCAAgoooIACCiiggAI1FzAgUfMCNPsKKKCAAgoooIACCiiggAIK1FHAgEQdS808K6CAAgoooIACCiiggAIKKFBzAQMSNS9As6+AAgoooIACCiiggAIKKKBAHQUMSNSx1MyzAgoooIACCiiggAIKKKCAAjUXMCBR8wI0+woooIACCiiggAIKKKCAAgrUUcCARB1LzTwroIACCiiggAIKKKCAAgooUHMBAxI1L0Czr4ACCiiggAIKKKCAAgoooEAdBQxI1LHUzLMCCiiggAIKKKCAAgoooIACNRcwIFHzAjT7CiiggAIKKKCAAgoooIACCtRRwIBEHUvNPCuggAIKKKCAAgoooIACCihQcwEDEjUvQLOvgAIKKKCAAgoooIACCiigQB0FDEjUsdTMswIKKKCAAgoooIACCiiggAI1FzAgUfMCNPsKKKCAAgoooIACCiiggAIK1FHAgEQdS808K6CAAgoooIACCiiggAIKKFBzAQMSNS9As6+AAgoooIACCiiggAIKKKBAHQUMSNSx1MyzAgoooIACCiiggAIKKKCAAjUXMCBR8wI0+woooIACCiiggAIKKKCAAgrUUcCARB1LzTwroIACCiiggAIKKKCAAgooUHMBAxI1L0Czr4ACCiiggAIKKKCAAgoooEAdBQxI1LHUzLMCCiiggAIKKKCAAgoooIACNRcwIFHzAjT7CiiggAIKKKCAAgoooIACCtRRwIBEHUvNPCuggAIKKKCAAgoooIACCihQcwEDEjUvQLOvgAIKKKCAAgoooIACCiigQB0FDEjUsdTMswIKKKCAAgoooIACCiiggAI1FzAgUfMCNPsKKKCAAgoooIACCiiggAIK1FHAgEQdS808K6CAAgoooIACCiiggAIKKFBzAQMSNS9As6+AAgoooIACCiiggAIKKKBAHQUMSNSx1MyzAgoooIACCiiggAIKKKCAAjUXMCBR8wI0+woooIACCiiggAIKKKCAAgrUUcCARB1LzTwroIACCiiggAIKKKCAAgooUHMBAxI1L0Czr4ACCiiggAIKKKCAAgoooEAdBQxI1LHUzLMCCiiggAIKKKCAAgoooIACNRcwIFHzAjT7CiiggAIKKKCAAgoooIACCtRRwIBEHUvNPCuggAIKKKCAAgoooIACCihQcwEDEjUvQLOvgAIKKKCAAgoooIACCiigQB0FDEjUsdTMswIKKKCAAgoooIACCiiggAI1FzAgUfMCNPsKKKCAAgoooIACCiiggAIK1FHAgEQdS808K6CAAgoooIACCiiggAIKKFBzAQMSNS9As6+AAgoooIACCiiggAIKKKBAHQUMSNSx1MyzAgoooIACCiiggAIKKKCAAjUXMCBR8wI0+woooIACCiiggAIKKKCAAgrUUcCARB1LzTwroIACCiiggAIKKKCAAgooUHMBAxI1L0Czr4ACCiiggAIKKKCAAgoooEAdBQxI1LHUzLMCCiiggAIKKKCAAgoooIACNRcwIFHzAjT7CiiggAIKKKCAAgoooIACCtRRwIBEHUvNPCuggAIKKKCAAgoooIACCihQcwEDEjUvQLOvgAIKKKCAAgoooIACCiigQB0FDEjUsdTMswIKKKCAAgoooIACCiiggAI1FzAgUfMCNPsKKKCAAgoooIACCiiggAIK1FHAgEQdS808K6CAAgoooIACCiiggAIKKFBzAQMSNS9As6+AAgoooIACCiiggAIKKKBAHQUMSNSx1MyzAgoooIACCiiggAIKKKCAAjUXMCBR8wI0+woooIACCiiggAIKKKCAAgrUUcCARB1LzTwroIACCiiggAIKKKCAAgooUHMBAxI1L0Czr4ACCiiggAIKKKCAAgoooEAdBQxI1LHUzLMCCiiggAIKKKCAAgoooIACNRcwIFHzAjT7CiiggAIKKKCAAgoooIACCtRRwIBEHUvNPCuggAIKKKCAAgoooIACCihQcwEDEjUvQLOvgAIKKKCAAgoooIACCiigQB0FDEjUsdTMswIKKKCAAgoooIACCiiggAI1FzAgUfMCNPsKKKCAAgoooIACCiiggAIK1FHAgEQdS808K6CAAgoooIACCiiggAIKKFBzAQMSNS9As6+AAgoooIACCiiggAIKKKBAHQUMSNSx1MyzAgoooIACCiiggAIKKKCAAjUXMCBR8wI0+woooIACCiiggAIKKKCAAgrUUcCARB1LzTwroIACCiiggAIKKKCAAgooUHMBAxI1L0Czr4ACCiiggAIKKKCAAgoooEAdBQxI1LHUzLMCCiiggAIKKKCAAgoooIACNRcwIFHzAjT7CiiggAIKKKCAAgoooIACCtRRwIBEHUvNPCuggAIKKKCAAgoooIACCihQcwEDEjUvQLOvgAIKKKCAAgoooIACCiigQB0FDEjUsdTMswIKKKCAAgoooIACCiiggAI1FzAgUfMCNPsKKKCAAgoooIACCiiggAIK1FHAgEQdS808K6CAAgoooIACCiiggAIKKFBzAQMSNS9As6+AAgoooIACCiiggAIKKKBAHQUMSNSx1MyzAgoooIACCiiggAIKKKCAAjUXMCBR8wI0+woooIACCiiggAIKKKCAAgrUUcCARB1LzTwroIACCiiggAIKKKCAAgooUHMBAxI1L0Czr4ACCiiggAIKKKCAAgoooEAdBQxI1LHUzLMCCiiggAIKKKCAAgoooIACNRcwIFHzAjT7CiiggAIKKKCAAgoooIACCtRRwIBEHUvNPCuggAIKKKCAAgoooIACCihQcwEDEjUvQLOvgAIKKKCAAgoooIACCiigQB0FDEjUsdTMswIKKKCAAgoooIACCiiggAI1FzAgUfMCNPsKKKCAAgoooIACCiiggAIK1FHAgEQdS808K6CAAgoooIACCiiggAIKKFBzAQMSNS9As6+AAgoooIACCiiggAIKKKBAHQUMSNSx1MyzAgoooIACCiiggAIKKKCAAjUXMCBR8wI0+woooIACCiiggAIKKKCAAgrUUcCARB1LzTwroIACCiiggAIKKKCAAgooUHMBAxI1L0Czr4ACCiiggAIKKKCAAgoooEAdBQxI1LHUzLMCCiiggAIKKKCAAgoooIACNRcwIFHzAjT7CiiggAIKKKCAAgoooIACCtRRwIBEHUvNPCuggAIKKKCAAgoooIACCihQcwEDEjUvQLOvgAIKKKCAAgoooIACCiigQB0FDEjUsdTMswIKKKCAAgoooIACCiiggAI1FzAgUfMCNPsKKKCAAgoooIACCiiggAIK1FHAgEQdS808K6CAAgoooIACCiiggAIKKFBzAQMSNS9As6+AAgoooIACCiiggAIKKKBAHQUMSNSx1MyzAgoooIACCiiggAIKKKCAAjUXMCBR8wI0+woooIACCiiggAIKKKCAAgrUUcCARB1LzTwroIACCiiggAIKKKCAAgooUHMBAxI1L0Czr4ACCiiggAIKKKCAAgoooEAdBQxI1LHUzLMCCiiggAIKKKCAAgoooIACNRcwIFHzAjT7CiiggAIKKKCAAgoooIACCtRRwIBEHUvNPCuggAIKKKCAAgoooIACCihQcwEDEjUvQLOvgAIKKKCAAgoooIACCiigQB0FDEjUsdTMswIKKKCAAgoooIACCiiggAI1FzAgUfMCNPsKKKCAAgoooIACCiiggAIK1FHAgEQdS808K6CAAgoooIACCiiggAIKKFBzAQMSNS9As6+AAgoooIACCiiggAIKKKBAHQUMSNSx1MyzAgoooIACCiiggAIKKKCAAjUXMCBR8wI0+woooIACCiiggAIKKKCAAgrUUcCARB1LzTwroIACCiiggAIKKKCAAgooUHMBAxI1L0Czr4ACCiiggAIKKKCAAgoooEAdBQxI1LHUzLMCCiiggAIKKKCAAgoooIACNRcwIFHzAjT7CiiggAIKKKCAAgoooIACCtRRYFodM91Nnp966qnEv0iLL754WnLJJePPSX997LHH0pw5cxbIx/Tp09Oiiy463+fz5s1Lf/zjH9Oqq66all122fm+44/Zs2en22+/Pa2wwgpp5ZVXXuD7hx9+OC299NJp2rSFpvgXMPADBRRQQAEFFFBAAQUUUECByRVYaFqkX/va19JFF100n/aKK66Ydtppp7TzzjunpZZaar7vBv3HQQcdlO6///4FVnv44Yenbbfdduzz888/P33jG99IM2fOLD7bcMMN01FHHZWe/exnF38/8sgj6YADDkgEHUh777132mOPPYr3/HfNNdek448/Pp1++ulp7bXXHvvcNwoooIACCiiggAIKKKCAAgoMUmChCUgE6iGHHJKWWWaZ9MADD6Tvf//7iQb+z3/+83TcccfFJJPy+uijj6YXvOAF6bWvfe186+ezSL/+9a/TxRdfnF784hen3XffPc2YMSN94QtfSCeeeGI64YQTismuvPLKRG+Lk08+OV199dXpvPPOK4Iu9Aah58QZZ5yRtt56a4MRgeqrAgoooIACCiiggAIKKKDApAgsdAGJzTfffOw2hh133DG9/e1vTzT0H3zwwUSPiUj8fe+99xbBizXXXDM+nu+Vhv9tt92WlltuucQ05Vsg2n0fC+MWjKeffjptvPHGabvttouPF3g99dRT02KLLZaOPvro4pXpn3nmmXTOOeekn/3sZ0Wg4qabbkrrrrtu2mCDDYpAxHe+850ijwQ2Lr/88vTkk0+mffbZZ4Fl+4ECCiiggAIKKKCAAgoooIACgxRY6AISOe4iiyyStt9++8TtHHfffXcRkLj11lvTMcccUwQoYlpuh3j/+9+fnv/85xcf/fa3vy16JNx3330xSZo6dWrRU4FbKNp9PzbT3948/vjjxTvGfGiWCFrcddddRZCBoESk173udUVA4uabby4CEgRBVlttteJrxpgg0fuCzy+44IK02267zRd4KSbwPwUUUEABBRRQQAEFFFBAAQUGLLBQBySw/tOf/lSQRyN+lVVWSZtuuml61ateVfR6+M1vflOMucAtEGeddVYx7Uc/+tHilbEY1lhjjXTPPfekn/zkJ2m99dbr6Ptiouw/xn0gEVRg4E0GsXzuc5+bnvOc54z1unjooYeKaZ71rGcVr/HfEkssUQRD7rzzzuIj8vDnP/+5eB8Bk3XWWae4NYVAxmte85rEbR1TpkxJ22yzTTG4ZSzLVwUUUEABBRRQQAEFFFBAAQUGJbDQBSSeeOKJojFOj4hvf/vb6YYbbkibbLLJWK8BxpegN0QkGu1XXXVV0eshPps1a1aikf+85z2vWNbyyy+fNtpoo/g6tft+bMK/vYmnazCmBUEDbt8g8YQMxocgCMHtI6SqXhTcMhLfcxsHA1dyy8mPf/zjYnnMx3gS3Kpx6KGHFr0l+OySSy4pxqCgd4dJAQUUUEABBRRQQAEFFFBAgUEKLHQBCZ5AkScGeCx/xi0U9Iy44447isZ79GCI+Rh7gvEY3vGOdxSDS9Kbgp4Kkdp9H9PFK0+74AkgPIqTngvcnvHd7343nXLKKcXtI5/97GfHekrEPPnr3Llzxx4ZyhgZpL322qt4pUfEmWeeWQQ3CFxw6wZ/M/bEwQcfnK6//vq05ZZbFtNW/UePjXvuvqvqq9p9Nu+Z2emZB+5PsxqPV51du9xPXIbnNva3JxtBsPvuuz/xONxu08wHH0iPzXpK2xLgk888nR58+KH0dA+/ozlPzkyPNZ6sM6vxW3ff/Tvw3MbbhxpPFJp57z1p6mPdPynpkUcfSU9zHP37ohf6d1Max4XHG/vcqBz/F/oCHQfAM41Bv+NYM28c843ypIs0Nm6RxsDgf/3rvWla45huUkABBUZR4LHHHi/aoYPetoUuILH//vsXvQwYF2L11VdP06dPn8+c3hA8EpNeA2uttVbRkGcgyDy9+93vTowV8aUvfalo3J999tlFcILxGUjtvs+XFe+XXXbZeJsY22KHHXZIV1xxRfEkDR7xGeNB8HSQciLIwCCWJHpQ8OSNG2+8Ma200krF7R9HHHFEEdhgwEt6YLBdJLbx9ttvbxmQ4PYRAiWjkOY2gjDPPD0rTWs0up+ZttDt+k2LcEqjjBdtPIVlqWWWTkv2UNaLNOad2Xh87hRt57PGFtdefkdzGoHKx6YvlWY2fr9z9R3zZd9dYunphe3UHh7d/FSjfKY2bOdpO5/tYg3TXvbbsYX5plYCTzd6gU7727FmXqM+YkqJY820xoWn6Y1jxaKNfyYFFFBgFAW4yE07dNBpoWuV0RuAWyGqEuMwEIwgWEGvBB6VSTr22GOLngT5PPSs4B/jPpx22mnp85//fBHgeMlLXlJM1u77fFnN3nMrCWNccAsIt4UQQOBWkzxxCwq3fORjSxCUeOUrX1lMRu8PxqPYYost0q9+9av5KpfcnsKyWyUMmnm1mm8YvyMgwdbeZUBivuKZ2qhoUc4rNvab6U1+G/PN0OSPxRq3CT3VaMA8YqNuPiFs+f2u1IPt7EZQ9NFG8PRJG83z2U5t7GvYLtcIvk4rBZfnm7DNH880AsIPNGwbXdHaTLnwfM1xgWDEqBz/F56S631Ln2r0juHiBcFPAxL/50mgnZ6wXOhZLHsiW+/aLkEBBRQYHgGeGElv/UGnwa9x0Fs4jvXFYJA8uSKCEfSO4LaGZomxIz7ykY8UX//+979fYLJ23y8ww98+mN3oGsh6qWzzj0Rg4Xvf+16ix0Skyy67rHi71VZbxUdjr9dee20R0ODWDBLzM7YEt4QQAXu40dU5H/tibEbfKKCAAgoooIACCiiggAIKKDDBAl4OyoBpsJMYAHLNNdcsGuw8kSJPNOY/8IEPpG233Tat0xjYktsluM2D9MIXvrBo7Lf6Pl9WvP/yl7+cbrnllvSyl72suOWC2zK4XYOBKrnFJNIhhxyS9ttvv3TkkUcWj++cMWNGMZYFvSMYzDJPBDTo7UGgYt111y2+In+kSy+9tBhDgvfxKFPemxRQQAEFFFBAAQUUUEABBRQYlMBCE5Do5EkSKza64b3rXe9K55xzTopHe9KD4H3ve1/isZ+R6GXAbRqRWPaee+6ZNttss+Kjdt/HfPHKmA4EIK677rr4qLgFg6d9bLfddmOfESThMwbA5OkbJB4Nyi0l5ft9CJIQLNl3333H5qenBbdynHvuucVnjFPBQJcmBRRQQAEFFFBAAQUUUEABBQYtsNAEJN7ylrck/rVLb3jDG9LrX//6oncCjfWl/jZQGk/SINHwP+ussxJjNzz00EPFPbZxS0Usu933MV280ouBfzzdgyd6rLLKKsVglPF9/kqAgn8EPRiQs9lTEXbdddfEv3I67LDDikE32Q7GkDApoIACCiiggAIKKKCAAgooMBkCC01AYjy4DOax2mqrtZyFYED5CR35DO2+z6eN9wwg1umI5vTm6DblT/TodhnOp4ACCiiggAIKKKCAAgoooEAvAg5q2Yue8yqggAIKKKCAAgoooIACCiigQFcCBiS6YnMmBRRQQAEFFFBAAQUUUEABBRToRcCARC96zquAAgoooIACCiiggAIKKKCAAl0JGJDois2ZFFBAAQUUUEABBRRQQAEFFFCgFwEDEr3oOa8CCiiggAIKKKCAAgoooIACCnQlYECiKzZnUkABBRRQQAEFFFBAAQUUUECBXgQMSPSi57wKKKCAAgoooIACCiiggAIKKNCVgAGJrticSQEFFFBAAQUUUEABBRRQQAEFehEwINGLnvMqoIACCiiggAIKKKCAAgoooEBXAgYkumJzJgUUUEABBRRQQAEFFFBAAQUU6EXAgEQves6rgAIKKKCAAgoooIACCiiggAJdCUzrai5nUkABBRRQQAEFFFBAAQUUUKBPAo8++mj62Mc+lubOnZuOO+64NG3a/E3VmTNnpi9+8YvphhtuSI899ljaaKON0jvf+c60zjrrzJeD2bNnp8997nPpuuuuK77bf//90+qrr77ANCeffHJac80105vf/Ob5vvOPwQrMX8qDXbdrU0ABBRRQQAEFFFBAAQUUUCAdcsgh6bzzziskPv7xj88XkCDI8PKXvzzdeOON80l99KMfTb/4xS/SpptuOvb5YYcdlk477bS0xRZbpAsuuCCde+656eabb07Tp08fm+bCCy9Mhx9+ePrKV74y9plvJkfAWzYmx921KqCAAgoooIACCiiggAIKNAQuvfTSsWBEFcjZZ59dBCP22GOP9Mtf/jI9+OCD6ayzziompQfEnDlzivcPPfRQEYzYa6+90vXXX5+uvvrqdMcddxTLj+U+8cQT6cgjjywCFizPNLkCBiQm19+1K6CAAgoooIACCiiggAILrcBdd92V3vGOd6RNNtkkveIVr1jA4eGHHy4CCHzxmc98pphuhRVWSPvss0/ae++9009/+tP05S9/uZjvpptuKl5f//rXF6+vetWrildu84h00kknpb/+9a/p05/+dJoyxeZwuEzWqyUwWfKuVwEFFFBAAQUUUEABBRRYiAUYL4JxIBgTgts1+LucuN2C7w844IC0yiqrzPf1oYceWvz9ox/9qHgl0ECK6RiHgnEi7rzzzuLzu+++O/37v/972m233YpbQIoP/W9SBQxITCq/K1dAAQUUUEABBRRQQAEFFk6B008/PX37299OJ5xwQtpss83Gbr3INbjlgsQgluW0/vrrFx/dcsstxeviiy9evDLmRKSnn346LbroosWfH/nIR4rXT3ziE/G1r5MsYEBikgvA1SuggAIKKKCAAgoooIACC5vAb3/723TwwQenbbfdNkVPhyqDv/zlL8XH0eshnyYGqvzDH/5QfLzqqqsWrzNmzCheH3/88eL2jDXWWCP95je/SWeeeWZ63/velwhgMBDmsssum7i947777ium97/BCxiQGLy5a1RAAQUUUEABBRRQQAEFFlqBWbNmpbe+9a1pmWWWSeeff36aOnVqU4voIcG4EVVpvfXWKwau5HaPjTfeuLhd4/Of/3x68skniwAE8zCWxBFHHFGsjwEvd9ppp2JRBCe+/vWv++jPKtgBfeZjPwcE7WoUUEABBRRQQAEFFFBAAQVS+vCHP5x+9atfFY/dXGuttVqSLL/88sX3BDGqEr0gSAxQyb9PfepTiaBD9J549atfXXz/rW99q7g15Nprry3+5pGgDKS52GKLFeNK3HrrrSluASkm8L+BCBiQGAizK1FAAQUUUEABBRRQQAEFFLjmmmvSJz/5yfT2t789velNb0rz5s1bAIXeDny+yCKLpHXXXbf4PgaszCdmrAg+Z+DKSCyXnhI/+clP0tprr5222WabtOWWWxbTHHjggUVPCaZlGtJWW21VvBqQKBgG/p8BiYGTu0IFFFBAAQUUUEABBRRQYOEUYBwH0oUXXlj8q1JYaqmlio8ZG4KgAumee+4pXvP/HnjggeLP1VZbLf+4GB+CMSJI3BJCb4yLLrooLbnkkkUAg/EoCHaQGEeC5DgSBcPA/zMgMXByV6iAAgoooIACCiiggAIKLJwCL33pSysf74kGt1XwiM899tijCBgsvfTSaZ111imgLrnkkvTBD35wLJDAh9/85jeL717xilcUr+X/nnjiiXT44YenzTffvOiNwfcrrrhiEZSIaRlrghS3hsTnvg5GwIDEYJxdiwIKKKCAAgoooIACCiiw0AvwZA3+VaWtt946/fCHP0yM7xCP8GQ6bsOgR8WVV16Zdtlll2LWp556Kh1zzDHF+z333LN4Lf93yimnFMGHr371q8X4EnwfPS54EgfBjl/+8pfFbO3Gsigv27/7I+BTNvrj6FIUUEABBRRQQAEFFFBAAQUmQOCEE04onpCx6667FgEJAhoEFngCB8GKzTbbbIG1covH0UcfnZiHQEekN77xjcXbww47rAhwHHvssWnDDTccG1MipvN1MAIGJAbj7FoUUEABBRRQQAEFFFBAAQVaCMTjP2N8h5h01VVXTZdddlniEZ/0kvjMZz6TZs6cmQ499NB07rnnxmTzvR5//PHF3wygmacNNtggnXbaaenyyy8f623B+BLldebz+H7iBLxlY+JsXbICCiiggAIKKKCAAgoooECHAt///vebTrn99tsnnoRBzwdu14ixJZrN8OlPfzrxryoddNBB6Z3vfGe6++67i6d48LhQ0+QIGJCYHHfXqoACCiiggAIKKKCAAgooME4Bekv0I/Ekj/XXX78fi3IZPQgYCuoBz1kVUEABBRRQQAEFFFBAAQUUUKA7AQMS3bk5lwIKKKCAAgoooIACCiiggAIK9CBgQKIHPGdVQAEFFFBAAQUUUEABBRRQQIHuBAxIdOfmXAoooIACCiiggAIKKKCAAgoo0IOAAYke8JxVAQUUUEABBRRQQAEFFFBAAQW6EzAg0Z2bcymggAIKKKCAAgoooIACCiigQA8CPvazBzxnVUABBRRQQAEFFFBAAQVGWWD244+n2U8+Ocqb2NW2TV1iiTR1ySXTlEUX7Wp+Z/o/AQMS7gkKKKCAAgoooIACCiiggAKVAo/PmJEev/XWNHf27MrvF9YPp6+9dlpm/fXTYiussLAS9GW7DUj0hdGFKKCAAgoooIACCiiggAKjJ/DUX/+a7vvpT9Pjt902ehvXwxatufPORUCih0U4a0PAgIS7gQIKKKCAAgoooIACCiigQKXAvDlz0pxZs9LsJ56o/H5h/XDuM88srJve1+12UMu+crowBRRQQAEFFFBAAQUUUEABBRToRMCARCdKTqOAAgoooIACCiiggAIKKKCAAn0VMCDRV04XpoACCiiggAIKKKCAAgoooIACnQgYkOhEyWkUUEABBRRQQAEFFFBAAQUUUKCvAgYk+srpwhRQQAEFFFBAAQUUUEABBRRQoBMBAxKdKDmNAgoooIACCiiggAIKKKCAAgr0VcCARF85XZgCCiiggAIKKKCAAgoooIACCnQiYECiEyWnUUABBRRQQAEFFFBAAQUUUECBvgoYkOgrpwtTQAEFFFBAAQUUUEABBRRQQIFOBAxIdKLkNAoooIACCiiggAIKKKCAAgoo0FcBAxJ95XRhCiiggAIKKKCAAgoooIACCijQiYABiU6UnEYBBRRQQAEFFFBAAQUUUEABBfoqYECir5wuTAEFFFBAAQUUUEABBRRQQAEFOhEwINGJktMooIACCiiggAIKKKCAAgoooEBfBQxI9JXThSmggAIKKKCAAgoooIACCiigQCcCBiQ6UXIaBRRQQAEFFFBAAQUUUEABBRToq4ABib5yujAFFFBAAQUUUEABBRRQQAEFFOhEwIBEJ0pOo4ACCiiggAIKKKCAAgoooIACfRUwINFXThemgAIKKKCAAgoooIACCiiggAKdCBiQ6ETJaRRQQAEFFFBAAQUUUEABBRRQoK8CBiT6yunCFFBAAQUUUEABBRRQQAEFFFCgEwEDEp0oOY0CCiiggAIKKKCAAgoooIACCvRVwIBEXzldmAIKKKCAAgoooIACCiiggAIKdCJgQKITJadRQAEFFFBAAQUUUEABBRRQQIG+ChiQ6CunC1NAAQUUUEABBRRQQAEFFFBAgU4EDEh0ouQ0CiiggAIKKKCAAgoooIACCijQVwEDEn3ldGEKKKCAAgoooIACCiiggAIKKNCJgAGJTpScRgEFFFBAAQUUUEABBRRQQAEF+ipgQKKvnC5MAQUUUEABBRRQQAEFFFBAAQU6ETAg0YmS0yiggAIKKKCAAgoooIACCiigQF8FDEj0ldOFKaCAAgoooIACCiiggAIKKKBAJwIGJDpRchoFFFBAAQUUUEABBRRQQAEFFOirgAGJvnK6MAUUUEABBRRQQAEFFFBAAQUU6ETAgEQnSk6jgAIKKKCAAgoooIACCiiggAJ9FTAg0VdOF6aAAgoooIACCiiggAIKKKCAAp0IGJDoRMlpFFBAAQUUUEABBRRQQAEFFFCgrwIGJPrK6cIUUEABBRRQQAEFFFBAAQUUUKATAQMSnSg5jQIKKKCAAgoooIACCiiggAIK/P/27gTIsuluAPgx1mEQY1fE2ELsJIpI2UoIhigKEUsMyh6xJQiRWFPWRISxTRBbQhaxiy8idobPmrJ/toyRMXbGMrav/6e8Tm/TfV7P7e7X/X6nque9d9+55977u3e63/vfc/6nUgEBiUo5NUaAAAECBAgQIECAAAECBAiUCAhIlCipQ4AAAQIECBAgQIAAAQIECFQqICBRKafGCBAgQIAAAQIECBAgQIAAgRIBAYkSJXUIECBAgAABAgQIECBAgACBSgUEJCrl1BgBAgQIECBAgAABAgQIECBQIiAgUaKkDgECBAgQIECAAAECBAgQIFCpgIBEpZwaI0CAAAECBAgQIECAAAECBEoEBCRKlNQhQIAAAQIECBAgQIAAAQIEKhUQkKiUU2MECBAgQIAAAQIECBAgQIBAiYCARImSOgQIECBAgAABAgQIECBAgEClAgISlXJqjAABAgQIECBAgAABAgQIECgREJAoUVKHAAECBAgQIECAAAECBAgQqFRAQKJSTo0RIECAAAECBAgQIECAAAECJQICEiVK6hAgQIAAAQIECBAgQIAAAQKVCghIVMqpMQIECBAgQIAAAQIECBAgQKBEQECiREkdAgQIECBAgAABAgQIECBAoFIBAYlKOTVGgAABAgQIECBAgAABAgQIlAgISJQoqUOAAAECBAgQIECAAAECBAhUKiAgUSmnxggQIECAAAECBAgQIECAAIESAQGJEiV1CBAgQIAAAQIECBAgQIAAgUoFBCQq5dQYAQIECBAgQIAAAQIECBAgUCIgIFGipA4BAgQIECBAgAABAgQIECBQqYCARKWcGiNAgAABAgQIECBAgAABAgRKBAQkSpTUIUCAAAECBAgQIECAAAECBCoVEJColFNjBAgQIECAAAECBAgQIECAQImAgESJkjoECBAgQIAAAQIECBAgQIBApQICEpVyaowAAQIECBAgQIAAAQIECBAoERCQKFFShwABAgQIECBAgAABAgQIEKhUQECiUk6NESBAgAABAgQIECBAgAABAiUCAhIlSuoQIECAAAECBAgQIECAAAEClQoISFTKqTECBAgQIECAAAECBAgQIECgREBAokRJHQIECBAgQIAAAQIECBAgQKBSAQGJSjk1RoAAAQIECBAgQIAAAQIECJQICEiUKKlDgAABAgQIECBAgAABAgQIVCogIFEpp8YIECBAgAABAgQIECBAgACBEgEBiRIldQgQIECAAAECBAgQIECAAIFKBQQkKuXUGAECBAgQIECAAAECBAgQIFAiICBRoqQOAQIECBAgQIAAAQIECBAgUKmAgESlnBojQIAAAQIECBAgQIAAAQIESgQEJEqU1CFAgAABAgQIECBAgAABAgQqFRCQqJRTYwQIECBAgAABAgQIECBAgECJgIBEiZI6BAgQIECAAAECBAgQIECAQKUCAhKVcmqMAAECBAgQIECAAAECBAgQKBEQkChRUocAAQIECBAgQIAAAQIECBCoVEBAolJOjREgQIAAAQIECBAgQIAAAQIlAgISJUrqECBAgAABAgQIECBAgAABApUKCEhUyqkxAgQIECBAgAABAgQIECBAoERAQKJESR0CBAgQIECAAAECBAgQIECgUgEBiUo5NUaAAAECBAgQIECAAAECBAiUCAhIlCipQ4AAAQIECBAgQIAAAQIECFQqICBRKafGCBAgQIAAAQIECBAgQIAAgRIBAYkSJXUIECBAgAABAgQIECBAgACBSgUEJCrl1BgBAgQIECBAgAABAgQIECBQIiAgUaKkDgECBAgQIECAAAECBAgQIFCpgIBEpZwaI0CAAAECBAgQIECAAAECBEoEBCRKlNQhQIAAAQIECBAgQIAAAQIEKhUQkKiUU2MECBAgQIAAAQIECBAgQIBAiYCARImSOgQIECBAgAABAgQIECBAgEClAgISlXJqjAABAgQIECBAgAABAgQIECgREJAoUVKHAAECBAgQIECAAAECBAgQqFRAQKJSTo0RIECAAAECBAgQIECAAAECJQICEiVK6hAgQIAAAQIECBAgQIAAAQKVCghIVMqpMQIECBAgQIAAAQIECBAgQKBEQECiREkdAgQIECBAgAABAgQIECBAoFIBAYlKOTVGgAABAgQIECBAgAABAgQIlAgISJQoqUOAAAECBAgQIECAAAECBAhUKiAgUSmnxggQIECAAAECBAgQIECAAIESAQGJEiV1CBAgQIAAAQIECBAgQIAAgUoFBCQq5dQYAQIECBAgQIAAAQIECBAgUCIgIFGipA4BAgQIECBAgAABAgQIECBQqYCARKWcGiNAgAABAgQIECBAgAABAgRKBAQkSpTUIUCAAAECBAgQIECAAAECBCoVEJColFNjBAgQIECAAAECBAgQIECAQImAgESJkjoECBAgQIAAAQIECBAgQIBApQICEpVyaowAAQIECBAgQIAAAQIECBAoERCQKFFShwABAgQIECBAgAABAgQIEKhUQECiUk6NESBAgAABAgQIECBAgAABAiUCAhIlSuoQIECAAAECBAgQIECAAAEClQoISFTKqTECBAgQIECAAAECBAgQIECgREBAokRJHQIECBAgQIAAAQIECBAgQKBSAQGJSjk1RoAAAQIECBAgQIAAAQIECJQICEiUKKlDgAABAgQIECBAgAABAgQIVCogIFEpp8YIECBAgAABAgQIECBAgACBEgEBiRIldQgQIECAAAECBAgQIECAAIFKBQQkKuXUGAECBAgQIECAAAECBAgQIFAiICBRoqQOAQIECBAgQIAAAQIECBAgUKmAgESlnBojQIAAAQIECBAgQIAAAQIESgQEJEqU1CFAgAABAgQIECBAgAABAgQqFRCQqJRTYwQIECBAgAABAgQIECBAgECJgIBEiZI6BAgQIECAAAECBAgQIECAQKUCAhKVcmqMAAECBAgQIECAAAECBAgQKBEQkChRUocAAQIECBAgQIAAAQIECBCoVEBAolJOjREgQIAAAQIECBAgQIAAAQIlAgISJUrqECBAgAABAgQIECBAgAABApUKCEhUyqkxAgQIECBAgAABAgQIECBAoERAQKJESR0CBAgQIECAAAECBAgQIECgUgEBiUo5NUaAAAECBAgQIECAAAECBAiUCAhIlCipQ4AAAQIECBAgQIAAAQIECFQqICBRKafGCBAgQIAAAQIECBAgQIAAgRIBAYkSJXUIECBAgAABAgQIECBAgACBSgUEJCrl1BgBAgQIECBAgAABAgQIECBQIiAgUaKkDgECBAgQIECAAAECBAgQIFCpgIBEpZwaI0CAAAECBAgQIECAAAECBEoEBCRKlNQhQIAAAQIECBAgQIAAAQIEKhUQkKiUU2MECBAgQIAAAQIECBAgQIBAiYCARImSOgQIECBAgAABAgQIECBAgEClAgISlXJqjAABAgQIECBAgAABAgQIECgREJAoUVKHAAECBAgQIECAAAECBAgQqFRAQKJSTo0RIECAAAECBAgQIECAAAECJQICEiVK6hAgQIAAAQIECBAgQIAAAQKVCghIVMqpMQIECBAgQIAAAQIECBAgQKBEQECiREkdAgQIECBAgAABAgQIECBAoFIBAYlKOTVGgAABAgQIECBAgAABAgQIlAgISJQoqUOAAAECBAgQIECAAAECBAhUKiAgUSmnxggQIECAAAECBAgQIECAAIESAQGJEiV1CBAgQIAAAQIECBAgQIAAgUoFBCQq5dQYAQIECBAgQIAAAQIECBAgUCIgIFGipA4BAgQIECBAgAABAgQIECBQqYCARKWcGiNAgAABAgQIECBAgAABAgRKBAQkSpTUIUCAAAECBAgQIECAAAECBCoVEJColFNjBAgQIECAAAECBAgQIECAQImAgESJkjoECBAgQIAAAQIECBAgQIBApQICEpVyaowAAQIECBAgQIAAAQIECBAoERCQKFFShwABAgQIECBAgAABAgQIEKhUQECiUk6NESBAgAABAgQIECBAgAABAiUCAhIlSg1W5/PPP09PP/10euedd7rcs08++SQ988wz6bXXXuvy/bfeeitFHYUAAQIECBAgQIAAAQIECAyUwEwDtWHb7Z3AxRdfnK655pr0wQcf5Aa+8pWvpMMPPzwtuOCC+fXbb7+d9t133xRBhyhjxoxJ2267bX4e/9x2223p5JNPTmPHjk2LL75463JPCBAgQIAAAQIECBAgQIBAfwroIdGf2tO5rcceeyxdccUVaYUVVkgnnnhi2nvvvdMLL7yQTj311NaWr7322vTuu++m008/PW288cbpoosuag1eRK+Is88+O6277rqCEa1inhAgQIAAAQIECBAgQIDAQAgISAyEei+3ecYZZ6RZZpklHXnkkWmllVZKW2yxRdp5553T448/nh544IHc6hNPPJGWWGKJtMwyy6TNN988L3vuuefy41VXXZXef//9tMcee/RyD6xGgAABAgQIECBAgAABAgSqERCQqMaxz1uJvBETJ07MvR4iKFErm222WX765JNP5sfoHbHQQgvl57XHyDURyy+55JK01VZbpZEjR9ZW90iAAAECBAgQIECAAAECBAZEQA6JAWGvf6NvvvlmXmn++edvt/Jss82WZpxxxvTyyy/n5UsuuWR66aWX8vPJkyfnx1GjRqXIPRGBjE022STFsI5hw4al9dZbL40YMaJde14QIECAAAECBAgQIECAAIH+EBCQ6A/lCrYxadKk3Mo888zTqbW555471d6PoRyRuPKNN95Id999dw5CxAo33HBDHqpx0EEH5d4SsezKK69MF1xwQQ5oxGuFAAECBAgQIECAAAECBAj0l4CARH9JT+d2Zppp2qfqs88+S59++mnewuqrr54fI7dElOgRcc4556T55psvReAihm7E648//jjtv//+afz48ekb3/hGrtvVP88//3zuUdHVe4Nt2ectRp+05NCY1HLsH88xx2Db/T7b3xlmnjkNbwlgPX377WmWlmukt+Wjlmlm3/3Pf9K7bNsRDm+Z+Waulhwvs7/ySrvl9bz4rOWafbOlF9SUGWZIn/JtpZuh5ffiK//7v2m2ll5hw9oMZWutUPjk3WefTW+29DRj+1+wsH1uwoT0REuPOqW5BD6ZMiW90jJM9JPZZ0+p5fOFktIMLb8fZv7oozTh739PMw4fjoRA0wm8+3//l9758MM01WeQduc+eqXP/T//M2R+L3zYco7jp7/LtL/l9vee2F63ArV8EK+//nqnehFkiCSWUaIHRfR6ePDBB9O8886bZm75snnooYemo48+OkXCyxi2sdhii+W6MdQjAg7TCkhEvffeey+9+OKLuf6Q+aelF4nkKe3PZvzqeSWmiv1iutj279bxqiV/ybAvcpjUsdaQrvpRy9FNbpnhpuU/0vQdZwzXavlx7bZnzLbTEezJrbX8nkxf/zrb9rTpvZbX703vdduhTS8HicCqq/r/0OFUtfwWTxNefbXDUi8JNIlAS5A6Lb+83wsdTve7La/fHWK/F5Zddtk011xzdTjSvn0pING3vpW1Puecc+ahFa90+OA9peVORuEIcrYAABuxSURBVPSOaJtbIoISG264Yd72vvvum+LCWmONNdKjjz7aLmdEtPlRS8R/WiXaqLUzrTqWEyBAgAABAgQIECBAgACB3gi42dYbtQFaJwILt9xyS/rggw9a9+Avf/lLfr7OOuu0Lqs9ub2lC370boihGVFi/cgtETN2xDCPt1ruhi+33HK16h4JECBAgAABAgQIECBAgEC/Cegh0W/U07+hAw44IO21117psMMOy9N3vvDCC+mqq67KvSMimWXb8klLF/GxY8emCFQsscQS+a0VV1wxP/75z3/OOSTixfIt3a8UAgQIECBAgAABAgQIECDQ3wICEv0tPh3bW3TRRdOPfvSj9Pvf/z6deuqpuaWll146HXPMMWmGlmR3bcv111+fE1juueeerYu/9KUv5SEYF154YV628cYb50SXrRU8IUCAAAECBAgQIECAAAEC/SQwQ0v3/c/7aVs2U6FADL2YoyXT7ayzzlp3q++8804OYEQOCYUAAQIECBAgQIAAAQIECAyEgIDEQKjbJgECBAgQIECAAAECBAgQaHIBSS2b/AJw+ASaSeDNN99Md999d4ocK8r0C8S0wW2T7E5/i1qoCcR0zltttVW+XmvLPFYjED0Mn3766TxDVTUtaqWvBOL3S/xfmJ4Sv+/j/1Ik8p5Wievh+OOPTz/5yU/SnXfeOa1qlhMgQIBAHwjIIdEHqJokQKD/Ba677rr8QfK9995LK6ywQtp6663Tggsu2G5HHnnkkXTKKaekSy65JI0cObLde150FogP8pFz5p577kmzzz572nTTTdPo0aPTfffdl84444zWD/irrrpqzmUzU8xTrhQJxGjJyZMnT7NufAmbOnVqmjRpUnr1iznOY3rnjvmCptlAk78RM1CtssoqaamllmqVeO2113Ieppr7jDPOmPMqRcJopXEEIiDwt7/9LT3zzDOtwYg4VwsvvHDaaaedcrLutnv70ksvpS9/+cttF7V7Hv/X4v/Sr3/96/Tyyy+n4cOHp8022yx9+9vfzvXefvvtdNBBB+Wp1WNBTJF+1FFHpbXWWqtdO170j8BZZ52Vnn322bo2dtxxx7Wb1r6ulVVuSAHXQUOelj7bKZ8e+4xWwwQI9JdAJHq99NJL8+Yit0rcuY8Axd5775222GKL/tqNIbedCDrEVMPxZWCWWWbJM/fMPPPM6bLLLksRfIigz7333psefvjhdPrpp+cve0MOoY8O6MMPP0y77rprj62PGzcuxU8UgbQeuVor/Pa3v01jxoxpF5A49NBDcxAoZpdac80100MPPZRuvvnm/EVm9913b13Xk4ETiN/j8fs8SkxLvsgii+QebTGF+YQJE9KJJ56YrrnmmnTSSSelYcOG5d89v/jFL9KVV17Z406PHz8+/x779NNPc0B1oYUWykGrBx54IK977rnn5lnL9tlnn3T55ZcLSPQo2jcVIkAUvZjqKdLh1aM1OOq6DgbHeapqLwUkqpLUDoFuBM4555xUzx/M+CAdd3GUMoH4MBp3Qo899tgUs8nEHdCTTz45hXvcFS354le2peap9dlnn+VgRPR++NnPfpYT6MYdxjPPPDMjXHzxxdk6vsiF8w033CAgUcflEQGd6KUTH7zD+Jvf/Gb+HVH7PREBi+idElM3x5TN0TNCIuI6gDtUfeWVV3Jvk3333Tf38om3t9lmm/wF9+qrr04CEh3ABuBlTGMewYj1118/B5M7Xu8xfCMCEhFAiOnLF1tssRR3xiNY2l2pDfnYbrvt0ve///3cWyKGZvzzn//MAYnoiVHrgRHtbL/99umXv/xld016rw8FjjjiiD5sXdODRcB1MFjOVDX7KSBRjaNWCHQrcO2113b7fsc3v/e97wlIdESZxuvXX389f8Dccsst8xfkqBZd22NoxnnnnZf+9Kc/pfhyF3e9lHKBWrf2TTbZpHU2n5hGOO4or7zyyq3W0eJGG22U4hqP4QUdh8mUb7G5akZPk7iLf/bZZ2fTCFD8+Mc/bu12HLMhRUAi7uRvsMEGzYXTB0cbvaairLvuuu1aj677d9xxh2u3ncrAvIjzEIHlmN68q6FJEaSPac4PP/zwdNFFF+WdjGXRW6K7Endao8RU59FuzE623nrr5b8NsTx6TERAolai50SUCIC4MVBT8UiAAIG+ExCQ6DtbLRNoFYg79PHl4rDDDuv0gbi1kie9Eqh9kIzuux1LfIGOu2zRDTg+iEYXYKVMIHJGRIkhMLUSH87Ds/aBvba8diczch0ISNRUen6MO7uRv2DttddO0e08ekb99Kc/zT0mel5bjXoEIodAlBEjRrRbrZZLxrXbjqXfX0S+mqeeeirtscceXQYj2u5Q9CZ67LHHcuD51FNPTfPNN1/btzs9j9wTUWKd2vPHH3881bqERyA1ro/onRR/J2o9Kjo1ZMGACMR5+cc//pET0U6ZMqXLfYieT7W/WV1WsHDQC7gOBv0p7PYABCS65fEmgWoEomtwfBiKOznRzXSJJZaopmGt5Dv18UU5ut92dSc5eptE0OJ3v/tduuuuu4gVCkSQIVzvv//+tPrqq7euFV/g5pprrtbX8aTWm6IWmGj3phc9Cqyxxhr5+ozfD0ceeWTOexLdy5XpE7jxxhvTv//97zTPPPOk6EkVJWbaqQUh4nV8GY0SdZSBE6j9Dml7bqa1N4svvnh+65BDDukxGBEVZ5ttttzzIoacXX/99en9999PEydOzMHWnXfeuXUzkbw3eiTFl9/4m6F3RCvNgD6JoFP8fZ9WiZwwytAXcB0M7XMsIDG0z6+jayCB6Ga633775SzfAhLVnpgI+ETCv+eeey4tueSSnRqPL3fRJT66yCvlApG/ID7A77DDDq35C8aOHdupgQcffDAv0zuiE03xggjynHDCCSm+RMcwju4+gBc32sQVozdUBB8i6Wrbu6oxfKttue222/KXz469ftrW8bzvBcI/egzFDBcdh9V03PqTTz6ZF3U3s0bHdSLXREzrGb0wItiw4YYbpv333z9F/pCPP/44Bx/i/1+8F0M4YqiaMvACcW7id2Hk2fnBD36QZ3i69dZbcy6RWB49T2OYj94RA3+u+nIPXAd9qdsYbQtINMZ5sBdNIBB3Wy644IImONL+P8Rtt902d9/tKhhR25uYESLGDt999909JkGrrdPsj2NahhDEHcu2wza6MonEjDEW3x3FrnTqWxZTq8aH76OPPlrX8fro2tU+7bTT2r2OfADx0/EO/GqrrZaHzETAUhk4gRgqEXe6o5fCbrvtNs0vmPHFJGb+id81c889d/EOx3TQkVcokvXGtuInSgSzo0QQIpZFL7pll1027bLLLnm5fwZWoDbbRtxUiOE2EXiIoTZx/uN35UcffZTOP//8FD0h67keBvaobL1eAddBvWKDr76/wIPvnNljAgQ6CNTueHVY3Onl6NGjWzPsd3rTgk4C8QGvbZfmThW+WBB5EJTqBOKDd/SSiJkhFlhggeoabuKW4gtMVwGzroZ5NTHTgB76t771rRTdsiOPRMyYFHe+25aY9jOSWsZwi5jSubREECLyCcVQj8033zwP7et4LcTfkEiMHD9K4wjUhgFGwChK/D6ML6e1RKRf//rXc0Airg0BicY5b1XvieugatHGa09AovHOiT0aogLxBzS6GEYyrZdffjn95z//yV1FY5rKeeedN9+li8zfHT8oDVGOyg+Lb+WkuUGufeNaa5VvTaL6R7bVm/Zli7XgUAQlfvjDH+bhExGci2BBfOGM8xklhltsscUWxbsSPR9iCEbkhjjrrLPyTyTGjDZWWmml4nZU7H+B6BERPfRi6FXkMho1alS+DsaNG5encL3zzjvzTglG9P+56c8tug76U3tgtjVDS9bSzwdm07ZKoHkEXnjhhTxVWWTvjg9X8cezlkQtxjlHF8T4sBXvnX766V3mQWgerfqPlG/9ZiVrcC1R6n0dvr2362lNtj0JNe77zzzzTA4eRL6HmK41/jbGTBoxJO+73/1uWmaZZXq189FOJOmNPC0PPPBAbiPuvMZws+j+H9NFK40ncNVVV6WYRavWeyVygcTQnlqJayOmga0Nw6kt9zi0BFwHQ+t8djwaAYmOIl4T6AOBo446Kv3rX//K3UZjLvQIPLQtEReM5Gq1hIFXXnll27c970GAbw9AvXybay/hClfjWwjVi2pse4HWRKtEPpH4m3vzzTfnRJdx6JdddlmetamJGAblocYUsZHE+oknnsjDeiIPSPQyVZpLwHUwtM63IRtD63w6mgYUiKRLMQvBTjvtlO/CdLWLEdlff/3181zoMTVZjB2vzZfeVX3L/ivA978WVT7jWqVm57b4djapagnbqiQHrp1IQjlixIgudyD+Pv7qV79KRxxxRK8DCNFbIn50Eu6SuKEXRgLaXXfdtaH30c5VLxA9pxZddNHWYc1tr4OYSenZZ5/NSYv1lKnevj9aFJDoD2XbaGqBmPM8SnQr7KnU6kydOrWnqt7/QoBv31wKXPvGtdYq35pE9Y9sqzftrxbPO++83GshejBEPqXtt9++dSaMuCN6+eWXpyuuuKJXuxPrjx8/Pg/ZqE1VHDmcYoaGGLIRz5XGFIj/0zEM66233uq0g/EFdI011shTe3d604IhIRCJaQ888MA83WtXeV8iIBEByjPPPDMtscQSQ+KYm+0gBCSa7Yw73n4XiFwREdX94x//mJMyTatrYeSRuPTSS/OHosgGrpQJ8C1zqrcW13rF6qvPtz6vemqzrUercerecMMN6eqrr85DGiOBYQxzvPDCC3Nuh8j1EFO5xhfSRRZZJB1yyCHFAYToBRE9D2OIRgT7Y8jkOuusk2fcWHHFFRsHwJ50KRB5P4477rjco6XLCi0LYwhHxyl9p1XX8qEnEL2motSC0UPvCIf+EckhMfTPsSNsAIGYXSPmQI8S01TFcIz40Bwlklq++uqr6b777suvYzqzejKI55Wa/B++fXMBcO0b11qrfGsS1T+yrd60r1uM6YMnTZqUgxDROyJ6NMRsGy+++GLe9CyzzJLzMMWMGfV0y467q/E3Ne6cxmPMZjXbbLP19eFovyKBgw8+OL300kt5yu4IVEVX/Y7lq1/9ak582XG514NbIAKIkVsthlfFLDmrrrpqp3whcTPvoYceynXixl/MyKEMPgEBicF3zuzxIBWID1rxi/XRRx/Nd2naHkbc/YnM4TvuuGNabrnl2r7leaEA30KoOqtxrROszup86wSrozrbOrAaoOp2222Xv3BE1+taiSEakWwypvqMYH1vv2xMnjx5mrNoxFCA6667LucliCkmlcYRiK74cV2MGTMmbbvtto2zY/akXwQiIPGb3/wmz44Ts9R1VaLHU/RC3mWXXdKaa67ZVRXLBoGAgMQgOEl2cegJRMKu6Ho666yz5twS9dztGXoa1R8R3+pNo0WufeNaa5VvTaL6R7bVm1bd4ujRo9Puu++ett5669amH3nkkTw2fNy4cZUmeo4cFX//+9/Ttddem15++eW8vRgyWeu52LoDngyoQASSIhhx4oknpq5yBwzoztl4vwlEb6kISB177LGug35T798Nde731L/btzUCTSkQ2cOnlUG8KUEqPmi+FYN+0RzXvnGttcq3JlH9I9vqTfuixZlnnrlds111z29Xoc4XkZcighB33nlnXjOGgcQwjs0331wwok7L/qgeib6jB2kMaRWQ6A/xxtxG/B6IPDDzzz9/Y+6gvZpuAT0kpptQAwQIECBAgAABAtMjED0k6imlPRoiT9NNN92Uh2W0naUhhgLEdNzR5VtpXIG77747nXDCCTkgsdpqq6Xll1++Ux6JZZddVg6Jxj2Fle1Z9HS75ZZb0hNPPJHzikSPpqWXXjrPxBOBK2XwCughMXjPnT0nQIAAAQIECAwJgZj5IhJQlpQY5thdYsqYWePee+9N11xzTc7bFG2OGjUq52mKO+2RjyKSXApGlGgPXJ24HiIYEeWxxx7LP13tjVk2ulIZWstee+21PLtOPEaJaXonTJiQHn744XTVVVflWXgiF5syOAX0kBic581eEyBAgAABAgQIdCHw0UcfteaiWGONNdJee+3VmoPijTfeSDvvvHM67LDD0rrrrtvF2hY1ikAElu64444ed2fttdfu1Guix5VUGFQCMdvK888/n//fRvLKWu61yDMTQavIyRaBKWVwCughMTjPm70mQIAAAQIECBDoQiByUcT0oDFV4P3335+efPLJtOmmm+ZlHfNUdLG6RQ0iEF86BY0a5GQM4G5EUsunnnoqJ71da6212u3JKquskvbdd990yimnpO5m02m3khcNJyAg0XCnxA4NZYGYhu6ee+7Jv1jjl2vMrRzTFS2++OJpq6226pSw58MPP+y2W+pQturNsfHtjVrP63Dt2Wh6avCdHr3u12Xbvc9QfXfYsGFp//33T/vss0++wx5DN6688sr8s8giiwzVwx4yxxW5AiIRrUIgBCLQEGVaQzJi+FWUV199tdPn6PyGfxpewJCNhj9FdnCoCES3sqOOOioHIeKYRo4cmT7++OPUdm7l6Ea6/fbb50N+/fXXc/2xY8cOFYI+PQ6+fcPLtW9ca63yrUlU/8i2etPB3GIEp6677rp04403ppj2M/JHxN33mGFjueWWG8yHNqT2PXJFHH744XnIza677ppnQenpAC+77LKcU6Cnet4fvAJx0y6m/txhhx06HcRf//rXdP7556c//OEPeVaWThUsaHgBPSQa/hTZwaEgMH78+HTMMcekuDOz5557phjTWisRlIjupDHPdox/i0hvJN864IAD0vvvv1+r5rEbAb7d4EzHW1ynA69gVb4FSL2swraXcEN4tQUXXDB3+d5tt93yMI6rr7463XrrrfknppeM4P8cc8wxhAUGx6HF56TIEfC1r30t5wnYaKONut3xGNYR+QOUoS0Qn5sj8BQ36+LaiCBizJpz11135UDECiusIBgxiC8BPSQG8cmz64NH4Oc//3kepjFu3LhpdkOMOzb77bdfeuedd/KBxevobhp3b5TuBfh279Pbd7n2Vq5sPb5lTr2pxbY3as23TnyhiSlBr7/++nTGGWekmEZQIUCg8QTi5t3RRx+dZ9XouHdxI+/444/XS6YjzCB6PWwQ7atdJTBoBR599NG05ZZbTjMYEQc2fPjwFHcCIhAxderUdOyxxwpGFJ5xvoVQdVbjWidYndX51glWR3W2dWA1cdWYOjCGSUbvRMGIxrkQvvOd7+ShNW33KKZ3POmkk9ou8ryJBCIZbQQdInAYSSxHjx6dxowZk2fYOPPMMwUjBvm1YMjGID+Bdr/xBV555ZUcYFhsscV63Nnll18+1zn00ENzl7QeV1Ah8e2bi4Br37jWWuVbk6j+kW31plok0J8CkfA7bs60LS+++GK6/fbb87SPbZd7PnQFjjzyyJxDpDazRgzPWWqppfLP0D3q5jwyPSSa87w76n4UmH/++fPWnnvuuR63Gh+ko0wrk3CPDTRhBb59c9K59o1rrVW+NYnqH9lWb6pFAgQI9LdA9IqZOHFif2/W9gZAQEBiANBtsrkEZpppprT00kune++9t8cDjylBI/N3JN9SygT4ljnVW4trvWL11edbn1c9tdnWo6UuAQIECBAYWAEBiYH1t/UmEYjswNHdMBKtffjhh52O+pNPPkmnn356euCBB9KGG27Y6X0Luhfg271Pb9/l2lu5svX4ljn1phbb3qhZhwABAgQI9L+AWTb639wWm1Dgs88+ywGHW265JSevjB4TkRV42LBh6YUXXkjPPPNMmjJlSoquxjGXciTvUcoF+JZb1VOTaz1a9dflW79Z6RpsS6XUI9B4ApGwcOTIkWmhhRZq3bnouh+zotRybbW+0fIkbvaMGDGi7SLPh4BAXAf1lJgWNBLVKoNPQEBi8J0zezyIBWLe8xtuuCFNmDCh3VHEDBuR6Ttm4hCMaEdT1wu+dXEVV+ZaTNWrinx7xVa0EtsiJpUINJRAfB6KoGJpiSnV55prrtLq6g0SgQhILLroovkGXsku77///mmOOeYoqapOgwkISDTYCbE7zSHw+eef56BEzKu88MIL514TzXHk/XOUfPvGmWvfuNZa5VuTqP6RbfWmWiRAgEBfCkRAYvfdd09bb711X25G2w0gYNrPBjgJdqH5BGLqomlNA/r000+nxRdfPM0666zNB1PREfOtCLJDM1w7gFT8km/FoG2aY9sGw1MCBAgQINBAAgISDXQy7MrQFpg8eXIaP358evbZZ9OSSy6Z1ltvvXZdDN9999107rnnpltvvTVdcsklAhJ1Xg586wQrrM61EKqX1fj2Eq5gNbYFSKoQIECAAIEBFhCQGOATYPPNIfD666+nPffcM02dOrX1gCP5ztixY3PipptuuikHI+L9SNhkDFwrU9ETvkVMdVfiWjdZXSvwrYurrsps6+JSmQABAg0ncPDBB6dll1224fbLDlUvIIdE9aZaJNBJ4Pjjj0/33HNP2mabbdIGG2yQe0pceumlOfgQPSNipo0555wzHXjggWmttdbqtL4F3Qvw7d6nt+9y7a1c2Xp8y5x6U4ttb9SsQ4AAAQIE+l9AD4n+N7fFJhSIYRox1eeuu+6aj37UqFHp+eefT7fffnuaccYZ04477pi22267NNNM/kv25vLg2xu1ntfh2rPR9NTgOz163a/Ltnsf7xIgQIAAgUYRGNYoO2I/CAxlgTfeeCOtvPLK7Q6x1hPitNNOSzvssINgRDud+l7wrc+rtDbXUqne1ePbO7eStdiWKKlDgAABAgQGXkBAYuDPgT1oAoFPP/00LbDAAu2OdL755suvR4wY0W65F/UL8K3frGQNriVKva/Dt/d2Pa3Jtich7xMgQIAAgcYQ0D+8Mc6DvWgCgXvvvTdNmTKl9UgnTpyYn19zzTVp7rnnbl0eT7bccss0fPjwdsu86F6Ab/c+vX2Xa2/lytbjW+bUm1pse6NmHQIECBAg0L8Cklr2r7etNanA6NGj6zrymPZz5MiRda3TzJX59s3Z59o3rrVW+dYkqn9kW72pFgkQIECAQF8ICEj0hao2CXQQmDRpUocl0345wwwzpPnnnz/Fo1ImwLfMqd5aXOsVq68+3/q86qnNth4tdQkQIECAwMAJCEgMnL0tEyBAgAABAgQIECBAgACBphWQ1LJpT70DJ0CAAAECBAgQIECAAAECAycgIDFw9rZMgAABAgQIECBAgAABAgSaVkBAomlPvQMnQIAAAQIECBAgQIAAAQIDJyAgMXD2tkyAAAECBAgQIECAAAECBJpWQECiaU+9AydAgAABAgQIECBAgAABAgMnICAxcPa2TIAAAQIECBAgQIAAAQIEmlZAQKJpT70DJ0CAAAECBAgQIECAAAECAycgIDFw9rZMgAABAgQIECBAgAABAgSaVkBAomlPvQMnQIAAAQIECBAgQIAAAQIDJ/D/pYFxyOmrT7cAAAAASUVORK5CYII=)"
      ],
      "metadata": {
        "id": "rXr3Y63WZw-b"
      }
    }
  ]
}