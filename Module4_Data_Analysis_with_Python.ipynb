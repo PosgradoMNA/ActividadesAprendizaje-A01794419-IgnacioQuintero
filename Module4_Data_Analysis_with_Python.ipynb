{
  "nbformat": 4,
  "nbformat_minor": 0,
  "metadata": {
    "colab": {
      "provenance": [],
      "authorship_tag": "ABX9TyO8mpCnyxvP15uSHRGHP59D",
      "include_colab_link": true
    },
    "kernelspec": {
      "name": "python3",
      "display_name": "Python 3"
    },
    "language_info": {
      "name": "python"
    }
  },
  "cells": [
    {
      "cell_type": "markdown",
      "metadata": {
        "id": "view-in-github",
        "colab_type": "text"
      },
      "source": [
        "<a href=\"https://colab.research.google.com/github/PosgradoMNA/ActividadesAprendizaje-A01794419-IgnacioQuintero/blob/main/Module4_Data_Analysis_with_Python.ipynb\" target=\"_parent\"><img src=\"https://colab.research.google.com/assets/colab-badge.svg\" alt=\"Open In Colab\"/></a>"
      ]
    },
    {
      "cell_type": "markdown",
      "source": [
        "# Data Analysis with Python\n",
        "## Module 4 - Model Development\n",
        "\n",
        "* Alumno: Ignacio Antonio Quintero Chávez.\n",
        "* Matrícula: A01794419.\n",
        "* Materia: Ciencia y analítica de datos.\n",
        "* Profesora: María de la Paz Rico Fernández.\n",
        "* Fecha: 1 Noviembre 2022."
      ],
      "metadata": {
        "id": "BrS8T0tbuk5T"
      }
    },
    {
      "cell_type": "markdown",
      "source": [
        "A model or estimator can be thought of as a mathematical equation used to predict a value given one or more other values.\n",
        "\n",
        "Usually, the more relevant data you have, the more accurate your model is."
      ],
      "metadata": {
        "id": "uHu_meokvScq"
      }
    },
    {
      "cell_type": "markdown",
      "source": [
        "**Linear regression:** It will refer to one independent variable to make a prediction.\n",
        "\n",
        "**Multiple linear regression:** It will refer to multiple independent variables to make a prediction."
      ],
      "metadata": {
        "id": "jHSJDp-cxWIc"
      }
    },
    {
      "cell_type": "code",
      "source": [
        "# Importing the libraries\n",
        "import pandas as pd\n",
        "import numpy as np\n",
        "import matplotlib.pyplot as plt"
      ],
      "metadata": {
        "id": "ZDwbu8pmxoNM"
      },
      "execution_count": 1,
      "outputs": []
    },
    {
      "cell_type": "code",
      "source": [
        "# Importing the dataset and save it to a variable\n",
        "dataset = \"https://cf-courses-data.s3.us.cloud-object-storage.appdomain.cloud/IBMDeveloperSkillsNetwork-DA0101EN-SkillsNetwork/labs/Data%20files/automobileEDA.csv\""
      ],
      "metadata": {
        "id": "RFzh6Ls00_-q"
      },
      "execution_count": 2,
      "outputs": []
    },
    {
      "cell_type": "code",
      "source": [
        "# Storing the dataset into a dataframe\n",
        "dataframe = pd.read_csv(dataset)\n",
        "dataframe"
      ],
      "metadata": {
        "colab": {
          "base_uri": "https://localhost:8080/",
          "height": 537
        },
        "id": "mWUGW0i_1P1g",
        "outputId": "3b49eeef-d3d3-454b-ead0-afadd2f47750"
      },
      "execution_count": 3,
      "outputs": [
        {
          "output_type": "execute_result",
          "data": {
            "text/plain": [
              "     symboling  normalized-losses         make aspiration num-of-doors  \\\n",
              "0            3                122  alfa-romero        std          two   \n",
              "1            3                122  alfa-romero        std          two   \n",
              "2            1                122  alfa-romero        std          two   \n",
              "3            2                164         audi        std         four   \n",
              "4            2                164         audi        std         four   \n",
              "..         ...                ...          ...        ...          ...   \n",
              "196         -1                 95        volvo        std         four   \n",
              "197         -1                 95        volvo      turbo         four   \n",
              "198         -1                 95        volvo        std         four   \n",
              "199         -1                 95        volvo      turbo         four   \n",
              "200         -1                 95        volvo      turbo         four   \n",
              "\n",
              "      body-style drive-wheels engine-location  wheel-base    length  ...  \\\n",
              "0    convertible          rwd           front        88.6  0.811148  ...   \n",
              "1    convertible          rwd           front        88.6  0.811148  ...   \n",
              "2      hatchback          rwd           front        94.5  0.822681  ...   \n",
              "3          sedan          fwd           front        99.8  0.848630  ...   \n",
              "4          sedan          4wd           front        99.4  0.848630  ...   \n",
              "..           ...          ...             ...         ...       ...  ...   \n",
              "196        sedan          rwd           front       109.1  0.907256  ...   \n",
              "197        sedan          rwd           front       109.1  0.907256  ...   \n",
              "198        sedan          rwd           front       109.1  0.907256  ...   \n",
              "199        sedan          rwd           front       109.1  0.907256  ...   \n",
              "200        sedan          rwd           front       109.1  0.907256  ...   \n",
              "\n",
              "     compression-ratio  horsepower  peak-rpm city-mpg highway-mpg    price  \\\n",
              "0                  9.0       111.0    5000.0       21          27  13495.0   \n",
              "1                  9.0       111.0    5000.0       21          27  16500.0   \n",
              "2                  9.0       154.0    5000.0       19          26  16500.0   \n",
              "3                 10.0       102.0    5500.0       24          30  13950.0   \n",
              "4                  8.0       115.0    5500.0       18          22  17450.0   \n",
              "..                 ...         ...       ...      ...         ...      ...   \n",
              "196                9.5       114.0    5400.0       23          28  16845.0   \n",
              "197                8.7       160.0    5300.0       19          25  19045.0   \n",
              "198                8.8       134.0    5500.0       18          23  21485.0   \n",
              "199               23.0       106.0    4800.0       26          27  22470.0   \n",
              "200                9.5       114.0    5400.0       19          25  22625.0   \n",
              "\n",
              "    city-L/100km  horsepower-binned  diesel  gas  \n",
              "0      11.190476             Medium       0    1  \n",
              "1      11.190476             Medium       0    1  \n",
              "2      12.368421             Medium       0    1  \n",
              "3       9.791667             Medium       0    1  \n",
              "4      13.055556             Medium       0    1  \n",
              "..           ...                ...     ...  ...  \n",
              "196    10.217391             Medium       0    1  \n",
              "197    12.368421               High       0    1  \n",
              "198    13.055556             Medium       0    1  \n",
              "199     9.038462             Medium       1    0  \n",
              "200    12.368421             Medium       0    1  \n",
              "\n",
              "[201 rows x 29 columns]"
            ],
            "text/html": [
              "\n",
              "  <div id=\"df-ab02e3cc-f41f-4ca5-899f-de74816d57ab\">\n",
              "    <div class=\"colab-df-container\">\n",
              "      <div>\n",
              "<style scoped>\n",
              "    .dataframe tbody tr th:only-of-type {\n",
              "        vertical-align: middle;\n",
              "    }\n",
              "\n",
              "    .dataframe tbody tr th {\n",
              "        vertical-align: top;\n",
              "    }\n",
              "\n",
              "    .dataframe thead th {\n",
              "        text-align: right;\n",
              "    }\n",
              "</style>\n",
              "<table border=\"1\" class=\"dataframe\">\n",
              "  <thead>\n",
              "    <tr style=\"text-align: right;\">\n",
              "      <th></th>\n",
              "      <th>symboling</th>\n",
              "      <th>normalized-losses</th>\n",
              "      <th>make</th>\n",
              "      <th>aspiration</th>\n",
              "      <th>num-of-doors</th>\n",
              "      <th>body-style</th>\n",
              "      <th>drive-wheels</th>\n",
              "      <th>engine-location</th>\n",
              "      <th>wheel-base</th>\n",
              "      <th>length</th>\n",
              "      <th>...</th>\n",
              "      <th>compression-ratio</th>\n",
              "      <th>horsepower</th>\n",
              "      <th>peak-rpm</th>\n",
              "      <th>city-mpg</th>\n",
              "      <th>highway-mpg</th>\n",
              "      <th>price</th>\n",
              "      <th>city-L/100km</th>\n",
              "      <th>horsepower-binned</th>\n",
              "      <th>diesel</th>\n",
              "      <th>gas</th>\n",
              "    </tr>\n",
              "  </thead>\n",
              "  <tbody>\n",
              "    <tr>\n",
              "      <th>0</th>\n",
              "      <td>3</td>\n",
              "      <td>122</td>\n",
              "      <td>alfa-romero</td>\n",
              "      <td>std</td>\n",
              "      <td>two</td>\n",
              "      <td>convertible</td>\n",
              "      <td>rwd</td>\n",
              "      <td>front</td>\n",
              "      <td>88.6</td>\n",
              "      <td>0.811148</td>\n",
              "      <td>...</td>\n",
              "      <td>9.0</td>\n",
              "      <td>111.0</td>\n",
              "      <td>5000.0</td>\n",
              "      <td>21</td>\n",
              "      <td>27</td>\n",
              "      <td>13495.0</td>\n",
              "      <td>11.190476</td>\n",
              "      <td>Medium</td>\n",
              "      <td>0</td>\n",
              "      <td>1</td>\n",
              "    </tr>\n",
              "    <tr>\n",
              "      <th>1</th>\n",
              "      <td>3</td>\n",
              "      <td>122</td>\n",
              "      <td>alfa-romero</td>\n",
              "      <td>std</td>\n",
              "      <td>two</td>\n",
              "      <td>convertible</td>\n",
              "      <td>rwd</td>\n",
              "      <td>front</td>\n",
              "      <td>88.6</td>\n",
              "      <td>0.811148</td>\n",
              "      <td>...</td>\n",
              "      <td>9.0</td>\n",
              "      <td>111.0</td>\n",
              "      <td>5000.0</td>\n",
              "      <td>21</td>\n",
              "      <td>27</td>\n",
              "      <td>16500.0</td>\n",
              "      <td>11.190476</td>\n",
              "      <td>Medium</td>\n",
              "      <td>0</td>\n",
              "      <td>1</td>\n",
              "    </tr>\n",
              "    <tr>\n",
              "      <th>2</th>\n",
              "      <td>1</td>\n",
              "      <td>122</td>\n",
              "      <td>alfa-romero</td>\n",
              "      <td>std</td>\n",
              "      <td>two</td>\n",
              "      <td>hatchback</td>\n",
              "      <td>rwd</td>\n",
              "      <td>front</td>\n",
              "      <td>94.5</td>\n",
              "      <td>0.822681</td>\n",
              "      <td>...</td>\n",
              "      <td>9.0</td>\n",
              "      <td>154.0</td>\n",
              "      <td>5000.0</td>\n",
              "      <td>19</td>\n",
              "      <td>26</td>\n",
              "      <td>16500.0</td>\n",
              "      <td>12.368421</td>\n",
              "      <td>Medium</td>\n",
              "      <td>0</td>\n",
              "      <td>1</td>\n",
              "    </tr>\n",
              "    <tr>\n",
              "      <th>3</th>\n",
              "      <td>2</td>\n",
              "      <td>164</td>\n",
              "      <td>audi</td>\n",
              "      <td>std</td>\n",
              "      <td>four</td>\n",
              "      <td>sedan</td>\n",
              "      <td>fwd</td>\n",
              "      <td>front</td>\n",
              "      <td>99.8</td>\n",
              "      <td>0.848630</td>\n",
              "      <td>...</td>\n",
              "      <td>10.0</td>\n",
              "      <td>102.0</td>\n",
              "      <td>5500.0</td>\n",
              "      <td>24</td>\n",
              "      <td>30</td>\n",
              "      <td>13950.0</td>\n",
              "      <td>9.791667</td>\n",
              "      <td>Medium</td>\n",
              "      <td>0</td>\n",
              "      <td>1</td>\n",
              "    </tr>\n",
              "    <tr>\n",
              "      <th>4</th>\n",
              "      <td>2</td>\n",
              "      <td>164</td>\n",
              "      <td>audi</td>\n",
              "      <td>std</td>\n",
              "      <td>four</td>\n",
              "      <td>sedan</td>\n",
              "      <td>4wd</td>\n",
              "      <td>front</td>\n",
              "      <td>99.4</td>\n",
              "      <td>0.848630</td>\n",
              "      <td>...</td>\n",
              "      <td>8.0</td>\n",
              "      <td>115.0</td>\n",
              "      <td>5500.0</td>\n",
              "      <td>18</td>\n",
              "      <td>22</td>\n",
              "      <td>17450.0</td>\n",
              "      <td>13.055556</td>\n",
              "      <td>Medium</td>\n",
              "      <td>0</td>\n",
              "      <td>1</td>\n",
              "    </tr>\n",
              "    <tr>\n",
              "      <th>...</th>\n",
              "      <td>...</td>\n",
              "      <td>...</td>\n",
              "      <td>...</td>\n",
              "      <td>...</td>\n",
              "      <td>...</td>\n",
              "      <td>...</td>\n",
              "      <td>...</td>\n",
              "      <td>...</td>\n",
              "      <td>...</td>\n",
              "      <td>...</td>\n",
              "      <td>...</td>\n",
              "      <td>...</td>\n",
              "      <td>...</td>\n",
              "      <td>...</td>\n",
              "      <td>...</td>\n",
              "      <td>...</td>\n",
              "      <td>...</td>\n",
              "      <td>...</td>\n",
              "      <td>...</td>\n",
              "      <td>...</td>\n",
              "      <td>...</td>\n",
              "    </tr>\n",
              "    <tr>\n",
              "      <th>196</th>\n",
              "      <td>-1</td>\n",
              "      <td>95</td>\n",
              "      <td>volvo</td>\n",
              "      <td>std</td>\n",
              "      <td>four</td>\n",
              "      <td>sedan</td>\n",
              "      <td>rwd</td>\n",
              "      <td>front</td>\n",
              "      <td>109.1</td>\n",
              "      <td>0.907256</td>\n",
              "      <td>...</td>\n",
              "      <td>9.5</td>\n",
              "      <td>114.0</td>\n",
              "      <td>5400.0</td>\n",
              "      <td>23</td>\n",
              "      <td>28</td>\n",
              "      <td>16845.0</td>\n",
              "      <td>10.217391</td>\n",
              "      <td>Medium</td>\n",
              "      <td>0</td>\n",
              "      <td>1</td>\n",
              "    </tr>\n",
              "    <tr>\n",
              "      <th>197</th>\n",
              "      <td>-1</td>\n",
              "      <td>95</td>\n",
              "      <td>volvo</td>\n",
              "      <td>turbo</td>\n",
              "      <td>four</td>\n",
              "      <td>sedan</td>\n",
              "      <td>rwd</td>\n",
              "      <td>front</td>\n",
              "      <td>109.1</td>\n",
              "      <td>0.907256</td>\n",
              "      <td>...</td>\n",
              "      <td>8.7</td>\n",
              "      <td>160.0</td>\n",
              "      <td>5300.0</td>\n",
              "      <td>19</td>\n",
              "      <td>25</td>\n",
              "      <td>19045.0</td>\n",
              "      <td>12.368421</td>\n",
              "      <td>High</td>\n",
              "      <td>0</td>\n",
              "      <td>1</td>\n",
              "    </tr>\n",
              "    <tr>\n",
              "      <th>198</th>\n",
              "      <td>-1</td>\n",
              "      <td>95</td>\n",
              "      <td>volvo</td>\n",
              "      <td>std</td>\n",
              "      <td>four</td>\n",
              "      <td>sedan</td>\n",
              "      <td>rwd</td>\n",
              "      <td>front</td>\n",
              "      <td>109.1</td>\n",
              "      <td>0.907256</td>\n",
              "      <td>...</td>\n",
              "      <td>8.8</td>\n",
              "      <td>134.0</td>\n",
              "      <td>5500.0</td>\n",
              "      <td>18</td>\n",
              "      <td>23</td>\n",
              "      <td>21485.0</td>\n",
              "      <td>13.055556</td>\n",
              "      <td>Medium</td>\n",
              "      <td>0</td>\n",
              "      <td>1</td>\n",
              "    </tr>\n",
              "    <tr>\n",
              "      <th>199</th>\n",
              "      <td>-1</td>\n",
              "      <td>95</td>\n",
              "      <td>volvo</td>\n",
              "      <td>turbo</td>\n",
              "      <td>four</td>\n",
              "      <td>sedan</td>\n",
              "      <td>rwd</td>\n",
              "      <td>front</td>\n",
              "      <td>109.1</td>\n",
              "      <td>0.907256</td>\n",
              "      <td>...</td>\n",
              "      <td>23.0</td>\n",
              "      <td>106.0</td>\n",
              "      <td>4800.0</td>\n",
              "      <td>26</td>\n",
              "      <td>27</td>\n",
              "      <td>22470.0</td>\n",
              "      <td>9.038462</td>\n",
              "      <td>Medium</td>\n",
              "      <td>1</td>\n",
              "      <td>0</td>\n",
              "    </tr>\n",
              "    <tr>\n",
              "      <th>200</th>\n",
              "      <td>-1</td>\n",
              "      <td>95</td>\n",
              "      <td>volvo</td>\n",
              "      <td>turbo</td>\n",
              "      <td>four</td>\n",
              "      <td>sedan</td>\n",
              "      <td>rwd</td>\n",
              "      <td>front</td>\n",
              "      <td>109.1</td>\n",
              "      <td>0.907256</td>\n",
              "      <td>...</td>\n",
              "      <td>9.5</td>\n",
              "      <td>114.0</td>\n",
              "      <td>5400.0</td>\n",
              "      <td>19</td>\n",
              "      <td>25</td>\n",
              "      <td>22625.0</td>\n",
              "      <td>12.368421</td>\n",
              "      <td>Medium</td>\n",
              "      <td>0</td>\n",
              "      <td>1</td>\n",
              "    </tr>\n",
              "  </tbody>\n",
              "</table>\n",
              "<p>201 rows × 29 columns</p>\n",
              "</div>\n",
              "      <button class=\"colab-df-convert\" onclick=\"convertToInteractive('df-ab02e3cc-f41f-4ca5-899f-de74816d57ab')\"\n",
              "              title=\"Convert this dataframe to an interactive table.\"\n",
              "              style=\"display:none;\">\n",
              "        \n",
              "  <svg xmlns=\"http://www.w3.org/2000/svg\" height=\"24px\"viewBox=\"0 0 24 24\"\n",
              "       width=\"24px\">\n",
              "    <path d=\"M0 0h24v24H0V0z\" fill=\"none\"/>\n",
              "    <path d=\"M18.56 5.44l.94 2.06.94-2.06 2.06-.94-2.06-.94-.94-2.06-.94 2.06-2.06.94zm-11 1L8.5 8.5l.94-2.06 2.06-.94-2.06-.94L8.5 2.5l-.94 2.06-2.06.94zm10 10l.94 2.06.94-2.06 2.06-.94-2.06-.94-.94-2.06-.94 2.06-2.06.94z\"/><path d=\"M17.41 7.96l-1.37-1.37c-.4-.4-.92-.59-1.43-.59-.52 0-1.04.2-1.43.59L10.3 9.45l-7.72 7.72c-.78.78-.78 2.05 0 2.83L4 21.41c.39.39.9.59 1.41.59.51 0 1.02-.2 1.41-.59l7.78-7.78 2.81-2.81c.8-.78.8-2.07 0-2.86zM5.41 20L4 18.59l7.72-7.72 1.47 1.35L5.41 20z\"/>\n",
              "  </svg>\n",
              "      </button>\n",
              "      \n",
              "  <style>\n",
              "    .colab-df-container {\n",
              "      display:flex;\n",
              "      flex-wrap:wrap;\n",
              "      gap: 12px;\n",
              "    }\n",
              "\n",
              "    .colab-df-convert {\n",
              "      background-color: #E8F0FE;\n",
              "      border: none;\n",
              "      border-radius: 50%;\n",
              "      cursor: pointer;\n",
              "      display: none;\n",
              "      fill: #1967D2;\n",
              "      height: 32px;\n",
              "      padding: 0 0 0 0;\n",
              "      width: 32px;\n",
              "    }\n",
              "\n",
              "    .colab-df-convert:hover {\n",
              "      background-color: #E2EBFA;\n",
              "      box-shadow: 0px 1px 2px rgba(60, 64, 67, 0.3), 0px 1px 3px 1px rgba(60, 64, 67, 0.15);\n",
              "      fill: #174EA6;\n",
              "    }\n",
              "\n",
              "    [theme=dark] .colab-df-convert {\n",
              "      background-color: #3B4455;\n",
              "      fill: #D2E3FC;\n",
              "    }\n",
              "\n",
              "    [theme=dark] .colab-df-convert:hover {\n",
              "      background-color: #434B5C;\n",
              "      box-shadow: 0px 1px 3px 1px rgba(0, 0, 0, 0.15);\n",
              "      filter: drop-shadow(0px 1px 2px rgba(0, 0, 0, 0.3));\n",
              "      fill: #FFFFFF;\n",
              "    }\n",
              "  </style>\n",
              "\n",
              "      <script>\n",
              "        const buttonEl =\n",
              "          document.querySelector('#df-ab02e3cc-f41f-4ca5-899f-de74816d57ab button.colab-df-convert');\n",
              "        buttonEl.style.display =\n",
              "          google.colab.kernel.accessAllowed ? 'block' : 'none';\n",
              "\n",
              "        async function convertToInteractive(key) {\n",
              "          const element = document.querySelector('#df-ab02e3cc-f41f-4ca5-899f-de74816d57ab');\n",
              "          const dataTable =\n",
              "            await google.colab.kernel.invokeFunction('convertToInteractive',\n",
              "                                                     [key], {});\n",
              "          if (!dataTable) return;\n",
              "\n",
              "          const docLinkHtml = 'Like what you see? Visit the ' +\n",
              "            '<a target=\"_blank\" href=https://colab.research.google.com/notebooks/data_table.ipynb>data table notebook</a>'\n",
              "            + ' to learn more about interactive tables.';\n",
              "          element.innerHTML = '';\n",
              "          dataTable['output_type'] = 'display_data';\n",
              "          await google.colab.output.renderOutput(dataTable, element);\n",
              "          const docLink = document.createElement('div');\n",
              "          docLink.innerHTML = docLinkHtml;\n",
              "          element.appendChild(docLink);\n",
              "        }\n",
              "      </script>\n",
              "    </div>\n",
              "  </div>\n",
              "  "
            ]
          },
          "metadata": {},
          "execution_count": 3
        }
      ]
    },
    {
      "cell_type": "markdown",
      "source": [
        "### Linear Regression and Multiple Linear Regression"
      ],
      "metadata": {
        "id": "5OyqD-SR1Y5u"
      }
    },
    {
      "cell_type": "markdown",
      "source": [
        "**Simple Linear Regression**\n",
        "\n",
        "It is a method to help us understand the relationship between two variables.\n",
        "\n",
        "* The predictor/independent variable (X).\n",
        "* The response/dependent variable (that we want to predict) (Y).\n",
        "\n",
        "The result of linear regression is a **linear function** that predicts the response (dependent) variable as a function of the predictor (independent) variable.\n",
        "\n",
        "*Y: Response Variable*\n",
        "\n",
        "*X: Predictor Variables*\n",
        "\n",
        "**Linear Function**\n",
        "\n",
        "*Yhat = a + bX*\n",
        "\n",
        "\n",
        "* a = It refers to the intercept of the regression line, or, the value of Y when X is 0.\n",
        "\n",
        "* b = It refers to the slope of the regression line, or, the value with which Y changes when X increases by 1 unit."
      ],
      "metadata": {
        "id": "fpvQsWiV2Ai-"
      }
    },
    {
      "cell_type": "code",
      "source": [
        "# Importing the module for linear regression\n",
        "from sklearn.linear_model import LinearRegression"
      ],
      "metadata": {
        "id": "Tmp2ynJw3F7k"
      },
      "execution_count": 4,
      "outputs": []
    },
    {
      "cell_type": "code",
      "source": [
        "# Create the linear regression object\n",
        "lm = LinearRegression()\n",
        "lm"
      ],
      "metadata": {
        "colab": {
          "base_uri": "https://localhost:8080/"
        },
        "id": "kFG8zg7T3QS_",
        "outputId": "0669bd29-a3aa-49c5-b28d-59fdba2bf55a"
      },
      "execution_count": 5,
      "outputs": [
        {
          "output_type": "execute_result",
          "data": {
            "text/plain": [
              "LinearRegression()"
            ]
          },
          "metadata": {},
          "execution_count": 5
        }
      ]
    },
    {
      "cell_type": "code",
      "source": [
        "# Create a linear function with 'highway-mpg' as the predictor variable\n",
        "X = dataframe[[\"highway-mpg\"]]\n",
        "\n",
        "# Create a linear function with 'price' as the response variable\n",
        "Y = dataframe[[\"price\"]]"
      ],
      "metadata": {
        "id": "edK6jiO73X5_"
      },
      "execution_count": 6,
      "outputs": []
    },
    {
      "cell_type": "code",
      "source": [
        "# Fit the linear model using highway-mpg\n",
        "lm.fit(X, Y)"
      ],
      "metadata": {
        "colab": {
          "base_uri": "https://localhost:8080/"
        },
        "id": "5Dc0-yPI3tQE",
        "outputId": "4e658ba7-4419-4be5-8b15-f2da910933d0"
      },
      "execution_count": 7,
      "outputs": [
        {
          "output_type": "execute_result",
          "data": {
            "text/plain": [
              "LinearRegression()"
            ]
          },
          "metadata": {},
          "execution_count": 7
        }
      ]
    },
    {
      "cell_type": "code",
      "source": [
        "# We can output a prediction\n",
        "Yhat = lm.predict(X)\n",
        "Yhat[0:5]"
      ],
      "metadata": {
        "colab": {
          "base_uri": "https://localhost:8080/"
        },
        "id": "h8tCo8tf3-Kz",
        "outputId": "a48c5d0b-6f4d-4857-ca87-ee2191238f3e"
      },
      "execution_count": 8,
      "outputs": [
        {
          "output_type": "execute_result",
          "data": {
            "text/plain": [
              "array([[16236.50464347],\n",
              "       [16236.50464347],\n",
              "       [17058.23802179],\n",
              "       [13771.3045085 ],\n",
              "       [20345.17153508]])"
            ]
          },
          "metadata": {},
          "execution_count": 8
        }
      ]
    },
    {
      "cell_type": "markdown",
      "source": [
        "What is the value of the incercept (a)?"
      ],
      "metadata": {
        "id": "kus-_VU34JQj"
      }
    },
    {
      "cell_type": "code",
      "source": [
        "lm.intercept_"
      ],
      "metadata": {
        "colab": {
          "base_uri": "https://localhost:8080/"
        },
        "id": "RRIJHBmc4OCQ",
        "outputId": "0bf8d200-61de-41ba-d262-af4677288c2f"
      },
      "execution_count": 9,
      "outputs": [
        {
          "output_type": "execute_result",
          "data": {
            "text/plain": [
              "array([38423.30585816])"
            ]
          },
          "metadata": {},
          "execution_count": 9
        }
      ]
    },
    {
      "cell_type": "markdown",
      "source": [
        "What is the value of the slope (b)?"
      ],
      "metadata": {
        "id": "zh_w4f9h4VDj"
      }
    },
    {
      "cell_type": "code",
      "source": [
        "lm.coef_"
      ],
      "metadata": {
        "colab": {
          "base_uri": "https://localhost:8080/"
        },
        "id": "v7XoEZCB4QPp",
        "outputId": "63fa12a0-afef-4cda-ae8c-189dc3ea4443"
      },
      "execution_count": 10,
      "outputs": [
        {
          "output_type": "execute_result",
          "data": {
            "text/plain": [
              "array([[-821.73337832]])"
            ]
          },
          "metadata": {},
          "execution_count": 10
        }
      ]
    },
    {
      "cell_type": "markdown",
      "source": [
        "**Multiple Linear Regression**\n",
        "\n",
        "This method is used to explain the relationship between one continuos response (dependent) variable and two more predictor (independent) variables.\n",
        "\n",
        "*Y: Response Variable*\n",
        "* X_1: *Predictor Variable 1*\n",
        "* X_2: *Predictor Variable 2*\n",
        "* X_3: *Predictor Variable 3*\n",
        "* X_4: *Predictor Variable 4*\n",
        "\n",
        "\n",
        "a: *intercept*\n",
        "* b_1: *coefficients of Variable 1*\n",
        "* b_2: *coefficients of Variable 2*\n",
        "* b_3: *coefficients of Variable 3*\n",
        "* b_4: *coefficients of Variable 4*"
      ],
      "metadata": {
        "id": "MEG-yqMZ4sW9"
      }
    },
    {
      "cell_type": "markdown",
      "source": [
        "The equation is given by:\n",
        "\n",
        "*Yhat* = a + b_1X_1 + b_2X_2 + b_3X_3 + b_4_X_4"
      ],
      "metadata": {
        "id": "_KBYA4s45xo8"
      }
    },
    {
      "cell_type": "code",
      "source": [
        "# Developing a model using some variables as the predictor variables\n",
        "Z = dataframe[[\"horsepower\", \"curb-weight\", \"engine-size\", \"highway-mpg\"]]"
      ],
      "metadata": {
        "id": "3oaloNZ86CiN"
      },
      "execution_count": 11,
      "outputs": []
    },
    {
      "cell_type": "code",
      "source": [
        "# Fit the linear model using the four above-mentioned variables\n",
        "lm.fit(Z, dataframe[\"price\"])"
      ],
      "metadata": {
        "colab": {
          "base_uri": "https://localhost:8080/"
        },
        "id": "HOHxHDH36O3P",
        "outputId": "0546ef8f-3b18-470c-dbb0-a71ceb1d9dca"
      },
      "execution_count": 12,
      "outputs": [
        {
          "output_type": "execute_result",
          "data": {
            "text/plain": [
              "LinearRegression()"
            ]
          },
          "metadata": {},
          "execution_count": 12
        }
      ]
    },
    {
      "cell_type": "markdown",
      "source": [
        "What is the value of the intercept(a)?"
      ],
      "metadata": {
        "id": "Qqsh6gf-7sp4"
      }
    },
    {
      "cell_type": "code",
      "source": [
        "lm.intercept_"
      ],
      "metadata": {
        "colab": {
          "base_uri": "https://localhost:8080/"
        },
        "id": "ypainvoo7woa",
        "outputId": "8626ee4b-e3d3-4ca0-8ffe-e33e8d9ba87c"
      },
      "execution_count": 13,
      "outputs": [
        {
          "output_type": "execute_result",
          "data": {
            "text/plain": [
              "-15806.62462632922"
            ]
          },
          "metadata": {},
          "execution_count": 13
        }
      ]
    },
    {
      "cell_type": "markdown",
      "source": [
        "What is the value of the coefficients (b1, b2, b3, b4)?"
      ],
      "metadata": {
        "id": "A4TY9yar7xJr"
      }
    },
    {
      "cell_type": "code",
      "source": [
        "lm.coef_"
      ],
      "metadata": {
        "colab": {
          "base_uri": "https://localhost:8080/"
        },
        "id": "uGeRoz-E72_Z",
        "outputId": "a26efc4f-2675-438e-97c5-915700ae1229"
      },
      "execution_count": 14,
      "outputs": [
        {
          "output_type": "execute_result",
          "data": {
            "text/plain": [
              "array([53.49574423,  4.70770099, 81.53026382, 36.05748882])"
            ]
          },
          "metadata": {},
          "execution_count": 14
        }
      ]
    },
    {
      "cell_type": "markdown",
      "source": [
        "### Model Evaluation Using Visualization"
      ],
      "metadata": {
        "id": "HDziv9UT8Ee7"
      }
    },
    {
      "cell_type": "code",
      "source": [
        "# Importing the visualization package, seaborn\n",
        "import seaborn as sns\n",
        "%matplotlib inline"
      ],
      "metadata": {
        "id": "Vwm8XSHy8IQF"
      },
      "execution_count": 15,
      "outputs": []
    },
    {
      "cell_type": "markdown",
      "source": [
        "**Regression Plot**"
      ],
      "metadata": {
        "id": "JH2k7kM18Stq"
      }
    },
    {
      "cell_type": "code",
      "source": [
        "width = 12\n",
        "height = 10\n",
        "plt.figure(figsize=(width, height))\n",
        "# x and y are the input variables\n",
        "# data equals the dataframe\n",
        "sns.regplot(x=\"highway-mpg\", y=\"price\", data=dataframe)\n",
        "# Control y limits\n",
        "plt.ylim(0, )"
      ],
      "metadata": {
        "colab": {
          "base_uri": "https://localhost:8080/",
          "height": 623
        },
        "id": "GqoQfILh8Wh9",
        "outputId": "345ebea2-6b72-4ae9-d6b4-8790934f4e45"
      },
      "execution_count": 16,
      "outputs": [
        {
          "output_type": "execute_result",
          "data": {
            "text/plain": [
              "(0.0, 48175.48493205674)"
            ]
          },
          "metadata": {},
          "execution_count": 16
        },
        {
          "output_type": "display_data",
          "data": {
            "text/plain": [
              "<Figure size 864x720 with 1 Axes>"
            ],
            "image/png": "[encoded data removed]"
          },
          "metadata": {
            "needs_background": "light"
          }
        }
      ]
    },
    {
      "cell_type": "code",
      "source": [
        "# Plot of 'peak-rpm'\n",
        "plt.figure(figsize=(width, height))\n",
        "sns.regplot(x=\"peak-rpm\", y=\"price\", data=dataframe)\n",
        "plt.ylim(0, )"
      ],
      "metadata": {
        "colab": {
          "base_uri": "https://localhost:8080/",
          "height": 623
        },
        "id": "0ilupktJ9IXZ",
        "outputId": "deafba9f-9e62-4058-a373-81387706e739"
      },
      "execution_count": 17,
      "outputs": [
        {
          "output_type": "execute_result",
          "data": {
            "text/plain": [
              "(0.0, 47414.1)"
            ]
          },
          "metadata": {},
          "execution_count": 17
        },
        {
          "output_type": "display_data",
          "data": {
            "text/plain": [
              "<Figure size 864x720 with 1 Axes>"
            ],
            "image/png": "[encoded data removed]"
          },
          "metadata": {
            "needs_background": "light"
          }
        }
      ]
    },
    {
      "cell_type": "markdown",
      "source": [
        "**Residual Plot**"
      ],
      "metadata": {
        "id": "bNEUFkxcRLY_"
      }
    },
    {
      "cell_type": "markdown",
      "source": [
        "The difference between the observed value (y) and the predicted value (Yhat) is called the residual (e). When we look at a regression plot, the residual is the distance from the data point to the fitted regression line.\n",
        "\n",
        "A residual plot is a graph that shows the residuals on the vertical y-axis and the independent variable on the horizontal x-axis."
      ],
      "metadata": {
        "id": "CC1H2ge3RPEH"
      }
    },
    {
      "cell_type": "code",
      "source": [
        "width = 12\n",
        "height = 10\n",
        "plt.figure(figsize=(width, height))\n",
        "sns.residplot(x=dataframe[\"highway-mpg\"], y=dataframe[\"price\"])\n",
        "plt.show"
      ],
      "metadata": {
        "colab": {
          "base_uri": "https://localhost:8080/",
          "height": 623
        },
        "id": "N078x1LTRj3O",
        "outputId": "8c75991f-2e7f-4d7b-a49a-96875a2e6f51"
      },
      "execution_count": 18,
      "outputs": [
        {
          "output_type": "execute_result",
          "data": {
            "text/plain": [
              "<function matplotlib.pyplot.show(*args, **kw)>"
            ]
          },
          "metadata": {},
          "execution_count": 18
        },
        {
          "output_type": "display_data",
          "data": {
            "text/plain": [
              "<Figure size 864x720 with 1 Axes>"
            ],
            "image/png": "[encoded data removed]"
          },
          "metadata": {
            "needs_background": "light"
          }
        }
      ]
    },
    {
      "cell_type": "markdown",
      "source": [
        "**Multiple Linear Regression**"
      ],
      "metadata": {
        "id": "618SuCGNR3Mt"
      }
    },
    {
      "cell_type": "code",
      "source": [
        "# Making a prediction\n",
        "Y_hat = lm.predict(Z)"
      ],
      "metadata": {
        "id": "U_X9v_WdRcVr"
      },
      "execution_count": 19,
      "outputs": []
    },
    {
      "cell_type": "code",
      "source": [
        "plt.figure(figsize=(width, height))\n",
        "\n",
        "ax1 = sns.distplot(dataframe[\"price\"], hist=False, color=\"r\", label=\"Actual Value\")\n",
        "sns.distplot(Y_hat, hist=False, color=\"b\", label=\"Fitted Values\", ax=ax1)\n",
        "\n",
        "plt.title(\"Actual vs Fitted Values for Price\")\n",
        "plt.xlabel(\"Price (in dollars)\")\n",
        "plt.ylabel(\"Proportion of cars\")\n",
        "\n",
        "plt.show()\n",
        "plt.close()"
      ],
      "metadata": {
        "colab": {
          "base_uri": "https://localhost:8080/",
          "height": 710
        },
        "id": "CTwVcYYNSJx8",
        "outputId": "ed364304-b419-4eb8-b8d4-fb1519fc163c"
      },
      "execution_count": 20,
      "outputs": [
        {
          "output_type": "stream",
          "name": "stderr",
          "text": [
            "/usr/local/lib/python3.7/dist-packages/seaborn/distributions.py:2619: FutureWarning: `distplot` is a deprecated function and will be removed in a future version. Please adapt your code to use either `displot` (a figure-level function with similar flexibility) or `kdeplot` (an axes-level function for kernel density plots).\n",
            "  warnings.warn(msg, FutureWarning)\n",
            "/usr/local/lib/python3.7/dist-packages/seaborn/distributions.py:2619: FutureWarning: `distplot` is a deprecated function and will be removed in a future version. Please adapt your code to use either `displot` (a figure-level function with similar flexibility) or `kdeplot` (an axes-level function for kernel density plots).\n",
            "  warnings.warn(msg, FutureWarning)\n"
          ]
        },
        {
          "output_type": "display_data",
          "data": {
            "text/plain": [
              "<Figure size 864x720 with 1 Axes>"
            ],
            "image/png": "[encoded data removed]"
          },
          "metadata": {
            "needs_background": "light"
          }
        }
      ]
    },
    {
      "cell_type": "markdown",
      "source": [
        "### Polynomial Regression and Pipelines"
      ],
      "metadata": {
        "id": "3xhZHJOwSkwJ"
      }
    },
    {
      "cell_type": "code",
      "source": [
        "def PlotPolly(model, independent_variable, dependent_variabble, Name):\n",
        "    x_new = np.linspace(15, 55, 100)\n",
        "    y_new = model(x_new)\n",
        "\n",
        "    plt.plot(independent_variable, dependent_variabble, '.', x_new, y_new, '-')\n",
        "    plt.title('Polynomial Fit with Matplotlib for Price ~ Length')\n",
        "    ax = plt.gca()\n",
        "    ax.set_facecolor((0.898, 0.898, 0.898))\n",
        "    fig = plt.gcf()\n",
        "    plt.xlabel(Name)\n",
        "    plt.ylabel('Price of Cars')\n",
        "\n",
        "    plt.show()\n",
        "    plt.close()"
      ],
      "metadata": {
        "id": "tMleHJcbS-Gj"
      },
      "execution_count": 21,
      "outputs": []
    },
    {
      "cell_type": "code",
      "source": [
        "# Variables\n",
        "x = dataframe[\"highway-mpg\"]\n",
        "y = dataframe[\"price\"]"
      ],
      "metadata": {
        "id": "HsO7HUpNTBIt"
      },
      "execution_count": 22,
      "outputs": []
    },
    {
      "cell_type": "code",
      "source": [
        "# Fit the polynomial using polyfit\n",
        "f = np.polyfit(x, y, 3)\n",
        "p = np.poly1d(f)\n",
        "print(p)"
      ],
      "metadata": {
        "colab": {
          "base_uri": "https://localhost:8080/"
        },
        "id": "Ve4EXtjTTHdt",
        "outputId": "e51fde88-7017-4365-c7e7-88e7dee7b9a8"
      },
      "execution_count": 23,
      "outputs": [
        {
          "output_type": "stream",
          "name": "stdout",
          "text": [
            "        3         2\n",
            "-1.557 x + 204.8 x - 8965 x + 1.379e+05\n"
          ]
        }
      ]
    },
    {
      "cell_type": "code",
      "source": [
        "# Plotting the function\n",
        "PlotPolly(p, x, y, \"highway-mpg\")"
      ],
      "metadata": {
        "colab": {
          "base_uri": "https://localhost:8080/",
          "height": 295
        },
        "id": "vVu-OADvTUXK",
        "outputId": "8540f184-508b-4d28-b6d8-eb5a51c0d3a0"
      },
      "execution_count": 24,
      "outputs": [
        {
          "output_type": "display_data",
          "data": {
            "text/plain": [
              "<Figure size 432x288 with 1 Axes>"
            ],
            "image/png": "[encoded data removed]"
          },
          "metadata": {
            "needs_background": "light"
          }
        }
      ]
    },
    {
      "cell_type": "code",
      "source": [
        "np.polyfit(x, y, 3)"
      ],
      "metadata": {
        "colab": {
          "base_uri": "https://localhost:8080/"
        },
        "id": "zTSf_WZ0TbCl",
        "outputId": "d99789b1-7f43-44f2-8adb-07f181228b81"
      },
      "execution_count": 25,
      "outputs": [
        {
          "output_type": "execute_result",
          "data": {
            "text/plain": [
              "array([-1.55663829e+00,  2.04754306e+02, -8.96543312e+03,  1.37923594e+05])"
            ]
          },
          "metadata": {},
          "execution_count": 25
        }
      ]
    },
    {
      "cell_type": "markdown",
      "source": [
        "Perform a polynomial transform on multiple features."
      ],
      "metadata": {
        "id": "6lDVQBxrT9S1"
      }
    },
    {
      "cell_type": "code",
      "source": [
        "from sklearn.preprocessing import PolynomialFeatures"
      ],
      "metadata": {
        "id": "FF3pDCpNUBQ5"
      },
      "execution_count": 28,
      "outputs": []
    },
    {
      "cell_type": "code",
      "source": [
        "# Creating a PolynomialFeatures object of degree 2\n",
        "pr = PolynomialFeatures(degree=2)\n",
        "pr"
      ],
      "metadata": {
        "colab": {
          "base_uri": "https://localhost:8080/"
        },
        "id": "dbgU8fZuUFiE",
        "outputId": "f331f47d-4a6c-4cc6-e651-b8ecb3c42ac3"
      },
      "execution_count": 29,
      "outputs": [
        {
          "output_type": "execute_result",
          "data": {
            "text/plain": [
              "PolynomialFeatures()"
            ]
          },
          "metadata": {},
          "execution_count": 29
        }
      ]
    },
    {
      "cell_type": "code",
      "source": [
        "Z_pr = pr.fit_transform(Z)"
      ],
      "metadata": {
        "id": "saICP0GhUNzS"
      },
      "execution_count": 30,
      "outputs": []
    },
    {
      "cell_type": "code",
      "source": [
        "# Original data\n",
        "# 201 samples and 4 features\n",
        "Z.shape"
      ],
      "metadata": {
        "colab": {
          "base_uri": "https://localhost:8080/"
        },
        "id": "pJO7sh4mUROm",
        "outputId": "08133ad8-4d50-4699-88a1-12bf754a8fcf"
      },
      "execution_count": 32,
      "outputs": [
        {
          "output_type": "execute_result",
          "data": {
            "text/plain": [
              "(201, 4)"
            ]
          },
          "metadata": {},
          "execution_count": 32
        }
      ]
    },
    {
      "cell_type": "code",
      "source": [
        "# After the transformation\n",
        "# 201 samples and 15 features\n",
        "Z_pr.shape"
      ],
      "metadata": {
        "colab": {
          "base_uri": "https://localhost:8080/"
        },
        "id": "k5C5IfIxUStd",
        "outputId": "5dff1092-8608-4529-e2ca-554c74f42b1c"
      },
      "execution_count": 33,
      "outputs": [
        {
          "output_type": "execute_result",
          "data": {
            "text/plain": [
              "(201, 15)"
            ]
          },
          "metadata": {},
          "execution_count": 33
        }
      ]
    },
    {
      "cell_type": "markdown",
      "source": [
        "**Pipeline**"
      ],
      "metadata": {
        "id": "YX_zPbr2Tktr"
      }
    },
    {
      "cell_type": "code",
      "source": [
        "# Importing the libraries\n",
        "from sklearn.pipeline import Pipeline\n",
        "from sklearn.preprocessing import StandardScaler"
      ],
      "metadata": {
        "id": "lvXqaauDTpUX"
      },
      "execution_count": 26,
      "outputs": []
    },
    {
      "cell_type": "code",
      "source": [
        "# Create the pipeline\n",
        "Input=[('scale',StandardScaler()), ('polynomial', PolynomialFeatures(include_bias=False)), ('model',LinearRegression())]"
      ],
      "metadata": {
        "id": "DFOVjIatTuhp"
      },
      "execution_count": 34,
      "outputs": []
    },
    {
      "cell_type": "code",
      "source": [
        "# Input the list as an argument to the pipeline constructor\n",
        "pipe = Pipeline(Input)\n",
        "pipe"
      ],
      "metadata": {
        "colab": {
          "base_uri": "https://localhost:8080/"
        },
        "id": "EJqrJli6Uice",
        "outputId": "e0e18fca-461d-4edd-d363-2190a59951ce"
      },
      "execution_count": 35,
      "outputs": [
        {
          "output_type": "execute_result",
          "data": {
            "text/plain": [
              "Pipeline(steps=[('scale', StandardScaler()),\n",
              "                ('polynomial', PolynomialFeatures(include_bias=False)),\n",
              "                ('model', LinearRegression())])"
            ]
          },
          "metadata": {},
          "execution_count": 35
        }
      ]
    },
    {
      "cell_type": "code",
      "source": [
        "# Normalize the data, perform a transform and fit the model simultaneously\n",
        "Z = Z.astype(float)\n",
        "pipe.fit(Z,y)"
      ],
      "metadata": {
        "colab": {
          "base_uri": "https://localhost:8080/"
        },
        "id": "KY6o1WosUoiE",
        "outputId": "4112b2da-4d05-464f-e02c-096556e000cb"
      },
      "execution_count": 36,
      "outputs": [
        {
          "output_type": "execute_result",
          "data": {
            "text/plain": [
              "Pipeline(steps=[('scale', StandardScaler()),\n",
              "                ('polynomial', PolynomialFeatures(include_bias=False)),\n",
              "                ('model', LinearRegression())])"
            ]
          },
          "metadata": {},
          "execution_count": 36
        }
      ]
    },
    {
      "cell_type": "code",
      "source": [
        "# Normalize the data, perform a transform and produce a prediction simultaneously\n",
        "ypipe=pipe.predict(Z)\n",
        "ypipe[0:4]"
      ],
      "metadata": {
        "colab": {
          "base_uri": "https://localhost:8080/"
        },
        "id": "CabDHQgXU06S",
        "outputId": "98979cbb-1373-4776-e639-fa27f003790e"
      },
      "execution_count": 37,
      "outputs": [
        {
          "output_type": "execute_result",
          "data": {
            "text/plain": [
              "array([13102.74784201, 13102.74784201, 18225.54572197, 10390.29636555])"
            ]
          },
          "metadata": {},
          "execution_count": 37
        }
      ]
    },
    {
      "cell_type": "markdown",
      "source": [
        "### Measures for In-Sample Evaluation"
      ],
      "metadata": {
        "id": "XVyD6WmnVAT9"
      }
    },
    {
      "cell_type": "code",
      "source": [],
      "metadata": {
        "id": "UUcIK5FuVE7X"
      },
      "execution_count": null,
      "outputs": []
    }
  ]
}