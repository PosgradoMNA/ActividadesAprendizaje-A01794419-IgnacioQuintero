{
  "nbformat": 4,
  "nbformat_minor": 0,
  "metadata": {
    "colab": {
      "provenance": [],
      "authorship_tag": "ABX9TyNpPI4jQn/o9bKrbyE8NtSf",
      "include_colab_link": true
    },
    "kernelspec": {
      "name": "python3",
      "display_name": "Python 3"
    },
    "language_info": {
      "name": "python"
    }
  },
  "cells": [
    {
      "cell_type": "markdown",
      "metadata": {
        "id": "view-in-github",
        "colab_type": "text"
      },
      "source": [
        "<a href=\"https://colab.research.google.com/github/PosgradoMNA/ActividadesAprendizaje-A01794419-IgnacioQuintero/blob/main/Module%204%20-%20Python_DataScience_IBM.ipynb\" target=\"_parent\"><img src=\"https://colab.research.google.com/assets/colab-badge.svg\" alt=\"Open In Colab\"/></a>"
      ]
    },
    {
      "cell_type": "markdown",
      "source": [
        "# Python for Data Science - IBM Course\n",
        "\n",
        "### Ignacio Antonio Quintero Chávez / Module 4"
      ],
      "metadata": {
        "id": "sclVp7kqJ9Eu"
      }
    },
    {
      "cell_type": "markdown",
      "source": [
        "### Reading files with Open"
      ],
      "metadata": {
        "id": "Jf7v5LDqKVpE"
      }
    },
    {
      "cell_type": "code",
      "source": [
        "# Reading files with Python - Lab\n",
        "import urllib.request\n",
        "url=\"https://cf-courses-data.s3.us.cloud-object-storage.appdomain.cloud/IBMDeveloperSkillsNetwork-PY0101EN-SkillsNetwork/labs/Module%204/data/example1.txt\"\n",
        "filename=\"Example1.txt\"\n",
        "urllib.request.urlretrieve(url,filename)"
      ],
      "metadata": {
        "id": "PARggAT0PV6V",
        "outputId": "156e84a3-10b7-4349-9400-f7da5a0ac412",
        "colab": {
          "base_uri": "https://localhost:8080/"
        }
      },
      "execution_count": 1,
      "outputs": [
        {
          "output_type": "execute_result",
          "data": {
            "text/plain": [
              "('Example1.txt', <http.client.HTTPMessage at 0x7fc16ae363d0>)"
            ]
          },
          "metadata": {},
          "execution_count": 1
        }
      ]
    },
    {
      "cell_type": "code",
      "source": [
        "example1 = \"Example1.txt\"\n",
        "file1 = open(example1, \"r\")"
      ],
      "metadata": {
        "id": "_bRN9cmRRVH9"
      },
      "execution_count": 3,
      "outputs": []
    },
    {
      "cell_type": "markdown",
      "source": [
        "*   w = write - escribir.\n",
        "*   r = read - leer."
      ],
      "metadata": {
        "id": "eIldhSufSnyK"
      }
    },
    {
      "cell_type": "code",
      "source": [
        "# Print the name of the file\n",
        "file1.name"
      ],
      "metadata": {
        "id": "XFQFqrjpS6bV",
        "outputId": "a7e5740b-e633-42c5-fb21-87653ea1da15",
        "colab": {
          "base_uri": "https://localhost:8080/",
          "height": 35
        }
      },
      "execution_count": 5,
      "outputs": [
        {
          "output_type": "execute_result",
          "data": {
            "text/plain": [
              "'Example1.txt'"
            ],
            "application/vnd.google.colaboratory.intrinsic+json": {
              "type": "string"
            }
          },
          "metadata": {},
          "execution_count": 5
        }
      ]
    },
    {
      "cell_type": "code",
      "source": [
        "# Muestra el modo del archivo - \"w\" or \"r\"\n",
        "file1.mode"
      ],
      "metadata": {
        "id": "4WNm6NcBS--8",
        "outputId": "9a149c79-f096-4c51-db51-f95cbc8d1753",
        "colab": {
          "base_uri": "https://localhost:8080/",
          "height": 35
        }
      },
      "execution_count": 6,
      "outputs": [
        {
          "output_type": "execute_result",
          "data": {
            "text/plain": [
              "'r'"
            ],
            "application/vnd.google.colaboratory.intrinsic+json": {
              "type": "string"
            }
          },
          "metadata": {},
          "execution_count": 6
        }
      ]
    },
    {
      "cell_type": "code",
      "source": [
        "# Podemos leer el archivo y asignarlo a una variable\n",
        "\n",
        "content_file = file1.read()\n",
        "content_file"
      ],
      "metadata": {
        "id": "eZuS5ya1TSF8",
        "outputId": "e49900c3-78fe-485c-c991-369389202882",
        "colab": {
          "base_uri": "https://localhost:8080/",
          "height": 35
        }
      },
      "execution_count": 7,
      "outputs": [
        {
          "output_type": "execute_result",
          "data": {
            "text/plain": [
              "'This is line 1 \\nThis is line 2\\nThis is line 3'"
            ],
            "application/vnd.google.colaboratory.intrinsic+json": {
              "type": "string"
            }
          },
          "metadata": {},
          "execution_count": 7
        }
      ]
    },
    {
      "cell_type": "code",
      "source": [
        "# close() sirve para cerrar el documento. Importante hacerlo\n",
        "# se puede hacer con with - buenas prácticas.\n",
        "file1.close()"
      ],
      "metadata": {
        "id": "rTYPOtl8Th-U"
      },
      "execution_count": 8,
      "outputs": []
    },
    {
      "cell_type": "code",
      "source": [],
      "metadata": {
        "id": "urFkQNwST0_V"
      },
      "execution_count": null,
      "outputs": []
    }
  ]
}