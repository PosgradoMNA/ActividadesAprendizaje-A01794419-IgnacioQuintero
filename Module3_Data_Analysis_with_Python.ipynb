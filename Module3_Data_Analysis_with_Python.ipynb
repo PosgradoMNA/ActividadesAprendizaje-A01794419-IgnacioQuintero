{
  "nbformat": 4,
  "nbformat_minor": 0,
  "metadata": {
    "colab": {
      "provenance": [],
      "authorship_tag": "ABX9TyOY9p20kIBgBsIekWOiL95n",
      "include_colab_link": true
    },
    "kernelspec": {
      "name": "python3",
      "display_name": "Python 3"
    },
    "language_info": {
      "name": "python"
    }
  },
  "cells": [
    {
      "cell_type": "markdown",
      "metadata": {
        "id": "view-in-github",
        "colab_type": "text"
      },
      "source": [
        "<a href=\"https://colab.research.google.com/github/PosgradoMNA/ActividadesAprendizaje-A01794419-IgnacioQuintero/blob/main/Module3_Data_Analysis_with_Python.ipynb\" target=\"_parent\"><img src=\"https://colab.research.google.com/assets/colab-badge.svg\" alt=\"Open In Colab\"/></a>"
      ]
    },
    {
      "cell_type": "markdown",
      "source": [
        "# Data Analysis with Python\n",
        "## Module 3 - Exploratory Data Analysis\n",
        "\n",
        "* Alumno: Ignacio Antonio Quintero Chávez.\n",
        "* Matrícula: A01794419.\n",
        "* Materia: Ciencia y analítica de datos.\n",
        "* Profesora: María de la Paz Rico Fernández.\n",
        "* Fecha: 25 Octubre 2022."
      ],
      "metadata": {
        "id": "ug5BU-qgnNuy"
      }
    },
    {
      "cell_type": "markdown",
      "source": [
        "**Exploratory Data Analysis (EDA)**\n",
        "\n",
        "Preliminary step in data analysis to:\n",
        "* Summarize main characteristics of the data.\n",
        "* Gain better understanding of the data set.\n",
        "* Uncover relationships between variables.\n",
        "* Extract important variables."
      ],
      "metadata": {
        "id": "JSCBeoHyoPjt"
      }
    }
  ]
}