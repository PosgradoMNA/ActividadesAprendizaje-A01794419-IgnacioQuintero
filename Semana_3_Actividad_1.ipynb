{
  "nbformat": 4,
  "nbformat_minor": 0,
  "metadata": {
    "colab": {
      "provenance": [],
      "authorship_tag": "ABX9TyOIkNXktRUsUwFQPw/5UnCX",
      "include_colab_link": true
    },
    "kernelspec": {
      "name": "python3",
      "display_name": "Python 3"
    },
    "language_info": {
      "name": "python"
    }
  },
  "cells": [
    {
      "cell_type": "markdown",
      "metadata": {
        "id": "view-in-github",
        "colab_type": "text"
      },
      "source": [
        "<a href=\"https://colab.research.google.com/github/PosgradoMNA/ActividadesAprendizaje-A01794419-IgnacioQuintero/blob/main/Semana_3_Actividad_1.ipynb\" target=\"_parent\"><img src=\"https://colab.research.google.com/assets/colab-badge.svg\" alt=\"Open In Colab\"/></a>"
      ]
    },
    {
      "cell_type": "markdown",
      "source": [
        "# Ciencia y analítica de datos\n",
        "# Semana 3 - Actividad 1\n",
        "\n",
        "*   Alumno: Ignacio Antonio Quintero Chávez\n",
        "*   Matrícula: A01794419"
      ],
      "metadata": {
        "id": "CzbHGQ0CdIAK"
      }
    },
    {
      "cell_type": "markdown",
      "source": [
        "### Parte 1: Fundamentos de base de datos"
      ],
      "metadata": {
        "id": "9WpVTlj3f90f"
      }
    },
    {
      "cell_type": "markdown",
      "source": [
        "**1. Fundamentos de bases de datos y para ciencia de datos.**\n",
        "\n",
        "Una base de datos es una colección organizada de información estructurada que normalmente está almacenada en un sistema informático. Una base de datos generalmente está controlada por un sistema de administración de bases de datos (DataBase Management System). Mediante el uso de bases de datos las empresas aprovechan de manera eficiente los datos que recopilan para utilizarlos según su conveniencia, y con esto tener una mejor toma de decisiones."
      ],
      "metadata": {
        "id": "EQF7ypJ2gOUW"
      }
    },
    {
      "cell_type": "markdown",
      "source": [
        "**2. Fundamentos de almacenes de datos (Data Warehouse) para ciencia de datos.**"
      ],
      "metadata": {
        "id": "zFZ1dNHejX2P"
      }
    },
    {
      "cell_type": "code",
      "source": [],
      "metadata": {
        "id": "N6BK8H1pjiF8"
      },
      "execution_count": null,
      "outputs": []
    }
  ]
}