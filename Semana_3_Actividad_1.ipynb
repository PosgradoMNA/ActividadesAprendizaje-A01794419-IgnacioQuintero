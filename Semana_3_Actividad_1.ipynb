{
  "nbformat": 4,
  "nbformat_minor": 0,
  "metadata": {
    "colab": {
      "provenance": [],
      "authorship_tag": "ABX9TyOO5Z8SSomgJ0c3cVfLOwsV",
      "include_colab_link": true
    },
    "kernelspec": {
      "name": "python3",
      "display_name": "Python 3"
    },
    "language_info": {
      "name": "python"
    }
  },
  "cells": [
    {
      "cell_type": "markdown",
      "metadata": {
        "id": "view-in-github",
        "colab_type": "text"
      },
      "source": [
        "<a href=\"https://colab.research.google.com/github/PosgradoMNA/ActividadesAprendizaje-A01794419-IgnacioQuintero/blob/main/Semana_3_Actividad_1.ipynb\" target=\"_parent\"><img src=\"https://colab.research.google.com/assets/colab-badge.svg\" alt=\"Open In Colab\"/></a>"
      ]
    },
    {
      "cell_type": "markdown",
      "source": [
        "# Ciencia y analítica de datos\n",
        "# Semana 3 - Actividad 1\n",
        "\n",
        "*   Alumno: Ignacio Antonio Quintero Chávez\n",
        "*   Matrícula: A01794419"
      ],
      "metadata": {
        "id": "CzbHGQ0CdIAK"
      }
    },
    {
      "cell_type": "markdown",
      "source": [
        "### Parte 1: Fundamentos de base de datos"
      ],
      "metadata": {
        "id": "9WpVTlj3f90f"
      }
    },
    {
      "cell_type": "markdown",
      "source": [
        "**1. Fundamentos de bases de datos y para ciencia de datos.**\n",
        "\n",
        "Una base de datos es una colección organizada de información estructurada que normalmente está almacenada en un sistema informático. Una base de datos generalmente está controlada por un sistema de administración de bases de datos (DataBase Management System). Mediante el uso de bases de datos las empresas aprovechan de manera eficiente los datos que recopilan para utilizarlos según su conveniencia, y con esto tener una mejor toma de decisiones.\n",
        "\n",
        "Una de las actividades de un científico de datos es interactuar con bases de datos en la mayoría de los proyectos a trabajar. A veces se necesitará crear desde cero y otras veces solo se necesitará saber como comunicarse con una base de datos ya existente."
      ],
      "metadata": {
        "id": "EQF7ypJ2gOUW"
      }
    },
    {
      "cell_type": "markdown",
      "source": [
        "**2. Fundamentos de almacenes de datos (Data Warehouse) para ciencia de datos.**\n",
        "\n",
        "Un almacén de datos es un sistema que permite almacenar, analizar e interpretar datos para facilitar una mejor toma de decisiones. Los almacenes de datos están destinados únicamente a realizar consultas y análisis y, a menudo, contienen grandes cantidades de datos históricos. \n",
        "\n",
        "Los aspectos importantes en la construcción de un almacén de datos eficaz incluyen la definición de la información que es fundamental para la organización y la identificación de las fuentes de la información. Los datos se extraen periódicamente de varias aplicaciones internas como ventas, marketing y finanzas; aplicaciones de interfaz de cliente; así como sistemas de socios externos\n",
        "\n",
        "La diferencia entre una base de datos y un almacén de datos es que la base de datos es diseñada para proporcionar información en tiempo real, mientras que el almacén de datos se diseña como un archivo de información histórica."
      ],
      "metadata": {
        "id": "zFZ1dNHejX2P"
      }
    },
    {
      "cell_type": "markdown",
      "source": [
        "**Bibliografía consultada**\n",
        "\n",
        "\n",
        "*  Metwalli, S. A. (2020, septiembre 27). *Databases 101: Introduction to databases for data scientists. Towards Data Science*. Recuperado el 1 de octubre de 2022, de https://towardsdatascience.com/databases-101-introduction-to-databases-for-data-scientists-ee18c9f0785d\n",
        "*   *What is a data warehouse?* (s/f). Oracle.com. Recuperado el 1 de octubre de 2022, de https://www.oracle.com/database/what-is-a-data-warehouse/\n",
        "\n",
        "\n",
        "\n",
        "\n"
      ],
      "metadata": {
        "id": "d8N5PRJvlCO8"
      }
    },
    {
      "cell_type": "code",
      "source": [],
      "metadata": {
        "id": "wVJNH7KWlEwE"
      },
      "execution_count": null,
      "outputs": []
    }
  ]
}